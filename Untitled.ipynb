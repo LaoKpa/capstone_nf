{
 "cells": [
  {
   "cell_type": "code",
   "execution_count": 1,
   "metadata": {},
   "outputs": [
    {
     "data": {
      "text/plain": [
       "['src', 'src.visualization', 'src.features', 'src.models', 'src.data']"
      ]
     },
     "execution_count": 1,
     "metadata": {},
     "output_type": "execute_result"
    }
   ],
   "source": [
    "from setuptools import find_packages\n",
    "find_packages()"
   ]
  },
  {
   "cell_type": "code",
   "execution_count": 7,
   "metadata": {},
   "outputs": [
    {
     "name": "stdout",
     "output_type": "stream",
     "text": [
      "running install\n",
      "running bdist_egg\n",
      "running egg_info\n",
      "creating src.egg-info\n",
      "writing src.egg-info/PKG-INFO\n",
      "writing dependency_links to src.egg-info/dependency_links.txt\n",
      "writing top-level names to src.egg-info/top_level.txt\n",
      "writing manifest file 'src.egg-info/SOURCES.txt'\n",
      "reading manifest file 'src.egg-info/SOURCES.txt'\n",
      "writing manifest file 'src.egg-info/SOURCES.txt'\n",
      "installing library code to build/bdist.macosx-10.7-x86_64/egg\n",
      "running install_lib\n",
      "running build_py\n",
      "creating build\n",
      "creating build/lib\n",
      "creating build/lib/src\n",
      "copying src/__init__.py -> build/lib/src\n",
      "creating build/lib/src/visualization\n",
      "copying src/visualization/__init__.py -> build/lib/src/visualization\n",
      "copying src/visualization/visualize.py -> build/lib/src/visualization\n",
      "creating build/lib/src/features\n",
      "copying src/features/build_features.py -> build/lib/src/features\n",
      "copying src/features/__init__.py -> build/lib/src/features\n",
      "creating build/lib/src/models\n",
      "copying src/models/train_model.py -> build/lib/src/models\n",
      "copying src/models/__init__.py -> build/lib/src/models\n",
      "copying src/models/predict_model.py -> build/lib/src/models\n",
      "creating build/lib/src/data\n",
      "copying src/data/__init__.py -> build/lib/src/data\n",
      "copying src/data/make_dataset.py -> build/lib/src/data\n",
      "creating build/bdist.macosx-10.7-x86_64\n",
      "creating build/bdist.macosx-10.7-x86_64/egg\n",
      "creating build/bdist.macosx-10.7-x86_64/egg/src\n",
      "creating build/bdist.macosx-10.7-x86_64/egg/src/visualization\n",
      "copying build/lib/src/visualization/__init__.py -> build/bdist.macosx-10.7-x86_64/egg/src/visualization\n",
      "copying build/lib/src/visualization/visualize.py -> build/bdist.macosx-10.7-x86_64/egg/src/visualization\n",
      "creating build/bdist.macosx-10.7-x86_64/egg/src/features\n",
      "copying build/lib/src/features/build_features.py -> build/bdist.macosx-10.7-x86_64/egg/src/features\n",
      "copying build/lib/src/features/__init__.py -> build/bdist.macosx-10.7-x86_64/egg/src/features\n",
      "copying build/lib/src/__init__.py -> build/bdist.macosx-10.7-x86_64/egg/src\n",
      "creating build/bdist.macosx-10.7-x86_64/egg/src/models\n",
      "copying build/lib/src/models/train_model.py -> build/bdist.macosx-10.7-x86_64/egg/src/models\n",
      "copying build/lib/src/models/__init__.py -> build/bdist.macosx-10.7-x86_64/egg/src/models\n",
      "copying build/lib/src/models/predict_model.py -> build/bdist.macosx-10.7-x86_64/egg/src/models\n",
      "creating build/bdist.macosx-10.7-x86_64/egg/src/data\n",
      "copying build/lib/src/data/__init__.py -> build/bdist.macosx-10.7-x86_64/egg/src/data\n",
      "copying build/lib/src/data/make_dataset.py -> build/bdist.macosx-10.7-x86_64/egg/src/data\n",
      "byte-compiling build/bdist.macosx-10.7-x86_64/egg/src/visualization/__init__.py to __init__.cpython-36.pyc\n",
      "byte-compiling build/bdist.macosx-10.7-x86_64/egg/src/visualization/visualize.py to visualize.cpython-36.pyc\n",
      "byte-compiling build/bdist.macosx-10.7-x86_64/egg/src/features/build_features.py to build_features.cpython-36.pyc\n",
      "byte-compiling build/bdist.macosx-10.7-x86_64/egg/src/features/__init__.py to __init__.cpython-36.pyc\n",
      "byte-compiling build/bdist.macosx-10.7-x86_64/egg/src/__init__.py to __init__.cpython-36.pyc\n",
      "byte-compiling build/bdist.macosx-10.7-x86_64/egg/src/models/train_model.py to train_model.cpython-36.pyc\n",
      "byte-compiling build/bdist.macosx-10.7-x86_64/egg/src/models/__init__.py to __init__.cpython-36.pyc\n",
      "byte-compiling build/bdist.macosx-10.7-x86_64/egg/src/models/predict_model.py to predict_model.cpython-36.pyc\n",
      "byte-compiling build/bdist.macosx-10.7-x86_64/egg/src/data/__init__.py to __init__.cpython-36.pyc\n",
      "byte-compiling build/bdist.macosx-10.7-x86_64/egg/src/data/make_dataset.py to make_dataset.cpython-36.pyc\n",
      "creating build/bdist.macosx-10.7-x86_64/egg/EGG-INFO\n",
      "copying src.egg-info/PKG-INFO -> build/bdist.macosx-10.7-x86_64/egg/EGG-INFO\n",
      "copying src.egg-info/SOURCES.txt -> build/bdist.macosx-10.7-x86_64/egg/EGG-INFO\n",
      "copying src.egg-info/dependency_links.txt -> build/bdist.macosx-10.7-x86_64/egg/EGG-INFO\n",
      "copying src.egg-info/top_level.txt -> build/bdist.macosx-10.7-x86_64/egg/EGG-INFO\n",
      "zip_safe flag not set; analyzing archive contents...\n",
      "src.data.__pycache__.make_dataset.cpython-36: module references __file__\n",
      "creating dist\n",
      "creating 'dist/src-0.1.0-py3.6.egg' and adding 'build/bdist.macosx-10.7-x86_64/egg' to it\n",
      "removing 'build/bdist.macosx-10.7-x86_64/egg' (and everything under it)\n",
      "Processing src-0.1.0-py3.6.egg\n",
      "creating /anaconda3/envs/nf/lib/python3.6/site-packages/src-0.1.0-py3.6.egg\n",
      "Extracting src-0.1.0-py3.6.egg to /anaconda3/envs/nf/lib/python3.6/site-packages\n",
      "Adding src 0.1.0 to easy-install.pth file\n",
      "\n",
      "Installed /anaconda3/envs/nf/lib/python3.6/site-packages/src-0.1.0-py3.6.egg\n",
      "Processing dependencies for src==0.1.0\n",
      "Finished processing dependencies for src==0.1.0\n"
     ]
    }
   ],
   "source": [
    "! python ./setup.py install"
   ]
  },
  {
   "cell_type": "code",
   "execution_count": 4,
   "metadata": {},
   "outputs": [],
   "source": [
    "from src.data import make_dataset"
   ]
  },
  {
   "cell_type": "code",
   "execution_count": 3,
   "metadata": {},
   "outputs": [],
   "source": []
  },
  {
   "cell_type": "code",
   "execution_count": null,
   "metadata": {},
   "outputs": [],
   "source": []
  }
 ],
 "metadata": {
  "kernelspec": {
   "display_name": "Python [conda env:capstone_nf]",
   "language": "python",
   "name": "conda-env-capstone_nf-py"
  },
  "language_info": {
   "codemirror_mode": {
    "name": "ipython",
    "version": 3
   },
   "file_extension": ".py",
   "mimetype": "text/x-python",
   "name": "python",
   "nbconvert_exporter": "python",
   "pygments_lexer": "ipython3",
   "version": "3.7.5"
  }
 },
 "nbformat": 4,
 "nbformat_minor": 4
}

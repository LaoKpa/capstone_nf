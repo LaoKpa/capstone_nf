{
 "cells": [
  {
   "cell_type": "markdown",
   "metadata": {},
   "source": [
    "# Predictive Modelling: LightGBM"
   ]
  },
  {
   "cell_type": "markdown",
   "metadata": {},
   "source": [
    "# Imports"
   ]
  },
  {
   "cell_type": "code",
   "execution_count": 4,
   "metadata": {},
   "outputs": [
    {
     "name": "stdout",
     "output_type": "stream",
     "text": [
      "The autoreload extension is already loaded. To reload it, use:\n",
      "  %reload_ext autoreload\n"
     ]
    }
   ],
   "source": [
    "%load_ext autoreload\n",
    "%autoreload 2\n",
    "\n",
    "# Pandas and numpy\n",
    "import pandas as pd\n",
    "import numpy as np\n",
    "\n",
    "# \n",
    "from IPython.display import display, clear_output\n",
    "import sys\n",
    "import time\n",
    "\n",
    "# Libraries for Visualization\n",
    "import matplotlib.pyplot as plt\n",
    "import seaborn as sns\n",
    "from src.visualization.visualize import plot_corr_matrix, plot_multi, plot_norm_dist, plot_feature_importances\n",
    "\n",
    "# Some custom tools\n",
    "from src.data.tools import check_for_missing_vals\n",
    "\n",
    "# \n",
    "from src.models.predict_model import avg_model, run_combinations\n",
    "#from src.models.train_model import run_combinations \n",
    "\n",
    "# Alpaca API\n",
    "import alpaca_trade_api as tradeapi\n",
    "\n",
    "# Pickle\n",
    "import pickle\n",
    "import os\n",
    "from pathlib import Path\n",
    "\n",
    "# To load variables from .env file into system environment\n",
    "from dotenv import find_dotenv, load_dotenv\n",
    "\n",
    "from atomm.Indicators import MomentumIndicators\n",
    "from atomm.DataManager.main import MSDataManager\n",
    "from atomm.Tools import calc_open_position, calc_returns\n",
    "from src.visualization.visualize import plot_confusion_matrix\n",
    "from atomm.Methods import BlockingTimeSeriesSplit, PurgedKFold           \n",
    "\n",
    "\n",
    "import time\n",
    "\n",
    "# scikit-learn\n",
    "from sklearn.svm import SVC\n",
    "from sklearn.metrics import accuracy_score\n",
    "from sklearn.model_selection import cross_val_score, TimeSeriesSplit\n",
    "from xgboost import XGBClassifier\n",
    "from sklearn.metrics import classification_report, confusion_matrix, plot_confusion_matrix\n",
    "from sklearn.metrics import accuracy_score, recall_score, f1_score, precision_score\n",
    "from sklearn.model_selection import train_test_split, TimeSeriesSplit\n",
    "from xgboost import XGBClassifier\n",
    "\n",
    "#from sklearn.ensemble import BaggingClassifier\n",
    "#from sklearn.multiclass import OneVsRestClassifier\n",
    "#from sklearn.neighbors import KNeighborsClassifier\n",
    "#from sklearn.ensemble import RandomForestClassifier\n",
    "#from sklearn.linear_model import LogisticRegression\n",
    "from lightgbm import LGBMClassifier\n",
    "\n",
    "# For BayesianHyperparameter Optimization\n",
    "from atomm.Models.Tuning import search_space#, BayesianSearch\n",
    "from hyperopt import space_eval\n",
    "\n",
    "# Visualization libraries\n",
    "import seaborn as sns\n",
    "import matplotlib.pyplot as plt\n",
    "from pandas.plotting import scatter_matrix\n",
    "import matplotlib.gridspec as gridspec\n",
    "#import matplotlib.style as style\n",
    "from scipy import stats"
   ]
  },
  {
   "cell_type": "code",
   "execution_count": 5,
   "metadata": {},
   "outputs": [
    {
     "data": {
      "text/plain": [
       "True"
      ]
     },
     "execution_count": 5,
     "metadata": {},
     "output_type": "execute_result"
    }
   ],
   "source": [
    "##### Load environment variables\n",
    "load_dotenv(find_dotenv())"
   ]
  },
  {
   "cell_type": "code",
   "execution_count": 83,
   "metadata": {},
   "outputs": [],
   "source": [
    "R_STATE = 16818"
   ]
  },
  {
   "cell_type": "markdown",
   "metadata": {},
   "source": [
    "## Loading the data"
   ]
  },
  {
   "cell_type": "code",
   "execution_count": 9,
   "metadata": {},
   "outputs": [],
   "source": [
    "data_base_dir = os.environ.get('DATA_DIR_BASE_PATH')\n"
   ]
  },
  {
   "cell_type": "code",
   "execution_count": 10,
   "metadata": {},
   "outputs": [],
   "source": [
    "fname = os.path.join(data_base_dir, 'processed', 'index.h5')\n",
    "fname = Path(fname)\n",
    "#fname = '../data/processed/index.h5'"
   ]
  },
  {
   "cell_type": "code",
   "execution_count": 11,
   "metadata": {},
   "outputs": [],
   "source": [
    "# Load dataset from HDF storage\n",
    "with pd.HDFStore(fname) as storage:\n",
    "    djia = storage.get('nyse/cleaned/rand_symbols')\n",
    "    y_2c = storage.get('nyse/engineered/target_two_class')\n",
    "    y_3c = storage.get('nyse/engineered/target_three_class')\n",
    "    df_moments = storage.get('nyse/engineered/features')\n",
    "    #print(storage.info())\n",
    "    \n",
    "# Create copies of the pristine data\n",
    "X = df_moments.copy()\n",
    "y = y_3c.copy()\n",
    "y2 = y_2c.copy()\n",
    "prices = djia.copy()"
   ]
  },
  {
   "cell_type": "code",
   "execution_count": 12,
   "metadata": {},
   "outputs": [],
   "source": [
    "forecast_horizon = [1, 3, 5, 7, 10, 15, 20, 25, 30]\n",
    "input_window_size = [3, 5, 7, 10, 15, 20, 25, 30]\n",
    "ti_list = ['macd', 'rsi', 'stoc', 'roc', 'bbu', 'bbl', 'ema', 'atr', 'adx', 'cci', 'williamsr', 'stocd']\n",
    "symbol_list = df_moments.columns.get_level_values(0).unique()"
   ]
  },
  {
   "cell_type": "code",
   "execution_count": 13,
   "metadata": {},
   "outputs": [
    {
     "data": {
      "text/plain": [
       "Index(['macd_3', 'rsi_3', 'stoc_3', 'roc_3', 'bbu_3', 'bbl_3', 'ema_3',\n",
       "       'atr_3', 'adx_3', 'cci_3', 'williamsr_3', 'stocd_3', 'macd_5', 'rsi_5',\n",
       "       'stoc_5', 'roc_5', 'bbu_5', 'bbl_5', 'ema_5', 'atr_5', 'adx_5', 'cci_5',\n",
       "       'williamsr_5', 'stocd_5', 'macd_7', 'rsi_7', 'stoc_7', 'roc_7', 'bbu_7',\n",
       "       'bbl_7', 'ema_7', 'atr_7', 'adx_7', 'cci_7', 'williamsr_7', 'stocd_7',\n",
       "       'macd_10', 'rsi_10', 'stoc_10', 'roc_10', 'bbu_10', 'bbl_10', 'ema_10',\n",
       "       'atr_10', 'adx_10', 'cci_10', 'williamsr_10', 'stocd_10', 'macd_15',\n",
       "       'rsi_15', 'stoc_15', 'roc_15', 'bbu_15', 'bbl_15', 'ema_15', 'atr_15',\n",
       "       'adx_15', 'cci_15', 'williamsr_15', 'stocd_15', 'macd_20', 'rsi_20',\n",
       "       'stoc_20', 'roc_20', 'bbu_20', 'bbl_20', 'ema_20', 'atr_20', 'adx_20',\n",
       "       'cci_20', 'williamsr_20', 'stocd_20', 'macd_25', 'rsi_25', 'stoc_25',\n",
       "       'roc_25', 'bbu_25', 'bbl_25', 'ema_25', 'atr_25', 'adx_25', 'cci_25',\n",
       "       'williamsr_25', 'stocd_25', 'macd_30', 'rsi_30', 'stoc_30', 'roc_30',\n",
       "       'bbu_30', 'bbl_30', 'ema_30', 'atr_30', 'adx_30', 'cci_30',\n",
       "       'williamsr_30', 'stocd_30'],\n",
       "      dtype='object')"
      ]
     },
     "execution_count": 13,
     "metadata": {},
     "output_type": "execute_result"
    }
   ],
   "source": [
    "df_moments.columns.get_level_values(1).unique()"
   ]
  },
  {
   "cell_type": "markdown",
   "metadata": {},
   "source": [
    "## Imputing missing values"
   ]
  },
  {
   "cell_type": "code",
   "execution_count": 14,
   "metadata": {},
   "outputs": [
    {
     "data": {
      "text/plain": [
       "(1954, 4800)"
      ]
     },
     "execution_count": 14,
     "metadata": {},
     "output_type": "execute_result"
    }
   ],
   "source": [
    "X.shape"
   ]
  },
  {
   "cell_type": "code",
   "execution_count": 15,
   "metadata": {},
   "outputs": [
    {
     "name": "stdout",
     "output_type": "stream",
     "text": [
      "No missing values found in dataframe\n"
     ]
    }
   ],
   "source": [
    "check_for_missing_vals(X)"
   ]
  },
  {
   "cell_type": "markdown",
   "metadata": {},
   "source": [
    "Prices values"
   ]
  },
  {
   "cell_type": "code",
   "execution_count": 16,
   "metadata": {},
   "outputs": [
    {
     "data": {
      "text/plain": [
       "(1954, 250)"
      ]
     },
     "execution_count": 16,
     "metadata": {},
     "output_type": "execute_result"
    }
   ],
   "source": [
    "prices.shape"
   ]
  },
  {
   "cell_type": "code",
   "execution_count": 17,
   "metadata": {},
   "outputs": [
    {
     "name": "stdout",
     "output_type": "stream",
     "text": [
      "No missing values found in dataframe\n"
     ]
    }
   ],
   "source": [
    "check_for_missing_vals(prices)"
   ]
  },
  {
   "cell_type": "code",
   "execution_count": 18,
   "metadata": {},
   "outputs": [
    {
     "data": {
      "text/plain": [
       "(1954, 450)"
      ]
     },
     "execution_count": 18,
     "metadata": {},
     "output_type": "execute_result"
    }
   ],
   "source": [
    "y_3c.shape"
   ]
  },
  {
   "cell_type": "code",
   "execution_count": 19,
   "metadata": {},
   "outputs": [
    {
     "name": "stdout",
     "output_type": "stream",
     "text": [
      "No missing values found in dataframe\n"
     ]
    }
   ],
   "source": [
    "check_for_missing_vals(y_3c)"
   ]
  },
  {
   "cell_type": "code",
   "execution_count": 20,
   "metadata": {},
   "outputs": [
    {
     "data": {
      "text/plain": [
       "(1954, 450)"
      ]
     },
     "execution_count": 20,
     "metadata": {},
     "output_type": "execute_result"
    }
   ],
   "source": [
    "y2.shape"
   ]
  },
  {
   "cell_type": "code",
   "execution_count": 21,
   "metadata": {},
   "outputs": [
    {
     "name": "stdout",
     "output_type": "stream",
     "text": [
      "No missing values found in dataframe\n"
     ]
    }
   ],
   "source": [
    "check_for_missing_vals(y2)"
   ]
  },
  {
   "cell_type": "markdown",
   "metadata": {},
   "source": [
    "No missing values, and sizes of ```y.shape[0]``` and```X.shape[0]``` match."
   ]
  },
  {
   "cell_type": "markdown",
   "metadata": {},
   "source": [
    "# Scaling the features"
   ]
  },
  {
   "cell_type": "code",
   "execution_count": 22,
   "metadata": {},
   "outputs": [],
   "source": [
    "from sklearn.preprocessing import MinMaxScaler, StandardScaler"
   ]
  },
  {
   "cell_type": "code",
   "execution_count": 23,
   "metadata": {},
   "outputs": [],
   "source": [
    "#scale = MinMaxScaler()\n",
    "scale = StandardScaler()"
   ]
  },
  {
   "cell_type": "code",
   "execution_count": 24,
   "metadata": {},
   "outputs": [],
   "source": [
    "scaled = scale.fit_transform(X)"
   ]
  },
  {
   "cell_type": "code",
   "execution_count": 25,
   "metadata": {},
   "outputs": [
    {
     "data": {
      "text/plain": [
       "(1954, 4800)"
      ]
     },
     "execution_count": 25,
     "metadata": {},
     "output_type": "execute_result"
    }
   ],
   "source": [
    "scaled.shape"
   ]
  },
  {
   "cell_type": "code",
   "execution_count": 26,
   "metadata": {},
   "outputs": [],
   "source": [
    "X_scaled = pd.DataFrame(data=scaled, columns=X.columns)\n",
    "#X_scaled = scaled"
   ]
  },
  {
   "cell_type": "markdown",
   "metadata": {},
   "source": [
    "# Train-Test Split"
   ]
  },
  {
   "cell_type": "code",
   "execution_count": 100,
   "metadata": {},
   "outputs": [],
   "source": [
    "# Use 90/10 train/test splits\n",
    "test_p = .2"
   ]
  },
  {
   "cell_type": "code",
   "execution_count": 24,
   "metadata": {},
   "outputs": [],
   "source": [
    "# Scaled, three-class\n",
    "test_size = int((1 - test_p) * X_scaled.shape[0])\n",
    "X_train, X_test, y_train, y_test = X_scaled[:test_size], X_scaled[test_size:], y_3c[:test_size], y_3c[test_size:]\n",
    "prices_train, prices_test = djia[:test_size], djia[test_size:]"
   ]
  },
  {
   "cell_type": "code",
   "execution_count": 40,
   "metadata": {},
   "outputs": [],
   "source": [
    "# Unscaled, two-class\n",
    "test_size = int((1 - test_p) * X.shape[0])\n",
    "X_train, X_test, y_train, y_test = X[:test_size], X[test_size:], y2[:test_size], y2[test_size:]\n",
    "prices_train, prices_test = djia[:test_size], djia[test_size:]"
   ]
  },
  {
   "cell_type": "code",
   "execution_count": 101,
   "metadata": {},
   "outputs": [],
   "source": [
    "# Scaled, two-class\n",
    "test_size = int((1 - test_p) * X.shape[0])\n",
    "X_train, X_test, y_train, y_test = X_scaled[:test_size], X_scaled[test_size:], y2[:test_size], y2[test_size:]\n",
    "prices_train, prices_test = djia[:test_size], djia[test_size:]"
   ]
  },
  {
   "cell_type": "code",
   "execution_count": 29,
   "metadata": {},
   "outputs": [],
   "source": [
    "#test_size = test_p\n",
    "#X_train, X_test, y_train, y_test = train_test_split(X_scaled, y_3c, test_size=test_size, random_state=101)"
   ]
  },
  {
   "cell_type": "markdown",
   "metadata": {},
   "source": [
    "# Model"
   ]
  },
  {
   "cell_type": "code",
   "execution_count": 29,
   "metadata": {},
   "outputs": [
    {
     "data": {
      "text/plain": [
       "Index(['CNC', 'FMC', 'ALGN', 'RTN', 'FAST', 'ETFC', 'ABC', 'PFG', 'AXP', 'PNW',\n",
       "       'CMS', 'URI', 'PRGO', 'DRI', 'MAS', 'M', 'ZION', 'CINF', 'HIG', 'EOG',\n",
       "       'ICE', 'CBOE', 'ALL', 'UHS', 'FRT', 'NEM', 'BLL', 'NDAQ', 'CMG', 'JKHY',\n",
       "       'T', 'QCOM', 'FTI', 'AOS', 'ATVI', 'STT', 'TXN', 'KIM', 'NTAP', 'CHD',\n",
       "       'WYNN', 'GM', 'SJM', 'MCHP', 'ES', 'KMB', 'GIS', 'EXC', 'IBM', 'MSFT'],\n",
       "      dtype='object')"
      ]
     },
     "execution_count": 29,
     "metadata": {},
     "output_type": "execute_result"
    }
   ],
   "source": [
    "symbol_list"
   ]
  },
  {
   "cell_type": "code",
   "execution_count": 30,
   "metadata": {},
   "outputs": [],
   "source": [
    "symbol = 'T'\n",
    "n1 = 15\n",
    "n2 = 15\n",
    "n_estimators = 10\n",
    "# set up cross validation splits\n",
    "tscv = TimeSeriesSplit(n_splits=5)\n",
    "btscv = BlockingTimeSeriesSplit(n_splits=5)\n",
    "#ppcv = PurgedKFold(n_splits=5)"
   ]
  },
  {
   "cell_type": "code",
   "execution_count": 31,
   "metadata": {},
   "outputs": [],
   "source": [
    "# Creates a list of features for a given lookback window (n1)\n",
    "features = [f'{x}_{n1}' for x in ti_list]\n",
    "# Creates a list of all features\n",
    "all_features = [f'{x}_{n}' for x in ti_list for n in input_window_size]"
   ]
  },
  {
   "cell_type": "markdown",
   "metadata": {},
   "source": [
    "## Define custom loss functions w/ penalty for FP / FN"
   ]
  },
  {
   "cell_type": "code",
   "execution_count": 32,
   "metadata": {},
   "outputs": [],
   "source": [
    "# Define custom loss function which adds penalty for falsely classifying as positive\n",
    "\n",
    "def custom_loss_function(y_true, y_pred):\n",
    "    beta = 1E-1\n",
    "    p    = 1. / (1 + np.exp(-y_pred))\n",
    "    grad = p * ((beta -1) * y_true + 1) - beta * y_true\n",
    "    hess = ((beta - 1) * y_true + 1) * p * (1.0 - p)\n",
    "    return grad, hess\n",
    "    "
   ]
  },
  {
   "cell_type": "code",
   "execution_count": 72,
   "metadata": {},
   "outputs": [],
   "source": [
    "def logloss_penalize_fp(y_true, y_pred):\n",
    "    beta = 5\n",
    "    p    = 1. / (1 + np.exp(-y_pred))\n",
    "    st = (y_true - beta * (y_true - 1))\n",
    "    # Gradient: ((beta-(1-beta)*y_true) - y_true) * p\n",
    "    grad = st * p - y_true\n",
    "    # Hessian: ((beta-(1-beta)*y_true) - y_true) * p * (1 - p)\n",
    "    hess = st * p * (1.0 - p) \n",
    "    return grad, hess"
   ]
  },
  {
   "cell_type": "markdown",
   "metadata": {},
   "source": [
    "## Single lookback/lookahead w/o hyperparameter optimization"
   ]
  },
  {
   "cell_type": "code",
   "execution_count": 84,
   "metadata": {},
   "outputs": [
    {
     "data": {
      "text/plain": [
       "LGBMClassifier(boosting_type='gbdt', class_weight=None, colsample_bytree=1.0,\n",
       "               importance_type='split', learning_rate=0.1, max_depth=-1,\n",
       "               metrics=['logloss'], min_child_samples=20,\n",
       "               min_child_weight=0.001, min_split_gain=0.0, n_estimators=100,\n",
       "               n_jobs=-1, num_leaves=31,\n",
       "               objective=<function logloss_penalize_fp at 0x1a284bf7a0>,\n",
       "               random_state=16818, reg_alpha=0.0, reg_lambda=0.0, silent=True,\n",
       "               subsample=1.0, subsample_for_bin=200000, subsample_freq=0)"
      ]
     },
     "execution_count": 84,
     "metadata": {},
     "output_type": "execute_result"
    }
   ],
   "source": [
    "clf_lgbm = LGBMClassifier(random_state=R_STATE)\n",
    "clf_lgbm.set_params(\n",
    "    **{'objective': logloss_penalize_fp},\n",
    "    metrics = ['logloss'],\n",
    "    #learning_rate=1E-1,\n",
    "    #num_iterations=200,\n",
    ")"
   ]
  },
  {
   "cell_type": "code",
   "execution_count": 85,
   "metadata": {},
   "outputs": [
    {
     "data": {
      "text/plain": [
       "LGBMClassifier(boosting_type='gbdt', class_weight=None, colsample_bytree=1.0,\n",
       "               importance_type='split', learning_rate=0.1, max_depth=-1,\n",
       "               metrics=['logloss'], min_child_samples=20,\n",
       "               min_child_weight=0.001, min_split_gain=0.0, n_estimators=100,\n",
       "               n_jobs=-1, num_leaves=31,\n",
       "               objective=<function logloss_penalize_fp at 0x1a284bf7a0>,\n",
       "               random_state=16818, reg_alpha=0.0, reg_lambda=0.0, silent=True,\n",
       "               subsample=1.0, subsample_for_bin=200000, subsample_freq=0)"
      ]
     },
     "execution_count": 85,
     "metadata": {},
     "output_type": "execute_result"
    }
   ],
   "source": [
    "X_tr=X_train[symbol][[f'{x}_{n1}' for x in ti_list]]\n",
    "y_tr=y_train[symbol][f'signal_{n2}']\n",
    "\n",
    "clf_lgbm.fit(\n",
    "    X=X_tr,\n",
    "    y=y_tr\n",
    ")"
   ]
  },
  {
   "cell_type": "code",
   "execution_count": 86,
   "metadata": {},
   "outputs": [
    {
     "name": "stdout",
     "output_type": "stream",
     "text": [
      "              precision    recall  f1-score   support\n",
      "\n",
      "           0       0.76      0.35      0.47       107\n",
      "           1       0.52      0.87      0.65        89\n",
      "\n",
      "    accuracy                           0.58       196\n",
      "   macro avg       0.64      0.61      0.56       196\n",
      "weighted avg       0.65      0.58      0.56       196\n",
      "\n"
     ]
    },
    {
     "data": {
      "text/plain": [
       "<sklearn.metrics._plot.confusion_matrix.ConfusionMatrixDisplay at 0x1a2e6ccfd0>"
      ]
     },
     "execution_count": 86,
     "metadata": {},
     "output_type": "execute_result"
    },
    {
     "data": {
      "image/png": "[encoded data removed]",
      "text/plain": [
       "<Figure size 432x288 with 2 Axes>"
      ]
     },
     "metadata": {
      "needs_background": "light"
     },
     "output_type": "display_data"
    }
   ],
   "source": [
    "y_pred_lgbm1 = clf_lgbm.predict(X_test[symbol][[f'{x}_{n1}' for x in ti_list]])\n",
    "print(classification_report(y_pred_lgbm1, y_test[symbol][f'signal_{n2}']))\n",
    "\n",
    "plot_confusion_matrix(\n",
    "    clf_lgbm,\n",
    "    X_test[symbol][[f'{x}_{n1}' for x in ti_list]],\n",
    "    y_test[symbol][f'signal_{n2}'],\n",
    "    #normalize='all'\n",
    ")\n"
   ]
  },
  {
   "cell_type": "code",
   "execution_count": 87,
   "metadata": {},
   "outputs": [
    {
     "data": {
      "text/html": [
       "<div>\n",
       "<style scoped>\n",
       "    .dataframe tbody tr th:only-of-type {\n",
       "        vertical-align: middle;\n",
       "    }\n",
       "\n",
       "    .dataframe tbody tr th {\n",
       "        vertical-align: top;\n",
       "    }\n",
       "\n",
       "    .dataframe thead th {\n",
       "        text-align: right;\n",
       "    }\n",
       "</style>\n",
       "<table border=\"1\" class=\"dataframe\">\n",
       "  <thead>\n",
       "    <tr style=\"text-align: right;\">\n",
       "      <th></th>\n",
       "      <th>Close</th>\n",
       "      <th>Signal_Strat</th>\n",
       "      <th>Cum_Returns_Strat</th>\n",
       "      <th>Cum_Returns_Baseline</th>\n",
       "    </tr>\n",
       "    <tr>\n",
       "      <th>Epoch</th>\n",
       "      <th></th>\n",
       "      <th></th>\n",
       "      <th></th>\n",
       "      <th></th>\n",
       "    </tr>\n",
       "  </thead>\n",
       "  <tbody>\n",
       "    <tr>\n",
       "      <th>2019-01-30 00:00:00+00:00</th>\n",
       "      <td>NaN</td>\n",
       "      <td>1</td>\n",
       "      <td>NaN</td>\n",
       "      <td>NaN</td>\n",
       "    </tr>\n",
       "    <tr>\n",
       "      <th>2019-01-31 00:00:00+00:00</th>\n",
       "      <td>0.023493</td>\n",
       "      <td>1</td>\n",
       "      <td>0.023493</td>\n",
       "      <td>0.023493</td>\n",
       "    </tr>\n",
       "    <tr>\n",
       "      <th>2019-02-01 00:00:00+00:00</th>\n",
       "      <td>-0.001996</td>\n",
       "      <td>1</td>\n",
       "      <td>0.021497</td>\n",
       "      <td>0.021497</td>\n",
       "    </tr>\n",
       "    <tr>\n",
       "      <th>2019-02-04 00:00:00+00:00</th>\n",
       "      <td>-0.013000</td>\n",
       "      <td>1</td>\n",
       "      <td>0.008497</td>\n",
       "      <td>0.008497</td>\n",
       "    </tr>\n",
       "    <tr>\n",
       "      <th>2019-02-05 00:00:00+00:00</th>\n",
       "      <td>0.000675</td>\n",
       "      <td>1</td>\n",
       "      <td>0.009173</td>\n",
       "      <td>0.009173</td>\n",
       "    </tr>\n",
       "    <tr>\n",
       "      <th>...</th>\n",
       "      <td>...</td>\n",
       "      <td>...</td>\n",
       "      <td>...</td>\n",
       "      <td>...</td>\n",
       "    </tr>\n",
       "    <tr>\n",
       "      <th>2019-10-31 00:00:00+00:00</th>\n",
       "      <td>0.007592</td>\n",
       "      <td>0</td>\n",
       "      <td>-0.014390</td>\n",
       "      <td>0.282838</td>\n",
       "    </tr>\n",
       "    <tr>\n",
       "      <th>2019-11-01 00:00:00+00:00</th>\n",
       "      <td>0.011951</td>\n",
       "      <td>0</td>\n",
       "      <td>-0.014390</td>\n",
       "      <td>0.294789</td>\n",
       "    </tr>\n",
       "    <tr>\n",
       "      <th>2019-11-04 00:00:00+00:00</th>\n",
       "      <td>-0.001540</td>\n",
       "      <td>0</td>\n",
       "      <td>-0.014390</td>\n",
       "      <td>0.293248</td>\n",
       "    </tr>\n",
       "    <tr>\n",
       "      <th>2019-11-05 00:00:00+00:00</th>\n",
       "      <td>0.007200</td>\n",
       "      <td>0</td>\n",
       "      <td>-0.014390</td>\n",
       "      <td>0.300448</td>\n",
       "    </tr>\n",
       "    <tr>\n",
       "      <th>2019-11-06 00:00:00+00:00</th>\n",
       "      <td>0.002042</td>\n",
       "      <td>0</td>\n",
       "      <td>-0.014390</td>\n",
       "      <td>0.302491</td>\n",
       "    </tr>\n",
       "  </tbody>\n",
       "</table>\n",
       "<p>196 rows × 4 columns</p>\n",
       "</div>"
      ],
      "text/plain": [
       "                              Close  Signal_Strat  Cum_Returns_Strat  \\\n",
       "Epoch                                                                  \n",
       "2019-01-30 00:00:00+00:00       NaN             1                NaN   \n",
       "2019-01-31 00:00:00+00:00  0.023493             1           0.023493   \n",
       "2019-02-01 00:00:00+00:00 -0.001996             1           0.021497   \n",
       "2019-02-04 00:00:00+00:00 -0.013000             1           0.008497   \n",
       "2019-02-05 00:00:00+00:00  0.000675             1           0.009173   \n",
       "...                             ...           ...                ...   \n",
       "2019-10-31 00:00:00+00:00  0.007592             0          -0.014390   \n",
       "2019-11-01 00:00:00+00:00  0.011951             0          -0.014390   \n",
       "2019-11-04 00:00:00+00:00 -0.001540             0          -0.014390   \n",
       "2019-11-05 00:00:00+00:00  0.007200             0          -0.014390   \n",
       "2019-11-06 00:00:00+00:00  0.002042             0          -0.014390   \n",
       "\n",
       "                           Cum_Returns_Baseline  \n",
       "Epoch                                            \n",
       "2019-01-30 00:00:00+00:00                   NaN  \n",
       "2019-01-31 00:00:00+00:00              0.023493  \n",
       "2019-02-01 00:00:00+00:00              0.021497  \n",
       "2019-02-04 00:00:00+00:00              0.008497  \n",
       "2019-02-05 00:00:00+00:00              0.009173  \n",
       "...                                         ...  \n",
       "2019-10-31 00:00:00+00:00              0.282838  \n",
       "2019-11-01 00:00:00+00:00              0.294789  \n",
       "2019-11-04 00:00:00+00:00              0.293248  \n",
       "2019-11-05 00:00:00+00:00              0.300448  \n",
       "2019-11-06 00:00:00+00:00              0.302491  \n",
       "\n",
       "[196 rows x 4 columns]"
      ]
     },
     "execution_count": 87,
     "metadata": {},
     "output_type": "execute_result"
    }
   ],
   "source": [
    "calc_returns(y_pred_lgbm1, signals_baseline=1, prices=djia[symbol][test_size:])"
   ]
  },
  {
   "cell_type": "markdown",
   "metadata": {},
   "source": [
    "## Single lookback/lookahead with hyperparameter optimization"
   ]
  },
  {
   "cell_type": "code",
   "execution_count": 102,
   "metadata": {},
   "outputs": [],
   "source": [
    "def returns_score(y_true, y_pred, data):\n",
    "    return calc_returns(y_pred, signals_baseline = 1, prices = data)['Cum_Returns_Strat'][-1]\n"
   ]
  },
  {
   "cell_type": "code",
   "execution_count": 103,
   "metadata": {},
   "outputs": [],
   "source": [
    "from atomm.Models.Tuning import search_space\n",
    "from atomm.Models.Tuning import BayesianOptimizer\n",
    "from hyperopt import space_eval"
   ]
  },
  {
   "cell_type": "code",
   "execution_count": 104,
   "metadata": {},
   "outputs": [],
   "source": [
    "opt = BayesianOptimizer(\n",
    "    param_space=search_space(LGBMClassifier),\n",
    "    model=LGBMClassifier,\n",
    "    X_train=X_train[symbol][[f'{x}_{n1}' for x in ti_list]],\n",
    "    y_train=y_train[symbol][f'signal_{n2}'],\n",
    "    X_test=X_test[symbol][[f'{x}_{n1}' for x in ti_list]],\n",
    "    y_test=y_test[symbol][f'signal_{n2}'],\n",
    "    valid_data=djia[symbol][:test_size]['Close'],\n",
    "    valid_metric=returns_score,\n",
    "    num_eval=50,\n",
    ")\n"
   ]
  },
  {
   "cell_type": "code",
   "execution_count": 105,
   "metadata": {},
   "outputs": [
    {
     "name": "stdout",
     "output_type": "stream",
     "text": [
      "100%|██████████| 50/50 [00:19<00:00,  2.57trial/s, best loss: -0.24834291140238443]\n",
      "##### Results #####\n",
      "Score best parameters:  -0.24834291140238443\n",
      "Best parameters:  {'colsample_bytree': 0.7781392559894312, 'cv': 'cv', 'learning_rate': 5.796235440081907, 'max_depth': 187, 'min_child_samples': 15, 'min_split_gain': 10, 'model': <class 'lightgbm.sklearn.LGBMClassifier'>, 'n_estimators': 665, 'num_leaves': 297, 'random_state': 16818}\n",
      "Test Score (accuracy):  0.5703324808184144\n",
      "Parameter combinations evaluated:  50\n"
     ]
    }
   ],
   "source": [
    "#opt.set_params(objective=logloss_penalize_fp)\n",
    "#opt.set_params(metrics=['logloss'])\n",
    "\n",
    "opt.set_params(random_state=R_STATE)\n",
    "test_score, clf_best, best_param = opt.optimize()"
   ]
  },
  {
   "cell_type": "code",
   "execution_count": 106,
   "metadata": {},
   "outputs": [
    {
     "name": "stdout",
     "output_type": "stream",
     "text": [
      "Recall Score:  0.5977337110481586\n",
      "              precision    recall  f1-score   support\n",
      "\n",
      "           0       0.08      0.32      0.12        38\n",
      "           1       0.89      0.60      0.72       353\n",
      "\n",
      "    accuracy                           0.57       391\n",
      "   macro avg       0.48      0.46      0.42       391\n",
      "weighted avg       0.81      0.57      0.66       391\n",
      "\n"
     ]
    },
    {
     "data": {
      "text/plain": [
       "<sklearn.metrics._plot.confusion_matrix.ConfusionMatrixDisplay at 0x1a23bfc610>"
      ]
     },
     "execution_count": 106,
     "metadata": {},
     "output_type": "execute_result"
    },
    {
     "data": {
      "image/png": "[encoded data removed]",
      "text/plain": [
       "<Figure size 432x288 with 2 Axes>"
      ]
     },
     "metadata": {
      "needs_background": "light"
     },
     "output_type": "display_data"
    }
   ],
   "source": [
    "y_pred_bsearch_lgbm = clf_best.predict(X_test[symbol][features])\n",
    "print('Recall Score: ', recall_score(y_pred_bsearch_lgbm, y_test[symbol][f'signal_{n2}']))\n",
    "print(classification_report(y_pred_bsearch_lgbm, y_test[symbol][f'signal_{n2}']))\n",
    "plot_confusion_matrix(\n",
    "    clf_best,\n",
    "    X_test[symbol][features], y_test[symbol][f'signal_{n2}'],\n",
    ")"
   ]
  },
  {
   "cell_type": "code",
   "execution_count": 107,
   "metadata": {},
   "outputs": [
    {
     "data": {
      "text/html": [
       "<div>\n",
       "<style scoped>\n",
       "    .dataframe tbody tr th:only-of-type {\n",
       "        vertical-align: middle;\n",
       "    }\n",
       "\n",
       "    .dataframe tbody tr th {\n",
       "        vertical-align: top;\n",
       "    }\n",
       "\n",
       "    .dataframe thead th {\n",
       "        text-align: right;\n",
       "    }\n",
       "</style>\n",
       "<table border=\"1\" class=\"dataframe\">\n",
       "  <thead>\n",
       "    <tr style=\"text-align: right;\">\n",
       "      <th></th>\n",
       "      <th>Close</th>\n",
       "      <th>Signal_Strat</th>\n",
       "      <th>Cum_Returns_Strat</th>\n",
       "      <th>Cum_Returns_Baseline</th>\n",
       "    </tr>\n",
       "    <tr>\n",
       "      <th>Epoch</th>\n",
       "      <th></th>\n",
       "      <th></th>\n",
       "      <th></th>\n",
       "      <th></th>\n",
       "    </tr>\n",
       "  </thead>\n",
       "  <tbody>\n",
       "    <tr>\n",
       "      <th>2018-04-20 00:00:00+00:00</th>\n",
       "      <td>NaN</td>\n",
       "      <td>0</td>\n",
       "      <td>NaN</td>\n",
       "      <td>NaN</td>\n",
       "    </tr>\n",
       "    <tr>\n",
       "      <th>2018-04-23 00:00:00+00:00</th>\n",
       "      <td>0.006346</td>\n",
       "      <td>1</td>\n",
       "      <td>0.006346</td>\n",
       "      <td>0.006346</td>\n",
       "    </tr>\n",
       "    <tr>\n",
       "      <th>2018-04-24 00:00:00+00:00</th>\n",
       "      <td>0.003153</td>\n",
       "      <td>0</td>\n",
       "      <td>0.006346</td>\n",
       "      <td>0.009498</td>\n",
       "    </tr>\n",
       "    <tr>\n",
       "      <th>2018-04-25 00:00:00+00:00</th>\n",
       "      <td>0.005714</td>\n",
       "      <td>0</td>\n",
       "      <td>0.006346</td>\n",
       "      <td>0.015213</td>\n",
       "    </tr>\n",
       "    <tr>\n",
       "      <th>2018-04-26 00:00:00+00:00</th>\n",
       "      <td>-0.059659</td>\n",
       "      <td>1</td>\n",
       "      <td>-0.053314</td>\n",
       "      <td>-0.044447</td>\n",
       "    </tr>\n",
       "    <tr>\n",
       "      <th>...</th>\n",
       "      <td>...</td>\n",
       "      <td>...</td>\n",
       "      <td>...</td>\n",
       "      <td>...</td>\n",
       "    </tr>\n",
       "    <tr>\n",
       "      <th>2019-10-31 00:00:00+00:00</th>\n",
       "      <td>0.007592</td>\n",
       "      <td>1</td>\n",
       "      <td>0.004404</td>\n",
       "      <td>0.141290</td>\n",
       "    </tr>\n",
       "    <tr>\n",
       "      <th>2019-11-01 00:00:00+00:00</th>\n",
       "      <td>0.011951</td>\n",
       "      <td>0</td>\n",
       "      <td>0.004404</td>\n",
       "      <td>0.153241</td>\n",
       "    </tr>\n",
       "    <tr>\n",
       "      <th>2019-11-04 00:00:00+00:00</th>\n",
       "      <td>-0.001540</td>\n",
       "      <td>0</td>\n",
       "      <td>0.004404</td>\n",
       "      <td>0.151701</td>\n",
       "    </tr>\n",
       "    <tr>\n",
       "      <th>2019-11-05 00:00:00+00:00</th>\n",
       "      <td>0.007200</td>\n",
       "      <td>1</td>\n",
       "      <td>0.011604</td>\n",
       "      <td>0.158900</td>\n",
       "    </tr>\n",
       "    <tr>\n",
       "      <th>2019-11-06 00:00:00+00:00</th>\n",
       "      <td>0.002042</td>\n",
       "      <td>1</td>\n",
       "      <td>0.013647</td>\n",
       "      <td>0.160943</td>\n",
       "    </tr>\n",
       "  </tbody>\n",
       "</table>\n",
       "<p>391 rows × 4 columns</p>\n",
       "</div>"
      ],
      "text/plain": [
       "                              Close  Signal_Strat  Cum_Returns_Strat  \\\n",
       "Epoch                                                                  \n",
       "2018-04-20 00:00:00+00:00       NaN             0                NaN   \n",
       "2018-04-23 00:00:00+00:00  0.006346             1           0.006346   \n",
       "2018-04-24 00:00:00+00:00  0.003153             0           0.006346   \n",
       "2018-04-25 00:00:00+00:00  0.005714             0           0.006346   \n",
       "2018-04-26 00:00:00+00:00 -0.059659             1          -0.053314   \n",
       "...                             ...           ...                ...   \n",
       "2019-10-31 00:00:00+00:00  0.007592             1           0.004404   \n",
       "2019-11-01 00:00:00+00:00  0.011951             0           0.004404   \n",
       "2019-11-04 00:00:00+00:00 -0.001540             0           0.004404   \n",
       "2019-11-05 00:00:00+00:00  0.007200             1           0.011604   \n",
       "2019-11-06 00:00:00+00:00  0.002042             1           0.013647   \n",
       "\n",
       "                           Cum_Returns_Baseline  \n",
       "Epoch                                            \n",
       "2018-04-20 00:00:00+00:00                   NaN  \n",
       "2018-04-23 00:00:00+00:00              0.006346  \n",
       "2018-04-24 00:00:00+00:00              0.009498  \n",
       "2018-04-25 00:00:00+00:00              0.015213  \n",
       "2018-04-26 00:00:00+00:00             -0.044447  \n",
       "...                                         ...  \n",
       "2019-10-31 00:00:00+00:00              0.141290  \n",
       "2019-11-01 00:00:00+00:00              0.153241  \n",
       "2019-11-04 00:00:00+00:00              0.151701  \n",
       "2019-11-05 00:00:00+00:00              0.158900  \n",
       "2019-11-06 00:00:00+00:00              0.160943  \n",
       "\n",
       "[391 rows x 4 columns]"
      ]
     },
     "execution_count": 107,
     "metadata": {},
     "output_type": "execute_result"
    }
   ],
   "source": [
    "calc_returns(y_pred_bsearch_lgbm, signals_baseline=1, prices=djia[symbol][test_size:])"
   ]
  },
  {
   "cell_type": "code",
   "execution_count": null,
   "metadata": {},
   "outputs": [],
   "source": []
  }
 ],
 "metadata": {
  "kernelspec": {
   "display_name": "capstone_nf",
   "language": "python",
   "name": "capstone_nf"
  },
  "language_info": {
   "codemirror_mode": {
    "name": "ipython",
    "version": 3
   },
   "file_extension": ".py",
   "mimetype": "text/x-python",
   "name": "python",
   "nbconvert_exporter": "python",
   "pygments_lexer": "ipython3",
   "version": "3.7.6"
  },
  "toc-autonumbering": true
 },
 "nbformat": 4,
 "nbformat_minor": 4
}

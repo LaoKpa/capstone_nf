{
 "cells": [
  {
   "cell_type": "code",
   "execution_count": 14,
   "metadata": {},
   "outputs": [
    {
     "name": "stdout",
     "output_type": "stream",
     "text": [
      "The autoreload extension is already loaded. To reload it, use:\n",
      "  %reload_ext autoreload\n"
     ]
    }
   ],
   "source": [
    "%load_ext autoreload\n",
    "%autoreload 2"
   ]
  },
  {
   "cell_type": "code",
   "execution_count": 1,
   "metadata": {},
   "outputs": [],
   "source": [
    "# Importing the atomm project specific libraries\n",
    "from atomm.Indicators import MomentumIndicators\n",
    "from atomm.DataManager.main import MSDataManager"
   ]
  },
  {
   "cell_type": "code",
   "execution_count": 20,
   "metadata": {},
   "outputs": [],
   "source": [
    "# Pandas and numpy\n",
    "import pandas as pd\n",
    "import numpy as np\n",
    "\n",
    "# Libraries for Visualization\n",
    "import matplotlib.pyplot as plt\n",
    "import seaborn\n",
    "\n",
    "# Alpaca API\n",
    "import alpaca_trade_api as tradeapi\n",
    "\n",
    "# Pickle\n",
    "import pickle\n",
    "\n",
    "\n",
    "from dotenv import find_dotenv, load_dotenv\n",
    "\n",
    "import datetime as dt\n",
    "import os"
   ]
  },
  {
   "cell_type": "code",
   "execution_count": 22,
   "metadata": {},
   "outputs": [],
   "source": [
    "load_dotenv(find_dotenv())\n",
    "data_base_dir = os.environ.get('DATA_DIR_BASE_PATH')"
   ]
  },
  {
   "cell_type": "code",
   "execution_count": 3,
   "metadata": {},
   "outputs": [],
   "source": [
    "### NOTE: In a later version, the the data download part will be outsourced to a separate script.\n",
    "\n",
    "dm = MSDataManager()"
   ]
  },
  {
   "cell_type": "code",
   "execution_count": 28,
   "metadata": {},
   "outputs": [],
   "source": [
    "df = pd.DataFrame(pd.MultiIndex.from_product([[], []]))\n",
    "dic = {} \n",
    "symb_list = dm.ReturnIndexConstituents('DJIA')+['DJIA']\n",
    "for symb in symb_list:\n",
    "    symb_df = dm.ReturnData(\n",
    "        symb,\n",
    "        start_date=dt.datetime(2014, 12, 4),\n",
    "        end_date=dt.datetime(2019, 12, 4),\n",
    "        limit=None)\n",
    "    dic[symb] = symb_df\n",
    "    \n",
    "djia_conc = pd.concat(dic.values(), keys=dic.keys(), axis=1)"
   ]
  },
  {
   "cell_type": "code",
   "execution_count": 27,
   "metadata": {},
   "outputs": [
    {
     "data": {
      "text/plain": [
       "MultiIndex([('AAPL',   'Open'),\n",
       "            ('AAPL',   'High'),\n",
       "            ('AAPL',    'Low'),\n",
       "            ('AAPL',  'Close'),\n",
       "            ('AAPL', 'Volume'),\n",
       "            ( 'AXP',   'Open'),\n",
       "            ( 'AXP',   'High'),\n",
       "            ( 'AXP',    'Low'),\n",
       "            ( 'AXP',  'Close'),\n",
       "            ( 'AXP', 'Volume'),\n",
       "            ...\n",
       "            ( 'XOM',   'Open'),\n",
       "            ( 'XOM',   'High'),\n",
       "            ( 'XOM',    'Low'),\n",
       "            ( 'XOM',  'Close'),\n",
       "            ( 'XOM', 'Volume'),\n",
       "            ('DJIA',   'Open'),\n",
       "            ('DJIA',   'High'),\n",
       "            ('DJIA',    'Low'),\n",
       "            ('DJIA',  'Close'),\n",
       "            ('DJIA', 'Volume')],\n",
       "           length=155)"
      ]
     },
     "execution_count": 27,
     "metadata": {},
     "output_type": "execute_result"
    }
   ],
   "source": [
    "djia_conc.columns"
   ]
  },
  {
   "cell_type": "code",
   "execution_count": 29,
   "metadata": {},
   "outputs": [],
   "source": [
    "fname = data_base_dir + '/processed/djia_raw_2019-12-11.pkl'\n",
    "pickle.dump(djia_conc, open(fname, 'wb'))"
   ]
  },
  {
   "cell_type": "markdown",
   "metadata": {},
   "source": [
    "**TODO: Outsource this to a description file**\n",
    "* Open / High / Low / Close / Volume: The standard set of market data for stock, where Open is the opening price for the given timeframe (in this case: daily), high and loware  the (daily) highs and lows, while close is the last price at market close. Volume denotes the volume traded. \n",
    "* Daily Returns: The daily returns on a specific symbol\n",
    "* MACD\n",
    "* ROC\n",
    "* RSI\n",
    "* EMA\n",
    "* STOC\n",
    "* ATR"
   ]
  },
  {
   "cell_type": "code",
   "execution_count": 32,
   "metadata": {},
   "outputs": [
    {
     "data": {
      "text/plain": [
       "Consumer Discretionary        82\n",
       "Information Technology        72\n",
       "Financials                    69\n",
       "Industrials                   67\n",
       "Health Care                   61\n",
       "Consumer Staples              34\n",
       "Real Estate                   33\n",
       "Energy                        31\n",
       "Utilities                     28\n",
       "Materials                     25\n",
       "Telecommunication Services     3\n",
       "Name: Sector, dtype: int64"
      ]
     },
     "execution_count": 32,
     "metadata": {},
     "output_type": "execute_result"
    }
   ],
   "source": [
    "sp500_symbols_list['Sector'].value_counts()"
   ]
  },
  {
   "cell_type": "code",
   "execution_count": 78,
   "metadata": {},
   "outputs": [],
   "source": [
    "spy = dm.ReturnIndexConstituents('SPY')\n",
    "djia = dm.ReturnIndexConstituents('DJIA')"
   ]
  },
  {
   "cell_type": "code",
   "execution_count": 80,
   "metadata": {},
   "outputs": [],
   "source": [
    "symbols_in_db = dm.ListSymbols()"
   ]
  },
  {
   "cell_type": "code",
   "execution_count": 53,
   "metadata": {},
   "outputs": [],
   "source": [
    "from atomm.DataManager.main import MSDataManager\n",
    "dm = MSDataManager()"
   ]
  },
  {
   "cell_type": "code",
   "execution_count": 77,
   "metadata": {},
   "outputs": [],
   "source": [
    "dm._update_IndexConstituents('DJIA')"
   ]
  },
  {
   "cell_type": "code",
   "execution_count": 69,
   "metadata": {},
   "outputs": [
    {
     "data": {
      "text/plain": [
       "0       MMM\n",
       "1       ABT\n",
       "2      ABBV\n",
       "3      ABMD\n",
       "4       ACN\n",
       "       ... \n",
       "500     XYL\n",
       "501     YUM\n",
       "502     ZBH\n",
       "503    ZION\n",
       "504     ZTS\n",
       "Name: Symbol, Length: 505, dtype: object"
      ]
     },
     "execution_count": 69,
     "metadata": {},
     "output_type": "execute_result"
    }
   ],
   "source": [
    "dm.ReturnIndexConstituents('SPY')"
   ]
  },
  {
   "cell_type": "code",
   "execution_count": 59,
   "metadata": {},
   "outputs": [],
   "source": [
    "dic['SPY'] = {}"
   ]
  },
  {
   "cell_type": "code",
   "execution_count": 60,
   "metadata": {},
   "outputs": [],
   "source": [
    "dic['SPY']['const']  = 12"
   ]
  },
  {
   "cell_type": "code",
   "execution_count": 61,
   "metadata": {},
   "outputs": [
    {
     "data": {
      "text/plain": [
       "{'SPY': {'const': 12}}"
      ]
     },
     "execution_count": 61,
     "metadata": {},
     "output_type": "execute_result"
    }
   ],
   "source": [
    "dic"
   ]
  },
  {
   "cell_type": "code",
   "execution_count": 67,
   "metadata": {},
   "outputs": [
    {
     "data": {
      "text/plain": [
       "5689"
      ]
     },
     "execution_count": 67,
     "metadata": {},
     "output_type": "execute_result"
    }
   ],
   "source": [
    "len(dm.ListSymbols())"
   ]
  },
  {
   "cell_type": "code",
   "execution_count": null,
   "metadata": {},
   "outputs": [],
   "source": []
  }
 ],
 "metadata": {
  "kernelspec": {
   "display_name": "Python [conda env:capstone_nf]",
   "language": "python",
   "name": "conda-env-capstone_nf-py"
  },
  "language_info": {
   "codemirror_mode": {
    "name": "ipython",
    "version": 3
   },
   "file_extension": ".py",
   "mimetype": "text/x-python",
   "name": "python",
   "nbconvert_exporter": "python",
   "pygments_lexer": "ipython3",
   "version": "3.7.5"
  }
 },
 "nbformat": 4,
 "nbformat_minor": 4
}

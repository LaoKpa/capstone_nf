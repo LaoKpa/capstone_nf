{
 "cells": [
  {
   "cell_type": "markdown",
   "metadata": {},
   "source": [
    "# Predictive Modelling: SVM"
   ]
  },
  {
   "cell_type": "markdown",
   "metadata": {},
   "source": [
    "# Imports"
   ]
  },
  {
   "cell_type": "code",
   "execution_count": 1,
   "metadata": {},
   "outputs": [],
   "source": [
    "%load_ext autoreload\n",
    "%autoreload 2\n",
    "\n",
    "# Pandas and numpy\n",
    "import pandas as pd\n",
    "import numpy as np\n",
    "\n",
    "# \n",
    "from IPython.display import display, clear_output\n",
    "import sys\n",
    "import time\n",
    "\n",
    "# Libraries for Visualization\n",
    "import matplotlib.pyplot as plt\n",
    "import seaborn as sns\n",
    "from src.visualization.visualize import plot_corr_matrix, plot_multi, plot_norm_dist, plot_feature_importances\n",
    "\n",
    "# Some custom tools\n",
    "from src.data.tools import check_for_missing_vals\n",
    "\n",
    "# \n",
    "from src.models.predict_model import avg_model, run_combinations\n",
    "#from src.models.train_model import run_combinations \n",
    "\n",
    "# Alpaca API\n",
    "import alpaca_trade_api as tradeapi\n",
    "\n",
    "# Pickle\n",
    "import pickle\n",
    "import os\n",
    "from pathlib import Path\n",
    "\n",
    "# To load variables from .env file into system environment\n",
    "from dotenv import find_dotenv, load_dotenv\n",
    "\n",
    "from atomm.Indicators import MomentumIndicators\n",
    "from atomm.DataManager.main import MSDataManager\n",
    "from atomm.Tools import calc_open_position\n",
    "from src.visualization.visualize import plot_confusion_matrix\n",
    "from atomm.Methods import BlockingTimeSeriesSplit, PurgedKFold           \n",
    "\n",
    "\n",
    "import time\n",
    "\n",
    "# scikit-learn\n",
    "from sklearn.svm import SVC\n",
    "from sklearn.metrics import accuracy_score\n",
    "from sklearn.model_selection import cross_val_score, TimeSeriesSplit\n",
    "from xgboost import XGBClassifier\n",
    "from sklearn.metrics import classification_report, confusion_matrix, plot_confusion_matrix\n",
    "from sklearn.metrics import accuracy_score, recall_score, f1_score, precision_score\n",
    "from sklearn.model_selection import train_test_split, TimeSeriesSplit\n",
    "\n",
    "from sklearn.neighbors import KNeighborsClassifier\n",
    "from sklearn.ensemble import RandomForestClassifier\n",
    "from sklearn.linear_model import LogisticRegression\n",
    "\n",
    "# For BayesianHyperparameter Optimization\n",
    "from atomm.Models.Tuning import search_space, BayesianSearch\n",
    "from hyperopt import space_eval\n",
    "\n",
    "# Visualization libraries\n",
    "import seaborn as sns\n",
    "import matplotlib.pyplot as plt\n",
    "from pandas.plotting import scatter_matrix\n",
    "import matplotlib.gridspec as gridspec\n",
    "#import matplotlib.style as style\n",
    "from scipy import stats"
   ]
  },
  {
   "cell_type": "code",
   "execution_count": 2,
   "metadata": {},
   "outputs": [
    {
     "data": {
      "text/plain": [
       "True"
      ]
     },
     "execution_count": 2,
     "metadata": {},
     "output_type": "execute_result"
    }
   ],
   "source": [
    "# Load environment variables\n",
    "load_dotenv(find_dotenv())"
   ]
  },
  {
   "cell_type": "markdown",
   "metadata": {},
   "source": [
    "## Defining functions"
   ]
  },
  {
   "cell_type": "code",
   "execution_count": 3,
   "metadata": {},
   "outputs": [],
   "source": [
    "def calc_returns(signals, prices):\n",
    "    returns = prices[['Close']].pct_change()\n",
    "    returns['Signal_Strat'] = calc_open_position(signals)\n",
    "    returns['Cum_Returns_Strat'] = (returns['Signal_Strat'] * returns['Close']).cumsum()\n",
    "    returns['Cum_Returns_BH'] = returns['Close'].cumsum()\n",
    "    return returns"
   ]
  },
  {
   "cell_type": "markdown",
   "metadata": {},
   "source": [
    "## Loading the data"
   ]
  },
  {
   "cell_type": "code",
   "execution_count": 4,
   "metadata": {},
   "outputs": [],
   "source": [
    "data_base_dir = os.environ.get('DATA_DIR_BASE_PATH')\n",
    "\n",
    "fname = os.path.join(data_base_dir, 'processed', 'index.h5')\n",
    "fname = Path(fname)\n",
    "# Load dataset from HDF storage\n",
    "with pd.HDFStore(fname) as storage:\n",
    "    djia = storage.get('nyse/cleaned/rand_symbols')\n",
    "    y_2c = storage.get('nyse/engineered/target_two_class')\n",
    "    y_3c = storage.get('nyse/engineered/target_three_class')\n",
    "    df_moments = storage.get('nyse/engineered/features')\n",
    "    #print(storage.info())\n",
    "    \n",
    "# Create copies of the pristine data\n",
    "X = df_moments.copy()\n",
    "y = y_3c.copy()\n",
    "y2 = y_2c.copy()\n",
    "prices = djia.copy()"
   ]
  },
  {
   "cell_type": "code",
   "execution_count": 5,
   "metadata": {},
   "outputs": [],
   "source": [
    "forecast_horizon = [1, 3, 5, 7, 10, 15, 20, 25, 30]\n",
    "input_window_size = [3, 5, 7, 10, 15, 20, 25, 30]\n",
    "ti_list = ['macd', 'rsi', 'stoc', 'roc', 'bbu', 'bbl', 'ema', 'atr', 'adx', 'cci', 'williamsr', 'stocd']\n",
    "symbol_list = df_moments.columns.get_level_values(0).unique()"
   ]
  },
  {
   "cell_type": "markdown",
   "metadata": {},
   "source": [
    "## Imputing missing values"
   ]
  },
  {
   "cell_type": "code",
   "execution_count": 6,
   "metadata": {},
   "outputs": [
    {
     "data": {
      "text/plain": [
       "(1954, 4800)"
      ]
     },
     "execution_count": 6,
     "metadata": {},
     "output_type": "execute_result"
    }
   ],
   "source": [
    "X.shape"
   ]
  },
  {
   "cell_type": "code",
   "execution_count": 7,
   "metadata": {},
   "outputs": [
    {
     "name": "stdout",
     "output_type": "stream",
     "text": [
      "No missing values found in dataframe\n"
     ]
    }
   ],
   "source": [
    "check_for_missing_vals(X)"
   ]
  },
  {
   "cell_type": "markdown",
   "metadata": {},
   "source": [
    "Prices values"
   ]
  },
  {
   "cell_type": "code",
   "execution_count": 8,
   "metadata": {},
   "outputs": [
    {
     "data": {
      "text/plain": [
       "(1954, 250)"
      ]
     },
     "execution_count": 8,
     "metadata": {},
     "output_type": "execute_result"
    }
   ],
   "source": [
    "prices.shape"
   ]
  },
  {
   "cell_type": "code",
   "execution_count": 9,
   "metadata": {},
   "outputs": [
    {
     "name": "stdout",
     "output_type": "stream",
     "text": [
      "No missing values found in dataframe\n"
     ]
    }
   ],
   "source": [
    "check_for_missing_vals(prices)"
   ]
  },
  {
   "cell_type": "code",
   "execution_count": 10,
   "metadata": {},
   "outputs": [
    {
     "data": {
      "text/plain": [
       "(1954, 450)"
      ]
     },
     "execution_count": 10,
     "metadata": {},
     "output_type": "execute_result"
    }
   ],
   "source": [
    "y_3c.shape"
   ]
  },
  {
   "cell_type": "code",
   "execution_count": 11,
   "metadata": {},
   "outputs": [
    {
     "name": "stdout",
     "output_type": "stream",
     "text": [
      "No missing values found in dataframe\n"
     ]
    }
   ],
   "source": [
    "check_for_missing_vals(y_3c)"
   ]
  },
  {
   "cell_type": "code",
   "execution_count": 12,
   "metadata": {},
   "outputs": [
    {
     "data": {
      "text/plain": [
       "(1954, 450)"
      ]
     },
     "execution_count": 12,
     "metadata": {},
     "output_type": "execute_result"
    }
   ],
   "source": [
    "y2.shape"
   ]
  },
  {
   "cell_type": "code",
   "execution_count": 13,
   "metadata": {},
   "outputs": [
    {
     "name": "stdout",
     "output_type": "stream",
     "text": [
      "No missing values found in dataframe\n"
     ]
    }
   ],
   "source": [
    "check_for_missing_vals(y2)"
   ]
  },
  {
   "cell_type": "markdown",
   "metadata": {},
   "source": [
    "No missing values, and sizes of ```y.shape[0]``` and```X.shape[0]``` match."
   ]
  },
  {
   "cell_type": "markdown",
   "metadata": {},
   "source": [
    "# Scaling the features"
   ]
  },
  {
   "cell_type": "code",
   "execution_count": 14,
   "metadata": {},
   "outputs": [],
   "source": [
    "from sklearn.preprocessing import MinMaxScaler, StandardScaler"
   ]
  },
  {
   "cell_type": "code",
   "execution_count": 15,
   "metadata": {},
   "outputs": [],
   "source": [
    "#scale = MinMaxScaler()\n",
    "scale = StandardScaler()"
   ]
  },
  {
   "cell_type": "code",
   "execution_count": 16,
   "metadata": {},
   "outputs": [],
   "source": [
    "scaled = scale.fit_transform(X)"
   ]
  },
  {
   "cell_type": "code",
   "execution_count": 17,
   "metadata": {},
   "outputs": [
    {
     "data": {
      "text/plain": [
       "(1954, 4800)"
      ]
     },
     "execution_count": 17,
     "metadata": {},
     "output_type": "execute_result"
    }
   ],
   "source": [
    "scaled.shape"
   ]
  },
  {
   "cell_type": "code",
   "execution_count": 18,
   "metadata": {},
   "outputs": [],
   "source": [
    "#X_scaled = pd.DataFrame(data=scaled, columns=X.columns)\n",
    "X_scaled = X"
   ]
  },
  {
   "cell_type": "markdown",
   "metadata": {},
   "source": [
    "# Train-Test Split"
   ]
  },
  {
   "cell_type": "code",
   "execution_count": 19,
   "metadata": {},
   "outputs": [],
   "source": [
    "# Use 70/30 train/test splits\n",
    "test_p = .3"
   ]
  },
  {
   "cell_type": "code",
   "execution_count": 30,
   "metadata": {},
   "outputs": [],
   "source": [
    "# Scaled, three-class\n",
    "test_size = int((1 - test_p) * X_scaled.shape[0])\n",
    "X_train, X_test, y_train, y_test = X_scaled[:test_size], X_scaled[test_size:], y_3c[:test_size], y_3c[test_size:]\n",
    "prices_train, prices_test = djia[:test_size], djia[test_size:]"
   ]
  },
  {
   "cell_type": "code",
   "execution_count": 38,
   "metadata": {},
   "outputs": [],
   "source": [
    "# Unscaled, two-class\n",
    "test_size = int((1 - test_p) * X.shape[0])\n",
    "X_train, X_test, y_train, y_test = X[:test_size], X[test_size:], y2[:test_size], y2[test_size:]\n",
    "prices_train, prices_test = djia[:test_size], djia[test_size:]"
   ]
  },
  {
   "cell_type": "code",
   "execution_count": 58,
   "metadata": {},
   "outputs": [],
   "source": [
    "# Scaled, two-class\n",
    "test_size = int((1 - test_p) * X.shape[0])\n",
    "X_train, X_test, y_train, y_test = X_scaled[:test_size], X_scaled[test_size:], y2[:test_size], y2[test_size:]\n",
    "prices_train, prices_test = djia[:test_size], djia[test_size:]"
   ]
  },
  {
   "cell_type": "code",
   "execution_count": null,
   "metadata": {},
   "outputs": [],
   "source": [
    "#test_size = test_p\n",
    "#X_train, X_test, y_train, y_test = train_test_split(X_scaled, y_3c, test_size=test_size, random_state=101)"
   ]
  },
  {
   "cell_type": "markdown",
   "metadata": {},
   "source": [
    "# Model"
   ]
  },
  {
   "cell_type": "code",
   "execution_count": 26,
   "metadata": {},
   "outputs": [],
   "source": [
    "symbol = 'T'\n",
    "n = 15\n",
    "# set up cross validation splits\n",
    "tscv = TimeSeriesSplit(n_splits=5)\n",
    "btscv = BlockingTimeSeriesSplit(n_splits=5)\n",
    "#ppcv = PurgedKFold(n_splits=5)"
   ]
  },
  {
   "cell_type": "markdown",
   "metadata": {},
   "source": [
    "## Single lookback/lookahead combination"
   ]
  },
  {
   "cell_type": "code",
   "execution_count": 54,
   "metadata": {},
   "outputs": [
    {
     "data": {
      "text/plain": [
       "XGBClassifier(base_score=0.5, booster='gbtree', colsample_bylevel=1,\n",
       "              colsample_bynode=1, colsample_bytree=1, gamma=0,\n",
       "              learning_rate=0.1, max_delta_step=0, max_depth=3,\n",
       "              min_child_weight=1, missing=None, n_estimators=100, n_jobs=-1,\n",
       "              nthread=None, objective='multi:softprob', random_state=0,\n",
       "              reg_alpha=0, reg_lambda=1, scale_pos_weight=1, seed=None,\n",
       "              silent=None, subsample=1, verbosity=1)"
      ]
     },
     "execution_count": 54,
     "metadata": {},
     "output_type": "execute_result"
    }
   ],
   "source": [
    "clf_svc1 = OneVsRestClassifier(BaggingClassifier(\n",
    "                    SVC(class_weight='balanced'),\n",
    "                    max_samples=max_samp, \n",
    "                    n_estimators=n_estimators,\n",
    "                    n_jobs=-1))\n",
    "clf_svc1.fit(X_train[symbol][[f'{x}_{n}' for x in ti_list]], y_train[symbol][f'signal_{n}'])"
   ]
  },
  {
   "cell_type": "code",
   "execution_count": 55,
   "metadata": {},
   "outputs": [
    {
     "name": "stdout",
     "output_type": "stream",
     "text": [
      "              precision    recall  f1-score   support\n",
      "\n",
      "          -1       0.39      0.06      0.10       155\n",
      "           0       0.42      0.60      0.49       244\n",
      "           1       0.37      0.42      0.40       188\n",
      "\n",
      "    accuracy                           0.40       587\n",
      "   macro avg       0.39      0.36      0.33       587\n",
      "weighted avg       0.40      0.40      0.36       587\n",
      "\n",
      "[[  9 105  41]\n",
      " [  5 147  92]\n",
      " [  9 100  79]]\n"
     ]
    }
   ],
   "source": [
    "y_pred_svc = clf_svc1.predict(X_test[symbol][[f'{x}_{n}' for x in ti_list]])\n",
    "print(classification_report(y_test[symbol][f'signal_{n}'], y_pred_svc))\n",
    "print(confusion_matrix(y_test[symbol][f'signal_{n}'], y_pred_svc))\n",
    "#plot_feature_importances(svc.coef_,\n",
    "#                         X_scaled[symbol][[f'{x}_{n}' for x in ti_list]].columns, \n",
    "#                         model='SVC1', top_count=100)\n",
    "\n",
    "\n",
    "y_pred_svc1 = clf_svc1.predict(X_test[symbol][[f'{x}_{n}' for x in ti_list]])\n",
    "print('Accuracy Score: ', accuracy_score(y_pred_rf1, y_test[symbol][f'signal_{n}']))\n",
    "print(classification_report(y_pred_svc1, y_test[symbol][f'signal_{n}']))\n",
    "plot_confusion_matrix(\n",
    "    clf_svc1,\n",
    "    X_test[symbol][[f'{x}_{n}' for x in ti_list]],\n",
    "    y_test[symbol][f'signal_{n}'],\n",
    ")"
   ]
  },
  {
   "cell_type": "markdown",
   "metadata": {},
   "source": [
    "## All combinations"
   ]
  },
  {
   "cell_type": "markdown",
   "metadata": {},
   "source": [
    "## Averaging across all 50 randomly selected stocks"
   ]
  },
  {
   "cell_type": "code",
   "execution_count": 172,
   "metadata": {},
   "outputs": [
    {
     "data": {
      "text/plain": [
       "'Leg [50/50]; Elapsed Time 337.0s\\n'"
      ]
     },
     "metadata": {},
     "output_type": "display_data"
    },
    {
     "data": {
      "text/html": [
       "<style  type=\"text/css\" >\n",
       "    #T_d7615608_2a75_11ea_a645_f0189811b80erow0_col0 {\n",
       "            background-color:  #00441b;\n",
       "            color:  #f1f1f1;\n",
       "        }    #T_d7615608_2a75_11ea_a645_f0189811b80erow0_col1 {\n",
       "            background-color:  #00441b;\n",
       "            color:  #f1f1f1;\n",
       "        }    #T_d7615608_2a75_11ea_a645_f0189811b80erow0_col2 {\n",
       "            background-color:  #00441b;\n",
       "            color:  #f1f1f1;\n",
       "        }    #T_d7615608_2a75_11ea_a645_f0189811b80erow0_col3 {\n",
       "            background-color:  #00441b;\n",
       "            color:  #f1f1f1;\n",
       "        }    #T_d7615608_2a75_11ea_a645_f0189811b80erow0_col4 {\n",
       "            background-color:  #00441b;\n",
       "            color:  #f1f1f1;\n",
       "        }    #T_d7615608_2a75_11ea_a645_f0189811b80erow0_col5 {\n",
       "            background-color:  #00441b;\n",
       "            color:  #f1f1f1;\n",
       "        }    #T_d7615608_2a75_11ea_a645_f0189811b80erow0_col6 {\n",
       "            background-color:  #00441b;\n",
       "            color:  #f1f1f1;\n",
       "        }    #T_d7615608_2a75_11ea_a645_f0189811b80erow0_col7 {\n",
       "            background-color:  #026f2e;\n",
       "            color:  #f1f1f1;\n",
       "        }    #T_d7615608_2a75_11ea_a645_f0189811b80erow1_col0 {\n",
       "            background-color:  #52b78b;\n",
       "            color:  #000000;\n",
       "        }    #T_d7615608_2a75_11ea_a645_f0189811b80erow1_col1 {\n",
       "            background-color:  #3ba76c;\n",
       "            color:  #000000;\n",
       "        }    #T_d7615608_2a75_11ea_a645_f0189811b80erow1_col2 {\n",
       "            background-color:  #097532;\n",
       "            color:  #f1f1f1;\n",
       "        }    #T_d7615608_2a75_11ea_a645_f0189811b80erow1_col3 {\n",
       "            background-color:  #1e8741;\n",
       "            color:  #000000;\n",
       "        }    #T_d7615608_2a75_11ea_a645_f0189811b80erow1_col4 {\n",
       "            background-color:  #19833e;\n",
       "            color:  #f1f1f1;\n",
       "        }    #T_d7615608_2a75_11ea_a645_f0189811b80erow1_col5 {\n",
       "            background-color:  #0a7633;\n",
       "            color:  #f1f1f1;\n",
       "        }    #T_d7615608_2a75_11ea_a645_f0189811b80erow1_col6 {\n",
       "            background-color:  #016e2d;\n",
       "            color:  #f1f1f1;\n",
       "        }    #T_d7615608_2a75_11ea_a645_f0189811b80erow1_col7 {\n",
       "            background-color:  #00441b;\n",
       "            color:  #f1f1f1;\n",
       "        }    #T_d7615608_2a75_11ea_a645_f0189811b80erow2_col0 {\n",
       "            background-color:  #a7ddd1;\n",
       "            color:  #000000;\n",
       "        }    #T_d7615608_2a75_11ea_a645_f0189811b80erow2_col1 {\n",
       "            background-color:  #4eb586;\n",
       "            color:  #000000;\n",
       "        }    #T_d7615608_2a75_11ea_a645_f0189811b80erow2_col2 {\n",
       "            background-color:  #2f9858;\n",
       "            color:  #000000;\n",
       "        }    #T_d7615608_2a75_11ea_a645_f0189811b80erow2_col3 {\n",
       "            background-color:  #40ad75;\n",
       "            color:  #000000;\n",
       "        }    #T_d7615608_2a75_11ea_a645_f0189811b80erow2_col4 {\n",
       "            background-color:  #005522;\n",
       "            color:  #f1f1f1;\n",
       "        }    #T_d7615608_2a75_11ea_a645_f0189811b80erow2_col5 {\n",
       "            background-color:  #39a569;\n",
       "            color:  #000000;\n",
       "        }    #T_d7615608_2a75_11ea_a645_f0189811b80erow2_col6 {\n",
       "            background-color:  #62c09f;\n",
       "            color:  #000000;\n",
       "        }    #T_d7615608_2a75_11ea_a645_f0189811b80erow2_col7 {\n",
       "            background-color:  #39a569;\n",
       "            color:  #000000;\n",
       "        }    #T_d7615608_2a75_11ea_a645_f0189811b80erow3_col0 {\n",
       "            background-color:  #4bb382;\n",
       "            color:  #000000;\n",
       "        }    #T_d7615608_2a75_11ea_a645_f0189811b80erow3_col1 {\n",
       "            background-color:  #3ca86d;\n",
       "            color:  #000000;\n",
       "        }    #T_d7615608_2a75_11ea_a645_f0189811b80erow3_col2 {\n",
       "            background-color:  #3fab72;\n",
       "            color:  #000000;\n",
       "        }    #T_d7615608_2a75_11ea_a645_f0189811b80erow3_col3 {\n",
       "            background-color:  #6cc4a8;\n",
       "            color:  #000000;\n",
       "        }    #T_d7615608_2a75_11ea_a645_f0189811b80erow3_col4 {\n",
       "            background-color:  #208843;\n",
       "            color:  #000000;\n",
       "        }    #T_d7615608_2a75_11ea_a645_f0189811b80erow3_col5 {\n",
       "            background-color:  #228a44;\n",
       "            color:  #000000;\n",
       "        }    #T_d7615608_2a75_11ea_a645_f0189811b80erow3_col6 {\n",
       "            background-color:  #62c09f;\n",
       "            color:  #000000;\n",
       "        }    #T_d7615608_2a75_11ea_a645_f0189811b80erow3_col7 {\n",
       "            background-color:  #005120;\n",
       "            color:  #f1f1f1;\n",
       "        }    #T_d7615608_2a75_11ea_a645_f0189811b80erow4_col0 {\n",
       "            background-color:  #36a164;\n",
       "            color:  #000000;\n",
       "        }    #T_d7615608_2a75_11ea_a645_f0189811b80erow4_col1 {\n",
       "            background-color:  #349f61;\n",
       "            color:  #000000;\n",
       "        }    #T_d7615608_2a75_11ea_a645_f0189811b80erow4_col2 {\n",
       "            background-color:  #2e9756;\n",
       "            color:  #000000;\n",
       "        }    #T_d7615608_2a75_11ea_a645_f0189811b80erow4_col3 {\n",
       "            background-color:  #53b88c;\n",
       "            color:  #000000;\n",
       "        }    #T_d7615608_2a75_11ea_a645_f0189811b80erow4_col4 {\n",
       "            background-color:  #006c2c;\n",
       "            color:  #f1f1f1;\n",
       "        }    #T_d7615608_2a75_11ea_a645_f0189811b80erow4_col5 {\n",
       "            background-color:  #1c8540;\n",
       "            color:  #000000;\n",
       "        }    #T_d7615608_2a75_11ea_a645_f0189811b80erow4_col6 {\n",
       "            background-color:  #36a164;\n",
       "            color:  #000000;\n",
       "        }    #T_d7615608_2a75_11ea_a645_f0189811b80erow4_col7 {\n",
       "            background-color:  #68c3a6;\n",
       "            color:  #000000;\n",
       "        }    #T_d7615608_2a75_11ea_a645_f0189811b80erow5_col0 {\n",
       "            background-color:  #9ad8ca;\n",
       "            color:  #000000;\n",
       "        }    #T_d7615608_2a75_11ea_a645_f0189811b80erow5_col1 {\n",
       "            background-color:  #258d48;\n",
       "            color:  #000000;\n",
       "        }    #T_d7615608_2a75_11ea_a645_f0189811b80erow5_col2 {\n",
       "            background-color:  #b0e1d6;\n",
       "            color:  #000000;\n",
       "        }    #T_d7615608_2a75_11ea_a645_f0189811b80erow5_col3 {\n",
       "            background-color:  #6dc5a9;\n",
       "            color:  #000000;\n",
       "        }    #T_d7615608_2a75_11ea_a645_f0189811b80erow5_col4 {\n",
       "            background-color:  #37a266;\n",
       "            color:  #000000;\n",
       "        }    #T_d7615608_2a75_11ea_a645_f0189811b80erow5_col5 {\n",
       "            background-color:  #55b98f;\n",
       "            color:  #000000;\n",
       "        }    #T_d7615608_2a75_11ea_a645_f0189811b80erow5_col6 {\n",
       "            background-color:  #f7fcfd;\n",
       "            color:  #000000;\n",
       "        }    #T_d7615608_2a75_11ea_a645_f0189811b80erow5_col7 {\n",
       "            background-color:  #eef8fb;\n",
       "            color:  #000000;\n",
       "        }    #T_d7615608_2a75_11ea_a645_f0189811b80erow6_col0 {\n",
       "            background-color:  #f4fbfc;\n",
       "            color:  #000000;\n",
       "        }    #T_d7615608_2a75_11ea_a645_f0189811b80erow6_col1 {\n",
       "            background-color:  #d3eeeb;\n",
       "            color:  #000000;\n",
       "        }    #T_d7615608_2a75_11ea_a645_f0189811b80erow6_col2 {\n",
       "            background-color:  #daf1f1;\n",
       "            color:  #000000;\n",
       "        }    #T_d7615608_2a75_11ea_a645_f0189811b80erow6_col3 {\n",
       "            background-color:  #e9f7fa;\n",
       "            color:  #000000;\n",
       "        }    #T_d7615608_2a75_11ea_a645_f0189811b80erow6_col4 {\n",
       "            background-color:  #f4fbfc;\n",
       "            color:  #000000;\n",
       "        }    #T_d7615608_2a75_11ea_a645_f0189811b80erow6_col5 {\n",
       "            background-color:  #f7fcfd;\n",
       "            color:  #000000;\n",
       "        }    #T_d7615608_2a75_11ea_a645_f0189811b80erow6_col6 {\n",
       "            background-color:  #edf8fb;\n",
       "            color:  #000000;\n",
       "        }    #T_d7615608_2a75_11ea_a645_f0189811b80erow6_col7 {\n",
       "            background-color:  #f7fcfd;\n",
       "            color:  #000000;\n",
       "        }    #T_d7615608_2a75_11ea_a645_f0189811b80erow7_col0 {\n",
       "            background-color:  #ebf7fa;\n",
       "            color:  #000000;\n",
       "        }    #T_d7615608_2a75_11ea_a645_f0189811b80erow7_col1 {\n",
       "            background-color:  #f7fcfd;\n",
       "            color:  #000000;\n",
       "        }    #T_d7615608_2a75_11ea_a645_f0189811b80erow7_col2 {\n",
       "            background-color:  #e0f3f5;\n",
       "            color:  #000000;\n",
       "        }    #T_d7615608_2a75_11ea_a645_f0189811b80erow7_col3 {\n",
       "            background-color:  #d4efec;\n",
       "            color:  #000000;\n",
       "        }    #T_d7615608_2a75_11ea_a645_f0189811b80erow7_col4 {\n",
       "            background-color:  #d0ede9;\n",
       "            color:  #000000;\n",
       "        }    #T_d7615608_2a75_11ea_a645_f0189811b80erow7_col5 {\n",
       "            background-color:  #ccece6;\n",
       "            color:  #000000;\n",
       "        }    #T_d7615608_2a75_11ea_a645_f0189811b80erow7_col6 {\n",
       "            background-color:  #e9f7fa;\n",
       "            color:  #000000;\n",
       "        }    #T_d7615608_2a75_11ea_a645_f0189811b80erow7_col7 {\n",
       "            background-color:  #f5fbfc;\n",
       "            color:  #000000;\n",
       "        }    #T_d7615608_2a75_11ea_a645_f0189811b80erow8_col0 {\n",
       "            background-color:  #f7fcfd;\n",
       "            color:  #000000;\n",
       "        }    #T_d7615608_2a75_11ea_a645_f0189811b80erow8_col1 {\n",
       "            background-color:  #f4fbfc;\n",
       "            color:  #000000;\n",
       "        }    #T_d7615608_2a75_11ea_a645_f0189811b80erow8_col2 {\n",
       "            background-color:  #f7fcfd;\n",
       "            color:  #000000;\n",
       "        }    #T_d7615608_2a75_11ea_a645_f0189811b80erow8_col3 {\n",
       "            background-color:  #f7fcfd;\n",
       "            color:  #000000;\n",
       "        }    #T_d7615608_2a75_11ea_a645_f0189811b80erow8_col4 {\n",
       "            background-color:  #f7fcfd;\n",
       "            color:  #000000;\n",
       "        }    #T_d7615608_2a75_11ea_a645_f0189811b80erow8_col5 {\n",
       "            background-color:  #55b98f;\n",
       "            color:  #000000;\n",
       "        }    #T_d7615608_2a75_11ea_a645_f0189811b80erow8_col6 {\n",
       "            background-color:  #d1eeea;\n",
       "            color:  #000000;\n",
       "        }    #T_d7615608_2a75_11ea_a645_f0189811b80erow8_col7 {\n",
       "            background-color:  #e7f6f9;\n",
       "            color:  #000000;\n",
       "        }</style><table id=\"T_d7615608_2a75_11ea_a645_f0189811b80e\" ><thead>    <tr>        <th class=\"blank level0\" ></th>        <th class=\"col_heading level0 col0\" >3</th>        <th class=\"col_heading level0 col1\" >5</th>        <th class=\"col_heading level0 col2\" >7</th>        <th class=\"col_heading level0 col3\" >10</th>        <th class=\"col_heading level0 col4\" >15</th>        <th class=\"col_heading level0 col5\" >20</th>        <th class=\"col_heading level0 col6\" >25</th>        <th class=\"col_heading level0 col7\" >30</th>    </tr></thead><tbody>\n",
       "                <tr>\n",
       "                        <th id=\"T_d7615608_2a75_11ea_a645_f0189811b80elevel0_row0\" class=\"row_heading level0 row0\" >1</th>\n",
       "                        <td id=\"T_d7615608_2a75_11ea_a645_f0189811b80erow0_col0\" class=\"data row0 col0\" >0.413629</td>\n",
       "                        <td id=\"T_d7615608_2a75_11ea_a645_f0189811b80erow0_col1\" class=\"data row0 col1\" >0.41339</td>\n",
       "                        <td id=\"T_d7615608_2a75_11ea_a645_f0189811b80erow0_col2\" class=\"data row0 col2\" >0.411721</td>\n",
       "                        <td id=\"T_d7615608_2a75_11ea_a645_f0189811b80erow0_col3\" class=\"data row0 col3\" >0.412368</td>\n",
       "                        <td id=\"T_d7615608_2a75_11ea_a645_f0189811b80erow0_col4\" class=\"data row0 col4\" >0.409506</td>\n",
       "                        <td id=\"T_d7615608_2a75_11ea_a645_f0189811b80erow0_col5\" class=\"data row0 col5\" >0.413663</td>\n",
       "                        <td id=\"T_d7615608_2a75_11ea_a645_f0189811b80erow0_col6\" class=\"data row0 col6\" >0.414037</td>\n",
       "                        <td id=\"T_d7615608_2a75_11ea_a645_f0189811b80erow0_col7\" class=\"data row0 col7\" >0.412129</td>\n",
       "            </tr>\n",
       "            <tr>\n",
       "                        <th id=\"T_d7615608_2a75_11ea_a645_f0189811b80elevel0_row1\" class=\"row_heading level0 row1\" >3</th>\n",
       "                        <td id=\"T_d7615608_2a75_11ea_a645_f0189811b80erow1_col0\" class=\"data row1 col0\" >0.406065</td>\n",
       "                        <td id=\"T_d7615608_2a75_11ea_a645_f0189811b80erow1_col1\" class=\"data row1 col1\" >0.406814</td>\n",
       "                        <td id=\"T_d7615608_2a75_11ea_a645_f0189811b80erow1_col2\" class=\"data row1 col2\" >0.409165</td>\n",
       "                        <td id=\"T_d7615608_2a75_11ea_a645_f0189811b80erow1_col3\" class=\"data row1 col3\" >0.407836</td>\n",
       "                        <td id=\"T_d7615608_2a75_11ea_a645_f0189811b80erow1_col4\" class=\"data row1 col4\" >0.406951</td>\n",
       "                        <td id=\"T_d7615608_2a75_11ea_a645_f0189811b80erow1_col5\" class=\"data row1 col5\" >0.410971</td>\n",
       "                        <td id=\"T_d7615608_2a75_11ea_a645_f0189811b80erow1_col6\" class=\"data row1 col6\" >0.411959</td>\n",
       "                        <td id=\"T_d7615608_2a75_11ea_a645_f0189811b80erow1_col7\" class=\"data row1 col7\" >0.414514</td>\n",
       "            </tr>\n",
       "            <tr>\n",
       "                        <th id=\"T_d7615608_2a75_11ea_a645_f0189811b80elevel0_row2\" class=\"row_heading level0 row2\" >5</th>\n",
       "                        <td id=\"T_d7615608_2a75_11ea_a645_f0189811b80erow2_col0\" class=\"data row2 col0\" >0.402078</td>\n",
       "                        <td id=\"T_d7615608_2a75_11ea_a645_f0189811b80erow2_col1\" class=\"data row2 col1\" >0.405486</td>\n",
       "                        <td id=\"T_d7615608_2a75_11ea_a645_f0189811b80erow2_col2\" class=\"data row2 col2\" >0.406917</td>\n",
       "                        <td id=\"T_d7615608_2a75_11ea_a645_f0189811b80erow2_col3\" class=\"data row2 col3\" >0.405077</td>\n",
       "                        <td id=\"T_d7615608_2a75_11ea_a645_f0189811b80erow2_col4\" class=\"data row2 col4\" >0.408893</td>\n",
       "                        <td id=\"T_d7615608_2a75_11ea_a645_f0189811b80erow2_col5\" class=\"data row2 col5\" >0.407939</td>\n",
       "                        <td id=\"T_d7615608_2a75_11ea_a645_f0189811b80erow2_col6\" class=\"data row2 col6\" >0.406337</td>\n",
       "                        <td id=\"T_d7615608_2a75_11ea_a645_f0189811b80erow2_col7\" class=\"data row2 col7\" >0.408382</td>\n",
       "            </tr>\n",
       "            <tr>\n",
       "                        <th id=\"T_d7615608_2a75_11ea_a645_f0189811b80elevel0_row3\" class=\"row_heading level0 row3\" >7</th>\n",
       "                        <td id=\"T_d7615608_2a75_11ea_a645_f0189811b80erow3_col0\" class=\"data row3 col0\" >0.40644</td>\n",
       "                        <td id=\"T_d7615608_2a75_11ea_a645_f0189811b80erow3_col1\" class=\"data row3 col1\" >0.406746</td>\n",
       "                        <td id=\"T_d7615608_2a75_11ea_a645_f0189811b80erow3_col2\" class=\"data row3 col2\" >0.40586</td>\n",
       "                        <td id=\"T_d7615608_2a75_11ea_a645_f0189811b80erow3_col3\" class=\"data row3 col3\" >0.402351</td>\n",
       "                        <td id=\"T_d7615608_2a75_11ea_a645_f0189811b80erow3_col4\" class=\"data row3 col4\" >0.406678</td>\n",
       "                        <td id=\"T_d7615608_2a75_11ea_a645_f0189811b80erow3_col5\" class=\"data row3 col5\" >0.40954</td>\n",
       "                        <td id=\"T_d7615608_2a75_11ea_a645_f0189811b80erow3_col6\" class=\"data row3 col6\" >0.406303</td>\n",
       "                        <td id=\"T_d7615608_2a75_11ea_a645_f0189811b80erow3_col7\" class=\"data row3 col7\" >0.413799</td>\n",
       "            </tr>\n",
       "            <tr>\n",
       "                        <th id=\"T_d7615608_2a75_11ea_a645_f0189811b80elevel0_row4\" class=\"row_heading level0 row4\" >10</th>\n",
       "                        <td id=\"T_d7615608_2a75_11ea_a645_f0189811b80erow4_col0\" class=\"data row4 col0\" >0.407836</td>\n",
       "                        <td id=\"T_d7615608_2a75_11ea_a645_f0189811b80erow4_col1\" class=\"data row4 col1\" >0.407359</td>\n",
       "                        <td id=\"T_d7615608_2a75_11ea_a645_f0189811b80erow4_col2\" class=\"data row4 col2\" >0.407019</td>\n",
       "                        <td id=\"T_d7615608_2a75_11ea_a645_f0189811b80erow4_col3\" class=\"data row4 col3\" >0.40385</td>\n",
       "                        <td id=\"T_d7615608_2a75_11ea_a645_f0189811b80erow4_col4\" class=\"data row4 col4\" >0.408041</td>\n",
       "                        <td id=\"T_d7615608_2a75_11ea_a645_f0189811b80erow4_col5\" class=\"data row4 col5\" >0.409915</td>\n",
       "                        <td id=\"T_d7615608_2a75_11ea_a645_f0189811b80erow4_col6\" class=\"data row4 col6\" >0.408825</td>\n",
       "                        <td id=\"T_d7615608_2a75_11ea_a645_f0189811b80erow4_col7\" class=\"data row4 col7\" >0.405451</td>\n",
       "            </tr>\n",
       "            <tr>\n",
       "                        <th id=\"T_d7615608_2a75_11ea_a645_f0189811b80elevel0_row5\" class=\"row_heading level0 row5\" >15</th>\n",
       "                        <td id=\"T_d7615608_2a75_11ea_a645_f0189811b80erow5_col0\" class=\"data row5 col0\" >0.402589</td>\n",
       "                        <td id=\"T_d7615608_2a75_11ea_a645_f0189811b80erow5_col1\" class=\"data row5 col1\" >0.408484</td>\n",
       "                        <td id=\"T_d7615608_2a75_11ea_a645_f0189811b80erow5_col2\" class=\"data row5 col2\" >0.400818</td>\n",
       "                        <td id=\"T_d7615608_2a75_11ea_a645_f0189811b80erow5_col3\" class=\"data row5 col3\" >0.402249</td>\n",
       "                        <td id=\"T_d7615608_2a75_11ea_a645_f0189811b80erow5_col4\" class=\"data row5 col4\" >0.405554</td>\n",
       "                        <td id=\"T_d7615608_2a75_11ea_a645_f0189811b80erow5_col5\" class=\"data row5 col5\" >0.406269</td>\n",
       "                        <td id=\"T_d7615608_2a75_11ea_a645_f0189811b80erow5_col6\" class=\"data row5 col6\" >0.39816</td>\n",
       "                        <td id=\"T_d7615608_2a75_11ea_a645_f0189811b80erow5_col7\" class=\"data row5 col7\" >0.397683</td>\n",
       "            </tr>\n",
       "            <tr>\n",
       "                        <th id=\"T_d7615608_2a75_11ea_a645_f0189811b80elevel0_row6\" class=\"row_heading level0 row6\" >20</th>\n",
       "                        <td id=\"T_d7615608_2a75_11ea_a645_f0189811b80erow6_col0\" class=\"data row6 col0\" >0.396491</td>\n",
       "                        <td id=\"T_d7615608_2a75_11ea_a645_f0189811b80erow6_col1\" class=\"data row6 col1\" >0.398705</td>\n",
       "                        <td id=\"T_d7615608_2a75_11ea_a645_f0189811b80erow6_col2\" class=\"data row6 col2\" >0.398637</td>\n",
       "                        <td id=\"T_d7615608_2a75_11ea_a645_f0189811b80erow6_col3\" class=\"data row6 col3\" >0.394719</td>\n",
       "                        <td id=\"T_d7615608_2a75_11ea_a645_f0189811b80erow6_col4\" class=\"data row6 col4\" >0.397922</td>\n",
       "                        <td id=\"T_d7615608_2a75_11ea_a645_f0189811b80erow6_col5\" class=\"data row6 col5\" >0.397002</td>\n",
       "                        <td id=\"T_d7615608_2a75_11ea_a645_f0189811b80erow6_col6\" class=\"data row6 col6\" >0.39925</td>\n",
       "                        <td id=\"T_d7615608_2a75_11ea_a645_f0189811b80erow6_col7\" class=\"data row6 col7\" >0.396559</td>\n",
       "            </tr>\n",
       "            <tr>\n",
       "                        <th id=\"T_d7615608_2a75_11ea_a645_f0189811b80elevel0_row7\" class=\"row_heading level0 row7\" >25</th>\n",
       "                        <td id=\"T_d7615608_2a75_11ea_a645_f0189811b80erow7_col0\" class=\"data row7 col0\" >0.397615</td>\n",
       "                        <td id=\"T_d7615608_2a75_11ea_a645_f0189811b80erow7_col1\" class=\"data row7 col1\" >0.394617</td>\n",
       "                        <td id=\"T_d7615608_2a75_11ea_a645_f0189811b80erow7_col2\" class=\"data row7 col2\" >0.398126</td>\n",
       "                        <td id=\"T_d7615608_2a75_11ea_a645_f0189811b80erow7_col3\" class=\"data row7 col3\" >0.396934</td>\n",
       "                        <td id=\"T_d7615608_2a75_11ea_a645_f0189811b80erow7_col4\" class=\"data row7 col4\" >0.400443</td>\n",
       "                        <td id=\"T_d7615608_2a75_11ea_a645_f0189811b80erow7_col5\" class=\"data row7 col5\" >0.401193</td>\n",
       "                        <td id=\"T_d7615608_2a75_11ea_a645_f0189811b80erow7_col6\" class=\"data row7 col6\" >0.399761</td>\n",
       "                        <td id=\"T_d7615608_2a75_11ea_a645_f0189811b80erow7_col7\" class=\"data row7 col7\" >0.396899</td>\n",
       "            </tr>\n",
       "            <tr>\n",
       "                        <th id=\"T_d7615608_2a75_11ea_a645_f0189811b80elevel0_row8\" class=\"row_heading level0 row8\" >30</th>\n",
       "                        <td id=\"T_d7615608_2a75_11ea_a645_f0189811b80erow8_col0\" class=\"data row8 col0\" >0.396048</td>\n",
       "                        <td id=\"T_d7615608_2a75_11ea_a645_f0189811b80erow8_col1\" class=\"data row8 col1\" >0.394991</td>\n",
       "                        <td id=\"T_d7615608_2a75_11ea_a645_f0189811b80erow8_col2\" class=\"data row8 col2\" >0.395707</td>\n",
       "                        <td id=\"T_d7615608_2a75_11ea_a645_f0189811b80erow8_col3\" class=\"data row8 col3\" >0.392811</td>\n",
       "                        <td id=\"T_d7615608_2a75_11ea_a645_f0189811b80erow8_col4\" class=\"data row8 col4\" >0.397683</td>\n",
       "                        <td id=\"T_d7615608_2a75_11ea_a645_f0189811b80erow8_col5\" class=\"data row8 col5\" >0.406269</td>\n",
       "                        <td id=\"T_d7615608_2a75_11ea_a645_f0189811b80erow8_col6\" class=\"data row8 col6\" >0.401704</td>\n",
       "                        <td id=\"T_d7615608_2a75_11ea_a645_f0189811b80erow8_col7\" class=\"data row8 col7\" >0.398535</td>\n",
       "            </tr>\n",
       "    </tbody></table>"
      ],
      "text/plain": [
       "<pandas.io.formats.style.Styler at 0x1a29dd4d50>"
      ]
     },
     "metadata": {},
     "output_type": "display_data"
    }
   ],
   "source": [
    "avg, _, _ = avg_model(\n",
    "    symbol_list,\n",
    "    forecast_horizon,                                 \n",
    "    input_window_size,                                  \n",
    "    X_train,    \n",
    "    X_test,    \n",
    "    y_train,    \n",
    "    y_test,    \n",
    "    prices_test,\n",
    "    model=clf_svc1,\n",
    "    silent = False\n",
    ")"
   ]
  },
  {
   "cell_type": "markdown",
   "metadata": {},
   "source": [
    "## Hyperparamter Optimization: GridSearch"
   ]
  },
  {
   "cell_type": "code",
   "execution_count": 132,
   "metadata": {},
   "outputs": [],
   "source": []
  },
  {
   "cell_type": "code",
   "execution_count": 163,
   "metadata": {},
   "outputs": [
    {
     "data": {
      "text/plain": [
       "0.5876651982378854"
      ]
     },
     "execution_count": 163,
     "metadata": {},
     "output_type": "execute_result"
    }
   ],
   "source": [
    "gsearch_xgb.best_score_"
   ]
  },
  {
   "cell_type": "markdown",
   "metadata": {},
   "source": [
    "## Hyperparamter Optimization: Bayesian Optimization"
   ]
  },
  {
   "cell_type": "markdown",
   "metadata": {},
   "source": [
    "### SVC"
   ]
  },
  {
   "cell_type": "code",
   "execution_count": 39,
   "metadata": {},
   "outputs": [],
   "source": [
    "n1=15\n",
    "n2=15\n",
    "symbol='MSFT'"
   ]
  },
  {
   "cell_type": "code",
   "execution_count": 40,
   "metadata": {},
   "outputs": [
    {
     "data": {
      "text/plain": [
       "Index(['CNC', 'FMC', 'ALGN', 'RTN', 'FAST', 'ETFC', 'ABC', 'PFG', 'AXP', 'PNW',\n",
       "       'CMS', 'URI', 'PRGO', 'DRI', 'MAS', 'M', 'ZION', 'CINF', 'HIG', 'EOG',\n",
       "       'ICE', 'CBOE', 'ALL', 'UHS', 'FRT', 'NEM', 'BLL', 'NDAQ', 'CMG', 'JKHY',\n",
       "       'T', 'QCOM', 'FTI', 'AOS', 'ATVI', 'STT', 'TXN', 'KIM', 'NTAP', 'CHD',\n",
       "       'WYNN', 'GM', 'SJM', 'MCHP', 'ES', 'KMB', 'GIS', 'EXC', 'IBM', 'MSFT'],\n",
       "      dtype='object')"
      ]
     },
     "execution_count": 40,
     "metadata": {},
     "output_type": "execute_result"
    }
   ],
   "source": [
    "symbol_list"
   ]
  },
  {
   "cell_type": "code",
   "execution_count": 23,
   "metadata": {},
   "outputs": [],
   "source": [
    "# Optimizing for accuracy_score"
   ]
  },
  {
   "cell_type": "code",
   "execution_count": null,
   "metadata": {},
   "outputs": [
    {
     "name": "stdout",
     "output_type": "stream",
     "text": [
      " 13%|█▎        | 4/30 [00:45<02:57,  6.83s/it, best loss: -0.533920704845815]"
     ]
    }
   ],
   "source": [
    "model = SVC\n",
    "bsearch_svc1, clf_svc1, params_svc1 = BayesianSearch(\n",
    "    search_space(model),\n",
    "    model,\n",
    "    X_train[symbol][[f'{x}_{n1}' for x in ti_list]], \n",
    "    y_train[symbol][f'signal_{n2}'], \n",
    "    X_test[symbol][[f'{x}_{n1}' for x in ti_list]],\n",
    "    y_test[symbol][f'signal_{n2}'],\n",
    "    num_eval=30,\n",
    "    scoring_metric='accuracy_score'\n",
    ")"
   ]
  },
  {
   "cell_type": "code",
   "execution_count": 61,
   "metadata": {},
   "outputs": [
    {
     "name": "stdout",
     "output_type": "stream",
     "text": [
      "Recall Score:  0.5434412265758092\n",
      "              precision    recall  f1-score   support\n",
      "\n",
      "           0       0.00      0.00      0.00         0\n",
      "           1       1.00      0.54      0.70       587\n",
      "\n",
      "    accuracy                           0.54       587\n",
      "   macro avg       0.50      0.27      0.35       587\n",
      "weighted avg       1.00      0.54      0.70       587\n",
      "\n"
     ]
    },
    {
     "data": {
      "text/plain": [
       "<sklearn.metrics._plot.confusion_matrix.ConfusionMatrixDisplay at 0x1a390f6610>"
      ]
     },
     "execution_count": 61,
     "metadata": {},
     "output_type": "execute_result"
    },
    {
     "data": {
      "image/png": "[encoded data removed]",
      "text/plain": [
       "<Figure size 432x288 with 2 Axes>"
      ]
     },
     "metadata": {
      "needs_background": "light"
     },
     "output_type": "display_data"
    }
   ],
   "source": [
    "y_pred_svc1 = clf_svc1.predict(X_test[symbol][[f'{x}_{n}' for x in ti_list]])\n",
    "print('Recall Score: ', recall_score(y_pred_svc1, y_test[symbol][f'signal_{n}']))\n",
    "print(classification_report(y_pred_svc1, y_test[symbol][f'signal_{n}']))\n",
    "plot_confusion_matrix(\n",
    "    y_pred_svc1,\n",
    "    X_test[symbol][[f'{x}_{n}' for x in ti_list]], y_test[symbol][f'signal_{n}']\n",
    ")\n",
    "\n"
   ]
  },
  {
   "cell_type": "code",
   "execution_count": null,
   "metadata": {},
   "outputs": [],
   "source": [
    "bsearch_xgb2, clf_xgb2, params_xgb2 = BayesianSearch(\n",
    "    search_space(XGBClassifier),\n",
    "    model,\n",
    "    X_train[symbol][[f'{x}_{n}' for x in ti_list]], \n",
    "    y_train[symbol][f'signal_{n}'], \n",
    "    X_test[symbol][[f'{x}_{n}' for x in ti_list]],\n",
    "    y_test[symbol][f'signal_{n}'],\n",
    "    num_eval=30\n",
    "    scoring_metric='recalls'\n",
    ")"
   ]
  },
  {
   "cell_type": "code",
   "execution_count": null,
   "metadata": {},
   "outputs": [],
   "source": [
    "y_pred_xgb1 = clf_xgb1.predict(X_test[symbol][[f'{x}_{n}' for x in ti_list]])\n",
    "%recallll_score(y_pred_xgb1, y_test[symbol][f'signal_{n}'])"
   ]
  },
  {
   "cell_type": "markdown",
   "metadata": {},
   "source": [
    "### RandomForest"
   ]
  },
  {
   "cell_type": "code",
   "execution_count": 66,
   "metadata": {},
   "outputs": [],
   "source": [
    "# Accuracy as scoring metric"
   ]
  },
  {
   "cell_type": "code",
   "execution_count": 92,
   "metadata": {},
   "outputs": [
    {
     "name": "stdout",
     "output_type": "stream",
     "text": [
      "100%|██████████| 100/100 [04:11<00:00,  2.51s/it, best loss: -0.6181818181818182]\n",
      "##### Results #####\n",
      "Score best parameters:  -0.6181818181818182\n",
      "Best parameters:  {'bootstrap': False, 'criterion': 'entropy', 'cv': 'btscv', 'max_depth': 206, 'max_features': 1, 'min_samples_leaf': 12, 'model': <class 'sklearn.ensemble._forest.RandomForestClassifier'>, 'n_estimators': 200, 'n_jobs': -1}\n",
      "Test Score (accuracy):  0.5945485519591142\n",
      "Parameter combinations evaluated:  100\n",
      "Time elapsed:  251.87587571144104\n"
     ]
    }
   ],
   "source": [
    "n=15\n",
    "symbol='T'\n",
    "\n",
    "model = RandomForestClassifier\n",
    "RandomForestClassifier()\n",
    "bsearch_rf1, clf_rf1, params_rf1  = BayesianSearch(\n",
    "    search_space(model),\n",
    "    model,\n",
    "    X_train[symbol][[f'{x}_{n}' for x in ti_list]], \n",
    "    y_train[symbol][f'signal_{n}'], \n",
    "    X_test[symbol][[f'{x}_{n}' for x in ti_list]],\n",
    "    y_test[symbol][f'signal_{n}'],\n",
    "    num_eval=100,\n",
    "    scoring_metric='accuracy_score'\n",
    ")"
   ]
  },
  {
   "cell_type": "code",
   "execution_count": 93,
   "metadata": {},
   "outputs": [
    {
     "name": "stdout",
     "output_type": "stream",
     "text": [
      "Accuracy Score:  0.5945485519591142\n",
      "              precision    recall  f1-score   support\n",
      "\n",
      "           0       0.36      0.59      0.45       162\n",
      "           1       0.79      0.60      0.68       425\n",
      "\n",
      "    accuracy                           0.59       587\n",
      "   macro avg       0.58      0.59      0.56       587\n",
      "weighted avg       0.67      0.59      0.62       587\n",
      "\n"
     ]
    },
    {
     "data": {
      "text/plain": [
       "<sklearn.metrics._plot.confusion_matrix.ConfusionMatrixDisplay at 0x1a3e2d5ed0>"
      ]
     },
     "execution_count": 93,
     "metadata": {},
     "output_type": "execute_result"
    },
    {
     "data": {
      "image/png": "[encoded data removed]",
      "text/plain": [
       "<Figure size 432x288 with 2 Axes>"
      ]
     },
     "metadata": {
      "needs_background": "light"
     },
     "output_type": "display_data"
    }
   ],
   "source": [
    "y_pred_rf1 = clf_rf1.predict(X_test[symbol][[f'{x}_{n}' for x in ti_list]])\n",
    "print('Accuracy Score: ', accuracy_score(y_pred_rf1, y_test[symbol][f'signal_{n}']))\n",
    "print(classification_report(y_pred_rf1, y_test[symbol][f'signal_{n}']))\n",
    "plot_confusion_matrix(\n",
    "    clf_rf1,\n",
    "    X_test[symbol][[f'{x}_{n}' for x in ti_list]],\n",
    "    y_test[symbol][f'signal_{n}'],\n",
    ")\n",
    "\n"
   ]
  },
  {
   "cell_type": "code",
   "execution_count": null,
   "metadata": {},
   "outputs": [],
   "source": [
    "# Recall as scoring metric"
   ]
  },
  {
   "cell_type": "code",
   "execution_count": 94,
   "metadata": {},
   "outputs": [
    {
     "name": "stdout",
     "output_type": "stream",
     "text": [
      "100%|██████████| 100/100 [04:45<00:00,  2.85s/it, best loss: -0.9049689440993788]\n",
      "##### Results #####\n",
      "Score best parameters:  -0.9049689440993788\n",
      "Best parameters:  {'bootstrap': False, 'criterion': 'gini', 'cv': 'btscv', 'max_depth': 82, 'max_features': 'auto', 'min_samples_leaf': 14, 'model': <class 'sklearn.ensemble._forest.RandomForestClassifier'>, 'n_estimators': 439, 'n_jobs': -1}\n",
      "Test Score (accuracy):  0.5843270868824532\n",
      "Parameter combinations evaluated:  100\n",
      "Time elapsed:  286.13909006118774\n"
     ]
    }
   ],
   "source": [
    "n=15\n",
    "symbol='T'\n",
    "\n",
    "model = RandomForestClassifier\n",
    "RandomForestClassifier()\n",
    "bsearch_rf2, clf_rf2, params_rf2  = BayesianSearch(\n",
    "    search_space(model),\n",
    "    model,\n",
    "    X_train[symbol][[f'{x}_{n}' for x in ti_list]], \n",
    "    y_train[symbol][f'signal_{n}'], \n",
    "    X_test[symbol][[f'{x}_{n}' for x in ti_list]],\n",
    "    y_test[symbol][f'signal_{n}'],\n",
    "    num_eval=100,\n",
    "    scoring_metric='recall_score'\n",
    ")"
   ]
  },
  {
   "cell_type": "code",
   "execution_count": 97,
   "metadata": {},
   "outputs": [
    {
     "name": "stdout",
     "output_type": "stream",
     "text": [
      "Recall Score:  0.5894988066825776\n",
      "              precision    recall  f1-score   support\n",
      "\n",
      "           0       0.36      0.57      0.44       168\n",
      "           1       0.77      0.59      0.67       419\n",
      "\n",
      "    accuracy                           0.58       587\n",
      "   macro avg       0.57      0.58      0.55       587\n",
      "weighted avg       0.66      0.58      0.60       587\n",
      "\n"
     ]
    },
    {
     "data": {
      "text/plain": [
       "419"
      ]
     },
     "execution_count": 97,
     "metadata": {},
     "output_type": "execute_result"
    },
    {
     "data": {
      "image/png": "[encoded data removed]",
      "text/plain": [
       "<Figure size 432x288 with 2 Axes>"
      ]
     },
     "metadata": {
      "needs_background": "light"
     },
     "output_type": "display_data"
    }
   ],
   "source": [
    "y_pred_rf2 = clf_rf2.predict(X_test[symbol][[f'{x}_{n}' for x in ti_list]])\n",
    "print('Recall Score: ', recall_score(y_pred_rf2, y_test[symbol][f'signal_{n}']))\n",
    "print(classification_report(y_pred_rf2, y_test[symbol][f'signal_{n}']))\n",
    "plot_confusion_matrix(clf_rf2, X_test[symbol][[f'{x}_{n}' for x in ti_list]], y_test[symbol][f'signal_{n}'])\n"
   ]
  },
  {
   "cell_type": "code",
   "execution_count": null,
   "metadata": {},
   "outputs": [],
   "source": [
    "# f1_score as scoring metric"
   ]
  },
  {
   "cell_type": "code",
   "execution_count": 98,
   "metadata": {},
   "outputs": [
    {
     "name": "stdout",
     "output_type": "stream",
     "text": [
      "100%|██████████| 100/100 [04:30<00:00,  2.70s/it, best loss: -0.6989161224793884]\n",
      "##### Results #####\n",
      "Score best parameters:  -0.6989161224793884\n",
      "Best parameters:  {'bootstrap': False, 'criterion': 'gini', 'cv': 'btscv', 'max_depth': 55, 'max_features': 1, 'min_samples_leaf': 19, 'model': <class 'sklearn.ensemble._forest.RandomForestClassifier'>, 'n_estimators': 316, 'n_jobs': -1}\n",
      "Test Score (accuracy):  0.606473594548552\n",
      "Parameter combinations evaluated:  100\n",
      "Time elapsed:  270.7368309497833\n"
     ]
    }
   ],
   "source": [
    "n=15\n",
    "symbol='T'\n",
    "\n",
    "model = RandomForestClassifier\n",
    "RandomForestClassifier()\n",
    "bsearch_rf3, clf_rf3, params_rf3  = BayesianSearch(\n",
    "    search_space(model),\n",
    "    model,\n",
    "    X_train[symbol][[f'{x}_{n}' for x in ti_list]], \n",
    "    y_train[symbol][f'signal_{n}'], \n",
    "    X_test[symbol][[f'{x}_{n}' for x in ti_list]],\n",
    "    y_test[symbol][f'signal_{n}'],\n",
    "    num_eval=100,\n",
    "    scoring_metric='f1_score'\n",
    ")"
   ]
  },
  {
   "cell_type": "code",
   "execution_count": 99,
   "metadata": {},
   "outputs": [
    {
     "name": "stdout",
     "output_type": "stream",
     "text": [
      "F1 Score:  0.691588785046729\n",
      "              precision    recall  f1-score   support\n",
      "\n",
      "           0       0.36      0.62      0.46       157\n",
      "           1       0.81      0.60      0.69       430\n",
      "\n",
      "    accuracy                           0.61       587\n",
      "   macro avg       0.59      0.61      0.57       587\n",
      "weighted avg       0.69      0.61      0.63       587\n",
      "\n"
     ]
    },
    {
     "data": {
      "text/plain": [
       "<sklearn.metrics._plot.confusion_matrix.ConfusionMatrixDisplay at 0x1a392c48d0>"
      ]
     },
     "execution_count": 99,
     "metadata": {},
     "output_type": "execute_result"
    },
    {
     "data": {
      "image/png": "[encoded data removed]",
      "text/plain": [
       "<Figure size 432x288 with 2 Axes>"
      ]
     },
     "metadata": {
      "needs_background": "light"
     },
     "output_type": "display_data"
    }
   ],
   "source": [
    "y_pred_rf3 = clf_rf3.predict(X_test[symbol][[f'{x}_{n}' for x in ti_list]])\n",
    "print('F1 Score: ', f1_score(y_pred_rf3, y_test[symbol][f'signal_{n}']))\n",
    "print(classification_report(y_pred_rf3, y_test[symbol][f'signal_{n}']))\n",
    "plot_confusion_matrix(\n",
    "    clf_rf3, X_test[symbol][[f'{x}_{n}' for x in ti_list]],\n",
    "    y_test[symbol][f'signal_{n}'])\n",
    "\n"
   ]
  },
  {
   "cell_type": "code",
   "execution_count": null,
   "metadata": {},
   "outputs": [],
   "source": [
    "# precision_score as scoring metric"
   ]
  },
  {
   "cell_type": "code",
   "execution_count": 32,
   "metadata": {},
   "outputs": [
    {
     "name": "stdout",
     "output_type": "stream",
     "text": [
      "100%|██████████| 25/25 [01:12<00:00,  2.91s/it, best loss: -0.5971743426052591]\n",
      "##### Results #####\n",
      "Score best parameters:  -0.5971743426052591\n",
      "Best parameters:  {'bootstrap': False, 'criterion': 'gini', 'cv': 'btscv', 'max_depth': 177, 'max_features': 'auto', 'min_samples_leaf': 15, 'model': <class 'sklearn.ensemble._forest.RandomForestClassifier'>, 'n_estimators': 330, 'n_jobs': -1}\n",
      "Test Score (accuracy):  0.5911413969335605\n",
      "Parameter combinations evaluated:  25\n",
      "Time elapsed:  73.63188314437866\n"
     ]
    }
   ],
   "source": [
    "n=15\n",
    "symbol='T'\n",
    "\n",
    "model = RandomForestClassifier\n",
    "RandomForestClassifier()\n",
    "bsearch_rf4, clf_rf4, params_rf4  = BayesianSearch(\n",
    "    search_space(model),\n",
    "    model,\n",
    "    X_train[symbol][[f'{x}_{n}' for x in ti_list]], \n",
    "    y_train[symbol][f'signal_{n}'], \n",
    "    X_test[symbol][[f'{x}_{n}' for x in ti_list]],\n",
    "    y_test[symbol][f'signal_{n}'],\n",
    "    num_eval=25,\n",
    "    scoring_metric='precision_score'\n",
    ")"
   ]
  },
  {
   "cell_type": "code",
   "execution_count": 33,
   "metadata": {},
   "outputs": [
    {
     "name": "stdout",
     "output_type": "stream",
     "text": [
      "Precision Score:  0.6618215709594274\n",
      "              precision    recall  f1-score   support\n",
      "\n",
      "           0       0.37      0.58      0.45       168\n",
      "           1       0.78      0.59      0.67       419\n",
      "\n",
      "    accuracy                           0.59       587\n",
      "   macro avg       0.57      0.59      0.56       587\n",
      "weighted avg       0.66      0.59      0.61       587\n",
      "\n"
     ]
    },
    {
     "data": {
      "text/plain": [
       "array([[ 98, 170],\n",
       "       [ 70, 249]])"
      ]
     },
     "execution_count": 33,
     "metadata": {},
     "output_type": "execute_result"
    },
    {
     "data": {
      "image/png": "[encoded data removed]",
      "text/plain": [
       "<Figure size 432x288 with 2 Axes>"
      ]
     },
     "metadata": {
      "needs_background": "light"
     },
     "output_type": "display_data"
    }
   ],
   "source": [
    "y_pred_rf4 = clf_rf4.predict(X_test[symbol][[f'{x}_{n}' for x in ti_list]])\n",
    "print('Precision Score: ', precision_score(y_pred_rf4, y_test[symbol][f'signal_{n}'], average='weighted'))\n",
    "print(classification_report(y_pred_rf4, y_test[symbol][f'signal_{n}']))\n",
    "plot_confusion_matrix(\n",
    "    clf_rf4,\n",
    "    X_test[symbol][[f'{x}_{n}' for x in ti_list]],\n",
    "    y_test[symbol][f'signal_{n}']\n",
    ")\n",
    "confusion_matrix(y_test[symbol][f'signal_{n}'], y_pred_rf4)\n"
   ]
  },
  {
   "cell_type": "markdown",
   "metadata": {},
   "source": [
    "## Running on all 50 stocks on best model"
   ]
  },
  {
   "cell_type": "code",
   "execution_count": null,
   "metadata": {},
   "outputs": [
    {
     "data": {
      "text/plain": [
       "'Leg [49/50]; Elapsed Time 2813.0s\\n'"
      ]
     },
     "metadata": {},
     "output_type": "display_data"
    },
    {
     "data": {
      "text/html": [
       "<style  type=\"text/css\" >\n",
       "    #T_7cdf58b8_3265_11ea_976d_f0189811b80erow0_col0 {\n",
       "            background-color:  #e7f6f9;\n",
       "            color:  #000000;\n",
       "        }    #T_7cdf58b8_3265_11ea_976d_f0189811b80erow0_col1 {\n",
       "            background-color:  #f7fcfd;\n",
       "            color:  #000000;\n",
       "        }    #T_7cdf58b8_3265_11ea_976d_f0189811b80erow0_col2 {\n",
       "            background-color:  #f7fcfd;\n",
       "            color:  #000000;\n",
       "        }    #T_7cdf58b8_3265_11ea_976d_f0189811b80erow0_col3 {\n",
       "            background-color:  #f7fcfd;\n",
       "            color:  #000000;\n",
       "        }    #T_7cdf58b8_3265_11ea_976d_f0189811b80erow0_col4 {\n",
       "            background-color:  #f7fcfd;\n",
       "            color:  #000000;\n",
       "        }    #T_7cdf58b8_3265_11ea_976d_f0189811b80erow0_col5 {\n",
       "            background-color:  #f7fcfd;\n",
       "            color:  #000000;\n",
       "        }    #T_7cdf58b8_3265_11ea_976d_f0189811b80erow0_col6 {\n",
       "            background-color:  #f7fcfd;\n",
       "            color:  #000000;\n",
       "        }    #T_7cdf58b8_3265_11ea_976d_f0189811b80erow0_col7 {\n",
       "            background-color:  #f7fcfd;\n",
       "            color:  #000000;\n",
       "        }    #T_7cdf58b8_3265_11ea_976d_f0189811b80erow1_col0 {\n",
       "            background-color:  #f7fcfd;\n",
       "            color:  #000000;\n",
       "        }    #T_7cdf58b8_3265_11ea_976d_f0189811b80erow1_col1 {\n",
       "            background-color:  #8ad2be;\n",
       "            color:  #000000;\n",
       "        }    #T_7cdf58b8_3265_11ea_976d_f0189811b80erow1_col2 {\n",
       "            background-color:  #d1eee9;\n",
       "            color:  #000000;\n",
       "        }    #T_7cdf58b8_3265_11ea_976d_f0189811b80erow1_col3 {\n",
       "            background-color:  #eff9fb;\n",
       "            color:  #000000;\n",
       "        }    #T_7cdf58b8_3265_11ea_976d_f0189811b80erow1_col4 {\n",
       "            background-color:  #def2f4;\n",
       "            color:  #000000;\n",
       "        }    #T_7cdf58b8_3265_11ea_976d_f0189811b80erow1_col5 {\n",
       "            background-color:  #c8ebe4;\n",
       "            color:  #000000;\n",
       "        }    #T_7cdf58b8_3265_11ea_976d_f0189811b80erow1_col6 {\n",
       "            background-color:  #e5f5f9;\n",
       "            color:  #000000;\n",
       "        }    #T_7cdf58b8_3265_11ea_976d_f0189811b80erow1_col7 {\n",
       "            background-color:  #f4fbfc;\n",
       "            color:  #000000;\n",
       "        }    #T_7cdf58b8_3265_11ea_976d_f0189811b80erow2_col0 {\n",
       "            background-color:  #edf8fb;\n",
       "            color:  #000000;\n",
       "        }    #T_7cdf58b8_3265_11ea_976d_f0189811b80erow2_col1 {\n",
       "            background-color:  #c8ebe4;\n",
       "            color:  #000000;\n",
       "        }    #T_7cdf58b8_3265_11ea_976d_f0189811b80erow2_col2 {\n",
       "            background-color:  #46b17c;\n",
       "            color:  #000000;\n",
       "        }    #T_7cdf58b8_3265_11ea_976d_f0189811b80erow2_col3 {\n",
       "            background-color:  #248c47;\n",
       "            color:  #000000;\n",
       "        }    #T_7cdf58b8_3265_11ea_976d_f0189811b80erow2_col4 {\n",
       "            background-color:  #5cbd98;\n",
       "            color:  #000000;\n",
       "        }    #T_7cdf58b8_3265_11ea_976d_f0189811b80erow2_col5 {\n",
       "            background-color:  #b0e1d6;\n",
       "            color:  #000000;\n",
       "        }    #T_7cdf58b8_3265_11ea_976d_f0189811b80erow2_col6 {\n",
       "            background-color:  #62c09f;\n",
       "            color:  #000000;\n",
       "        }    #T_7cdf58b8_3265_11ea_976d_f0189811b80erow2_col7 {\n",
       "            background-color:  #3aa66a;\n",
       "            color:  #000000;\n",
       "        }    #T_7cdf58b8_3265_11ea_976d_f0189811b80erow3_col0 {\n",
       "            background-color:  #e1f4f6;\n",
       "            color:  #000000;\n",
       "        }    #T_7cdf58b8_3265_11ea_976d_f0189811b80erow3_col1 {\n",
       "            background-color:  #57ba92;\n",
       "            color:  #000000;\n",
       "        }    #T_7cdf58b8_3265_11ea_976d_f0189811b80erow3_col2 {\n",
       "            background-color:  #77c9b0;\n",
       "            color:  #000000;\n",
       "        }    #T_7cdf58b8_3265_11ea_976d_f0189811b80erow3_col3 {\n",
       "            background-color:  #d8f0ef;\n",
       "            color:  #000000;\n",
       "        }    #T_7cdf58b8_3265_11ea_976d_f0189811b80erow3_col4 {\n",
       "            background-color:  #349f61;\n",
       "            color:  #000000;\n",
       "        }    #T_7cdf58b8_3265_11ea_976d_f0189811b80erow3_col5 {\n",
       "            background-color:  #5cbd98;\n",
       "            color:  #000000;\n",
       "        }    #T_7cdf58b8_3265_11ea_976d_f0189811b80erow3_col6 {\n",
       "            background-color:  #51b689;\n",
       "            color:  #000000;\n",
       "        }    #T_7cdf58b8_3265_11ea_976d_f0189811b80erow3_col7 {\n",
       "            background-color:  #1f8742;\n",
       "            color:  #000000;\n",
       "        }    #T_7cdf58b8_3265_11ea_976d_f0189811b80erow4_col0 {\n",
       "            background-color:  #a8ded2;\n",
       "            color:  #000000;\n",
       "        }    #T_7cdf58b8_3265_11ea_976d_f0189811b80erow4_col1 {\n",
       "            background-color:  #218944;\n",
       "            color:  #000000;\n",
       "        }    #T_7cdf58b8_3265_11ea_976d_f0189811b80erow4_col2 {\n",
       "            background-color:  #4fb688;\n",
       "            color:  #000000;\n",
       "        }    #T_7cdf58b8_3265_11ea_976d_f0189811b80erow4_col3 {\n",
       "            background-color:  #90d4c3;\n",
       "            color:  #000000;\n",
       "        }    #T_7cdf58b8_3265_11ea_976d_f0189811b80erow4_col4 {\n",
       "            background-color:  #268f4a;\n",
       "            color:  #000000;\n",
       "        }    #T_7cdf58b8_3265_11ea_976d_f0189811b80erow4_col5 {\n",
       "            background-color:  #67c2a5;\n",
       "            color:  #000000;\n",
       "        }    #T_7cdf58b8_3265_11ea_976d_f0189811b80erow4_col6 {\n",
       "            background-color:  #00441b;\n",
       "            color:  #f1f1f1;\n",
       "        }    #T_7cdf58b8_3265_11ea_976d_f0189811b80erow4_col7 {\n",
       "            background-color:  #41ae77;\n",
       "            color:  #000000;\n",
       "        }    #T_7cdf58b8_3265_11ea_976d_f0189811b80erow5_col0 {\n",
       "            background-color:  #339e60;\n",
       "            color:  #000000;\n",
       "        }    #T_7cdf58b8_3265_11ea_976d_f0189811b80erow5_col1 {\n",
       "            background-color:  #36a164;\n",
       "            color:  #000000;\n",
       "        }    #T_7cdf58b8_3265_11ea_976d_f0189811b80erow5_col2 {\n",
       "            background-color:  #005a24;\n",
       "            color:  #f1f1f1;\n",
       "        }    #T_7cdf58b8_3265_11ea_976d_f0189811b80erow5_col3 {\n",
       "            background-color:  #3eaa70;\n",
       "            color:  #000000;\n",
       "        }    #T_7cdf58b8_3265_11ea_976d_f0189811b80erow5_col4 {\n",
       "            background-color:  #006529;\n",
       "            color:  #f1f1f1;\n",
       "        }    #T_7cdf58b8_3265_11ea_976d_f0189811b80erow5_col5 {\n",
       "            background-color:  #00441b;\n",
       "            color:  #f1f1f1;\n",
       "        }    #T_7cdf58b8_3265_11ea_976d_f0189811b80erow5_col6 {\n",
       "            background-color:  #004a1e;\n",
       "            color:  #f1f1f1;\n",
       "        }    #T_7cdf58b8_3265_11ea_976d_f0189811b80erow5_col7 {\n",
       "            background-color:  #4db585;\n",
       "            color:  #000000;\n",
       "        }    #T_7cdf58b8_3265_11ea_976d_f0189811b80erow6_col0 {\n",
       "            background-color:  #0d7836;\n",
       "            color:  #f1f1f1;\n",
       "        }    #T_7cdf58b8_3265_11ea_976d_f0189811b80erow6_col1 {\n",
       "            background-color:  #077331;\n",
       "            color:  #f1f1f1;\n",
       "        }    #T_7cdf58b8_3265_11ea_976d_f0189811b80erow6_col2 {\n",
       "            background-color:  #016e2d;\n",
       "            color:  #f1f1f1;\n",
       "        }    #T_7cdf58b8_3265_11ea_976d_f0189811b80erow6_col3 {\n",
       "            background-color:  #3ba76c;\n",
       "            color:  #000000;\n",
       "        }    #T_7cdf58b8_3265_11ea_976d_f0189811b80erow6_col4 {\n",
       "            background-color:  #005c25;\n",
       "            color:  #f1f1f1;\n",
       "        }    #T_7cdf58b8_3265_11ea_976d_f0189811b80erow6_col5 {\n",
       "            background-color:  #2e9756;\n",
       "            color:  #000000;\n",
       "        }    #T_7cdf58b8_3265_11ea_976d_f0189811b80erow6_col6 {\n",
       "            background-color:  #238b45;\n",
       "            color:  #000000;\n",
       "        }    #T_7cdf58b8_3265_11ea_976d_f0189811b80erow6_col7 {\n",
       "            background-color:  #45b07b;\n",
       "            color:  #000000;\n",
       "        }    #T_7cdf58b8_3265_11ea_976d_f0189811b80erow7_col0 {\n",
       "            background-color:  #026f2e;\n",
       "            color:  #f1f1f1;\n",
       "        }    #T_7cdf58b8_3265_11ea_976d_f0189811b80erow7_col1 {\n",
       "            background-color:  #157f3b;\n",
       "            color:  #f1f1f1;\n",
       "        }    #T_7cdf58b8_3265_11ea_976d_f0189811b80erow7_col2 {\n",
       "            background-color:  #00491d;\n",
       "            color:  #f1f1f1;\n",
       "        }    #T_7cdf58b8_3265_11ea_976d_f0189811b80erow7_col3 {\n",
       "            background-color:  #004a1e;\n",
       "            color:  #f1f1f1;\n",
       "        }    #T_7cdf58b8_3265_11ea_976d_f0189811b80erow7_col4 {\n",
       "            background-color:  #026f2e;\n",
       "            color:  #f1f1f1;\n",
       "        }    #T_7cdf58b8_3265_11ea_976d_f0189811b80erow7_col5 {\n",
       "            background-color:  #60bf9c;\n",
       "            color:  #000000;\n",
       "        }    #T_7cdf58b8_3265_11ea_976d_f0189811b80erow7_col6 {\n",
       "            background-color:  #7ccbb4;\n",
       "            color:  #000000;\n",
       "        }    #T_7cdf58b8_3265_11ea_976d_f0189811b80erow7_col7 {\n",
       "            background-color:  #72c7ad;\n",
       "            color:  #000000;\n",
       "        }    #T_7cdf58b8_3265_11ea_976d_f0189811b80erow8_col0 {\n",
       "            background-color:  #00441b;\n",
       "            color:  #f1f1f1;\n",
       "        }    #T_7cdf58b8_3265_11ea_976d_f0189811b80erow8_col1 {\n",
       "            background-color:  #00441b;\n",
       "            color:  #f1f1f1;\n",
       "        }    #T_7cdf58b8_3265_11ea_976d_f0189811b80erow8_col2 {\n",
       "            background-color:  #00441b;\n",
       "            color:  #f1f1f1;\n",
       "        }    #T_7cdf58b8_3265_11ea_976d_f0189811b80erow8_col3 {\n",
       "            background-color:  #00441b;\n",
       "            color:  #f1f1f1;\n",
       "        }    #T_7cdf58b8_3265_11ea_976d_f0189811b80erow8_col4 {\n",
       "            background-color:  #00441b;\n",
       "            color:  #f1f1f1;\n",
       "        }    #T_7cdf58b8_3265_11ea_976d_f0189811b80erow8_col5 {\n",
       "            background-color:  #3aa66a;\n",
       "            color:  #000000;\n",
       "        }    #T_7cdf58b8_3265_11ea_976d_f0189811b80erow8_col6 {\n",
       "            background-color:  #005924;\n",
       "            color:  #f1f1f1;\n",
       "        }    #T_7cdf58b8_3265_11ea_976d_f0189811b80erow8_col7 {\n",
       "            background-color:  #00441b;\n",
       "            color:  #f1f1f1;\n",
       "        }</style><table id=\"T_7cdf58b8_3265_11ea_976d_f0189811b80e\" ><thead>    <tr>        <th class=\"blank level0\" ></th>        <th class=\"col_heading level0 col0\" >3</th>        <th class=\"col_heading level0 col1\" >5</th>        <th class=\"col_heading level0 col2\" >7</th>        <th class=\"col_heading level0 col3\" >10</th>        <th class=\"col_heading level0 col4\" >15</th>        <th class=\"col_heading level0 col5\" >20</th>        <th class=\"col_heading level0 col6\" >25</th>        <th class=\"col_heading level0 col7\" >30</th>    </tr></thead><tbody>\n",
       "                <tr>\n",
       "                        <th id=\"T_7cdf58b8_3265_11ea_976d_f0189811b80elevel0_row0\" class=\"row_heading level0 row0\" >1</th>\n",
       "                        <td id=\"T_7cdf58b8_3265_11ea_976d_f0189811b80erow0_col0\" class=\"data row0 col0\" >0.505093</td>\n",
       "                        <td id=\"T_7cdf58b8_3265_11ea_976d_f0189811b80erow0_col1\" class=\"data row0 col1\" >0.500817</td>\n",
       "                        <td id=\"T_7cdf58b8_3265_11ea_976d_f0189811b80erow0_col2\" class=\"data row0 col2\" >0.50106</td>\n",
       "                        <td id=\"T_7cdf58b8_3265_11ea_976d_f0189811b80erow0_col3\" class=\"data row0 col3\" >0.50193</td>\n",
       "                        <td id=\"T_7cdf58b8_3265_11ea_976d_f0189811b80erow0_col4\" class=\"data row0 col4\" >0.499392</td>\n",
       "                        <td id=\"T_7cdf58b8_3265_11ea_976d_f0189811b80erow0_col5\" class=\"data row0 col5\" >0.501617</td>\n",
       "                        <td id=\"T_7cdf58b8_3265_11ea_976d_f0189811b80erow0_col6\" class=\"data row0 col6\" >0.499809</td>\n",
       "                        <td id=\"T_7cdf58b8_3265_11ea_976d_f0189811b80erow0_col7\" class=\"data row0 col7\" >0.500921</td>\n",
       "            </tr>\n",
       "            <tr>\n",
       "                        <th id=\"T_7cdf58b8_3265_11ea_976d_f0189811b80elevel0_row1\" class=\"row_heading level0 row1\" >3</th>\n",
       "                        <td id=\"T_7cdf58b8_3265_11ea_976d_f0189811b80erow1_col0\" class=\"data row1 col0\" >0.503007</td>\n",
       "                        <td id=\"T_7cdf58b8_3265_11ea_976d_f0189811b80erow1_col1\" class=\"data row1 col1\" >0.507944</td>\n",
       "                        <td id=\"T_7cdf58b8_3265_11ea_976d_f0189811b80erow1_col2\" class=\"data row1 col2\" >0.504954</td>\n",
       "                        <td id=\"T_7cdf58b8_3265_11ea_976d_f0189811b80erow1_col3\" class=\"data row1 col3\" >0.502903</td>\n",
       "                        <td id=\"T_7cdf58b8_3265_11ea_976d_f0189811b80erow1_col4\" class=\"data row1 col4\" >0.50259</td>\n",
       "                        <td id=\"T_7cdf58b8_3265_11ea_976d_f0189811b80erow1_col5\" class=\"data row1 col5\" >0.507145</td>\n",
       "                        <td id=\"T_7cdf58b8_3265_11ea_976d_f0189811b80erow1_col6\" class=\"data row1 col6\" >0.50193</td>\n",
       "                        <td id=\"T_7cdf58b8_3265_11ea_976d_f0189811b80erow1_col7\" class=\"data row1 col7\" >0.501373</td>\n",
       "            </tr>\n",
       "            <tr>\n",
       "                        <th id=\"T_7cdf58b8_3265_11ea_976d_f0189811b80elevel0_row2\" class=\"row_heading level0 row2\" >5</th>\n",
       "                        <td id=\"T_7cdf58b8_3265_11ea_976d_f0189811b80erow2_col0\" class=\"data row2 col0\" >0.504363</td>\n",
       "                        <td id=\"T_7cdf58b8_3265_11ea_976d_f0189811b80erow2_col1\" class=\"data row2 col1\" >0.505302</td>\n",
       "                        <td id=\"T_7cdf58b8_3265_11ea_976d_f0189811b80erow2_col2\" class=\"data row2 col2\" >0.511421</td>\n",
       "                        <td id=\"T_7cdf58b8_3265_11ea_976d_f0189811b80erow2_col3\" class=\"data row2 col3\" >0.514411</td>\n",
       "                        <td id=\"T_7cdf58b8_3265_11ea_976d_f0189811b80erow2_col4\" class=\"data row2 col4\" >0.51003</td>\n",
       "                        <td id=\"T_7cdf58b8_3265_11ea_976d_f0189811b80erow2_col5\" class=\"data row2 col5\" >0.508396</td>\n",
       "                        <td id=\"T_7cdf58b8_3265_11ea_976d_f0189811b80erow2_col6\" class=\"data row2 col6\" >0.508779</td>\n",
       "                        <td id=\"T_7cdf58b8_3265_11ea_976d_f0189811b80erow2_col7\" class=\"data row2 col7\" >0.514376</td>\n",
       "            </tr>\n",
       "            <tr>\n",
       "                        <th id=\"T_7cdf58b8_3265_11ea_976d_f0189811b80elevel0_row3\" class=\"row_heading level0 row3\" >7</th>\n",
       "                        <td id=\"T_7cdf58b8_3265_11ea_976d_f0189811b80erow3_col0\" class=\"data row3 col0\" >0.505789</td>\n",
       "                        <td id=\"T_7cdf58b8_3265_11ea_976d_f0189811b80erow3_col1\" class=\"data row3 col1\" >0.510274</td>\n",
       "                        <td id=\"T_7cdf58b8_3265_11ea_976d_f0189811b80erow3_col2\" class=\"data row3 col2\" >0.508918</td>\n",
       "                        <td id=\"T_7cdf58b8_3265_11ea_976d_f0189811b80erow3_col3\" class=\"data row3 col3\" >0.505163</td>\n",
       "                        <td id=\"T_7cdf58b8_3265_11ea_976d_f0189811b80erow3_col4\" class=\"data row3 col4\" >0.512881</td>\n",
       "                        <td id=\"T_7cdf58b8_3265_11ea_976d_f0189811b80erow3_col5\" class=\"data row3 col5\" >0.512951</td>\n",
       "                        <td id=\"T_7cdf58b8_3265_11ea_976d_f0189811b80erow3_col6\" class=\"data row3 col6\" >0.509822</td>\n",
       "                        <td id=\"T_7cdf58b8_3265_11ea_976d_f0189811b80erow3_col7\" class=\"data row3 col7\" >0.516566</td>\n",
       "            </tr>\n",
       "            <tr>\n",
       "                        <th id=\"T_7cdf58b8_3265_11ea_976d_f0189811b80elevel0_row4\" class=\"row_heading level0 row4\" >10</th>\n",
       "                        <td id=\"T_7cdf58b8_3265_11ea_976d_f0189811b80erow4_col0\" class=\"data row4 col0\" >0.509404</td>\n",
       "                        <td id=\"T_7cdf58b8_3265_11ea_976d_f0189811b80erow4_col1\" class=\"data row4 col1\" >0.513855</td>\n",
       "                        <td id=\"T_7cdf58b8_3265_11ea_976d_f0189811b80erow4_col2\" class=\"data row4 col2\" >0.510934</td>\n",
       "                        <td id=\"T_7cdf58b8_3265_11ea_976d_f0189811b80erow4_col3\" class=\"data row4 col3\" >0.508605</td>\n",
       "                        <td id=\"T_7cdf58b8_3265_11ea_976d_f0189811b80erow4_col4\" class=\"data row4 col4\" >0.514063</td>\n",
       "                        <td id=\"T_7cdf58b8_3265_11ea_976d_f0189811b80erow4_col5\" class=\"data row4 col5\" >0.512221</td>\n",
       "                        <td id=\"T_7cdf58b8_3265_11ea_976d_f0189811b80erow4_col6\" class=\"data row4 col6\" >0.517262</td>\n",
       "                        <td id=\"T_7cdf58b8_3265_11ea_976d_f0189811b80erow4_col7\" class=\"data row4 col7\" >0.513716</td>\n",
       "            </tr>\n",
       "            <tr>\n",
       "                        <th id=\"T_7cdf58b8_3265_11ea_976d_f0189811b80elevel0_row5\" class=\"row_heading level0 row5\" >15</th>\n",
       "                        <td id=\"T_7cdf58b8_3265_11ea_976d_f0189811b80erow5_col0\" class=\"data row5 col0\" >0.515975</td>\n",
       "                        <td id=\"T_7cdf58b8_3265_11ea_976d_f0189811b80erow5_col1\" class=\"data row5 col1\" >0.51236</td>\n",
       "                        <td id=\"T_7cdf58b8_3265_11ea_976d_f0189811b80erow5_col2\" class=\"data row5 col2\" >0.516984</td>\n",
       "                        <td id=\"T_7cdf58b8_3265_11ea_976d_f0189811b80erow5_col3\" class=\"data row5 col3\" >0.512638</td>\n",
       "                        <td id=\"T_7cdf58b8_3265_11ea_976d_f0189811b80erow5_col4\" class=\"data row5 col4\" >0.517227</td>\n",
       "                        <td id=\"T_7cdf58b8_3265_11ea_976d_f0189811b80erow5_col5\" class=\"data row5 col5\" >0.522824</td>\n",
       "                        <td id=\"T_7cdf58b8_3265_11ea_976d_f0189811b80erow5_col6\" class=\"data row5 col6\" >0.516879</td>\n",
       "                        <td id=\"T_7cdf58b8_3265_11ea_976d_f0189811b80erow5_col7\" class=\"data row5 col7\" >0.512916</td>\n",
       "            </tr>\n",
       "            <tr>\n",
       "                        <th id=\"T_7cdf58b8_3265_11ea_976d_f0189811b80elevel0_row6\" class=\"row_heading level0 row6\" >20</th>\n",
       "                        <td id=\"T_7cdf58b8_3265_11ea_976d_f0189811b80erow6_col0\" class=\"data row6 col0\" >0.518722</td>\n",
       "                        <td id=\"T_7cdf58b8_3265_11ea_976d_f0189811b80erow6_col1\" class=\"data row6 col1\" >0.515523</td>\n",
       "                        <td id=\"T_7cdf58b8_3265_11ea_976d_f0189811b80erow6_col2\" class=\"data row6 col2\" >0.515941</td>\n",
       "                        <td id=\"T_7cdf58b8_3265_11ea_976d_f0189811b80erow6_col3\" class=\"data row6 col3\" >0.512846</td>\n",
       "                        <td id=\"T_7cdf58b8_3265_11ea_976d_f0189811b80erow6_col4\" class=\"data row6 col4\" >0.517748</td>\n",
       "                        <td id=\"T_7cdf58b8_3265_11ea_976d_f0189811b80erow6_col5\" class=\"data row6 col5\" >0.516532</td>\n",
       "                        <td id=\"T_7cdf58b8_3265_11ea_976d_f0189811b80erow6_col6\" class=\"data row6 col6\" >0.512881</td>\n",
       "                        <td id=\"T_7cdf58b8_3265_11ea_976d_f0189811b80erow6_col7\" class=\"data row6 col7\" >0.513437</td>\n",
       "            </tr>\n",
       "            <tr>\n",
       "                        <th id=\"T_7cdf58b8_3265_11ea_976d_f0189811b80elevel0_row7\" class=\"row_heading level0 row7\" >25</th>\n",
       "                        <td id=\"T_7cdf58b8_3265_11ea_976d_f0189811b80erow7_col0\" class=\"data row7 col0\" >0.519452</td>\n",
       "                        <td id=\"T_7cdf58b8_3265_11ea_976d_f0189811b80erow7_col1\" class=\"data row7 col1\" >0.514619</td>\n",
       "                        <td id=\"T_7cdf58b8_3265_11ea_976d_f0189811b80erow7_col2\" class=\"data row7 col2\" >0.517888</td>\n",
       "                        <td id=\"T_7cdf58b8_3265_11ea_976d_f0189811b80erow7_col3\" class=\"data row7 col3\" >0.518374</td>\n",
       "                        <td id=\"T_7cdf58b8_3265_11ea_976d_f0189811b80erow7_col4\" class=\"data row7 col4\" >0.516601</td>\n",
       "                        <td id=\"T_7cdf58b8_3265_11ea_976d_f0189811b80erow7_col5\" class=\"data row7 col5\" >0.512707</td>\n",
       "                        <td id=\"T_7cdf58b8_3265_11ea_976d_f0189811b80erow7_col6\" class=\"data row7 col6\" >0.507631</td>\n",
       "                        <td id=\"T_7cdf58b8_3265_11ea_976d_f0189811b80erow7_col7\" class=\"data row7 col7\" >0.510552</td>\n",
       "            </tr>\n",
       "            <tr>\n",
       "                        <th id=\"T_7cdf58b8_3265_11ea_976d_f0189811b80elevel0_row8\" class=\"row_heading level0 row8\" >30</th>\n",
       "                        <td id=\"T_7cdf58b8_3265_11ea_976d_f0189811b80erow8_col0\" class=\"data row8 col0\" >0.522025</td>\n",
       "                        <td id=\"T_7cdf58b8_3265_11ea_976d_f0189811b80erow8_col1\" class=\"data row8 col1\" >0.518096</td>\n",
       "                        <td id=\"T_7cdf58b8_3265_11ea_976d_f0189811b80erow8_col2\" class=\"data row8 col2\" >0.518166</td>\n",
       "                        <td id=\"T_7cdf58b8_3265_11ea_976d_f0189811b80erow8_col3\" class=\"data row8 col3\" >0.518722</td>\n",
       "                        <td id=\"T_7cdf58b8_3265_11ea_976d_f0189811b80erow8_col4\" class=\"data row8 col4\" >0.519278</td>\n",
       "                        <td id=\"T_7cdf58b8_3265_11ea_976d_f0189811b80erow8_col5\" class=\"data row8 col5\" >0.515489</td>\n",
       "                        <td id=\"T_7cdf58b8_3265_11ea_976d_f0189811b80erow8_col6\" class=\"data row8 col6\" >0.516149</td>\n",
       "                        <td id=\"T_7cdf58b8_3265_11ea_976d_f0189811b80erow8_col7\" class=\"data row8 col7\" >0.521434</td>\n",
       "            </tr>\n",
       "    </tbody></table>"
      ],
      "text/plain": [
       "<pandas.io.formats.style.Styler at 0x1a2d8a6410>"
      ]
     },
     "metadata": {},
     "output_type": "display_data"
    }
   ],
   "source": [
    "#best_params = {'bootstrap': False, 'criterion': 'gini', 'max_depth': 218, 'max_features': 1, 'min_samples_leaf': 19, 'n_estimators': 423}\n",
    "#model_2a = (n_jobs=-1, **params_rf4)\n",
    "avg_results, scores_dict, preds_dict, params_dict, returns_dict = avg_model(  \n",
    "    symbol_list,\n",
    "    forecast_horizon,                                 \n",
    "    input_window_size,\n",
    "    ti_list,\n",
    "    X_train,    \n",
    "    X_test,    \n",
    "    y_train,    \n",
    "    y_test,    \n",
    "    prices_test,\n",
    "    model=clf_rf4,\n",
    "    silent = False\n",
    ")"
   ]
  },
  {
   "cell_type": "code",
   "execution_count": null,
   "metadata": {},
   "outputs": [],
   "source": [
    "#best_params = {'bootstrap': False, 'criterion': 'gini', 'max_depth': 218, 'max_features': 1, 'min_samples_leaf': 19, 'n_estimators': 423}\n",
    "#model_2a = (n_jobs=-1, **params_rf4)\n",
    "avg_results, scores_dict, preds_dict, params_dict, returns_dict = avg_model(\n",
    "    symbol_list,\n",
    "    forecast_horizon,                                 \n",
    "    input_window_size,\n",
    "    ti_list,\n",
    "    X_train,    \n",
    "    X_test,    \n",
    "    y_train,    \n",
    "    y_test,    \n",
    "    prices_test,\n",
    "    model=RandomForestClassifier,\n",
    "    silent = False,\n",
    "    hyper_optimize=True,\n",
    "    n_eval=10,\n",
    ")"
   ]
  },
  {
   "cell_type": "code",
   "execution_count": null,
   "metadata": {},
   "outputs": [],
   "source": []
  }
 ],
 "metadata": {
  "kernelspec": {
   "display_name": "capstone_nf",
   "language": "python",
   "name": "capstone_nf"
  },
  "language_info": {
   "codemirror_mode": {
    "name": "ipython",
    "version": 3
   },
   "file_extension": ".py",
   "mimetype": "text/x-python",
   "name": "python",
   "nbconvert_exporter": "python",
   "pygments_lexer": "ipython3",
   "version": "3.7.5"
  },
  "toc-autonumbering": true
 },
 "nbformat": 4,
 "nbformat_minor": 4
}

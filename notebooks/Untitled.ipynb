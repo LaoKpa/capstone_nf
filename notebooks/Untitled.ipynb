{
 "cells": [
  {
   "cell_type": "code",
   "execution_count": null,
   "metadata": {},
   "outputs": [],
   "source": [
    "config = {}\n",
    "config['indicators'] = [\n",
    "    {'selector':\n",
    "     {'label': '10 day exponetial moving average', 'value': 'EMA10'},\n",
    "     'subplot': False\n",
    "     },\n",
    "    {'selector':\n",
    "     {'label': '30 day exponetial moving average', 'value': 'EMA30'},\n",
    "         'subplot': False\n",
    "     },\n",
    "    {'selector': \n",
    "        {'label': '10 day Simple moving average', 'value': 'SMA10'},\n",
    "        'subplot': False\n",
    "     },\n",
    "    {'selector':\n",
    "        {'label': '30 day Simple moving average', 'value': 'SMA30'},\n",
    "        'subplot': False\n",
    "     },\n",
    "    {'selector':\n",
    "        {'label': 'Bollinger Bands (20, 2)', 'value': 'BB202'},\n",
    "        'subplot': False\n",
    "     },\n",
    "    {'selector':\n",
    "         {'label': 'RSI', 'value': 'RSI'},\n",
    "         'subplot': True\n",
    "     },\n",
    "    {'selector':\n",
    "         {'label': 'ROC', 'value': 'ROC'},\n",
    "         'subplot': True\n",
    "     },\n",
    "    {'selector':\n",
    "         {'label': 'MACD(12, 26)', 'value': 'MACD'},\n",
    "         'subplot': True\n",
    "     },\n",
    "    {'selector':\n",
    "         {'label': 'STOC(7)', 'value': 'STOC'},\n",
    "         'subplot': True\n",
    "     },\n",
    "    {'selector':\n",
    "         {'label': 'ATR(7)', 'value': 'ATR'},\n",
    "         'subplot': True\n",
    "     },\n",
    "    {'selector':\n",
    "         {'label': 'Daily returns', 'value': 'D_RETURNS'},\n",
    "         'subplot': True\n",
    "     },\n",
    "    {'selector':\n",
    "         {'label': 'Average Directional Indicator', 'value': 'ADX'},\n",
    "         'subplot': True\n",
    "     },\n",
    "    {\n",
    "     'selector':\n",
    "         {'label': 'Williams R (15)', 'value': 'WR'},\n",
    "     'subplot': True\n",
    "     },\n",
    "    ]\n",
    "\n",
    "subplot_traces = [i.get('selector').get('value') for i in config['indicators'] if i.get('subplot')]"
   ]
  },
  {
   "cell_type": "code",
   "execution_count": null,
   "metadata": {},
   "outputs": [],
   "source": [
    "in = [i.get('selector') for i in config['indicators']]"
   ]
  },
  {
   "cell_type": "code",
   "execution_count": null,
   "metadata": {},
   "outputs": [],
   "source": []
  }
 ],
 "metadata": {
  "kernelspec": {
   "display_name": "capstone_nf",
   "language": "python",
   "name": "capstone_nf"
  },
  "language_info": {
   "name": ""
  }
 },
 "nbformat": 4,
 "nbformat_minor": 4
}

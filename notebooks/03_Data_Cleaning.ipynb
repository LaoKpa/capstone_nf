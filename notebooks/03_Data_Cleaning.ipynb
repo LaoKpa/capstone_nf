{
 "cells": [
  {
   "cell_type": "markdown",
   "metadata": {},
   "source": [
    "# Chapter 3, Data Cleaning"
   ]
  },
  {
   "cell_type": "code",
   "execution_count": 1,
   "metadata": {},
   "outputs": [],
   "source": [
    "%reload_ext autoreload\n",
    "%autoreload 2"
   ]
  },
  {
   "cell_type": "code",
   "execution_count": 2,
   "metadata": {},
   "outputs": [],
   "source": [
    "import pickle\n",
    "import pandas as pd\n",
    "import numpy as np\n",
    "from dotenv import load_dotenv, find_dotenv\n",
    "import os\n",
    "from pathlib import Path\n",
    "\n",
    "# Some custom tools\n",
    "from src.data.tools import check_for_missing_vals"
   ]
  },
  {
   "cell_type": "code",
   "execution_count": 3,
   "metadata": {},
   "outputs": [],
   "source": [
    "load_dotenv(find_dotenv())\n",
    "data_base_dir = os.environ.get('DATA_DIR_BASE_PATH')"
   ]
  },
  {
   "cell_type": "code",
   "execution_count": 4,
   "metadata": {},
   "outputs": [],
   "source": [
    "#fname = data_base_dir + '/processed/djia_raw_2019-12-11.pkl'\n",
    "#djia_raw = pickle.load(open(fname, 'rb'))"
   ]
  },
  {
   "cell_type": "code",
   "execution_count": 5,
   "metadata": {},
   "outputs": [],
   "source": [
    "fname = os.path.join(data_base_dir, 'processed', 'index.h5')\n",
    "fname = Path(fname)\n",
    "with pd.HDFStore(fname) as storage:\n",
    "    djia_raw = storage.get('nyse/raw/rand_symbols')"
   ]
  },
  {
   "cell_type": "code",
   "execution_count": 6,
   "metadata": {},
   "outputs": [
    {
     "data": {
      "text/html": [
       "<div>\n",
       "<style scoped>\n",
       "    .dataframe tbody tr th:only-of-type {\n",
       "        vertical-align: middle;\n",
       "    }\n",
       "\n",
       "    .dataframe tbody tr th {\n",
       "        vertical-align: top;\n",
       "    }\n",
       "\n",
       "    .dataframe thead th {\n",
       "        text-align: right;\n",
       "    }\n",
       "</style>\n",
       "<table border=\"1\" class=\"dataframe\">\n",
       "  <thead>\n",
       "    <tr style=\"text-align: right;\">\n",
       "      <th></th>\n",
       "      <th>Open</th>\n",
       "      <th>High</th>\n",
       "      <th>Low</th>\n",
       "      <th>Close</th>\n",
       "      <th>Volume</th>\n",
       "    </tr>\n",
       "    <tr>\n",
       "      <th>Epoch</th>\n",
       "      <th></th>\n",
       "      <th></th>\n",
       "      <th></th>\n",
       "      <th></th>\n",
       "      <th></th>\n",
       "    </tr>\n",
       "  </thead>\n",
       "  <tbody>\n",
       "    <tr>\n",
       "      <th>2019-12-13 00:00:00+00:00</th>\n",
       "      <td>153.000000</td>\n",
       "      <td>154.889999</td>\n",
       "      <td>152.830002</td>\n",
       "      <td>154.529999</td>\n",
       "      <td>23850062</td>\n",
       "    </tr>\n",
       "    <tr>\n",
       "      <th>2019-12-16 00:00:00+00:00</th>\n",
       "      <td>155.110001</td>\n",
       "      <td>155.899994</td>\n",
       "      <td>154.820007</td>\n",
       "      <td>155.529999</td>\n",
       "      <td>24152770</td>\n",
       "    </tr>\n",
       "    <tr>\n",
       "      <th>2019-12-17 00:00:00+00:00</th>\n",
       "      <td>155.449997</td>\n",
       "      <td>155.710007</td>\n",
       "      <td>154.449997</td>\n",
       "      <td>154.690002</td>\n",
       "      <td>25443527</td>\n",
       "    </tr>\n",
       "    <tr>\n",
       "      <th>2019-12-18 00:00:00+00:00</th>\n",
       "      <td>154.300003</td>\n",
       "      <td>155.479996</td>\n",
       "      <td>154.179993</td>\n",
       "      <td>154.369995</td>\n",
       "      <td>24132379</td>\n",
       "    </tr>\n",
       "    <tr>\n",
       "      <th>2019-12-19 00:00:00+00:00</th>\n",
       "      <td>154.000000</td>\n",
       "      <td>155.770004</td>\n",
       "      <td>153.750000</td>\n",
       "      <td>155.710007</td>\n",
       "      <td>25813825</td>\n",
       "    </tr>\n",
       "  </tbody>\n",
       "</table>\n",
       "</div>"
      ],
      "text/plain": [
       "                                 Open        High         Low       Close  \\\n",
       "Epoch                                                                       \n",
       "2019-12-13 00:00:00+00:00  153.000000  154.889999  152.830002  154.529999   \n",
       "2019-12-16 00:00:00+00:00  155.110001  155.899994  154.820007  155.529999   \n",
       "2019-12-17 00:00:00+00:00  155.449997  155.710007  154.449997  154.690002   \n",
       "2019-12-18 00:00:00+00:00  154.300003  155.479996  154.179993  154.369995   \n",
       "2019-12-19 00:00:00+00:00  154.000000  155.770004  153.750000  155.710007   \n",
       "\n",
       "                             Volume  \n",
       "Epoch                                \n",
       "2019-12-13 00:00:00+00:00  23850062  \n",
       "2019-12-16 00:00:00+00:00  24152770  \n",
       "2019-12-17 00:00:00+00:00  25443527  \n",
       "2019-12-18 00:00:00+00:00  24132379  \n",
       "2019-12-19 00:00:00+00:00  25813825  "
      ]
     },
     "execution_count": 6,
     "metadata": {},
     "output_type": "execute_result"
    }
   ],
   "source": [
    "djia_raw['MSFT'].tail()"
   ]
  },
  {
   "cell_type": "code",
   "execution_count": 7,
   "metadata": {},
   "outputs": [
    {
     "name": "stdout",
     "output_type": "stream",
     "text": [
      "No missing values found in dataframe\n"
     ]
    }
   ],
   "source": [
    "# Look for missing values in the OHLCV data of every symbol and return symbol if missing values are found\n",
    "check_for_missing_vals(djia_raw)"
   ]
  },
  {
   "cell_type": "markdown",
   "metadata": {},
   "source": [
    "'PFG' has 2 missing values per column."
   ]
  },
  {
   "cell_type": "code",
   "execution_count": 8,
   "metadata": {},
   "outputs": [
    {
     "data": {
      "text/plain": [
       "(array([], dtype=int64), array([], dtype=int64))"
      ]
     },
     "execution_count": 8,
     "metadata": {},
     "output_type": "execute_result"
    }
   ],
   "source": [
    "#pd.isnull(djia_raw['PFG'])\n",
    "np.where(djia_raw['PFG'].isna())\n",
    "#djia_raw['PFG'].isna()"
   ]
  },
  {
   "cell_type": "code",
   "execution_count": 9,
   "metadata": {},
   "outputs": [
    {
     "name": "stdout",
     "output_type": "stream",
     "text": [
      "2017-12-18 00:00:00+00:00\n",
      "2018-06-08 00:00:00+00:00\n"
     ]
    }
   ],
   "source": [
    "print(str(djia_raw['PFG'].index[1509]) + '\\n' + str(djia_raw['PFG'].index[1627]))"
   ]
  },
  {
   "cell_type": "code",
   "execution_count": 10,
   "metadata": {},
   "outputs": [
    {
     "data": {
      "text/html": [
       "<div>\n",
       "<style scoped>\n",
       "    .dataframe tbody tr th:only-of-type {\n",
       "        vertical-align: middle;\n",
       "    }\n",
       "\n",
       "    .dataframe tbody tr th {\n",
       "        vertical-align: top;\n",
       "    }\n",
       "\n",
       "    .dataframe thead th {\n",
       "        text-align: right;\n",
       "    }\n",
       "</style>\n",
       "<table border=\"1\" class=\"dataframe\">\n",
       "  <thead>\n",
       "    <tr style=\"text-align: right;\">\n",
       "      <th></th>\n",
       "      <th>Open</th>\n",
       "      <th>High</th>\n",
       "      <th>Low</th>\n",
       "      <th>Close</th>\n",
       "      <th>Volume</th>\n",
       "    </tr>\n",
       "    <tr>\n",
       "      <th>Epoch</th>\n",
       "      <th></th>\n",
       "      <th></th>\n",
       "      <th></th>\n",
       "      <th></th>\n",
       "      <th></th>\n",
       "    </tr>\n",
       "  </thead>\n",
       "  <tbody>\n",
       "    <tr>\n",
       "      <th>2017-12-14 00:00:00+00:00</th>\n",
       "      <td>70.410004</td>\n",
       "      <td>70.540001</td>\n",
       "      <td>69.750000</td>\n",
       "      <td>69.889999</td>\n",
       "      <td>1089288</td>\n",
       "    </tr>\n",
       "    <tr>\n",
       "      <th>2017-12-15 00:00:00+00:00</th>\n",
       "      <td>70.230003</td>\n",
       "      <td>70.930000</td>\n",
       "      <td>69.919998</td>\n",
       "      <td>70.370003</td>\n",
       "      <td>2075300</td>\n",
       "    </tr>\n",
       "    <tr>\n",
       "      <th>2017-12-18 00:00:00+00:00</th>\n",
       "      <td>70.730003</td>\n",
       "      <td>71.410004</td>\n",
       "      <td>69.830002</td>\n",
       "      <td>70.610001</td>\n",
       "      <td>1190647</td>\n",
       "    </tr>\n",
       "    <tr>\n",
       "      <th>2017-12-19 00:00:00+00:00</th>\n",
       "      <td>71.099998</td>\n",
       "      <td>71.419998</td>\n",
       "      <td>70.519997</td>\n",
       "      <td>70.860001</td>\n",
       "      <td>1092741</td>\n",
       "    </tr>\n",
       "    <tr>\n",
       "      <th>2017-12-20 00:00:00+00:00</th>\n",
       "      <td>71.419998</td>\n",
       "      <td>71.660004</td>\n",
       "      <td>70.720001</td>\n",
       "      <td>71.250000</td>\n",
       "      <td>1207277</td>\n",
       "    </tr>\n",
       "    <tr>\n",
       "      <th>2017-12-21 00:00:00+00:00</th>\n",
       "      <td>71.709999</td>\n",
       "      <td>72.040001</td>\n",
       "      <td>71.139999</td>\n",
       "      <td>71.239998</td>\n",
       "      <td>890964</td>\n",
       "    </tr>\n",
       "    <tr>\n",
       "      <th>2017-12-22 00:00:00+00:00</th>\n",
       "      <td>71.570000</td>\n",
       "      <td>71.879997</td>\n",
       "      <td>70.830002</td>\n",
       "      <td>71.260002</td>\n",
       "      <td>703711</td>\n",
       "    </tr>\n",
       "    <tr>\n",
       "      <th>2017-12-26 00:00:00+00:00</th>\n",
       "      <td>71.459999</td>\n",
       "      <td>71.860001</td>\n",
       "      <td>71.019997</td>\n",
       "      <td>71.330002</td>\n",
       "      <td>433272</td>\n",
       "    </tr>\n",
       "  </tbody>\n",
       "</table>\n",
       "</div>"
      ],
      "text/plain": [
       "                                Open       High        Low      Close   Volume\n",
       "Epoch                                                                         \n",
       "2017-12-14 00:00:00+00:00  70.410004  70.540001  69.750000  69.889999  1089288\n",
       "2017-12-15 00:00:00+00:00  70.230003  70.930000  69.919998  70.370003  2075300\n",
       "2017-12-18 00:00:00+00:00  70.730003  71.410004  69.830002  70.610001  1190647\n",
       "2017-12-19 00:00:00+00:00  71.099998  71.419998  70.519997  70.860001  1092741\n",
       "2017-12-20 00:00:00+00:00  71.419998  71.660004  70.720001  71.250000  1207277\n",
       "2017-12-21 00:00:00+00:00  71.709999  72.040001  71.139999  71.239998   890964\n",
       "2017-12-22 00:00:00+00:00  71.570000  71.879997  70.830002  71.260002   703711\n",
       "2017-12-26 00:00:00+00:00  71.459999  71.860001  71.019997  71.330002   433272"
      ]
     },
     "execution_count": 10,
     "metadata": {},
     "output_type": "execute_result"
    }
   ],
   "source": [
    "djia_raw['PFG'].iloc[1507:1515, :]"
   ]
  },
  {
   "cell_type": "code",
   "execution_count": 11,
   "metadata": {},
   "outputs": [
    {
     "data": {
      "text/html": [
       "<div>\n",
       "<style scoped>\n",
       "    .dataframe tbody tr th:only-of-type {\n",
       "        vertical-align: middle;\n",
       "    }\n",
       "\n",
       "    .dataframe tbody tr th {\n",
       "        vertical-align: top;\n",
       "    }\n",
       "\n",
       "    .dataframe thead th {\n",
       "        text-align: right;\n",
       "    }\n",
       "</style>\n",
       "<table border=\"1\" class=\"dataframe\">\n",
       "  <thead>\n",
       "    <tr style=\"text-align: right;\">\n",
       "      <th></th>\n",
       "      <th>Open</th>\n",
       "      <th>High</th>\n",
       "      <th>Low</th>\n",
       "      <th>Close</th>\n",
       "      <th>Volume</th>\n",
       "    </tr>\n",
       "    <tr>\n",
       "      <th>Epoch</th>\n",
       "      <th></th>\n",
       "      <th></th>\n",
       "      <th></th>\n",
       "      <th></th>\n",
       "      <th></th>\n",
       "    </tr>\n",
       "  </thead>\n",
       "  <tbody>\n",
       "    <tr>\n",
       "      <th>2018-06-01 00:00:00+00:00</th>\n",
       "      <td>55.990002</td>\n",
       "      <td>56.779999</td>\n",
       "      <td>55.830002</td>\n",
       "      <td>56.450001</td>\n",
       "      <td>1387291</td>\n",
       "    </tr>\n",
       "    <tr>\n",
       "      <th>2018-06-04 00:00:00+00:00</th>\n",
       "      <td>56.509998</td>\n",
       "      <td>56.820000</td>\n",
       "      <td>56.099998</td>\n",
       "      <td>56.189999</td>\n",
       "      <td>891383</td>\n",
       "    </tr>\n",
       "    <tr>\n",
       "      <th>2018-06-05 00:00:00+00:00</th>\n",
       "      <td>56.020000</td>\n",
       "      <td>56.090000</td>\n",
       "      <td>54.889999</td>\n",
       "      <td>55.959999</td>\n",
       "      <td>1932775</td>\n",
       "    </tr>\n",
       "    <tr>\n",
       "      <th>2018-06-06 00:00:00+00:00</th>\n",
       "      <td>56.279999</td>\n",
       "      <td>56.950001</td>\n",
       "      <td>56.040001</td>\n",
       "      <td>56.910000</td>\n",
       "      <td>1328904</td>\n",
       "    </tr>\n",
       "    <tr>\n",
       "      <th>2018-06-07 00:00:00+00:00</th>\n",
       "      <td>57.200001</td>\n",
       "      <td>57.259998</td>\n",
       "      <td>56.389999</td>\n",
       "      <td>56.639999</td>\n",
       "      <td>1152368</td>\n",
       "    </tr>\n",
       "    <tr>\n",
       "      <th>2018-06-08 00:00:00+00:00</th>\n",
       "      <td>56.509998</td>\n",
       "      <td>56.880001</td>\n",
       "      <td>56.009998</td>\n",
       "      <td>56.799999</td>\n",
       "      <td>966671</td>\n",
       "    </tr>\n",
       "    <tr>\n",
       "      <th>2018-06-11 00:00:00+00:00</th>\n",
       "      <td>56.950001</td>\n",
       "      <td>57.860001</td>\n",
       "      <td>56.820000</td>\n",
       "      <td>57.360001</td>\n",
       "      <td>1133407</td>\n",
       "    </tr>\n",
       "    <tr>\n",
       "      <th>2018-06-12 00:00:00+00:00</th>\n",
       "      <td>57.380001</td>\n",
       "      <td>57.619999</td>\n",
       "      <td>56.540001</td>\n",
       "      <td>56.759998</td>\n",
       "      <td>1372605</td>\n",
       "    </tr>\n",
       "    <tr>\n",
       "      <th>2018-06-13 00:00:00+00:00</th>\n",
       "      <td>56.950001</td>\n",
       "      <td>57.459999</td>\n",
       "      <td>56.540001</td>\n",
       "      <td>56.570000</td>\n",
       "      <td>1323030</td>\n",
       "    </tr>\n",
       "    <tr>\n",
       "      <th>2018-06-14 00:00:00+00:00</th>\n",
       "      <td>56.750000</td>\n",
       "      <td>57.500000</td>\n",
       "      <td>55.990002</td>\n",
       "      <td>56.259998</td>\n",
       "      <td>1347518</td>\n",
       "    </tr>\n",
       "  </tbody>\n",
       "</table>\n",
       "</div>"
      ],
      "text/plain": [
       "                                Open       High        Low      Close   Volume\n",
       "Epoch                                                                         \n",
       "2018-06-01 00:00:00+00:00  55.990002  56.779999  55.830002  56.450001  1387291\n",
       "2018-06-04 00:00:00+00:00  56.509998  56.820000  56.099998  56.189999   891383\n",
       "2018-06-05 00:00:00+00:00  56.020000  56.090000  54.889999  55.959999  1932775\n",
       "2018-06-06 00:00:00+00:00  56.279999  56.950001  56.040001  56.910000  1328904\n",
       "2018-06-07 00:00:00+00:00  57.200001  57.259998  56.389999  56.639999  1152368\n",
       "2018-06-08 00:00:00+00:00  56.509998  56.880001  56.009998  56.799999   966671\n",
       "2018-06-11 00:00:00+00:00  56.950001  57.860001  56.820000  57.360001  1133407\n",
       "2018-06-12 00:00:00+00:00  57.380001  57.619999  56.540001  56.759998  1372605\n",
       "2018-06-13 00:00:00+00:00  56.950001  57.459999  56.540001  56.570000  1323030\n",
       "2018-06-14 00:00:00+00:00  56.750000  57.500000  55.990002  56.259998  1347518"
      ]
     },
     "execution_count": 11,
     "metadata": {},
     "output_type": "execute_result"
    }
   ],
   "source": [
    "djia_raw['PFG'].iloc[1622:1632, :]"
   ]
  },
  {
   "cell_type": "code",
   "execution_count": 12,
   "metadata": {},
   "outputs": [],
   "source": [
    "djia_raw['PFG'] = djia_raw['PFG'].interpolate(limit=1, inplace=False)"
   ]
  },
  {
   "cell_type": "code",
   "execution_count": 13,
   "metadata": {},
   "outputs": [
    {
     "data": {
      "text/html": [
       "<div>\n",
       "<style scoped>\n",
       "    .dataframe tbody tr th:only-of-type {\n",
       "        vertical-align: middle;\n",
       "    }\n",
       "\n",
       "    .dataframe tbody tr th {\n",
       "        vertical-align: top;\n",
       "    }\n",
       "\n",
       "    .dataframe thead th {\n",
       "        text-align: right;\n",
       "    }\n",
       "</style>\n",
       "<table border=\"1\" class=\"dataframe\">\n",
       "  <thead>\n",
       "    <tr style=\"text-align: right;\">\n",
       "      <th></th>\n",
       "      <th>Open</th>\n",
       "      <th>High</th>\n",
       "      <th>Low</th>\n",
       "      <th>Close</th>\n",
       "      <th>Volume</th>\n",
       "    </tr>\n",
       "    <tr>\n",
       "      <th>Epoch</th>\n",
       "      <th></th>\n",
       "      <th></th>\n",
       "      <th></th>\n",
       "      <th></th>\n",
       "      <th></th>\n",
       "    </tr>\n",
       "  </thead>\n",
       "  <tbody>\n",
       "    <tr>\n",
       "      <th>2018-06-01 00:00:00+00:00</th>\n",
       "      <td>55.990002</td>\n",
       "      <td>56.779999</td>\n",
       "      <td>55.830002</td>\n",
       "      <td>56.450001</td>\n",
       "      <td>1387291.0</td>\n",
       "    </tr>\n",
       "    <tr>\n",
       "      <th>2018-06-04 00:00:00+00:00</th>\n",
       "      <td>56.509998</td>\n",
       "      <td>56.820000</td>\n",
       "      <td>56.099998</td>\n",
       "      <td>56.189999</td>\n",
       "      <td>891383.0</td>\n",
       "    </tr>\n",
       "    <tr>\n",
       "      <th>2018-06-05 00:00:00+00:00</th>\n",
       "      <td>56.020000</td>\n",
       "      <td>56.090000</td>\n",
       "      <td>54.889999</td>\n",
       "      <td>55.959999</td>\n",
       "      <td>1932775.0</td>\n",
       "    </tr>\n",
       "    <tr>\n",
       "      <th>2018-06-06 00:00:00+00:00</th>\n",
       "      <td>56.279999</td>\n",
       "      <td>56.950001</td>\n",
       "      <td>56.040001</td>\n",
       "      <td>56.910000</td>\n",
       "      <td>1328904.0</td>\n",
       "    </tr>\n",
       "    <tr>\n",
       "      <th>2018-06-07 00:00:00+00:00</th>\n",
       "      <td>57.200001</td>\n",
       "      <td>57.259998</td>\n",
       "      <td>56.389999</td>\n",
       "      <td>56.639999</td>\n",
       "      <td>1152368.0</td>\n",
       "    </tr>\n",
       "    <tr>\n",
       "      <th>2018-06-08 00:00:00+00:00</th>\n",
       "      <td>56.509998</td>\n",
       "      <td>56.880001</td>\n",
       "      <td>56.009998</td>\n",
       "      <td>56.799999</td>\n",
       "      <td>966671.0</td>\n",
       "    </tr>\n",
       "    <tr>\n",
       "      <th>2018-06-11 00:00:00+00:00</th>\n",
       "      <td>56.950001</td>\n",
       "      <td>57.860001</td>\n",
       "      <td>56.820000</td>\n",
       "      <td>57.360001</td>\n",
       "      <td>1133407.0</td>\n",
       "    </tr>\n",
       "    <tr>\n",
       "      <th>2018-06-12 00:00:00+00:00</th>\n",
       "      <td>57.380001</td>\n",
       "      <td>57.619999</td>\n",
       "      <td>56.540001</td>\n",
       "      <td>56.759998</td>\n",
       "      <td>1372605.0</td>\n",
       "    </tr>\n",
       "    <tr>\n",
       "      <th>2018-06-13 00:00:00+00:00</th>\n",
       "      <td>56.950001</td>\n",
       "      <td>57.459999</td>\n",
       "      <td>56.540001</td>\n",
       "      <td>56.570000</td>\n",
       "      <td>1323030.0</td>\n",
       "    </tr>\n",
       "    <tr>\n",
       "      <th>2018-06-14 00:00:00+00:00</th>\n",
       "      <td>56.750000</td>\n",
       "      <td>57.500000</td>\n",
       "      <td>55.990002</td>\n",
       "      <td>56.259998</td>\n",
       "      <td>1347518.0</td>\n",
       "    </tr>\n",
       "  </tbody>\n",
       "</table>\n",
       "</div>"
      ],
      "text/plain": [
       "                                Open       High        Low      Close  \\\n",
       "Epoch                                                                   \n",
       "2018-06-01 00:00:00+00:00  55.990002  56.779999  55.830002  56.450001   \n",
       "2018-06-04 00:00:00+00:00  56.509998  56.820000  56.099998  56.189999   \n",
       "2018-06-05 00:00:00+00:00  56.020000  56.090000  54.889999  55.959999   \n",
       "2018-06-06 00:00:00+00:00  56.279999  56.950001  56.040001  56.910000   \n",
       "2018-06-07 00:00:00+00:00  57.200001  57.259998  56.389999  56.639999   \n",
       "2018-06-08 00:00:00+00:00  56.509998  56.880001  56.009998  56.799999   \n",
       "2018-06-11 00:00:00+00:00  56.950001  57.860001  56.820000  57.360001   \n",
       "2018-06-12 00:00:00+00:00  57.380001  57.619999  56.540001  56.759998   \n",
       "2018-06-13 00:00:00+00:00  56.950001  57.459999  56.540001  56.570000   \n",
       "2018-06-14 00:00:00+00:00  56.750000  57.500000  55.990002  56.259998   \n",
       "\n",
       "                              Volume  \n",
       "Epoch                                 \n",
       "2018-06-01 00:00:00+00:00  1387291.0  \n",
       "2018-06-04 00:00:00+00:00   891383.0  \n",
       "2018-06-05 00:00:00+00:00  1932775.0  \n",
       "2018-06-06 00:00:00+00:00  1328904.0  \n",
       "2018-06-07 00:00:00+00:00  1152368.0  \n",
       "2018-06-08 00:00:00+00:00   966671.0  \n",
       "2018-06-11 00:00:00+00:00  1133407.0  \n",
       "2018-06-12 00:00:00+00:00  1372605.0  \n",
       "2018-06-13 00:00:00+00:00  1323030.0  \n",
       "2018-06-14 00:00:00+00:00  1347518.0  "
      ]
     },
     "execution_count": 13,
     "metadata": {},
     "output_type": "execute_result"
    }
   ],
   "source": [
    "djia_raw['PFG'].iloc[1622:1632, :]"
   ]
  },
  {
   "cell_type": "code",
   "execution_count": 14,
   "metadata": {},
   "outputs": [
    {
     "name": "stdout",
     "output_type": "stream",
     "text": [
      "No missing values found in dataframe\n"
     ]
    }
   ],
   "source": [
    "check_for_missing_vals(djia_raw)"
   ]
  },
  {
   "cell_type": "markdown",
   "metadata": {},
   "source": [
    "No more missing values."
   ]
  },
  {
   "cell_type": "code",
   "execution_count": 17,
   "metadata": {},
   "outputs": [
    {
     "data": {
      "text/plain": [
       "(2014, 250)"
      ]
     },
     "execution_count": 17,
     "metadata": {},
     "output_type": "execute_result"
    }
   ],
   "source": [
    "djia_raw.shape"
   ]
  },
  {
   "cell_type": "code",
   "execution_count": 15,
   "metadata": {},
   "outputs": [],
   "source": [
    "with pd.HDFStore(fname) as storage:\n",
    "    storage.put('nyse/cleaned/rand_symbols', djia_raw)\n",
    "    #print(storage.info())"
   ]
  },
  {
   "cell_type": "code",
   "execution_count": null,
   "metadata": {},
   "outputs": [],
   "source": []
  }
 ],
 "metadata": {
  "kernelspec": {
   "display_name": "capstone_nf",
   "language": "python",
   "name": "capstone_nf"
  },
  "language_info": {
   "codemirror_mode": {
    "name": "ipython",
    "version": 3
   },
   "file_extension": ".py",
   "mimetype": "text/x-python",
   "name": "python",
   "nbconvert_exporter": "python",
   "pygments_lexer": "ipython3",
   "version": "3.7.6"
  }
 },
 "nbformat": 4,
 "nbformat_minor": 4
}

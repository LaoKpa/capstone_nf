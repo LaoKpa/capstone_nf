{
 "cells": [
  {
   "cell_type": "markdown",
   "metadata": {},
   "source": [
    "# Chapter 3, Data Cleaning"
   ]
  },
  {
   "cell_type": "code",
   "execution_count": 157,
   "metadata": {},
   "outputs": [],
   "source": [
    "%reload_ext autoreload\n",
    "%autoreload 2"
   ]
  },
  {
   "cell_type": "code",
   "execution_count": 158,
   "metadata": {},
   "outputs": [
    {
     "ename": "ModuleNotFoundError",
     "evalue": "No module named 'src.data.tools'",
     "output_type": "error",
     "traceback": [
      "\u001b[0;31m---------------------------------------------------------------------------\u001b[0m",
      "\u001b[0;31mModuleNotFoundError\u001b[0m                       Traceback (most recent call last)",
      "\u001b[0;32m<ipython-input-158-65a316951a49>\u001b[0m in \u001b[0;36m<module>\u001b[0;34m\u001b[0m\n\u001b[1;32m      7\u001b[0m \u001b[0;34m\u001b[0m\u001b[0m\n\u001b[1;32m      8\u001b[0m \u001b[0;31m# Some custom tools\u001b[0m\u001b[0;34m\u001b[0m\u001b[0;34m\u001b[0m\u001b[0;34m\u001b[0m\u001b[0m\n\u001b[0;32m----> 9\u001b[0;31m \u001b[0;32mfrom\u001b[0m \u001b[0msrc\u001b[0m\u001b[0;34m.\u001b[0m\u001b[0mdata\u001b[0m\u001b[0;34m.\u001b[0m\u001b[0mtools\u001b[0m \u001b[0;32mimport\u001b[0m \u001b[0mcheck_for_missing_vals\u001b[0m\u001b[0;34m\u001b[0m\u001b[0;34m\u001b[0m\u001b[0m\n\u001b[0m",
      "\u001b[0;31mModuleNotFoundError\u001b[0m: No module named 'src.data.tools'"
     ]
    }
   ],
   "source": [
    "import pickle\n",
    "import pandas as pd\n",
    "import numpy as np\n",
    "from dotenv import load_dotenv, find_dotenv\n",
    "import os\n",
    "from pathlib import Path\n",
    "\n",
    "# Some custom tools\n",
    "from src.data.tools import check_for_missing_vals"
   ]
  },
  {
   "cell_type": "code",
   "execution_count": 110,
   "metadata": {},
   "outputs": [],
   "source": [
    "load_dotenv(find_dotenv())\n",
    "data_base_dir = os.environ.get('DATA_DIR_BASE_PATH')"
   ]
  },
  {
   "cell_type": "code",
   "execution_count": 110,
   "metadata": {},
   "outputs": [],
   "source": [
    "#fname = data_base_dir + '/processed/djia_raw_2019-12-11.pkl'\n",
    "#djia_raw = pickle.load(open(fname, 'rb'))"
   ]
  },
  {
   "cell_type": "code",
   "execution_count": 115,
   "metadata": {},
   "outputs": [],
   "source": [
    "fname = os.path.join(data_base_dir, 'processed', 'index.h5')\n",
    "fname = Path(fname)\n",
    "with pd.HDFStore(fname) as storage:\n",
    "    djia_raw = storage.get('nyse/raw/rand_symbols')"
   ]
  },
  {
   "cell_type": "code",
   "execution_count": 117,
   "metadata": {},
   "outputs": [
    {
     "data": {
      "text/html": [
       "<div>\n",
       "<style scoped>\n",
       "    .dataframe tbody tr th:only-of-type {\n",
       "        vertical-align: middle;\n",
       "    }\n",
       "\n",
       "    .dataframe tbody tr th {\n",
       "        vertical-align: top;\n",
       "    }\n",
       "\n",
       "    .dataframe thead th {\n",
       "        text-align: right;\n",
       "    }\n",
       "</style>\n",
       "<table border=\"1\" class=\"dataframe\">\n",
       "  <thead>\n",
       "    <tr style=\"text-align: right;\">\n",
       "      <th></th>\n",
       "      <th>Open</th>\n",
       "      <th>High</th>\n",
       "      <th>Low</th>\n",
       "      <th>Close</th>\n",
       "      <th>Volume</th>\n",
       "    </tr>\n",
       "    <tr>\n",
       "      <th>Epoch</th>\n",
       "      <th></th>\n",
       "      <th></th>\n",
       "      <th></th>\n",
       "      <th></th>\n",
       "      <th></th>\n",
       "    </tr>\n",
       "  </thead>\n",
       "  <tbody>\n",
       "    <tr>\n",
       "      <th>2019-12-13 00:00:00+00:00</th>\n",
       "      <td>153.000000</td>\n",
       "      <td>154.889999</td>\n",
       "      <td>152.830002</td>\n",
       "      <td>154.529999</td>\n",
       "      <td>23850062</td>\n",
       "    </tr>\n",
       "    <tr>\n",
       "      <th>2019-12-16 00:00:00+00:00</th>\n",
       "      <td>155.110001</td>\n",
       "      <td>155.899994</td>\n",
       "      <td>154.820007</td>\n",
       "      <td>155.529999</td>\n",
       "      <td>24152770</td>\n",
       "    </tr>\n",
       "    <tr>\n",
       "      <th>2019-12-17 00:00:00+00:00</th>\n",
       "      <td>155.449997</td>\n",
       "      <td>155.710007</td>\n",
       "      <td>154.449997</td>\n",
       "      <td>154.690002</td>\n",
       "      <td>25443527</td>\n",
       "    </tr>\n",
       "    <tr>\n",
       "      <th>2019-12-18 00:00:00+00:00</th>\n",
       "      <td>154.300003</td>\n",
       "      <td>155.479996</td>\n",
       "      <td>154.179993</td>\n",
       "      <td>154.369995</td>\n",
       "      <td>24132379</td>\n",
       "    </tr>\n",
       "    <tr>\n",
       "      <th>2019-12-19 00:00:00+00:00</th>\n",
       "      <td>154.000000</td>\n",
       "      <td>155.770004</td>\n",
       "      <td>153.750000</td>\n",
       "      <td>155.710007</td>\n",
       "      <td>25813825</td>\n",
       "    </tr>\n",
       "  </tbody>\n",
       "</table>\n",
       "</div>"
      ],
      "text/plain": [
       "                                 Open        High         Low       Close  \\\n",
       "Epoch                                                                       \n",
       "2019-12-13 00:00:00+00:00  153.000000  154.889999  152.830002  154.529999   \n",
       "2019-12-16 00:00:00+00:00  155.110001  155.899994  154.820007  155.529999   \n",
       "2019-12-17 00:00:00+00:00  155.449997  155.710007  154.449997  154.690002   \n",
       "2019-12-18 00:00:00+00:00  154.300003  155.479996  154.179993  154.369995   \n",
       "2019-12-19 00:00:00+00:00  154.000000  155.770004  153.750000  155.710007   \n",
       "\n",
       "                             Volume  \n",
       "Epoch                                \n",
       "2019-12-13 00:00:00+00:00  23850062  \n",
       "2019-12-16 00:00:00+00:00  24152770  \n",
       "2019-12-17 00:00:00+00:00  25443527  \n",
       "2019-12-18 00:00:00+00:00  24132379  \n",
       "2019-12-19 00:00:00+00:00  25813825  "
      ]
     },
     "execution_count": 117,
     "metadata": {},
     "output_type": "execute_result"
    }
   ],
   "source": [
    "djia_raw['MSFT'].tail()"
   ]
  },
  {
   "cell_type": "code",
   "execution_count": 118,
   "metadata": {},
   "outputs": [
    {
     "name": "stdout",
     "output_type": "stream",
     "text": [
      "PFG\n",
      "[2, 2, 2, 2, 2]\n"
     ]
    }
   ],
   "source": [
    "# Look for missing values in the OHLCV data of every symbol and return symbol if missing values are found\n",
    "check_for_missing_vals(djia_raw)"
   ]
  },
  {
   "cell_type": "markdown",
   "metadata": {},
   "source": [
    "'PFG' has 2 missing values per column."
   ]
  },
  {
   "cell_type": "code",
   "execution_count": 125,
   "metadata": {},
   "outputs": [
    {
     "data": {
      "text/plain": [
       "(array([1509, 1509, 1509, 1509, 1509, 1627, 1627, 1627, 1627, 1627]),\n",
       " array([0, 1, 2, 3, 4, 0, 1, 2, 3, 4]))"
      ]
     },
     "execution_count": 125,
     "metadata": {},
     "output_type": "execute_result"
    }
   ],
   "source": [
    "#pd.isnull(djia_raw['PFG'])\n",
    "np.where(djia_raw['PFG'].isna())\n",
    "#djia_raw['PFG'].isna()"
   ]
  },
  {
   "cell_type": "code",
   "execution_count": 136,
   "metadata": {},
   "outputs": [
    {
     "name": "stdout",
     "output_type": "stream",
     "text": [
      "2017-12-18 00:00:00+00:00\n",
      "2018-06-08 00:00:00+00:00\n"
     ]
    }
   ],
   "source": [
    "print(str(djia_raw['PFG'].index[1509]) + '\\n' + str(djia_raw['PFG'].index[1627]))"
   ]
  },
  {
   "cell_type": "code",
   "execution_count": 139,
   "metadata": {},
   "outputs": [
    {
     "data": {
      "text/html": [
       "<div>\n",
       "<style scoped>\n",
       "    .dataframe tbody tr th:only-of-type {\n",
       "        vertical-align: middle;\n",
       "    }\n",
       "\n",
       "    .dataframe tbody tr th {\n",
       "        vertical-align: top;\n",
       "    }\n",
       "\n",
       "    .dataframe thead th {\n",
       "        text-align: right;\n",
       "    }\n",
       "</style>\n",
       "<table border=\"1\" class=\"dataframe\">\n",
       "  <thead>\n",
       "    <tr style=\"text-align: right;\">\n",
       "      <th></th>\n",
       "      <th>Open</th>\n",
       "      <th>High</th>\n",
       "      <th>Low</th>\n",
       "      <th>Close</th>\n",
       "      <th>Volume</th>\n",
       "    </tr>\n",
       "    <tr>\n",
       "      <th>Epoch</th>\n",
       "      <th></th>\n",
       "      <th></th>\n",
       "      <th></th>\n",
       "      <th></th>\n",
       "      <th></th>\n",
       "    </tr>\n",
       "  </thead>\n",
       "  <tbody>\n",
       "    <tr>\n",
       "      <th>2017-12-14 00:00:00+00:00</th>\n",
       "      <td>70.410004</td>\n",
       "      <td>70.540001</td>\n",
       "      <td>69.750000</td>\n",
       "      <td>69.889999</td>\n",
       "      <td>1089300.0</td>\n",
       "    </tr>\n",
       "    <tr>\n",
       "      <th>2017-12-15 00:00:00+00:00</th>\n",
       "      <td>70.230003</td>\n",
       "      <td>70.930000</td>\n",
       "      <td>69.919998</td>\n",
       "      <td>70.370003</td>\n",
       "      <td>2075300.0</td>\n",
       "    </tr>\n",
       "    <tr>\n",
       "      <th>2017-12-18 00:00:00+00:00</th>\n",
       "      <td>NaN</td>\n",
       "      <td>NaN</td>\n",
       "      <td>NaN</td>\n",
       "      <td>NaN</td>\n",
       "      <td>NaN</td>\n",
       "    </tr>\n",
       "    <tr>\n",
       "      <th>2017-12-19 00:00:00+00:00</th>\n",
       "      <td>71.099998</td>\n",
       "      <td>71.419998</td>\n",
       "      <td>70.519997</td>\n",
       "      <td>70.860001</td>\n",
       "      <td>1092700.0</td>\n",
       "    </tr>\n",
       "    <tr>\n",
       "      <th>2017-12-20 00:00:00+00:00</th>\n",
       "      <td>71.419998</td>\n",
       "      <td>71.660004</td>\n",
       "      <td>70.720001</td>\n",
       "      <td>71.250000</td>\n",
       "      <td>1207300.0</td>\n",
       "    </tr>\n",
       "    <tr>\n",
       "      <th>2017-12-21 00:00:00+00:00</th>\n",
       "      <td>71.709999</td>\n",
       "      <td>72.040001</td>\n",
       "      <td>71.139999</td>\n",
       "      <td>71.239998</td>\n",
       "      <td>891000.0</td>\n",
       "    </tr>\n",
       "    <tr>\n",
       "      <th>2017-12-22 00:00:00+00:00</th>\n",
       "      <td>71.570000</td>\n",
       "      <td>71.879997</td>\n",
       "      <td>70.830002</td>\n",
       "      <td>71.260002</td>\n",
       "      <td>702900.0</td>\n",
       "    </tr>\n",
       "    <tr>\n",
       "      <th>2017-12-26 00:00:00+00:00</th>\n",
       "      <td>71.459999</td>\n",
       "      <td>71.860001</td>\n",
       "      <td>71.019997</td>\n",
       "      <td>71.330002</td>\n",
       "      <td>433100.0</td>\n",
       "    </tr>\n",
       "  </tbody>\n",
       "</table>\n",
       "</div>"
      ],
      "text/plain": [
       "                                Open       High        Low      Close  \\\n",
       "Epoch                                                                   \n",
       "2017-12-14 00:00:00+00:00  70.410004  70.540001  69.750000  69.889999   \n",
       "2017-12-15 00:00:00+00:00  70.230003  70.930000  69.919998  70.370003   \n",
       "2017-12-18 00:00:00+00:00        NaN        NaN        NaN        NaN   \n",
       "2017-12-19 00:00:00+00:00  71.099998  71.419998  70.519997  70.860001   \n",
       "2017-12-20 00:00:00+00:00  71.419998  71.660004  70.720001  71.250000   \n",
       "2017-12-21 00:00:00+00:00  71.709999  72.040001  71.139999  71.239998   \n",
       "2017-12-22 00:00:00+00:00  71.570000  71.879997  70.830002  71.260002   \n",
       "2017-12-26 00:00:00+00:00  71.459999  71.860001  71.019997  71.330002   \n",
       "\n",
       "                              Volume  \n",
       "Epoch                                 \n",
       "2017-12-14 00:00:00+00:00  1089300.0  \n",
       "2017-12-15 00:00:00+00:00  2075300.0  \n",
       "2017-12-18 00:00:00+00:00        NaN  \n",
       "2017-12-19 00:00:00+00:00  1092700.0  \n",
       "2017-12-20 00:00:00+00:00  1207300.0  \n",
       "2017-12-21 00:00:00+00:00   891000.0  \n",
       "2017-12-22 00:00:00+00:00   702900.0  \n",
       "2017-12-26 00:00:00+00:00   433100.0  "
      ]
     },
     "execution_count": 139,
     "metadata": {},
     "output_type": "execute_result"
    }
   ],
   "source": [
    "djia_raw['PFG'].iloc[1507:1515, :]"
   ]
  },
  {
   "cell_type": "code",
   "execution_count": 140,
   "metadata": {},
   "outputs": [
    {
     "data": {
      "text/html": [
       "<div>\n",
       "<style scoped>\n",
       "    .dataframe tbody tr th:only-of-type {\n",
       "        vertical-align: middle;\n",
       "    }\n",
       "\n",
       "    .dataframe tbody tr th {\n",
       "        vertical-align: top;\n",
       "    }\n",
       "\n",
       "    .dataframe thead th {\n",
       "        text-align: right;\n",
       "    }\n",
       "</style>\n",
       "<table border=\"1\" class=\"dataframe\">\n",
       "  <thead>\n",
       "    <tr style=\"text-align: right;\">\n",
       "      <th></th>\n",
       "      <th>Open</th>\n",
       "      <th>High</th>\n",
       "      <th>Low</th>\n",
       "      <th>Close</th>\n",
       "      <th>Volume</th>\n",
       "    </tr>\n",
       "    <tr>\n",
       "      <th>Epoch</th>\n",
       "      <th></th>\n",
       "      <th></th>\n",
       "      <th></th>\n",
       "      <th></th>\n",
       "      <th></th>\n",
       "    </tr>\n",
       "  </thead>\n",
       "  <tbody>\n",
       "    <tr>\n",
       "      <th>2018-06-01 00:00:00+00:00</th>\n",
       "      <td>55.990002</td>\n",
       "      <td>56.779999</td>\n",
       "      <td>55.830002</td>\n",
       "      <td>56.450001</td>\n",
       "      <td>1387300.0</td>\n",
       "    </tr>\n",
       "    <tr>\n",
       "      <th>2018-06-04 00:00:00+00:00</th>\n",
       "      <td>56.509998</td>\n",
       "      <td>56.820000</td>\n",
       "      <td>56.099998</td>\n",
       "      <td>56.189999</td>\n",
       "      <td>890900.0</td>\n",
       "    </tr>\n",
       "    <tr>\n",
       "      <th>2018-06-05 00:00:00+00:00</th>\n",
       "      <td>56.020000</td>\n",
       "      <td>56.090000</td>\n",
       "      <td>54.889999</td>\n",
       "      <td>55.959999</td>\n",
       "      <td>1932800.0</td>\n",
       "    </tr>\n",
       "    <tr>\n",
       "      <th>2018-06-06 00:00:00+00:00</th>\n",
       "      <td>56.279999</td>\n",
       "      <td>56.950001</td>\n",
       "      <td>56.040001</td>\n",
       "      <td>56.910000</td>\n",
       "      <td>1328900.0</td>\n",
       "    </tr>\n",
       "    <tr>\n",
       "      <th>2018-06-07 00:00:00+00:00</th>\n",
       "      <td>57.200001</td>\n",
       "      <td>57.259998</td>\n",
       "      <td>56.389999</td>\n",
       "      <td>56.639999</td>\n",
       "      <td>1152400.0</td>\n",
       "    </tr>\n",
       "    <tr>\n",
       "      <th>2018-06-08 00:00:00+00:00</th>\n",
       "      <td>NaN</td>\n",
       "      <td>NaN</td>\n",
       "      <td>NaN</td>\n",
       "      <td>NaN</td>\n",
       "      <td>NaN</td>\n",
       "    </tr>\n",
       "    <tr>\n",
       "      <th>2018-06-11 00:00:00+00:00</th>\n",
       "      <td>56.950001</td>\n",
       "      <td>57.860001</td>\n",
       "      <td>56.820000</td>\n",
       "      <td>57.360001</td>\n",
       "      <td>1133400.0</td>\n",
       "    </tr>\n",
       "    <tr>\n",
       "      <th>2018-06-12 00:00:00+00:00</th>\n",
       "      <td>57.380001</td>\n",
       "      <td>57.619999</td>\n",
       "      <td>56.540001</td>\n",
       "      <td>56.759998</td>\n",
       "      <td>1372600.0</td>\n",
       "    </tr>\n",
       "    <tr>\n",
       "      <th>2018-06-13 00:00:00+00:00</th>\n",
       "      <td>56.950001</td>\n",
       "      <td>57.459999</td>\n",
       "      <td>56.540001</td>\n",
       "      <td>56.570000</td>\n",
       "      <td>1323000.0</td>\n",
       "    </tr>\n",
       "    <tr>\n",
       "      <th>2018-06-14 00:00:00+00:00</th>\n",
       "      <td>56.750000</td>\n",
       "      <td>57.500000</td>\n",
       "      <td>55.990002</td>\n",
       "      <td>56.259998</td>\n",
       "      <td>1347500.0</td>\n",
       "    </tr>\n",
       "  </tbody>\n",
       "</table>\n",
       "</div>"
      ],
      "text/plain": [
       "                                Open       High        Low      Close  \\\n",
       "Epoch                                                                   \n",
       "2018-06-01 00:00:00+00:00  55.990002  56.779999  55.830002  56.450001   \n",
       "2018-06-04 00:00:00+00:00  56.509998  56.820000  56.099998  56.189999   \n",
       "2018-06-05 00:00:00+00:00  56.020000  56.090000  54.889999  55.959999   \n",
       "2018-06-06 00:00:00+00:00  56.279999  56.950001  56.040001  56.910000   \n",
       "2018-06-07 00:00:00+00:00  57.200001  57.259998  56.389999  56.639999   \n",
       "2018-06-08 00:00:00+00:00        NaN        NaN        NaN        NaN   \n",
       "2018-06-11 00:00:00+00:00  56.950001  57.860001  56.820000  57.360001   \n",
       "2018-06-12 00:00:00+00:00  57.380001  57.619999  56.540001  56.759998   \n",
       "2018-06-13 00:00:00+00:00  56.950001  57.459999  56.540001  56.570000   \n",
       "2018-06-14 00:00:00+00:00  56.750000  57.500000  55.990002  56.259998   \n",
       "\n",
       "                              Volume  \n",
       "Epoch                                 \n",
       "2018-06-01 00:00:00+00:00  1387300.0  \n",
       "2018-06-04 00:00:00+00:00   890900.0  \n",
       "2018-06-05 00:00:00+00:00  1932800.0  \n",
       "2018-06-06 00:00:00+00:00  1328900.0  \n",
       "2018-06-07 00:00:00+00:00  1152400.0  \n",
       "2018-06-08 00:00:00+00:00        NaN  \n",
       "2018-06-11 00:00:00+00:00  1133400.0  \n",
       "2018-06-12 00:00:00+00:00  1372600.0  \n",
       "2018-06-13 00:00:00+00:00  1323000.0  \n",
       "2018-06-14 00:00:00+00:00  1347500.0  "
      ]
     },
     "execution_count": 140,
     "metadata": {},
     "output_type": "execute_result"
    }
   ],
   "source": [
    "djia_raw['PFG'].iloc[1622:1632, :]"
   ]
  },
  {
   "cell_type": "code",
   "execution_count": 143,
   "metadata": {},
   "outputs": [],
   "source": [
    "djia_raw['PFG'] = djia_raw['PFG'].interpolate(limit=1, inplace=False)"
   ]
  },
  {
   "cell_type": "code",
   "execution_count": 144,
   "metadata": {},
   "outputs": [
    {
     "data": {
      "text/html": [
       "<div>\n",
       "<style scoped>\n",
       "    .dataframe tbody tr th:only-of-type {\n",
       "        vertical-align: middle;\n",
       "    }\n",
       "\n",
       "    .dataframe tbody tr th {\n",
       "        vertical-align: top;\n",
       "    }\n",
       "\n",
       "    .dataframe thead th {\n",
       "        text-align: right;\n",
       "    }\n",
       "</style>\n",
       "<table border=\"1\" class=\"dataframe\">\n",
       "  <thead>\n",
       "    <tr style=\"text-align: right;\">\n",
       "      <th></th>\n",
       "      <th>Open</th>\n",
       "      <th>High</th>\n",
       "      <th>Low</th>\n",
       "      <th>Close</th>\n",
       "      <th>Volume</th>\n",
       "    </tr>\n",
       "    <tr>\n",
       "      <th>Epoch</th>\n",
       "      <th></th>\n",
       "      <th></th>\n",
       "      <th></th>\n",
       "      <th></th>\n",
       "      <th></th>\n",
       "    </tr>\n",
       "  </thead>\n",
       "  <tbody>\n",
       "    <tr>\n",
       "      <th>2018-06-01 00:00:00+00:00</th>\n",
       "      <td>55.990002</td>\n",
       "      <td>56.779999</td>\n",
       "      <td>55.830002</td>\n",
       "      <td>56.450001</td>\n",
       "      <td>1387300.0</td>\n",
       "    </tr>\n",
       "    <tr>\n",
       "      <th>2018-06-04 00:00:00+00:00</th>\n",
       "      <td>56.509998</td>\n",
       "      <td>56.820000</td>\n",
       "      <td>56.099998</td>\n",
       "      <td>56.189999</td>\n",
       "      <td>890900.0</td>\n",
       "    </tr>\n",
       "    <tr>\n",
       "      <th>2018-06-05 00:00:00+00:00</th>\n",
       "      <td>56.020000</td>\n",
       "      <td>56.090000</td>\n",
       "      <td>54.889999</td>\n",
       "      <td>55.959999</td>\n",
       "      <td>1932800.0</td>\n",
       "    </tr>\n",
       "    <tr>\n",
       "      <th>2018-06-06 00:00:00+00:00</th>\n",
       "      <td>56.279999</td>\n",
       "      <td>56.950001</td>\n",
       "      <td>56.040001</td>\n",
       "      <td>56.910000</td>\n",
       "      <td>1328900.0</td>\n",
       "    </tr>\n",
       "    <tr>\n",
       "      <th>2018-06-07 00:00:00+00:00</th>\n",
       "      <td>57.200001</td>\n",
       "      <td>57.259998</td>\n",
       "      <td>56.389999</td>\n",
       "      <td>56.639999</td>\n",
       "      <td>1152400.0</td>\n",
       "    </tr>\n",
       "    <tr>\n",
       "      <th>2018-06-08 00:00:00+00:00</th>\n",
       "      <td>57.075001</td>\n",
       "      <td>57.559998</td>\n",
       "      <td>56.605000</td>\n",
       "      <td>57.000000</td>\n",
       "      <td>1142900.0</td>\n",
       "    </tr>\n",
       "    <tr>\n",
       "      <th>2018-06-11 00:00:00+00:00</th>\n",
       "      <td>56.950001</td>\n",
       "      <td>57.860001</td>\n",
       "      <td>56.820000</td>\n",
       "      <td>57.360001</td>\n",
       "      <td>1133400.0</td>\n",
       "    </tr>\n",
       "    <tr>\n",
       "      <th>2018-06-12 00:00:00+00:00</th>\n",
       "      <td>57.380001</td>\n",
       "      <td>57.619999</td>\n",
       "      <td>56.540001</td>\n",
       "      <td>56.759998</td>\n",
       "      <td>1372600.0</td>\n",
       "    </tr>\n",
       "    <tr>\n",
       "      <th>2018-06-13 00:00:00+00:00</th>\n",
       "      <td>56.950001</td>\n",
       "      <td>57.459999</td>\n",
       "      <td>56.540001</td>\n",
       "      <td>56.570000</td>\n",
       "      <td>1323000.0</td>\n",
       "    </tr>\n",
       "    <tr>\n",
       "      <th>2018-06-14 00:00:00+00:00</th>\n",
       "      <td>56.750000</td>\n",
       "      <td>57.500000</td>\n",
       "      <td>55.990002</td>\n",
       "      <td>56.259998</td>\n",
       "      <td>1347500.0</td>\n",
       "    </tr>\n",
       "  </tbody>\n",
       "</table>\n",
       "</div>"
      ],
      "text/plain": [
       "                                Open       High        Low      Close  \\\n",
       "Epoch                                                                   \n",
       "2018-06-01 00:00:00+00:00  55.990002  56.779999  55.830002  56.450001   \n",
       "2018-06-04 00:00:00+00:00  56.509998  56.820000  56.099998  56.189999   \n",
       "2018-06-05 00:00:00+00:00  56.020000  56.090000  54.889999  55.959999   \n",
       "2018-06-06 00:00:00+00:00  56.279999  56.950001  56.040001  56.910000   \n",
       "2018-06-07 00:00:00+00:00  57.200001  57.259998  56.389999  56.639999   \n",
       "2018-06-08 00:00:00+00:00  57.075001  57.559998  56.605000  57.000000   \n",
       "2018-06-11 00:00:00+00:00  56.950001  57.860001  56.820000  57.360001   \n",
       "2018-06-12 00:00:00+00:00  57.380001  57.619999  56.540001  56.759998   \n",
       "2018-06-13 00:00:00+00:00  56.950001  57.459999  56.540001  56.570000   \n",
       "2018-06-14 00:00:00+00:00  56.750000  57.500000  55.990002  56.259998   \n",
       "\n",
       "                              Volume  \n",
       "Epoch                                 \n",
       "2018-06-01 00:00:00+00:00  1387300.0  \n",
       "2018-06-04 00:00:00+00:00   890900.0  \n",
       "2018-06-05 00:00:00+00:00  1932800.0  \n",
       "2018-06-06 00:00:00+00:00  1328900.0  \n",
       "2018-06-07 00:00:00+00:00  1152400.0  \n",
       "2018-06-08 00:00:00+00:00  1142900.0  \n",
       "2018-06-11 00:00:00+00:00  1133400.0  \n",
       "2018-06-12 00:00:00+00:00  1372600.0  \n",
       "2018-06-13 00:00:00+00:00  1323000.0  \n",
       "2018-06-14 00:00:00+00:00  1347500.0  "
      ]
     },
     "execution_count": 144,
     "metadata": {},
     "output_type": "execute_result"
    }
   ],
   "source": [
    "djia_raw['PFG'].iloc[1622:1632, :]"
   ]
  },
  {
   "cell_type": "code",
   "execution_count": 147,
   "metadata": {},
   "outputs": [
    {
     "name": "stdout",
     "output_type": "stream",
     "text": [
      "No missing values found in dataframe\n"
     ]
    }
   ],
   "source": [
    "check_for_missing_vals(djia_raw)"
   ]
  },
  {
   "cell_type": "markdown",
   "metadata": {},
   "source": [
    "No more missing values."
   ]
  },
  {
   "cell_type": "code",
   "execution_count": 95,
   "metadata": {},
   "outputs": [],
   "source": [
    "fname = data_base_dir + '/processed/djia_cleaned_2019-12-11.pkl'\n",
    "pickle.dump(djia_raw, open(fname, 'wb'))"
   ]
  },
  {
   "cell_type": "code",
   "execution_count": 148,
   "metadata": {},
   "outputs": [],
   "source": [
    "with pd.HDFStore(fname) as storage:\n",
    "    storage.put('nyse/cleaned/rand_symbols', djia_raw)\n",
    "    #print(storage.info())"
   ]
  }
 ],
 "metadata": {
  "kernelspec": {
   "display_name": "Python [conda env:capstone_nf]",
   "language": "python",
   "name": "conda-env-capstone_nf-py"
  },
  "language_info": {
   "codemirror_mode": {
    "name": "ipython",
    "version": 3
   },
   "file_extension": ".py",
   "mimetype": "text/x-python",
   "name": "python",
   "nbconvert_exporter": "python",
   "pygments_lexer": "ipython3",
   "version": "3.7.5"
  }
 },
 "nbformat": 4,
 "nbformat_minor": 4
}

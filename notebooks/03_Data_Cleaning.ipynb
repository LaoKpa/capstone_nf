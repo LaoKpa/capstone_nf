{
 "cells": [
  {
   "cell_type": "markdown",
   "metadata": {},
   "source": [
    "# Chapter 3, Data Cleaning"
   ]
  },
  {
   "cell_type": "code",
   "execution_count": 88,
   "metadata": {},
   "outputs": [],
   "source": [
    "import pickle\n",
    "import pandas as pd\n",
    "import numpy as np\n",
    "from dotenv import load_dotenv, find_dotenv\n",
    "import os"
   ]
  },
  {
   "cell_type": "code",
   "execution_count": 89,
   "metadata": {},
   "outputs": [],
   "source": [
    "def check_for_missing_vals(df):\n",
    "    for x in list(set(df.columns.get_level_values(0))):\n",
    "        if sum(list(df[x].isna().sum())) != 0:\n",
    "            print(x)\n",
    "            print(list(df[x].isna().sum()))"
   ]
  },
  {
   "cell_type": "code",
   "execution_count": 90,
   "metadata": {},
   "outputs": [],
   "source": [
    "load_dotenv(find_dotenv())\n",
    "data_base_dir = os.environ.get('DATA_DIR_BASE_PATH')\n",
    "fname = data_base_dir + '/processed/djia_raw_2019-12-11.pkl'\n",
    "djia_raw = pickle.load(open(fname, 'rb'))"
   ]
  },
  {
   "cell_type": "code",
   "execution_count": 92,
   "metadata": {},
   "outputs": [
    {
     "data": {
      "text/html": [
       "<div>\n",
       "<style scoped>\n",
       "    .dataframe tbody tr th:only-of-type {\n",
       "        vertical-align: middle;\n",
       "    }\n",
       "\n",
       "    .dataframe tbody tr th {\n",
       "        vertical-align: top;\n",
       "    }\n",
       "\n",
       "    .dataframe thead th {\n",
       "        text-align: right;\n",
       "    }\n",
       "</style>\n",
       "<table border=\"1\" class=\"dataframe\">\n",
       "  <thead>\n",
       "    <tr style=\"text-align: right;\">\n",
       "      <th></th>\n",
       "      <th>Open</th>\n",
       "      <th>High</th>\n",
       "      <th>Low</th>\n",
       "      <th>Close</th>\n",
       "      <th>Volume</th>\n",
       "    </tr>\n",
       "    <tr>\n",
       "      <th>Epoch</th>\n",
       "      <th></th>\n",
       "      <th></th>\n",
       "      <th></th>\n",
       "      <th></th>\n",
       "      <th></th>\n",
       "    </tr>\n",
       "  </thead>\n",
       "  <tbody>\n",
       "    <tr>\n",
       "      <th>2019-11-27 00:00:00+00:00</th>\n",
       "      <td>194.259995</td>\n",
       "      <td>196.669998</td>\n",
       "      <td>193.919998</td>\n",
       "      <td>196.300003</td>\n",
       "      <td>4136783</td>\n",
       "    </tr>\n",
       "    <tr>\n",
       "      <th>2019-11-29 00:00:00+00:00</th>\n",
       "      <td>196.509995</td>\n",
       "      <td>196.539993</td>\n",
       "      <td>194.270004</td>\n",
       "      <td>194.479996</td>\n",
       "      <td>2815480</td>\n",
       "    </tr>\n",
       "    <tr>\n",
       "      <th>2019-12-02 00:00:00+00:00</th>\n",
       "      <td>195.380005</td>\n",
       "      <td>195.589996</td>\n",
       "      <td>193.779999</td>\n",
       "      <td>195.179993</td>\n",
       "      <td>3198902</td>\n",
       "    </tr>\n",
       "    <tr>\n",
       "      <th>2019-12-03 00:00:00+00:00</th>\n",
       "      <td>194.300003</td>\n",
       "      <td>195.039993</td>\n",
       "      <td>192.350006</td>\n",
       "      <td>193.119995</td>\n",
       "      <td>4078751</td>\n",
       "    </tr>\n",
       "    <tr>\n",
       "      <th>2019-12-04 00:00:00+00:00</th>\n",
       "      <td>193.589996</td>\n",
       "      <td>194.460007</td>\n",
       "      <td>192.889999</td>\n",
       "      <td>194.309998</td>\n",
       "      <td>2217253</td>\n",
       "    </tr>\n",
       "  </tbody>\n",
       "</table>\n",
       "</div>"
      ],
      "text/plain": [
       "                                 Open        High         Low       Close  \\\n",
       "Epoch                                                                       \n",
       "2019-11-27 00:00:00+00:00  194.259995  196.669998  193.919998  196.300003   \n",
       "2019-11-29 00:00:00+00:00  196.509995  196.539993  194.270004  194.479996   \n",
       "2019-12-02 00:00:00+00:00  195.380005  195.589996  193.779999  195.179993   \n",
       "2019-12-03 00:00:00+00:00  194.300003  195.039993  192.350006  193.119995   \n",
       "2019-12-04 00:00:00+00:00  193.589996  194.460007  192.889999  194.309998   \n",
       "\n",
       "                            Volume  \n",
       "Epoch                               \n",
       "2019-11-27 00:00:00+00:00  4136783  \n",
       "2019-11-29 00:00:00+00:00  2815480  \n",
       "2019-12-02 00:00:00+00:00  3198902  \n",
       "2019-12-03 00:00:00+00:00  4078751  \n",
       "2019-12-04 00:00:00+00:00  2217253  "
      ]
     },
     "execution_count": 92,
     "metadata": {},
     "output_type": "execute_result"
    }
   ],
   "source": [
    "djia_raw['MCD'].tail()"
   ]
  },
  {
   "cell_type": "code",
   "execution_count": 93,
   "metadata": {},
   "outputs": [
    {
     "name": "stdout",
     "output_type": "stream",
     "text": [
      "DOW\n",
      "[1087, 1087, 1087, 1087, 1087]\n"
     ]
    }
   ],
   "source": [
    "# Look for missing values in the OHLCV data of every symbol and return symbol if missing values are found\n",
    "check_for_missing_vals(djia_raw)"
   ]
  },
  {
   "cell_type": "markdown",
   "metadata": {},
   "source": [
    "Looks like there are 1087 missing values for Dow Chemicals"
   ]
  },
  {
   "cell_type": "code",
   "execution_count": 94,
   "metadata": {},
   "outputs": [
    {
     "data": {
      "text/html": [
       "<div>\n",
       "<style scoped>\n",
       "    .dataframe tbody tr th:only-of-type {\n",
       "        vertical-align: middle;\n",
       "    }\n",
       "\n",
       "    .dataframe tbody tr th {\n",
       "        vertical-align: top;\n",
       "    }\n",
       "\n",
       "    .dataframe thead th {\n",
       "        text-align: right;\n",
       "    }\n",
       "</style>\n",
       "<table border=\"1\" class=\"dataframe\">\n",
       "  <thead>\n",
       "    <tr style=\"text-align: right;\">\n",
       "      <th></th>\n",
       "      <th>Open</th>\n",
       "      <th>High</th>\n",
       "      <th>Low</th>\n",
       "      <th>Close</th>\n",
       "      <th>Volume</th>\n",
       "    </tr>\n",
       "    <tr>\n",
       "      <th>Epoch</th>\n",
       "      <th></th>\n",
       "      <th></th>\n",
       "      <th></th>\n",
       "      <th></th>\n",
       "      <th></th>\n",
       "    </tr>\n",
       "  </thead>\n",
       "  <tbody>\n",
       "    <tr>\n",
       "      <th>2019-04-01 00:00:00+00:00</th>\n",
       "      <td>NaN</td>\n",
       "      <td>NaN</td>\n",
       "      <td>NaN</td>\n",
       "      <td>NaN</td>\n",
       "      <td>NaN</td>\n",
       "    </tr>\n",
       "    <tr>\n",
       "      <th>2019-04-02 00:00:00+00:00</th>\n",
       "      <td>55.119999</td>\n",
       "      <td>57.389999</td>\n",
       "      <td>54.299999</td>\n",
       "      <td>56.250000</td>\n",
       "      <td>17414153.0</td>\n",
       "    </tr>\n",
       "    <tr>\n",
       "      <th>2019-04-03 00:00:00+00:00</th>\n",
       "      <td>57.080002</td>\n",
       "      <td>57.200001</td>\n",
       "      <td>55.509998</td>\n",
       "      <td>56.880001</td>\n",
       "      <td>15066169.0</td>\n",
       "    </tr>\n",
       "    <tr>\n",
       "      <th>2019-04-04 00:00:00+00:00</th>\n",
       "      <td>57.200001</td>\n",
       "      <td>60.520000</td>\n",
       "      <td>57.099998</td>\n",
       "      <td>59.709999</td>\n",
       "      <td>13311868.0</td>\n",
       "    </tr>\n",
       "    <tr>\n",
       "      <th>2019-04-05 00:00:00+00:00</th>\n",
       "      <td>58.389999</td>\n",
       "      <td>58.980000</td>\n",
       "      <td>56.270000</td>\n",
       "      <td>57.240002</td>\n",
       "      <td>17000788.0</td>\n",
       "    </tr>\n",
       "    <tr>\n",
       "      <th>...</th>\n",
       "      <td>...</td>\n",
       "      <td>...</td>\n",
       "      <td>...</td>\n",
       "      <td>...</td>\n",
       "      <td>...</td>\n",
       "    </tr>\n",
       "    <tr>\n",
       "      <th>2019-11-27 00:00:00+00:00</th>\n",
       "      <td>54.680000</td>\n",
       "      <td>54.900002</td>\n",
       "      <td>53.900002</td>\n",
       "      <td>54.279999</td>\n",
       "      <td>3926099.0</td>\n",
       "    </tr>\n",
       "    <tr>\n",
       "      <th>2019-11-29 00:00:00+00:00</th>\n",
       "      <td>54.009998</td>\n",
       "      <td>54.279999</td>\n",
       "      <td>53.119999</td>\n",
       "      <td>53.369999</td>\n",
       "      <td>1887577.0</td>\n",
       "    </tr>\n",
       "    <tr>\n",
       "      <th>2019-12-02 00:00:00+00:00</th>\n",
       "      <td>53.000000</td>\n",
       "      <td>53.750000</td>\n",
       "      <td>52.889999</td>\n",
       "      <td>53.160000</td>\n",
       "      <td>3364773.0</td>\n",
       "    </tr>\n",
       "    <tr>\n",
       "      <th>2019-12-03 00:00:00+00:00</th>\n",
       "      <td>51.959999</td>\n",
       "      <td>52.009998</td>\n",
       "      <td>51.049999</td>\n",
       "      <td>51.820000</td>\n",
       "      <td>3990311.0</td>\n",
       "    </tr>\n",
       "    <tr>\n",
       "      <th>2019-12-04 00:00:00+00:00</th>\n",
       "      <td>53.490002</td>\n",
       "      <td>53.490002</td>\n",
       "      <td>52.209999</td>\n",
       "      <td>52.279999</td>\n",
       "      <td>3791442.0</td>\n",
       "    </tr>\n",
       "  </tbody>\n",
       "</table>\n",
       "<p>173 rows × 5 columns</p>\n",
       "</div>"
      ],
      "text/plain": [
       "                                Open       High        Low      Close  \\\n",
       "Epoch                                                                   \n",
       "2019-04-01 00:00:00+00:00        NaN        NaN        NaN        NaN   \n",
       "2019-04-02 00:00:00+00:00  55.119999  57.389999  54.299999  56.250000   \n",
       "2019-04-03 00:00:00+00:00  57.080002  57.200001  55.509998  56.880001   \n",
       "2019-04-04 00:00:00+00:00  57.200001  60.520000  57.099998  59.709999   \n",
       "2019-04-05 00:00:00+00:00  58.389999  58.980000  56.270000  57.240002   \n",
       "...                              ...        ...        ...        ...   \n",
       "2019-11-27 00:00:00+00:00  54.680000  54.900002  53.900002  54.279999   \n",
       "2019-11-29 00:00:00+00:00  54.009998  54.279999  53.119999  53.369999   \n",
       "2019-12-02 00:00:00+00:00  53.000000  53.750000  52.889999  53.160000   \n",
       "2019-12-03 00:00:00+00:00  51.959999  52.009998  51.049999  51.820000   \n",
       "2019-12-04 00:00:00+00:00  53.490002  53.490002  52.209999  52.279999   \n",
       "\n",
       "                               Volume  \n",
       "Epoch                                  \n",
       "2019-04-01 00:00:00+00:00         NaN  \n",
       "2019-04-02 00:00:00+00:00  17414153.0  \n",
       "2019-04-03 00:00:00+00:00  15066169.0  \n",
       "2019-04-04 00:00:00+00:00  13311868.0  \n",
       "2019-04-05 00:00:00+00:00  17000788.0  \n",
       "...                               ...  \n",
       "2019-11-27 00:00:00+00:00   3926099.0  \n",
       "2019-11-29 00:00:00+00:00   1887577.0  \n",
       "2019-12-02 00:00:00+00:00   3364773.0  \n",
       "2019-12-03 00:00:00+00:00   3990311.0  \n",
       "2019-12-04 00:00:00+00:00   3791442.0  \n",
       "\n",
       "[173 rows x 5 columns]"
      ]
     },
     "execution_count": 94,
     "metadata": {},
     "output_type": "execute_result"
    }
   ],
   "source": [
    "djia_raw['DOW'].iloc[1086:, :]"
   ]
  },
  {
   "cell_type": "markdown",
   "metadata": {},
   "source": [
    "No data exists for DOW earlier than 2019-04-02. DOW went public on 2019-03-21. This explains the missing values. Fill them with zeros."
   ]
  },
  {
   "cell_type": "code",
   "execution_count": 70,
   "metadata": {},
   "outputs": [],
   "source": [
    "djia_raw.fillna(0, inplace=True)"
   ]
  },
  {
   "cell_type": "code",
   "execution_count": 71,
   "metadata": {},
   "outputs": [],
   "source": [
    "check_for_missing_vals(djia_raw)"
   ]
  },
  {
   "cell_type": "markdown",
   "metadata": {},
   "source": [
    "No more missing values."
   ]
  },
  {
   "cell_type": "code",
   "execution_count": 95,
   "metadata": {},
   "outputs": [],
   "source": [
    "fname = data_base_dir + '/processed/djia_cleaned_2019-12-11.pkl'\n",
    "pickle.dump(djia_raw, open(fname, 'wb'))"
   ]
  },
  {
   "cell_type": "code",
   "execution_count": null,
   "metadata": {},
   "outputs": [],
   "source": []
  }
 ],
 "metadata": {
  "kernelspec": {
   "display_name": "Python [conda env:capstone_nf]",
   "language": "python",
   "name": "conda-env-capstone_nf-py"
  },
  "language_info": {
   "codemirror_mode": {
    "name": "ipython",
    "version": 3
   },
   "file_extension": ".py",
   "mimetype": "text/x-python",
   "name": "python",
   "nbconvert_exporter": "python",
   "pygments_lexer": "ipython3",
   "version": "3.7.5"
  }
 },
 "nbformat": 4,
 "nbformat_minor": 4
}

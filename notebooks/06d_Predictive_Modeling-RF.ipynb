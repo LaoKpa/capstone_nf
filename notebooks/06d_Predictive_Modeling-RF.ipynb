{
 "cells": [
  {
   "cell_type": "markdown",
   "metadata": {},
   "source": [
    "# Predictive Modelling: RandomForest"
   ]
  },
  {
   "cell_type": "markdown",
   "metadata": {},
   "source": [
    "# Imports"
   ]
  },
  {
   "cell_type": "code",
   "execution_count": 1,
   "metadata": {},
   "outputs": [],
   "source": [
    "%load_ext autoreload\n",
    "%autoreload 2\n",
    "\n",
    "# Pandas and numpy\n",
    "import pandas as pd\n",
    "import numpy as np\n",
    "\n",
    "# \n",
    "from IPython.display import display, clear_output\n",
    "import sys\n",
    "import time\n",
    "\n",
    "# Libraries for Visualization\n",
    "import matplotlib.pyplot as plt\n",
    "import seaborn as sns\n",
    "from src.visualization.visualize import plot_corr_matrix, plot_multi, plot_norm_dist, plot_feature_importances\n",
    "\n",
    "# Some custom tools\n",
    "from src.data.tools import check_for_missing_vals\n",
    "\n",
    "# \n",
    "from src.models.predict_model import avg_model, run_combinations\n",
    "#from src.models.train_model import run_combinations \n",
    "\n",
    "# Alpaca API\n",
    "import alpaca_trade_api as tradeapi\n",
    "\n",
    "# Pickle\n",
    "import pickle\n",
    "import os\n",
    "from pathlib import Path\n",
    "\n",
    "# To load variables from .env file into system environment\n",
    "from dotenv import find_dotenv, load_dotenv\n",
    "\n",
    "from atomm.Indicators import MomentumIndicators\n",
    "from atomm.DataManager.main import MSDataManager\n",
    "from atomm.Tools import calc_open_position, calc_returns\n",
    "from src.visualization.visualize import plot_confusion_matrix\n",
    "from atomm.Methods import BlockingTimeSeriesSplit, PurgedKFold           \n",
    "\n",
    "\n",
    "import time\n",
    "\n",
    "# scikit-learn\n",
    "from sklearn.svm import SVC\n",
    "from sklearn.metrics import accuracy_score\n",
    "from sklearn.model_selection import cross_val_score, TimeSeriesSplit\n",
    "from xgboost import XGBClassifier\n",
    "from sklearn.metrics import classification_report, confusion_matrix, plot_confusion_matrix\n",
    "from sklearn.metrics import accuracy_score, recall_score, f1_score, precision_score\n",
    "from sklearn.model_selection import train_test_split, TimeSeriesSplit\n",
    "\n",
    "from sklearn.ensemble import BaggingClassifier\n",
    "from sklearn.multiclass import OneVsRestClassifier\n",
    "from sklearn.neighbors import KNeighborsClassifier\n",
    "from sklearn.ensemble import RandomForestClassifier\n",
    "from sklearn.linear_model import LogisticRegression\n",
    "\n",
    "# For BayesianHyperparameter Optimization\n",
    "from atomm.Models.Tuning import search_space, BayesianSearch\n",
    "from hyperopt import space_eval\n",
    "\n",
    "# Visualization libraries\n",
    "import seaborn as sns\n",
    "import matplotlib.pyplot as plt\n",
    "from pandas.plotting import scatter_matrix\n",
    "import matplotlib.gridspec as gridspec\n",
    "#import matplotlib.style as style\n",
    "from scipy import stats"
   ]
  },
  {
   "cell_type": "code",
   "execution_count": 2,
   "metadata": {},
   "outputs": [
    {
     "data": {
      "text/plain": [
       "True"
      ]
     },
     "execution_count": 2,
     "metadata": {},
     "output_type": "execute_result"
    }
   ],
   "source": [
    "# Load environment variables\n",
    "load_dotenv(find_dotenv())"
   ]
  },
  {
   "cell_type": "markdown",
   "metadata": {},
   "source": [
    "## Loading the data"
   ]
  },
  {
   "cell_type": "code",
   "execution_count": 3,
   "metadata": {},
   "outputs": [],
   "source": [
    "data_base_dir = os.environ.get('DATA_DIR_BASE_PATH')\n",
    "\n",
    "fname = os.path.join(data_base_dir, 'processed', 'index.h5')\n",
    "fname = Path(fname)\n",
    "# Load dataset from HDF storage\n",
    "with pd.HDFStore(fname) as storage:\n",
    "    djia = storage.get('nyse/cleaned/rand_symbols')\n",
    "    y_2c = storage.get('nyse/engineered/target_two_class')\n",
    "    y_3c = storage.get('nyse/engineered/target_three_class')\n",
    "    df_moments = storage.get('nyse/engineered/features')\n",
    "    #print(storage.info())\n",
    "    \n",
    "# Create copies of the pristine data\n",
    "X = df_moments.copy()\n",
    "y = y_3c.copy()\n",
    "y2 = y_2c.copy()\n",
    "prices = djia.copy()"
   ]
  },
  {
   "cell_type": "code",
   "execution_count": 4,
   "metadata": {},
   "outputs": [],
   "source": [
    "forecast_horizon = [1, 3, 5, 7, 10, 15, 20, 25, 30]\n",
    "input_window_size = [3, 5, 7, 10, 15, 20, 25, 30]\n",
    "ti_list = ['macd', 'rsi', 'stoc', 'roc', 'bbu', 'bbl', 'ema', 'atr', 'adx', 'cci', 'williamsr', 'stocd']\n",
    "symbol_list = df_moments.columns.get_level_values(0).unique()"
   ]
  },
  {
   "cell_type": "code",
   "execution_count": 5,
   "metadata": {},
   "outputs": [
    {
     "data": {
      "text/plain": [
       "Index(['macd_3', 'rsi_3', 'stoc_3', 'roc_3', 'bbu_3', 'bbl_3', 'ema_3',\n",
       "       'atr_3', 'adx_3', 'cci_3', 'williamsr_3', 'stocd_3', 'macd_5', 'rsi_5',\n",
       "       'stoc_5', 'roc_5', 'bbu_5', 'bbl_5', 'ema_5', 'atr_5', 'adx_5', 'cci_5',\n",
       "       'williamsr_5', 'stocd_5', 'macd_7', 'rsi_7', 'stoc_7', 'roc_7', 'bbu_7',\n",
       "       'bbl_7', 'ema_7', 'atr_7', 'adx_7', 'cci_7', 'williamsr_7', 'stocd_7',\n",
       "       'macd_10', 'rsi_10', 'stoc_10', 'roc_10', 'bbu_10', 'bbl_10', 'ema_10',\n",
       "       'atr_10', 'adx_10', 'cci_10', 'williamsr_10', 'stocd_10', 'macd_15',\n",
       "       'rsi_15', 'stoc_15', 'roc_15', 'bbu_15', 'bbl_15', 'ema_15', 'atr_15',\n",
       "       'adx_15', 'cci_15', 'williamsr_15', 'stocd_15', 'macd_20', 'rsi_20',\n",
       "       'stoc_20', 'roc_20', 'bbu_20', 'bbl_20', 'ema_20', 'atr_20', 'adx_20',\n",
       "       'cci_20', 'williamsr_20', 'stocd_20', 'macd_25', 'rsi_25', 'stoc_25',\n",
       "       'roc_25', 'bbu_25', 'bbl_25', 'ema_25', 'atr_25', 'adx_25', 'cci_25',\n",
       "       'williamsr_25', 'stocd_25', 'macd_30', 'rsi_30', 'stoc_30', 'roc_30',\n",
       "       'bbu_30', 'bbl_30', 'ema_30', 'atr_30', 'adx_30', 'cci_30',\n",
       "       'williamsr_30', 'stocd_30'],\n",
       "      dtype='object')"
      ]
     },
     "execution_count": 5,
     "metadata": {},
     "output_type": "execute_result"
    }
   ],
   "source": [
    "df_moments.columns.get_level_values(1).unique()"
   ]
  },
  {
   "cell_type": "markdown",
   "metadata": {},
   "source": [
    "## Imputing missing values"
   ]
  },
  {
   "cell_type": "code",
   "execution_count": 6,
   "metadata": {},
   "outputs": [
    {
     "data": {
      "text/plain": [
       "(1954, 4800)"
      ]
     },
     "execution_count": 6,
     "metadata": {},
     "output_type": "execute_result"
    }
   ],
   "source": [
    "X.shape"
   ]
  },
  {
   "cell_type": "code",
   "execution_count": 7,
   "metadata": {},
   "outputs": [
    {
     "name": "stdout",
     "output_type": "stream",
     "text": [
      "No missing values found in dataframe\n"
     ]
    }
   ],
   "source": [
    "check_for_missing_vals(X)"
   ]
  },
  {
   "cell_type": "markdown",
   "metadata": {},
   "source": [
    "Prices values"
   ]
  },
  {
   "cell_type": "code",
   "execution_count": 8,
   "metadata": {},
   "outputs": [
    {
     "data": {
      "text/plain": [
       "(1954, 250)"
      ]
     },
     "execution_count": 8,
     "metadata": {},
     "output_type": "execute_result"
    }
   ],
   "source": [
    "prices.shape"
   ]
  },
  {
   "cell_type": "code",
   "execution_count": 9,
   "metadata": {},
   "outputs": [
    {
     "name": "stdout",
     "output_type": "stream",
     "text": [
      "No missing values found in dataframe\n"
     ]
    }
   ],
   "source": [
    "check_for_missing_vals(prices)"
   ]
  },
  {
   "cell_type": "code",
   "execution_count": 10,
   "metadata": {},
   "outputs": [
    {
     "data": {
      "text/plain": [
       "(1954, 450)"
      ]
     },
     "execution_count": 10,
     "metadata": {},
     "output_type": "execute_result"
    }
   ],
   "source": [
    "y_3c.shape"
   ]
  },
  {
   "cell_type": "code",
   "execution_count": 11,
   "metadata": {},
   "outputs": [
    {
     "name": "stdout",
     "output_type": "stream",
     "text": [
      "No missing values found in dataframe\n"
     ]
    }
   ],
   "source": [
    "check_for_missing_vals(y_3c)"
   ]
  },
  {
   "cell_type": "code",
   "execution_count": 12,
   "metadata": {},
   "outputs": [
    {
     "data": {
      "text/plain": [
       "(1954, 450)"
      ]
     },
     "execution_count": 12,
     "metadata": {},
     "output_type": "execute_result"
    }
   ],
   "source": [
    "y2.shape"
   ]
  },
  {
   "cell_type": "code",
   "execution_count": 13,
   "metadata": {},
   "outputs": [
    {
     "name": "stdout",
     "output_type": "stream",
     "text": [
      "No missing values found in dataframe\n"
     ]
    }
   ],
   "source": [
    "check_for_missing_vals(y2)"
   ]
  },
  {
   "cell_type": "markdown",
   "metadata": {},
   "source": [
    "No missing values, and sizes of ```y.shape[0]``` and```X.shape[0]``` match."
   ]
  },
  {
   "cell_type": "markdown",
   "metadata": {},
   "source": [
    "# Scaling the features"
   ]
  },
  {
   "cell_type": "code",
   "execution_count": 14,
   "metadata": {},
   "outputs": [],
   "source": [
    "from sklearn.preprocessing import MinMaxScaler, StandardScaler"
   ]
  },
  {
   "cell_type": "code",
   "execution_count": 15,
   "metadata": {},
   "outputs": [],
   "source": [
    "#scale = MinMaxScaler()\n",
    "scale = StandardScaler()"
   ]
  },
  {
   "cell_type": "code",
   "execution_count": 16,
   "metadata": {},
   "outputs": [],
   "source": [
    "scaled = scale.fit_transform(X)"
   ]
  },
  {
   "cell_type": "code",
   "execution_count": 17,
   "metadata": {},
   "outputs": [
    {
     "data": {
      "text/plain": [
       "(1954, 4800)"
      ]
     },
     "execution_count": 17,
     "metadata": {},
     "output_type": "execute_result"
    }
   ],
   "source": [
    "scaled.shape"
   ]
  },
  {
   "cell_type": "code",
   "execution_count": 18,
   "metadata": {},
   "outputs": [],
   "source": [
    "#X_scaled = pd.DataFrame(data=scaled, columns=X.columns)\n",
    "X_scaled = X"
   ]
  },
  {
   "cell_type": "markdown",
   "metadata": {},
   "source": [
    "# Train-Test Split"
   ]
  },
  {
   "cell_type": "code",
   "execution_count": 19,
   "metadata": {},
   "outputs": [],
   "source": [
    "# Use 70/30 train/test splits\n",
    "test_p = .3"
   ]
  },
  {
   "cell_type": "code",
   "execution_count": 30,
   "metadata": {},
   "outputs": [],
   "source": [
    "# Three-class\n",
    "test_size = int((1 - test_p) * X_scaled.shape[0])\n",
    "X_train, X_test, y_train, y_test = X_scaled[:test_size], X_scaled[test_size:], y_3c[:test_size], y_3c[test_size:]\n",
    "prices_train, prices_test = djia[:test_size], djia[test_size:]"
   ]
  },
  {
   "cell_type": "code",
   "execution_count": 22,
   "metadata": {},
   "outputs": [],
   "source": [
    "# Unscaled, two-class\n",
    "test_size = int((1 - test_p) * X.shape[0])\n",
    "X_train, X_test, y_train, y_test = X[:test_size], X[test_size:], y2[:test_size], y2[test_size:]\n",
    "prices_train, prices_test = djia[:test_size], djia[test_size:]"
   ]
  },
  {
   "cell_type": "code",
   "execution_count": 58,
   "metadata": {},
   "outputs": [],
   "source": [
    "# Scaled, two-class\n",
    "test_size = int((1 - test_p) * X.shape[0])\n",
    "X_train, X_test, y_train, y_test = X_scaled[:test_size], X_scaled[test_size:], y2[:test_size], y2[test_size:]\n",
    "prices_train, prices_test = djia[:test_size], djia[test_size:]"
   ]
  },
  {
   "cell_type": "code",
   "execution_count": null,
   "metadata": {},
   "outputs": [],
   "source": [
    "#test_size = test_p\n",
    "#X_train, X_test, y_train, y_test = train_test_split(X_scaled, y_3c, test_size=test_size, random_state=101)"
   ]
  },
  {
   "cell_type": "markdown",
   "metadata": {},
   "source": [
    "# Model"
   ]
  },
  {
   "cell_type": "code",
   "execution_count": 23,
   "metadata": {},
   "outputs": [
    {
     "data": {
      "text/plain": [
       "Index(['CNC', 'FMC', 'ALGN', 'RTN', 'FAST', 'ETFC', 'ABC', 'PFG', 'AXP', 'PNW',\n",
       "       'CMS', 'URI', 'PRGO', 'DRI', 'MAS', 'M', 'ZION', 'CINF', 'HIG', 'EOG',\n",
       "       'ICE', 'CBOE', 'ALL', 'UHS', 'FRT', 'NEM', 'BLL', 'NDAQ', 'CMG', 'JKHY',\n",
       "       'T', 'QCOM', 'FTI', 'AOS', 'ATVI', 'STT', 'TXN', 'KIM', 'NTAP', 'CHD',\n",
       "       'WYNN', 'GM', 'SJM', 'MCHP', 'ES', 'KMB', 'GIS', 'EXC', 'IBM', 'MSFT'],\n",
       "      dtype='object')"
      ]
     },
     "execution_count": 23,
     "metadata": {},
     "output_type": "execute_result"
    }
   ],
   "source": [
    "symbol_list"
   ]
  },
  {
   "cell_type": "code",
   "execution_count": 22,
   "metadata": {},
   "outputs": [],
   "source": [
    "symbol = 'T'\n",
    "n1 = 15\n",
    "n2 = 15\n",
    "n_estimators = 10\n",
    "# set up cross validation splits\n",
    "tscv = TimeSeriesSplit(n_splits=5)\n",
    "btscv = BlockingTimeSeriesSplit(n_splits=5)\n",
    "#ppcv = PurgedKFold(n_splits=5)"
   ]
  },
  {
   "cell_type": "code",
   "execution_count": 67,
   "metadata": {},
   "outputs": [],
   "source": [
    "# Creates a list of features for a given lookback window (n1)\n",
    "features = [f'{x}_{n1}' for x in ti_list]\n",
    "# Creates a list of all features\n",
    "all_features = [f'{x}_{n}' for x in ti_list for n in input_window_size]"
   ]
  },
  {
   "cell_type": "markdown",
   "metadata": {},
   "source": [
    "## Single lookback/lookahead combination"
   ]
  },
  {
   "cell_type": "code",
   "execution_count": 102,
   "metadata": {},
   "outputs": [
    {
     "data": {
      "text/plain": [
       "OneVsRestClassifier(estimator=BaggingClassifier(base_estimator=SVC(C=1.0,\n",
       "                                                                   break_ties=False,\n",
       "                                                                   cache_size=200,\n",
       "                                                                   class_weight='balanced',\n",
       "                                                                   coef0=0.0,\n",
       "                                                                   decision_function_shape='ovr',\n",
       "                                                                   degree=3,\n",
       "                                                                   gamma='scale',\n",
       "                                                                   kernel='rbf',\n",
       "                                                                   max_iter=-1,\n",
       "                                                                   probability=False,\n",
       "                                                                   random_state=None,\n",
       "                                                                   shrinking=True,\n",
       "                                                                   tol=0.001,\n",
       "                                                                   verbose=False),\n",
       "                                                bootstrap=True,\n",
       "                                                bootstrap_features=False,\n",
       "                                                max_features=1.0,\n",
       "                                                max_samples=0.4,\n",
       "                                                n_estimators=10, n_jobs=-1,\n",
       "                                                oob_score=False,\n",
       "                                                random_state=None, verbose=0,\n",
       "                                                warm_start=False),\n",
       "                    n_jobs=None)"
      ]
     },
     "execution_count": 102,
     "metadata": {},
     "output_type": "execute_result"
    }
   ],
   "source": [
    "clf_svc1 = OneVsRestClassifier(\n",
    "    BaggingClassifier(\n",
    "                    SVC(\n",
    "                        kernel='rbf',\n",
    "                        class_weight='balanced'\n",
    "                    ),\n",
    "                    max_samples=.4, \n",
    "                    n_estimators=n_estimators,\n",
    "                    n_jobs=-1)\n",
    ")\n",
    "\n",
    "\n",
    "clf_svc1.fit(X_train[symbol][[f'{x}_{n}' for x in ti_list]], y_train[symbol][f'signal_{n}'])"
   ]
  },
  {
   "cell_type": "code",
   "execution_count": 103,
   "metadata": {},
   "outputs": [
    {
     "name": "stdout",
     "output_type": "stream",
     "text": [
      "Accuracy Score:  0.5400340715502555\n",
      "              precision    recall  f1-score   support\n",
      "\n",
      "           0       0.91      0.52      0.66       505\n",
      "           1       0.19      0.68      0.29        82\n",
      "\n",
      "    accuracy                           0.54       587\n",
      "   macro avg       0.55      0.60      0.48       587\n",
      "weighted avg       0.81      0.54      0.61       587\n",
      "\n"
     ]
    },
    {
     "data": {
      "text/plain": [
       "<sklearn.metrics._plot.confusion_matrix.ConfusionMatrixDisplay at 0x1a3a7ca550>"
      ]
     },
     "execution_count": 103,
     "metadata": {},
     "output_type": "execute_result"
    },
    {
     "data": {
      "image/png": "[encoded data removed]",
      "text/plain": [
       "<Figure size 432x288 with 2 Axes>"
      ]
     },
     "metadata": {
      "needs_background": "light"
     },
     "output_type": "display_data"
    }
   ],
   "source": [
    "y_pred_svc1 = clf_svc1.predict(X_test[symbol][[f'{x}_{n}' for x in ti_list]])\n",
    "print('Accuracy Score: ', accuracy_score(y_pred_svc1, y_test[symbol][f'signal_{n}']))\n",
    "print(classification_report(y_pred_svc1, y_test[symbol][f'signal_{n}']))\n",
    "plot_confusion_matrix(\n",
    "    clf_svc1,\n",
    "    X_test[symbol][[f'{x}_{n}' for x in ti_list]],\n",
    "    y_test[symbol][f'signal_{n}'],\n",
    "    normalize='all'\n",
    ")"
   ]
  },
  {
   "cell_type": "markdown",
   "metadata": {},
   "source": [
    "## Averaging across all 50 randomly selected stocks"
   ]
  },
  {
   "cell_type": "code",
   "execution_count": 172,
   "metadata": {},
   "outputs": [
    {
     "data": {
      "text/plain": [
       "'Leg [50/50]; Elapsed Time 337.0s\\n'"
      ]
     },
     "metadata": {},
     "output_type": "display_data"
    },
    {
     "data": {
      "text/html": [
       "<style  type=\"text/css\" >\n",
       "    #T_d7615608_2a75_11ea_a645_f0189811b80erow0_col0 {\n",
       "            background-color:  #00441b;\n",
       "            color:  #f1f1f1;\n",
       "        }    #T_d7615608_2a75_11ea_a645_f0189811b80erow0_col1 {\n",
       "            background-color:  #00441b;\n",
       "            color:  #f1f1f1;\n",
       "        }    #T_d7615608_2a75_11ea_a645_f0189811b80erow0_col2 {\n",
       "            background-color:  #00441b;\n",
       "            color:  #f1f1f1;\n",
       "        }    #T_d7615608_2a75_11ea_a645_f0189811b80erow0_col3 {\n",
       "            background-color:  #00441b;\n",
       "            color:  #f1f1f1;\n",
       "        }    #T_d7615608_2a75_11ea_a645_f0189811b80erow0_col4 {\n",
       "            background-color:  #00441b;\n",
       "            color:  #f1f1f1;\n",
       "        }    #T_d7615608_2a75_11ea_a645_f0189811b80erow0_col5 {\n",
       "            background-color:  #00441b;\n",
       "            color:  #f1f1f1;\n",
       "        }    #T_d7615608_2a75_11ea_a645_f0189811b80erow0_col6 {\n",
       "            background-color:  #00441b;\n",
       "            color:  #f1f1f1;\n",
       "        }    #T_d7615608_2a75_11ea_a645_f0189811b80erow0_col7 {\n",
       "            background-color:  #026f2e;\n",
       "            color:  #f1f1f1;\n",
       "        }    #T_d7615608_2a75_11ea_a645_f0189811b80erow1_col0 {\n",
       "            background-color:  #52b78b;\n",
       "            color:  #000000;\n",
       "        }    #T_d7615608_2a75_11ea_a645_f0189811b80erow1_col1 {\n",
       "            background-color:  #3ba76c;\n",
       "            color:  #000000;\n",
       "        }    #T_d7615608_2a75_11ea_a645_f0189811b80erow1_col2 {\n",
       "            background-color:  #097532;\n",
       "            color:  #f1f1f1;\n",
       "        }    #T_d7615608_2a75_11ea_a645_f0189811b80erow1_col3 {\n",
       "            background-color:  #1e8741;\n",
       "            color:  #000000;\n",
       "        }    #T_d7615608_2a75_11ea_a645_f0189811b80erow1_col4 {\n",
       "            background-color:  #19833e;\n",
       "            color:  #f1f1f1;\n",
       "        }    #T_d7615608_2a75_11ea_a645_f0189811b80erow1_col5 {\n",
       "            background-color:  #0a7633;\n",
       "            color:  #f1f1f1;\n",
       "        }    #T_d7615608_2a75_11ea_a645_f0189811b80erow1_col6 {\n",
       "            background-color:  #016e2d;\n",
       "            color:  #f1f1f1;\n",
       "        }    #T_d7615608_2a75_11ea_a645_f0189811b80erow1_col7 {\n",
       "            background-color:  #00441b;\n",
       "            color:  #f1f1f1;\n",
       "        }    #T_d7615608_2a75_11ea_a645_f0189811b80erow2_col0 {\n",
       "            background-color:  #a7ddd1;\n",
       "            color:  #000000;\n",
       "        }    #T_d7615608_2a75_11ea_a645_f0189811b80erow2_col1 {\n",
       "            background-color:  #4eb586;\n",
       "            color:  #000000;\n",
       "        }    #T_d7615608_2a75_11ea_a645_f0189811b80erow2_col2 {\n",
       "            background-color:  #2f9858;\n",
       "            color:  #000000;\n",
       "        }    #T_d7615608_2a75_11ea_a645_f0189811b80erow2_col3 {\n",
       "            background-color:  #40ad75;\n",
       "            color:  #000000;\n",
       "        }    #T_d7615608_2a75_11ea_a645_f0189811b80erow2_col4 {\n",
       "            background-color:  #005522;\n",
       "            color:  #f1f1f1;\n",
       "        }    #T_d7615608_2a75_11ea_a645_f0189811b80erow2_col5 {\n",
       "            background-color:  #39a569;\n",
       "            color:  #000000;\n",
       "        }    #T_d7615608_2a75_11ea_a645_f0189811b80erow2_col6 {\n",
       "            background-color:  #62c09f;\n",
       "            color:  #000000;\n",
       "        }    #T_d7615608_2a75_11ea_a645_f0189811b80erow2_col7 {\n",
       "            background-color:  #39a569;\n",
       "            color:  #000000;\n",
       "        }    #T_d7615608_2a75_11ea_a645_f0189811b80erow3_col0 {\n",
       "            background-color:  #4bb382;\n",
       "            color:  #000000;\n",
       "        }    #T_d7615608_2a75_11ea_a645_f0189811b80erow3_col1 {\n",
       "            background-color:  #3ca86d;\n",
       "            color:  #000000;\n",
       "        }    #T_d7615608_2a75_11ea_a645_f0189811b80erow3_col2 {\n",
       "            background-color:  #3fab72;\n",
       "            color:  #000000;\n",
       "        }    #T_d7615608_2a75_11ea_a645_f0189811b80erow3_col3 {\n",
       "            background-color:  #6cc4a8;\n",
       "            color:  #000000;\n",
       "        }    #T_d7615608_2a75_11ea_a645_f0189811b80erow3_col4 {\n",
       "            background-color:  #208843;\n",
       "            color:  #000000;\n",
       "        }    #T_d7615608_2a75_11ea_a645_f0189811b80erow3_col5 {\n",
       "            background-color:  #228a44;\n",
       "            color:  #000000;\n",
       "        }    #T_d7615608_2a75_11ea_a645_f0189811b80erow3_col6 {\n",
       "            background-color:  #62c09f;\n",
       "            color:  #000000;\n",
       "        }    #T_d7615608_2a75_11ea_a645_f0189811b80erow3_col7 {\n",
       "            background-color:  #005120;\n",
       "            color:  #f1f1f1;\n",
       "        }    #T_d7615608_2a75_11ea_a645_f0189811b80erow4_col0 {\n",
       "            background-color:  #36a164;\n",
       "            color:  #000000;\n",
       "        }    #T_d7615608_2a75_11ea_a645_f0189811b80erow4_col1 {\n",
       "            background-color:  #349f61;\n",
       "            color:  #000000;\n",
       "        }    #T_d7615608_2a75_11ea_a645_f0189811b80erow4_col2 {\n",
       "            background-color:  #2e9756;\n",
       "            color:  #000000;\n",
       "        }    #T_d7615608_2a75_11ea_a645_f0189811b80erow4_col3 {\n",
       "            background-color:  #53b88c;\n",
       "            color:  #000000;\n",
       "        }    #T_d7615608_2a75_11ea_a645_f0189811b80erow4_col4 {\n",
       "            background-color:  #006c2c;\n",
       "            color:  #f1f1f1;\n",
       "        }    #T_d7615608_2a75_11ea_a645_f0189811b80erow4_col5 {\n",
       "            background-color:  #1c8540;\n",
       "            color:  #000000;\n",
       "        }    #T_d7615608_2a75_11ea_a645_f0189811b80erow4_col6 {\n",
       "            background-color:  #36a164;\n",
       "            color:  #000000;\n",
       "        }    #T_d7615608_2a75_11ea_a645_f0189811b80erow4_col7 {\n",
       "            background-color:  #68c3a6;\n",
       "            color:  #000000;\n",
       "        }    #T_d7615608_2a75_11ea_a645_f0189811b80erow5_col0 {\n",
       "            background-color:  #9ad8ca;\n",
       "            color:  #000000;\n",
       "        }    #T_d7615608_2a75_11ea_a645_f0189811b80erow5_col1 {\n",
       "            background-color:  #258d48;\n",
       "            color:  #000000;\n",
       "        }    #T_d7615608_2a75_11ea_a645_f0189811b80erow5_col2 {\n",
       "            background-color:  #b0e1d6;\n",
       "            color:  #000000;\n",
       "        }    #T_d7615608_2a75_11ea_a645_f0189811b80erow5_col3 {\n",
       "            background-color:  #6dc5a9;\n",
       "            color:  #000000;\n",
       "        }    #T_d7615608_2a75_11ea_a645_f0189811b80erow5_col4 {\n",
       "            background-color:  #37a266;\n",
       "            color:  #000000;\n",
       "        }    #T_d7615608_2a75_11ea_a645_f0189811b80erow5_col5 {\n",
       "            background-color:  #55b98f;\n",
       "            color:  #000000;\n",
       "        }    #T_d7615608_2a75_11ea_a645_f0189811b80erow5_col6 {\n",
       "            background-color:  #f7fcfd;\n",
       "            color:  #000000;\n",
       "        }    #T_d7615608_2a75_11ea_a645_f0189811b80erow5_col7 {\n",
       "            background-color:  #eef8fb;\n",
       "            color:  #000000;\n",
       "        }    #T_d7615608_2a75_11ea_a645_f0189811b80erow6_col0 {\n",
       "            background-color:  #f4fbfc;\n",
       "            color:  #000000;\n",
       "        }    #T_d7615608_2a75_11ea_a645_f0189811b80erow6_col1 {\n",
       "            background-color:  #d3eeeb;\n",
       "            color:  #000000;\n",
       "        }    #T_d7615608_2a75_11ea_a645_f0189811b80erow6_col2 {\n",
       "            background-color:  #daf1f1;\n",
       "            color:  #000000;\n",
       "        }    #T_d7615608_2a75_11ea_a645_f0189811b80erow6_col3 {\n",
       "            background-color:  #e9f7fa;\n",
       "            color:  #000000;\n",
       "        }    #T_d7615608_2a75_11ea_a645_f0189811b80erow6_col4 {\n",
       "            background-color:  #f4fbfc;\n",
       "            color:  #000000;\n",
       "        }    #T_d7615608_2a75_11ea_a645_f0189811b80erow6_col5 {\n",
       "            background-color:  #f7fcfd;\n",
       "            color:  #000000;\n",
       "        }    #T_d7615608_2a75_11ea_a645_f0189811b80erow6_col6 {\n",
       "            background-color:  #edf8fb;\n",
       "            color:  #000000;\n",
       "        }    #T_d7615608_2a75_11ea_a645_f0189811b80erow6_col7 {\n",
       "            background-color:  #f7fcfd;\n",
       "            color:  #000000;\n",
       "        }    #T_d7615608_2a75_11ea_a645_f0189811b80erow7_col0 {\n",
       "            background-color:  #ebf7fa;\n",
       "            color:  #000000;\n",
       "        }    #T_d7615608_2a75_11ea_a645_f0189811b80erow7_col1 {\n",
       "            background-color:  #f7fcfd;\n",
       "            color:  #000000;\n",
       "        }    #T_d7615608_2a75_11ea_a645_f0189811b80erow7_col2 {\n",
       "            background-color:  #e0f3f5;\n",
       "            color:  #000000;\n",
       "        }    #T_d7615608_2a75_11ea_a645_f0189811b80erow7_col3 {\n",
       "            background-color:  #d4efec;\n",
       "            color:  #000000;\n",
       "        }    #T_d7615608_2a75_11ea_a645_f0189811b80erow7_col4 {\n",
       "            background-color:  #d0ede9;\n",
       "            color:  #000000;\n",
       "        }    #T_d7615608_2a75_11ea_a645_f0189811b80erow7_col5 {\n",
       "            background-color:  #ccece6;\n",
       "            color:  #000000;\n",
       "        }    #T_d7615608_2a75_11ea_a645_f0189811b80erow7_col6 {\n",
       "            background-color:  #e9f7fa;\n",
       "            color:  #000000;\n",
       "        }    #T_d7615608_2a75_11ea_a645_f0189811b80erow7_col7 {\n",
       "            background-color:  #f5fbfc;\n",
       "            color:  #000000;\n",
       "        }    #T_d7615608_2a75_11ea_a645_f0189811b80erow8_col0 {\n",
       "            background-color:  #f7fcfd;\n",
       "            color:  #000000;\n",
       "        }    #T_d7615608_2a75_11ea_a645_f0189811b80erow8_col1 {\n",
       "            background-color:  #f4fbfc;\n",
       "            color:  #000000;\n",
       "        }    #T_d7615608_2a75_11ea_a645_f0189811b80erow8_col2 {\n",
       "            background-color:  #f7fcfd;\n",
       "            color:  #000000;\n",
       "        }    #T_d7615608_2a75_11ea_a645_f0189811b80erow8_col3 {\n",
       "            background-color:  #f7fcfd;\n",
       "            color:  #000000;\n",
       "        }    #T_d7615608_2a75_11ea_a645_f0189811b80erow8_col4 {\n",
       "            background-color:  #f7fcfd;\n",
       "            color:  #000000;\n",
       "        }    #T_d7615608_2a75_11ea_a645_f0189811b80erow8_col5 {\n",
       "            background-color:  #55b98f;\n",
       "            color:  #000000;\n",
       "        }    #T_d7615608_2a75_11ea_a645_f0189811b80erow8_col6 {\n",
       "            background-color:  #d1eeea;\n",
       "            color:  #000000;\n",
       "        }    #T_d7615608_2a75_11ea_a645_f0189811b80erow8_col7 {\n",
       "            background-color:  #e7f6f9;\n",
       "            color:  #000000;\n",
       "        }</style><table id=\"T_d7615608_2a75_11ea_a645_f0189811b80e\" ><thead>    <tr>        <th class=\"blank level0\" ></th>        <th class=\"col_heading level0 col0\" >3</th>        <th class=\"col_heading level0 col1\" >5</th>        <th class=\"col_heading level0 col2\" >7</th>        <th class=\"col_heading level0 col3\" >10</th>        <th class=\"col_heading level0 col4\" >15</th>        <th class=\"col_heading level0 col5\" >20</th>        <th class=\"col_heading level0 col6\" >25</th>        <th class=\"col_heading level0 col7\" >30</th>    </tr></thead><tbody>\n",
       "                <tr>\n",
       "                        <th id=\"T_d7615608_2a75_11ea_a645_f0189811b80elevel0_row0\" class=\"row_heading level0 row0\" >1</th>\n",
       "                        <td id=\"T_d7615608_2a75_11ea_a645_f0189811b80erow0_col0\" class=\"data row0 col0\" >0.413629</td>\n",
       "                        <td id=\"T_d7615608_2a75_11ea_a645_f0189811b80erow0_col1\" class=\"data row0 col1\" >0.41339</td>\n",
       "                        <td id=\"T_d7615608_2a75_11ea_a645_f0189811b80erow0_col2\" class=\"data row0 col2\" >0.411721</td>\n",
       "                        <td id=\"T_d7615608_2a75_11ea_a645_f0189811b80erow0_col3\" class=\"data row0 col3\" >0.412368</td>\n",
       "                        <td id=\"T_d7615608_2a75_11ea_a645_f0189811b80erow0_col4\" class=\"data row0 col4\" >0.409506</td>\n",
       "                        <td id=\"T_d7615608_2a75_11ea_a645_f0189811b80erow0_col5\" class=\"data row0 col5\" >0.413663</td>\n",
       "                        <td id=\"T_d7615608_2a75_11ea_a645_f0189811b80erow0_col6\" class=\"data row0 col6\" >0.414037</td>\n",
       "                        <td id=\"T_d7615608_2a75_11ea_a645_f0189811b80erow0_col7\" class=\"data row0 col7\" >0.412129</td>\n",
       "            </tr>\n",
       "            <tr>\n",
       "                        <th id=\"T_d7615608_2a75_11ea_a645_f0189811b80elevel0_row1\" class=\"row_heading level0 row1\" >3</th>\n",
       "                        <td id=\"T_d7615608_2a75_11ea_a645_f0189811b80erow1_col0\" class=\"data row1 col0\" >0.406065</td>\n",
       "                        <td id=\"T_d7615608_2a75_11ea_a645_f0189811b80erow1_col1\" class=\"data row1 col1\" >0.406814</td>\n",
       "                        <td id=\"T_d7615608_2a75_11ea_a645_f0189811b80erow1_col2\" class=\"data row1 col2\" >0.409165</td>\n",
       "                        <td id=\"T_d7615608_2a75_11ea_a645_f0189811b80erow1_col3\" class=\"data row1 col3\" >0.407836</td>\n",
       "                        <td id=\"T_d7615608_2a75_11ea_a645_f0189811b80erow1_col4\" class=\"data row1 col4\" >0.406951</td>\n",
       "                        <td id=\"T_d7615608_2a75_11ea_a645_f0189811b80erow1_col5\" class=\"data row1 col5\" >0.410971</td>\n",
       "                        <td id=\"T_d7615608_2a75_11ea_a645_f0189811b80erow1_col6\" class=\"data row1 col6\" >0.411959</td>\n",
       "                        <td id=\"T_d7615608_2a75_11ea_a645_f0189811b80erow1_col7\" class=\"data row1 col7\" >0.414514</td>\n",
       "            </tr>\n",
       "            <tr>\n",
       "                        <th id=\"T_d7615608_2a75_11ea_a645_f0189811b80elevel0_row2\" class=\"row_heading level0 row2\" >5</th>\n",
       "                        <td id=\"T_d7615608_2a75_11ea_a645_f0189811b80erow2_col0\" class=\"data row2 col0\" >0.402078</td>\n",
       "                        <td id=\"T_d7615608_2a75_11ea_a645_f0189811b80erow2_col1\" class=\"data row2 col1\" >0.405486</td>\n",
       "                        <td id=\"T_d7615608_2a75_11ea_a645_f0189811b80erow2_col2\" class=\"data row2 col2\" >0.406917</td>\n",
       "                        <td id=\"T_d7615608_2a75_11ea_a645_f0189811b80erow2_col3\" class=\"data row2 col3\" >0.405077</td>\n",
       "                        <td id=\"T_d7615608_2a75_11ea_a645_f0189811b80erow2_col4\" class=\"data row2 col4\" >0.408893</td>\n",
       "                        <td id=\"T_d7615608_2a75_11ea_a645_f0189811b80erow2_col5\" class=\"data row2 col5\" >0.407939</td>\n",
       "                        <td id=\"T_d7615608_2a75_11ea_a645_f0189811b80erow2_col6\" class=\"data row2 col6\" >0.406337</td>\n",
       "                        <td id=\"T_d7615608_2a75_11ea_a645_f0189811b80erow2_col7\" class=\"data row2 col7\" >0.408382</td>\n",
       "            </tr>\n",
       "            <tr>\n",
       "                        <th id=\"T_d7615608_2a75_11ea_a645_f0189811b80elevel0_row3\" class=\"row_heading level0 row3\" >7</th>\n",
       "                        <td id=\"T_d7615608_2a75_11ea_a645_f0189811b80erow3_col0\" class=\"data row3 col0\" >0.40644</td>\n",
       "                        <td id=\"T_d7615608_2a75_11ea_a645_f0189811b80erow3_col1\" class=\"data row3 col1\" >0.406746</td>\n",
       "                        <td id=\"T_d7615608_2a75_11ea_a645_f0189811b80erow3_col2\" class=\"data row3 col2\" >0.40586</td>\n",
       "                        <td id=\"T_d7615608_2a75_11ea_a645_f0189811b80erow3_col3\" class=\"data row3 col3\" >0.402351</td>\n",
       "                        <td id=\"T_d7615608_2a75_11ea_a645_f0189811b80erow3_col4\" class=\"data row3 col4\" >0.406678</td>\n",
       "                        <td id=\"T_d7615608_2a75_11ea_a645_f0189811b80erow3_col5\" class=\"data row3 col5\" >0.40954</td>\n",
       "                        <td id=\"T_d7615608_2a75_11ea_a645_f0189811b80erow3_col6\" class=\"data row3 col6\" >0.406303</td>\n",
       "                        <td id=\"T_d7615608_2a75_11ea_a645_f0189811b80erow3_col7\" class=\"data row3 col7\" >0.413799</td>\n",
       "            </tr>\n",
       "            <tr>\n",
       "                        <th id=\"T_d7615608_2a75_11ea_a645_f0189811b80elevel0_row4\" class=\"row_heading level0 row4\" >10</th>\n",
       "                        <td id=\"T_d7615608_2a75_11ea_a645_f0189811b80erow4_col0\" class=\"data row4 col0\" >0.407836</td>\n",
       "                        <td id=\"T_d7615608_2a75_11ea_a645_f0189811b80erow4_col1\" class=\"data row4 col1\" >0.407359</td>\n",
       "                        <td id=\"T_d7615608_2a75_11ea_a645_f0189811b80erow4_col2\" class=\"data row4 col2\" >0.407019</td>\n",
       "                        <td id=\"T_d7615608_2a75_11ea_a645_f0189811b80erow4_col3\" class=\"data row4 col3\" >0.40385</td>\n",
       "                        <td id=\"T_d7615608_2a75_11ea_a645_f0189811b80erow4_col4\" class=\"data row4 col4\" >0.408041</td>\n",
       "                        <td id=\"T_d7615608_2a75_11ea_a645_f0189811b80erow4_col5\" class=\"data row4 col5\" >0.409915</td>\n",
       "                        <td id=\"T_d7615608_2a75_11ea_a645_f0189811b80erow4_col6\" class=\"data row4 col6\" >0.408825</td>\n",
       "                        <td id=\"T_d7615608_2a75_11ea_a645_f0189811b80erow4_col7\" class=\"data row4 col7\" >0.405451</td>\n",
       "            </tr>\n",
       "            <tr>\n",
       "                        <th id=\"T_d7615608_2a75_11ea_a645_f0189811b80elevel0_row5\" class=\"row_heading level0 row5\" >15</th>\n",
       "                        <td id=\"T_d7615608_2a75_11ea_a645_f0189811b80erow5_col0\" class=\"data row5 col0\" >0.402589</td>\n",
       "                        <td id=\"T_d7615608_2a75_11ea_a645_f0189811b80erow5_col1\" class=\"data row5 col1\" >0.408484</td>\n",
       "                        <td id=\"T_d7615608_2a75_11ea_a645_f0189811b80erow5_col2\" class=\"data row5 col2\" >0.400818</td>\n",
       "                        <td id=\"T_d7615608_2a75_11ea_a645_f0189811b80erow5_col3\" class=\"data row5 col3\" >0.402249</td>\n",
       "                        <td id=\"T_d7615608_2a75_11ea_a645_f0189811b80erow5_col4\" class=\"data row5 col4\" >0.405554</td>\n",
       "                        <td id=\"T_d7615608_2a75_11ea_a645_f0189811b80erow5_col5\" class=\"data row5 col5\" >0.406269</td>\n",
       "                        <td id=\"T_d7615608_2a75_11ea_a645_f0189811b80erow5_col6\" class=\"data row5 col6\" >0.39816</td>\n",
       "                        <td id=\"T_d7615608_2a75_11ea_a645_f0189811b80erow5_col7\" class=\"data row5 col7\" >0.397683</td>\n",
       "            </tr>\n",
       "            <tr>\n",
       "                        <th id=\"T_d7615608_2a75_11ea_a645_f0189811b80elevel0_row6\" class=\"row_heading level0 row6\" >20</th>\n",
       "                        <td id=\"T_d7615608_2a75_11ea_a645_f0189811b80erow6_col0\" class=\"data row6 col0\" >0.396491</td>\n",
       "                        <td id=\"T_d7615608_2a75_11ea_a645_f0189811b80erow6_col1\" class=\"data row6 col1\" >0.398705</td>\n",
       "                        <td id=\"T_d7615608_2a75_11ea_a645_f0189811b80erow6_col2\" class=\"data row6 col2\" >0.398637</td>\n",
       "                        <td id=\"T_d7615608_2a75_11ea_a645_f0189811b80erow6_col3\" class=\"data row6 col3\" >0.394719</td>\n",
       "                        <td id=\"T_d7615608_2a75_11ea_a645_f0189811b80erow6_col4\" class=\"data row6 col4\" >0.397922</td>\n",
       "                        <td id=\"T_d7615608_2a75_11ea_a645_f0189811b80erow6_col5\" class=\"data row6 col5\" >0.397002</td>\n",
       "                        <td id=\"T_d7615608_2a75_11ea_a645_f0189811b80erow6_col6\" class=\"data row6 col6\" >0.39925</td>\n",
       "                        <td id=\"T_d7615608_2a75_11ea_a645_f0189811b80erow6_col7\" class=\"data row6 col7\" >0.396559</td>\n",
       "            </tr>\n",
       "            <tr>\n",
       "                        <th id=\"T_d7615608_2a75_11ea_a645_f0189811b80elevel0_row7\" class=\"row_heading level0 row7\" >25</th>\n",
       "                        <td id=\"T_d7615608_2a75_11ea_a645_f0189811b80erow7_col0\" class=\"data row7 col0\" >0.397615</td>\n",
       "                        <td id=\"T_d7615608_2a75_11ea_a645_f0189811b80erow7_col1\" class=\"data row7 col1\" >0.394617</td>\n",
       "                        <td id=\"T_d7615608_2a75_11ea_a645_f0189811b80erow7_col2\" class=\"data row7 col2\" >0.398126</td>\n",
       "                        <td id=\"T_d7615608_2a75_11ea_a645_f0189811b80erow7_col3\" class=\"data row7 col3\" >0.396934</td>\n",
       "                        <td id=\"T_d7615608_2a75_11ea_a645_f0189811b80erow7_col4\" class=\"data row7 col4\" >0.400443</td>\n",
       "                        <td id=\"T_d7615608_2a75_11ea_a645_f0189811b80erow7_col5\" class=\"data row7 col5\" >0.401193</td>\n",
       "                        <td id=\"T_d7615608_2a75_11ea_a645_f0189811b80erow7_col6\" class=\"data row7 col6\" >0.399761</td>\n",
       "                        <td id=\"T_d7615608_2a75_11ea_a645_f0189811b80erow7_col7\" class=\"data row7 col7\" >0.396899</td>\n",
       "            </tr>\n",
       "            <tr>\n",
       "                        <th id=\"T_d7615608_2a75_11ea_a645_f0189811b80elevel0_row8\" class=\"row_heading level0 row8\" >30</th>\n",
       "                        <td id=\"T_d7615608_2a75_11ea_a645_f0189811b80erow8_col0\" class=\"data row8 col0\" >0.396048</td>\n",
       "                        <td id=\"T_d7615608_2a75_11ea_a645_f0189811b80erow8_col1\" class=\"data row8 col1\" >0.394991</td>\n",
       "                        <td id=\"T_d7615608_2a75_11ea_a645_f0189811b80erow8_col2\" class=\"data row8 col2\" >0.395707</td>\n",
       "                        <td id=\"T_d7615608_2a75_11ea_a645_f0189811b80erow8_col3\" class=\"data row8 col3\" >0.392811</td>\n",
       "                        <td id=\"T_d7615608_2a75_11ea_a645_f0189811b80erow8_col4\" class=\"data row8 col4\" >0.397683</td>\n",
       "                        <td id=\"T_d7615608_2a75_11ea_a645_f0189811b80erow8_col5\" class=\"data row8 col5\" >0.406269</td>\n",
       "                        <td id=\"T_d7615608_2a75_11ea_a645_f0189811b80erow8_col6\" class=\"data row8 col6\" >0.401704</td>\n",
       "                        <td id=\"T_d7615608_2a75_11ea_a645_f0189811b80erow8_col7\" class=\"data row8 col7\" >0.398535</td>\n",
       "            </tr>\n",
       "    </tbody></table>"
      ],
      "text/plain": [
       "<pandas.io.formats.style.Styler at 0x1a29dd4d50>"
      ]
     },
     "metadata": {},
     "output_type": "display_data"
    }
   ],
   "source": [
    "avg_results, scores_dict, preds_dict, params_dict, returns_dict = avg_model(\n",
    "    symbol_list,\n",
    "    forecast_horizon,                                 \n",
    "    input_window_size,                                  \n",
    "    X_train,    \n",
    "    X_test,    \n",
    "    y_train,    \n",
    "    y_test,    \n",
    "    prices_test,\n",
    "    model=clf_svc1,\n",
    "    silent = False\n",
    ")"
   ]
  },
  {
   "cell_type": "markdown",
   "metadata": {},
   "source": [
    "## Hyperparamter Optimization: GridSearch"
   ]
  },
  {
   "cell_type": "code",
   "execution_count": 132,
   "metadata": {},
   "outputs": [],
   "source": []
  },
  {
   "cell_type": "code",
   "execution_count": 163,
   "metadata": {},
   "outputs": [
    {
     "data": {
      "text/plain": [
       "0.5876651982378854"
      ]
     },
     "execution_count": 163,
     "metadata": {},
     "output_type": "execute_result"
    }
   ],
   "source": [
    "gsearch_xgb.best_score_"
   ]
  },
  {
   "cell_type": "markdown",
   "metadata": {},
   "source": [
    "## Hyperparamter Optimization: Bayesian Optimization"
   ]
  },
  {
   "cell_type": "markdown",
   "metadata": {},
   "source": [
    "### RF with fixed single lookback horizon"
   ]
  },
  {
   "cell_type": "code",
   "execution_count": 44,
   "metadata": {},
   "outputs": [],
   "source": [
    "n1=15\n",
    "n2=15\n",
    "symbol='T'"
   ]
  },
  {
   "cell_type": "code",
   "execution_count": 25,
   "metadata": {},
   "outputs": [
    {
     "data": {
      "text/plain": [
       "1    724\n",
       "0    643\n",
       "Name: signal_15, dtype: int64"
      ]
     },
     "execution_count": 25,
     "metadata": {},
     "output_type": "execute_result"
    }
   ],
   "source": [
    "y_train[symbol][f'signal_{n2}'].value_counts()"
   ]
  },
  {
   "cell_type": "code",
   "execution_count": 26,
   "metadata": {},
   "outputs": [
    {
     "data": {
      "text/plain": [
       "Index(['CNC', 'FMC', 'ALGN', 'RTN', 'FAST', 'ETFC', 'ABC', 'PFG', 'AXP', 'PNW',\n",
       "       'CMS', 'URI', 'PRGO', 'DRI', 'MAS', 'M', 'ZION', 'CINF', 'HIG', 'EOG',\n",
       "       'ICE', 'CBOE', 'ALL', 'UHS', 'FRT', 'NEM', 'BLL', 'NDAQ', 'CMG', 'JKHY',\n",
       "       'T', 'QCOM', 'FTI', 'AOS', 'ATVI', 'STT', 'TXN', 'KIM', 'NTAP', 'CHD',\n",
       "       'WYNN', 'GM', 'SJM', 'MCHP', 'ES', 'KMB', 'GIS', 'EXC', 'IBM', 'MSFT'],\n",
       "      dtype='object')"
      ]
     },
     "execution_count": 26,
     "metadata": {},
     "output_type": "execute_result"
    }
   ],
   "source": [
    "symbol_list"
   ]
  },
  {
   "cell_type": "code",
   "execution_count": 42,
   "metadata": {},
   "outputs": [],
   "source": [
    "# Optimizing for accuracy_score"
   ]
  },
  {
   "cell_type": "code",
   "execution_count": 45,
   "metadata": {},
   "outputs": [
    {
     "name": "stdout",
     "output_type": "stream",
     "text": [
      "100%|██████████| 100/100 [04:20<00:00,  2.61s/it, best loss: -0.6181818181818182]\n",
      "##### Results #####\n",
      "Score best parameters:  -0.6181818181818182\n",
      "Best parameters:  {'bootstrap': False, 'criterion': 'gini', 'cv': 'btscv', 'max_depth': 85, 'max_features': 1, 'min_samples_leaf': 17, 'model': <class 'sklearn.ensemble._forest.RandomForestClassifier'>, 'n_estimators': 359, 'n_jobs': -1}\n",
      "Test Score (accuracy):  0.5775127768313458\n",
      "Parameter combinations evaluated:  100\n",
      "Time elapsed:  261.2132532596588\n"
     ]
    }
   ],
   "source": [
    "model = RandomForestClassifier\n",
    "bsearch_rfa, clf_bsearch_rfa, params_bsearch_rfa = BayesianSearch(\n",
    "    search_space(model),\n",
    "    model,\n",
    "    X_train[symbol][features], \n",
    "    y_train[symbol][f'signal_{n2}'], \n",
    "    X_test[symbol][features],\n",
    "    y_test[symbol][f'signal_{n2}'],\n",
    "    num_eval=100,\n",
    "    scoring_metric='accuracy_score'\n",
    ")"
   ]
  },
  {
   "cell_type": "code",
   "execution_count": 46,
   "metadata": {},
   "outputs": [
    {
     "name": "stdout",
     "output_type": "stream",
     "text": [
      "Recall Score:  0.5827505827505828\n",
      "              precision    recall  f1-score   support\n",
      "\n",
      "           0       0.33      0.56      0.42       158\n",
      "           1       0.78      0.58      0.67       429\n",
      "\n",
      "    accuracy                           0.58       587\n",
      "   macro avg       0.56      0.57      0.54       587\n",
      "weighted avg       0.66      0.58      0.60       587\n",
      "\n"
     ]
    },
    {
     "data": {
      "text/plain": [
       "<sklearn.metrics._plot.confusion_matrix.ConfusionMatrixDisplay at 0x1a30f26110>"
      ]
     },
     "execution_count": 46,
     "metadata": {},
     "output_type": "execute_result"
    },
    {
     "data": {
      "image/png": "[encoded data removed]",
      "text/plain": [
       "<Figure size 432x288 with 2 Axes>"
      ]
     },
     "metadata": {
      "needs_background": "light"
     },
     "output_type": "display_data"
    }
   ],
   "source": [
    "y_pred_bsearch_rfa = clf_bsearch_rfa.predict(X_test[symbol][features])\n",
    "print('Recall Score: ', recall_score(y_pred_bsearch_rfa, y_test[symbol][f'signal_{n2}']))\n",
    "print(classification_report(y_pred_bsearch_rfa, y_test[symbol][f'signal_{n2}']))\n",
    "plot_confusion_matrix(\n",
    "    clf_bsearch_rfa,\n",
    "    X_test[symbol][features], y_test[symbol][f'signal_{n2}'],\n",
    "    \n",
    ")"
   ]
  },
  {
   "cell_type": "code",
   "execution_count": 65,
   "metadata": {},
   "outputs": [
    {
     "data": {
      "text/html": [
       "<div>\n",
       "<style scoped>\n",
       "    .dataframe tbody tr th:only-of-type {\n",
       "        vertical-align: middle;\n",
       "    }\n",
       "\n",
       "    .dataframe tbody tr th {\n",
       "        vertical-align: top;\n",
       "    }\n",
       "\n",
       "    .dataframe thead th {\n",
       "        text-align: right;\n",
       "    }\n",
       "</style>\n",
       "<table border=\"1\" class=\"dataframe\">\n",
       "  <thead>\n",
       "    <tr style=\"text-align: right;\">\n",
       "      <th></th>\n",
       "      <th>Close</th>\n",
       "      <th>Signal_Strat</th>\n",
       "      <th>Cum_Returns_Strat</th>\n",
       "      <th>Cum_Returns_BH</th>\n",
       "    </tr>\n",
       "    <tr>\n",
       "      <th>Epoch</th>\n",
       "      <th></th>\n",
       "      <th></th>\n",
       "      <th></th>\n",
       "      <th></th>\n",
       "    </tr>\n",
       "  </thead>\n",
       "  <tbody>\n",
       "    <tr>\n",
       "      <th>2017-07-11 00:00:00+00:00</th>\n",
       "      <td>NaN</td>\n",
       "      <td>0</td>\n",
       "      <td>NaN</td>\n",
       "      <td>NaN</td>\n",
       "    </tr>\n",
       "    <tr>\n",
       "      <th>2017-07-12 00:00:00+00:00</th>\n",
       "      <td>0.006284</td>\n",
       "      <td>1</td>\n",
       "      <td>0.006284</td>\n",
       "      <td>0.006284</td>\n",
       "    </tr>\n",
       "    <tr>\n",
       "      <th>2017-07-13 00:00:00+00:00</th>\n",
       "      <td>-0.016834</td>\n",
       "      <td>1</td>\n",
       "      <td>-0.010550</td>\n",
       "      <td>-0.010550</td>\n",
       "    </tr>\n",
       "    <tr>\n",
       "      <th>2017-07-14 00:00:00+00:00</th>\n",
       "      <td>0.002486</td>\n",
       "      <td>1</td>\n",
       "      <td>-0.008064</td>\n",
       "      <td>-0.008064</td>\n",
       "    </tr>\n",
       "    <tr>\n",
       "      <th>2017-07-17 00:00:00+00:00</th>\n",
       "      <td>0.002479</td>\n",
       "      <td>1</td>\n",
       "      <td>-0.005585</td>\n",
       "      <td>-0.005585</td>\n",
       "    </tr>\n",
       "    <tr>\n",
       "      <th>...</th>\n",
       "      <td>...</td>\n",
       "      <td>...</td>\n",
       "      <td>...</td>\n",
       "      <td>...</td>\n",
       "    </tr>\n",
       "    <tr>\n",
       "      <th>2019-10-31 00:00:00+00:00</th>\n",
       "      <td>0.007592</td>\n",
       "      <td>1</td>\n",
       "      <td>0.105152</td>\n",
       "      <td>0.105152</td>\n",
       "    </tr>\n",
       "    <tr>\n",
       "      <th>2019-11-01 00:00:00+00:00</th>\n",
       "      <td>0.011951</td>\n",
       "      <td>1</td>\n",
       "      <td>0.117103</td>\n",
       "      <td>0.117103</td>\n",
       "    </tr>\n",
       "    <tr>\n",
       "      <th>2019-11-04 00:00:00+00:00</th>\n",
       "      <td>-0.001540</td>\n",
       "      <td>1</td>\n",
       "      <td>0.115563</td>\n",
       "      <td>0.115563</td>\n",
       "    </tr>\n",
       "    <tr>\n",
       "      <th>2019-11-05 00:00:00+00:00</th>\n",
       "      <td>0.007200</td>\n",
       "      <td>1</td>\n",
       "      <td>0.122763</td>\n",
       "      <td>0.122763</td>\n",
       "    </tr>\n",
       "    <tr>\n",
       "      <th>2019-11-06 00:00:00+00:00</th>\n",
       "      <td>0.002042</td>\n",
       "      <td>1</td>\n",
       "      <td>0.124805</td>\n",
       "      <td>0.124805</td>\n",
       "    </tr>\n",
       "  </tbody>\n",
       "</table>\n",
       "<p>587 rows × 4 columns</p>\n",
       "</div>"
      ],
      "text/plain": [
       "                              Close  Signal_Strat  Cum_Returns_Strat  \\\n",
       "Epoch                                                                  \n",
       "2017-07-11 00:00:00+00:00       NaN             0                NaN   \n",
       "2017-07-12 00:00:00+00:00  0.006284             1           0.006284   \n",
       "2017-07-13 00:00:00+00:00 -0.016834             1          -0.010550   \n",
       "2017-07-14 00:00:00+00:00  0.002486             1          -0.008064   \n",
       "2017-07-17 00:00:00+00:00  0.002479             1          -0.005585   \n",
       "...                             ...           ...                ...   \n",
       "2019-10-31 00:00:00+00:00  0.007592             1           0.105152   \n",
       "2019-11-01 00:00:00+00:00  0.011951             1           0.117103   \n",
       "2019-11-04 00:00:00+00:00 -0.001540             1           0.115563   \n",
       "2019-11-05 00:00:00+00:00  0.007200             1           0.122763   \n",
       "2019-11-06 00:00:00+00:00  0.002042             1           0.124805   \n",
       "\n",
       "                           Cum_Returns_BH  \n",
       "Epoch                                      \n",
       "2017-07-11 00:00:00+00:00             NaN  \n",
       "2017-07-12 00:00:00+00:00        0.006284  \n",
       "2017-07-13 00:00:00+00:00       -0.010550  \n",
       "2017-07-14 00:00:00+00:00       -0.008064  \n",
       "2017-07-17 00:00:00+00:00       -0.005585  \n",
       "...                                   ...  \n",
       "2019-10-31 00:00:00+00:00        0.105152  \n",
       "2019-11-01 00:00:00+00:00        0.117103  \n",
       "2019-11-04 00:00:00+00:00        0.115563  \n",
       "2019-11-05 00:00:00+00:00        0.122763  \n",
       "2019-11-06 00:00:00+00:00        0.124805  \n",
       "\n",
       "[587 rows x 4 columns]"
      ]
     },
     "execution_count": 65,
     "metadata": {},
     "output_type": "execute_result"
    }
   ],
   "source": [
    "calc_returns(y_pred_bsearch_rfa, djia[symbol][test_size:])"
   ]
  },
  {
   "cell_type": "code",
   "execution_count": null,
   "metadata": {},
   "outputs": [],
   "source": [
    "# Recall as scoring metric"
   ]
  },
  {
   "cell_type": "code",
   "execution_count": 48,
   "metadata": {},
   "outputs": [
    {
     "name": "stdout",
     "output_type": "stream",
     "text": [
      "100%|██████████| 100/100 [03:58<00:00,  2.38s/it, best loss: -0.9049689440993788]\n",
      "##### Results #####\n",
      "Score best parameters:  -0.9049689440993788\n",
      "Best parameters:  {'bootstrap': False, 'criterion': 'gini', 'cv': 'btscv', 'max_depth': 106, 'max_features': 'auto', 'min_samples_leaf': 13, 'model': <class 'sklearn.ensemble._forest.RandomForestClassifier'>, 'n_estimators': 199, 'n_jobs': -1}\n",
      "Test Score (accuracy):  0.5877342419080068\n",
      "Parameter combinations evaluated:  100\n",
      "Time elapsed:  239.02671217918396\n"
     ]
    }
   ],
   "source": [
    "model = RandomForestClassifier\n",
    "bsearch_rfb, clf_bsearch_rfb, params_bsearch_rfb = BayesianSearch(\n",
    "    search_space(model),\n",
    "    model,\n",
    "    X_train[symbol][features], \n",
    "    y_train[symbol][f'signal_{n2}'], \n",
    "    X_test[symbol][features],\n",
    "    y_test[symbol][f'signal_{n2}'],\n",
    "    num_eval=100,\n",
    "    scoring_metric='recall_score'\n",
    ")"
   ]
  },
  {
   "cell_type": "code",
   "execution_count": 51,
   "metadata": {},
   "outputs": [
    {
     "name": "stdout",
     "output_type": "stream",
     "text": [
      "Recall Score:  0.5914489311163895\n",
      "              precision    recall  f1-score   support\n",
      "\n",
      "           0       0.36      0.58      0.44       166\n",
      "           1       0.78      0.59      0.67       421\n",
      "\n",
      "    accuracy                           0.59       587\n",
      "   macro avg       0.57      0.58      0.56       587\n",
      "weighted avg       0.66      0.59      0.61       587\n",
      "\n"
     ]
    },
    {
     "data": {
      "text/plain": [
       "<sklearn.metrics._plot.confusion_matrix.ConfusionMatrixDisplay at 0x1a30d9d090>"
      ]
     },
     "execution_count": 51,
     "metadata": {},
     "output_type": "execute_result"
    },
    {
     "data": {
      "image/png": "[encoded data removed]",
      "text/plain": [
       "<Figure size 432x288 with 2 Axes>"
      ]
     },
     "metadata": {
      "needs_background": "light"
     },
     "output_type": "display_data"
    }
   ],
   "source": [
    "y_pred_bsearch_rfb = clf_bsearch_rfb.predict(X_test[symbol][features])\n",
    "print('Recall Score: ', recall_score(y_pred_bsearch_rfb, y_test[symbol][f'signal_{n2}']))\n",
    "print(classification_report(y_pred_bsearch_rfb, y_test[symbol][f'signal_{n2}']))\n",
    "plot_confusion_matrix(\n",
    "    clf_bsearch_rfb,\n",
    "    X_test[symbol][features], y_test[symbol][f'signal_{n2}'],\n",
    "    \n",
    ")"
   ]
  },
  {
   "cell_type": "code",
   "execution_count": 64,
   "metadata": {},
   "outputs": [
    {
     "data": {
      "text/html": [
       "<div>\n",
       "<style scoped>\n",
       "    .dataframe tbody tr th:only-of-type {\n",
       "        vertical-align: middle;\n",
       "    }\n",
       "\n",
       "    .dataframe tbody tr th {\n",
       "        vertical-align: top;\n",
       "    }\n",
       "\n",
       "    .dataframe thead th {\n",
       "        text-align: right;\n",
       "    }\n",
       "</style>\n",
       "<table border=\"1\" class=\"dataframe\">\n",
       "  <thead>\n",
       "    <tr style=\"text-align: right;\">\n",
       "      <th></th>\n",
       "      <th>Close</th>\n",
       "      <th>Signal_Strat</th>\n",
       "      <th>Cum_Returns_Strat</th>\n",
       "      <th>Cum_Returns_BH</th>\n",
       "    </tr>\n",
       "    <tr>\n",
       "      <th>Epoch</th>\n",
       "      <th></th>\n",
       "      <th></th>\n",
       "      <th></th>\n",
       "      <th></th>\n",
       "    </tr>\n",
       "  </thead>\n",
       "  <tbody>\n",
       "    <tr>\n",
       "      <th>2017-07-11 00:00:00+00:00</th>\n",
       "      <td>NaN</td>\n",
       "      <td>0</td>\n",
       "      <td>NaN</td>\n",
       "      <td>NaN</td>\n",
       "    </tr>\n",
       "    <tr>\n",
       "      <th>2017-07-12 00:00:00+00:00</th>\n",
       "      <td>0.006284</td>\n",
       "      <td>0</td>\n",
       "      <td>0.000000</td>\n",
       "      <td>0.006284</td>\n",
       "    </tr>\n",
       "    <tr>\n",
       "      <th>2017-07-13 00:00:00+00:00</th>\n",
       "      <td>-0.016834</td>\n",
       "      <td>0</td>\n",
       "      <td>0.000000</td>\n",
       "      <td>-0.010550</td>\n",
       "    </tr>\n",
       "    <tr>\n",
       "      <th>2017-07-14 00:00:00+00:00</th>\n",
       "      <td>0.002486</td>\n",
       "      <td>0</td>\n",
       "      <td>0.000000</td>\n",
       "      <td>-0.008064</td>\n",
       "    </tr>\n",
       "    <tr>\n",
       "      <th>2017-07-17 00:00:00+00:00</th>\n",
       "      <td>0.002479</td>\n",
       "      <td>0</td>\n",
       "      <td>0.000000</td>\n",
       "      <td>-0.005585</td>\n",
       "    </tr>\n",
       "    <tr>\n",
       "      <th>...</th>\n",
       "      <td>...</td>\n",
       "      <td>...</td>\n",
       "      <td>...</td>\n",
       "      <td>...</td>\n",
       "    </tr>\n",
       "    <tr>\n",
       "      <th>2019-10-31 00:00:00+00:00</th>\n",
       "      <td>0.007592</td>\n",
       "      <td>1</td>\n",
       "      <td>0.115264</td>\n",
       "      <td>0.105152</td>\n",
       "    </tr>\n",
       "    <tr>\n",
       "      <th>2019-11-01 00:00:00+00:00</th>\n",
       "      <td>0.011951</td>\n",
       "      <td>1</td>\n",
       "      <td>0.127215</td>\n",
       "      <td>0.117103</td>\n",
       "    </tr>\n",
       "    <tr>\n",
       "      <th>2019-11-04 00:00:00+00:00</th>\n",
       "      <td>-0.001540</td>\n",
       "      <td>1</td>\n",
       "      <td>0.125675</td>\n",
       "      <td>0.115563</td>\n",
       "    </tr>\n",
       "    <tr>\n",
       "      <th>2019-11-05 00:00:00+00:00</th>\n",
       "      <td>0.007200</td>\n",
       "      <td>1</td>\n",
       "      <td>0.132874</td>\n",
       "      <td>0.122763</td>\n",
       "    </tr>\n",
       "    <tr>\n",
       "      <th>2019-11-06 00:00:00+00:00</th>\n",
       "      <td>0.002042</td>\n",
       "      <td>1</td>\n",
       "      <td>0.134917</td>\n",
       "      <td>0.124805</td>\n",
       "    </tr>\n",
       "  </tbody>\n",
       "</table>\n",
       "<p>587 rows × 4 columns</p>\n",
       "</div>"
      ],
      "text/plain": [
       "                              Close  Signal_Strat  Cum_Returns_Strat  \\\n",
       "Epoch                                                                  \n",
       "2017-07-11 00:00:00+00:00       NaN             0                NaN   \n",
       "2017-07-12 00:00:00+00:00  0.006284             0           0.000000   \n",
       "2017-07-13 00:00:00+00:00 -0.016834             0           0.000000   \n",
       "2017-07-14 00:00:00+00:00  0.002486             0           0.000000   \n",
       "2017-07-17 00:00:00+00:00  0.002479             0           0.000000   \n",
       "...                             ...           ...                ...   \n",
       "2019-10-31 00:00:00+00:00  0.007592             1           0.115264   \n",
       "2019-11-01 00:00:00+00:00  0.011951             1           0.127215   \n",
       "2019-11-04 00:00:00+00:00 -0.001540             1           0.125675   \n",
       "2019-11-05 00:00:00+00:00  0.007200             1           0.132874   \n",
       "2019-11-06 00:00:00+00:00  0.002042             1           0.134917   \n",
       "\n",
       "                           Cum_Returns_BH  \n",
       "Epoch                                      \n",
       "2017-07-11 00:00:00+00:00             NaN  \n",
       "2017-07-12 00:00:00+00:00        0.006284  \n",
       "2017-07-13 00:00:00+00:00       -0.010550  \n",
       "2017-07-14 00:00:00+00:00       -0.008064  \n",
       "2017-07-17 00:00:00+00:00       -0.005585  \n",
       "...                                   ...  \n",
       "2019-10-31 00:00:00+00:00        0.105152  \n",
       "2019-11-01 00:00:00+00:00        0.117103  \n",
       "2019-11-04 00:00:00+00:00        0.115563  \n",
       "2019-11-05 00:00:00+00:00        0.122763  \n",
       "2019-11-06 00:00:00+00:00        0.124805  \n",
       "\n",
       "[587 rows x 4 columns]"
      ]
     },
     "execution_count": 64,
     "metadata": {},
     "output_type": "execute_result"
    }
   ],
   "source": [
    "calc_returns(y_pred_bsearch_rfb, djia[symbol][test_size:])"
   ]
  },
  {
   "cell_type": "code",
   "execution_count": 52,
   "metadata": {},
   "outputs": [],
   "source": [
    "# Precision as scoring metric"
   ]
  },
  {
   "cell_type": "code",
   "execution_count": 53,
   "metadata": {},
   "outputs": [
    {
     "name": "stdout",
     "output_type": "stream",
     "text": [
      "100%|██████████| 100/100 [05:02<00:00,  3.02s/it, best loss: -0.6067194209299471]\n",
      "##### Results #####\n",
      "Score best parameters:  -0.6067194209299471\n",
      "Best parameters:  {'bootstrap': False, 'criterion': 'entropy', 'cv': 'btscv', 'max_depth': 1, 'max_features': 5, 'min_samples_leaf': 19, 'model': <class 'sklearn.ensemble._forest.RandomForestClassifier'>, 'n_estimators': 419, 'n_jobs': -1}\n",
      "Test Score (accuracy):  0.5809199318568995\n",
      "Parameter combinations evaluated:  100\n",
      "Time elapsed:  302.94145035743713\n"
     ]
    }
   ],
   "source": [
    "model = RandomForestClassifier\n",
    "bsearch_rfc, clf_bsearch_rfc, params_bsearch_rfc = BayesianSearch(\n",
    "    search_space(model),\n",
    "    model,\n",
    "    X_train[symbol][features], \n",
    "    y_train[symbol][f'signal_{n2}'], \n",
    "    X_test[symbol][features],\n",
    "    y_test[symbol][f'signal_{n2}'],\n",
    "    num_eval=100,\n",
    "    scoring_metric='precision_score'\n",
    ")"
   ]
  },
  {
   "cell_type": "code",
   "execution_count": 57,
   "metadata": {},
   "outputs": [
    {
     "name": "stdout",
     "output_type": "stream",
     "text": [
      "Recall Score:  0.6016713091922006\n",
      "              precision    recall  f1-score   support\n",
      "\n",
      "           0       0.47      0.55      0.50       228\n",
      "           1       0.68      0.60      0.64       359\n",
      "\n",
      "    accuracy                           0.58       587\n",
      "   macro avg       0.57      0.57      0.57       587\n",
      "weighted avg       0.60      0.58      0.59       587\n",
      "\n"
     ]
    },
    {
     "data": {
      "text/plain": [
       "<sklearn.metrics._plot.confusion_matrix.ConfusionMatrixDisplay at 0x1a30d3fd10>"
      ]
     },
     "execution_count": 57,
     "metadata": {},
     "output_type": "execute_result"
    },
    {
     "data": {
      "image/png": "[encoded data removed]",
      "text/plain": [
       "<Figure size 432x288 with 2 Axes>"
      ]
     },
     "metadata": {
      "needs_background": "light"
     },
     "output_type": "display_data"
    }
   ],
   "source": [
    "y_pred_bsearch_rfc = clf_bsearch_rfc.predict(X_test[symbol][features])\n",
    "print('Precision Score: ', precision_score(y_pred_bsearch_rfc, y_test[symbol][f'signal_{n2}']))\n",
    "print(classification_report(y_pred_bsearch_rfc, y_test[symbol][f'signal_{n2}']))\n",
    "plot_confusion_matrix(\n",
    "    clf_bsearch_rfc,\n",
    "    X_test[symbol][features], y_test[symbol][f'signal_{n2}']\n",
    ")\n"
   ]
  },
  {
   "cell_type": "code",
   "execution_count": 63,
   "metadata": {},
   "outputs": [
    {
     "data": {
      "text/html": [
       "<div>\n",
       "<style scoped>\n",
       "    .dataframe tbody tr th:only-of-type {\n",
       "        vertical-align: middle;\n",
       "    }\n",
       "\n",
       "    .dataframe tbody tr th {\n",
       "        vertical-align: top;\n",
       "    }\n",
       "\n",
       "    .dataframe thead th {\n",
       "        text-align: right;\n",
       "    }\n",
       "</style>\n",
       "<table border=\"1\" class=\"dataframe\">\n",
       "  <thead>\n",
       "    <tr style=\"text-align: right;\">\n",
       "      <th></th>\n",
       "      <th>Close</th>\n",
       "      <th>Signal_Strat</th>\n",
       "      <th>Cum_Returns_Strat</th>\n",
       "      <th>Cum_Returns_BH</th>\n",
       "    </tr>\n",
       "    <tr>\n",
       "      <th>Epoch</th>\n",
       "      <th></th>\n",
       "      <th></th>\n",
       "      <th></th>\n",
       "      <th></th>\n",
       "    </tr>\n",
       "  </thead>\n",
       "  <tbody>\n",
       "    <tr>\n",
       "      <th>2017-07-11 00:00:00+00:00</th>\n",
       "      <td>NaN</td>\n",
       "      <td>0</td>\n",
       "      <td>NaN</td>\n",
       "      <td>NaN</td>\n",
       "    </tr>\n",
       "    <tr>\n",
       "      <th>2017-07-12 00:00:00+00:00</th>\n",
       "      <td>0.006284</td>\n",
       "      <td>0</td>\n",
       "      <td>0.000000</td>\n",
       "      <td>0.006284</td>\n",
       "    </tr>\n",
       "    <tr>\n",
       "      <th>2017-07-13 00:00:00+00:00</th>\n",
       "      <td>-0.016834</td>\n",
       "      <td>0</td>\n",
       "      <td>0.000000</td>\n",
       "      <td>-0.010550</td>\n",
       "    </tr>\n",
       "    <tr>\n",
       "      <th>2017-07-14 00:00:00+00:00</th>\n",
       "      <td>0.002486</td>\n",
       "      <td>0</td>\n",
       "      <td>0.000000</td>\n",
       "      <td>-0.008064</td>\n",
       "    </tr>\n",
       "    <tr>\n",
       "      <th>2017-07-17 00:00:00+00:00</th>\n",
       "      <td>0.002479</td>\n",
       "      <td>0</td>\n",
       "      <td>0.000000</td>\n",
       "      <td>-0.005585</td>\n",
       "    </tr>\n",
       "    <tr>\n",
       "      <th>...</th>\n",
       "      <td>...</td>\n",
       "      <td>...</td>\n",
       "      <td>...</td>\n",
       "      <td>...</td>\n",
       "    </tr>\n",
       "    <tr>\n",
       "      <th>2019-10-31 00:00:00+00:00</th>\n",
       "      <td>0.007592</td>\n",
       "      <td>1</td>\n",
       "      <td>0.119024</td>\n",
       "      <td>0.105152</td>\n",
       "    </tr>\n",
       "    <tr>\n",
       "      <th>2019-11-01 00:00:00+00:00</th>\n",
       "      <td>0.011951</td>\n",
       "      <td>1</td>\n",
       "      <td>0.130975</td>\n",
       "      <td>0.117103</td>\n",
       "    </tr>\n",
       "    <tr>\n",
       "      <th>2019-11-04 00:00:00+00:00</th>\n",
       "      <td>-0.001540</td>\n",
       "      <td>1</td>\n",
       "      <td>0.129435</td>\n",
       "      <td>0.115563</td>\n",
       "    </tr>\n",
       "    <tr>\n",
       "      <th>2019-11-05 00:00:00+00:00</th>\n",
       "      <td>0.007200</td>\n",
       "      <td>1</td>\n",
       "      <td>0.136635</td>\n",
       "      <td>0.122763</td>\n",
       "    </tr>\n",
       "    <tr>\n",
       "      <th>2019-11-06 00:00:00+00:00</th>\n",
       "      <td>0.002042</td>\n",
       "      <td>1</td>\n",
       "      <td>0.138677</td>\n",
       "      <td>0.124805</td>\n",
       "    </tr>\n",
       "  </tbody>\n",
       "</table>\n",
       "<p>587 rows × 4 columns</p>\n",
       "</div>"
      ],
      "text/plain": [
       "                              Close  Signal_Strat  Cum_Returns_Strat  \\\n",
       "Epoch                                                                  \n",
       "2017-07-11 00:00:00+00:00       NaN             0                NaN   \n",
       "2017-07-12 00:00:00+00:00  0.006284             0           0.000000   \n",
       "2017-07-13 00:00:00+00:00 -0.016834             0           0.000000   \n",
       "2017-07-14 00:00:00+00:00  0.002486             0           0.000000   \n",
       "2017-07-17 00:00:00+00:00  0.002479             0           0.000000   \n",
       "...                             ...           ...                ...   \n",
       "2019-10-31 00:00:00+00:00  0.007592             1           0.119024   \n",
       "2019-11-01 00:00:00+00:00  0.011951             1           0.130975   \n",
       "2019-11-04 00:00:00+00:00 -0.001540             1           0.129435   \n",
       "2019-11-05 00:00:00+00:00  0.007200             1           0.136635   \n",
       "2019-11-06 00:00:00+00:00  0.002042             1           0.138677   \n",
       "\n",
       "                           Cum_Returns_BH  \n",
       "Epoch                                      \n",
       "2017-07-11 00:00:00+00:00             NaN  \n",
       "2017-07-12 00:00:00+00:00        0.006284  \n",
       "2017-07-13 00:00:00+00:00       -0.010550  \n",
       "2017-07-14 00:00:00+00:00       -0.008064  \n",
       "2017-07-17 00:00:00+00:00       -0.005585  \n",
       "...                                   ...  \n",
       "2019-10-31 00:00:00+00:00        0.105152  \n",
       "2019-11-01 00:00:00+00:00        0.117103  \n",
       "2019-11-04 00:00:00+00:00        0.115563  \n",
       "2019-11-05 00:00:00+00:00        0.122763  \n",
       "2019-11-06 00:00:00+00:00        0.124805  \n",
       "\n",
       "[587 rows x 4 columns]"
      ]
     },
     "execution_count": 63,
     "metadata": {},
     "output_type": "execute_result"
    }
   ],
   "source": [
    "calc_returns(y_pred_bsearch_rfc, djia[symbol][test_size:])"
   ]
  },
  {
   "cell_type": "code",
   "execution_count": null,
   "metadata": {},
   "outputs": [],
   "source": [
    "# Checking next day forecast"
   ]
  },
  {
   "cell_type": "code",
   "execution_count": 126,
   "metadata": {},
   "outputs": [
    {
     "name": "stdout",
     "output_type": "stream",
     "text": [
      "100%|██████████| 100/100 [04:47<00:00,  2.88s/it, best loss: -0.5989842973563904]\n",
      "##### Results #####\n",
      "Score best parameters:  -0.5989842973563904\n",
      "Best parameters:  {'bootstrap': False, 'criterion': 'gini', 'cv': 'btscv', 'max_depth': 14, 'max_features': 'auto', 'min_samples_leaf': 13, 'model': <class 'sklearn.ensemble._forest.RandomForestClassifier'>, 'n_estimators': 318, 'n_jobs': -1}\n",
      "Test Score (accuracy):  0.5792163543441227\n",
      "Parameter combinations evaluated:  100\n",
      "Time elapsed:  288.7594609260559\n"
     ]
    }
   ],
   "source": [
    "n2=15\n",
    "n1=15\n",
    "features2 = [f'{x}_{n1}' for x in ti_list]\n",
    "model = RandomForestClassifier\n",
    "bsearch_rfc_1, clf_bsearch_rfc_1, params_bsearch_rfc_1 = BayesianSearch(\n",
    "    search_space(model),\n",
    "    model,\n",
    "    X_train[symbol][features2], \n",
    "    y_train[symbol][f'signal_{n2}'], \n",
    "    X_test[symbol][features2],\n",
    "    y_test[symbol][f'signal_{n2}'],\n",
    "    num_eval=100,\n",
    "    scoring_metric='precision_score'\n",
    ")"
   ]
  },
  {
   "cell_type": "code",
   "execution_count": 127,
   "metadata": {},
   "outputs": [
    {
     "data": {
      "text/html": [
       "<div>\n",
       "<style scoped>\n",
       "    .dataframe tbody tr th:only-of-type {\n",
       "        vertical-align: middle;\n",
       "    }\n",
       "\n",
       "    .dataframe tbody tr th {\n",
       "        vertical-align: top;\n",
       "    }\n",
       "\n",
       "    .dataframe thead th {\n",
       "        text-align: right;\n",
       "    }\n",
       "</style>\n",
       "<table border=\"1\" class=\"dataframe\">\n",
       "  <thead>\n",
       "    <tr style=\"text-align: right;\">\n",
       "      <th></th>\n",
       "      <th>Close</th>\n",
       "      <th>Signal_Strat</th>\n",
       "      <th>Cum_Returns_Strat</th>\n",
       "      <th>Cum_Returns_BH</th>\n",
       "    </tr>\n",
       "    <tr>\n",
       "      <th>Epoch</th>\n",
       "      <th></th>\n",
       "      <th></th>\n",
       "      <th></th>\n",
       "      <th></th>\n",
       "    </tr>\n",
       "  </thead>\n",
       "  <tbody>\n",
       "    <tr>\n",
       "      <th>2017-07-11 00:00:00+00:00</th>\n",
       "      <td>NaN</td>\n",
       "      <td>0</td>\n",
       "      <td>NaN</td>\n",
       "      <td>NaN</td>\n",
       "    </tr>\n",
       "    <tr>\n",
       "      <th>2017-07-12 00:00:00+00:00</th>\n",
       "      <td>0.006284</td>\n",
       "      <td>0</td>\n",
       "      <td>0.000000</td>\n",
       "      <td>0.006284</td>\n",
       "    </tr>\n",
       "    <tr>\n",
       "      <th>2017-07-13 00:00:00+00:00</th>\n",
       "      <td>-0.016834</td>\n",
       "      <td>0</td>\n",
       "      <td>0.000000</td>\n",
       "      <td>-0.010550</td>\n",
       "    </tr>\n",
       "    <tr>\n",
       "      <th>2017-07-14 00:00:00+00:00</th>\n",
       "      <td>0.002486</td>\n",
       "      <td>0</td>\n",
       "      <td>0.000000</td>\n",
       "      <td>-0.008064</td>\n",
       "    </tr>\n",
       "    <tr>\n",
       "      <th>2017-07-17 00:00:00+00:00</th>\n",
       "      <td>0.002479</td>\n",
       "      <td>0</td>\n",
       "      <td>0.000000</td>\n",
       "      <td>-0.005585</td>\n",
       "    </tr>\n",
       "    <tr>\n",
       "      <th>...</th>\n",
       "      <td>...</td>\n",
       "      <td>...</td>\n",
       "      <td>...</td>\n",
       "      <td>...</td>\n",
       "    </tr>\n",
       "    <tr>\n",
       "      <th>2019-10-31 00:00:00+00:00</th>\n",
       "      <td>0.007592</td>\n",
       "      <td>0</td>\n",
       "      <td>0.117951</td>\n",
       "      <td>0.105152</td>\n",
       "    </tr>\n",
       "    <tr>\n",
       "      <th>2019-11-01 00:00:00+00:00</th>\n",
       "      <td>0.011951</td>\n",
       "      <td>0</td>\n",
       "      <td>0.117951</td>\n",
       "      <td>0.117103</td>\n",
       "    </tr>\n",
       "    <tr>\n",
       "      <th>2019-11-04 00:00:00+00:00</th>\n",
       "      <td>-0.001540</td>\n",
       "      <td>0</td>\n",
       "      <td>0.117951</td>\n",
       "      <td>0.115563</td>\n",
       "    </tr>\n",
       "    <tr>\n",
       "      <th>2019-11-05 00:00:00+00:00</th>\n",
       "      <td>0.007200</td>\n",
       "      <td>0</td>\n",
       "      <td>0.117951</td>\n",
       "      <td>0.122763</td>\n",
       "    </tr>\n",
       "    <tr>\n",
       "      <th>2019-11-06 00:00:00+00:00</th>\n",
       "      <td>0.002042</td>\n",
       "      <td>0</td>\n",
       "      <td>0.117951</td>\n",
       "      <td>0.124805</td>\n",
       "    </tr>\n",
       "  </tbody>\n",
       "</table>\n",
       "<p>587 rows × 4 columns</p>\n",
       "</div>"
      ],
      "text/plain": [
       "                              Close  Signal_Strat  Cum_Returns_Strat  \\\n",
       "Epoch                                                                  \n",
       "2017-07-11 00:00:00+00:00       NaN             0                NaN   \n",
       "2017-07-12 00:00:00+00:00  0.006284             0           0.000000   \n",
       "2017-07-13 00:00:00+00:00 -0.016834             0           0.000000   \n",
       "2017-07-14 00:00:00+00:00  0.002486             0           0.000000   \n",
       "2017-07-17 00:00:00+00:00  0.002479             0           0.000000   \n",
       "...                             ...           ...                ...   \n",
       "2019-10-31 00:00:00+00:00  0.007592             0           0.117951   \n",
       "2019-11-01 00:00:00+00:00  0.011951             0           0.117951   \n",
       "2019-11-04 00:00:00+00:00 -0.001540             0           0.117951   \n",
       "2019-11-05 00:00:00+00:00  0.007200             0           0.117951   \n",
       "2019-11-06 00:00:00+00:00  0.002042             0           0.117951   \n",
       "\n",
       "                           Cum_Returns_BH  \n",
       "Epoch                                      \n",
       "2017-07-11 00:00:00+00:00             NaN  \n",
       "2017-07-12 00:00:00+00:00        0.006284  \n",
       "2017-07-13 00:00:00+00:00       -0.010550  \n",
       "2017-07-14 00:00:00+00:00       -0.008064  \n",
       "2017-07-17 00:00:00+00:00       -0.005585  \n",
       "...                                   ...  \n",
       "2019-10-31 00:00:00+00:00        0.105152  \n",
       "2019-11-01 00:00:00+00:00        0.117103  \n",
       "2019-11-04 00:00:00+00:00        0.115563  \n",
       "2019-11-05 00:00:00+00:00        0.122763  \n",
       "2019-11-06 00:00:00+00:00        0.124805  \n",
       "\n",
       "[587 rows x 4 columns]"
      ]
     },
     "execution_count": 127,
     "metadata": {},
     "output_type": "execute_result"
    }
   ],
   "source": [
    "y_pred_bsearch_rfc_1 = clf_bsearch_rfc_1.predict(X_test[symbol][features2])\n",
    "calc_returns(y_pred_bsearch_rfc_1, djia[symbol][test_size:])"
   ]
  },
  {
   "cell_type": "code",
   "execution_count": 58,
   "metadata": {},
   "outputs": [],
   "source": [
    "# F1 score as scoring metric"
   ]
  },
  {
   "cell_type": "code",
   "execution_count": 59,
   "metadata": {},
   "outputs": [
    {
     "name": "stdout",
     "output_type": "stream",
     "text": [
      "100%|██████████| 100/100 [03:48<00:00,  2.29s/it, best loss: -0.695135189669088]\n",
      "##### Results #####\n",
      "Score best parameters:  -0.695135189669088\n",
      "Best parameters:  {'bootstrap': False, 'criterion': 'entropy', 'cv': 'btscv', 'max_depth': 107, 'max_features': 'auto', 'min_samples_leaf': 14, 'model': <class 'sklearn.ensemble._forest.RandomForestClassifier'>, 'n_estimators': 141, 'n_jobs': -1}\n",
      "Test Score (accuracy):  0.5911413969335605\n",
      "Parameter combinations evaluated:  100\n",
      "Time elapsed:  229.31292700767517\n"
     ]
    }
   ],
   "source": [
    "model = RandomForestClassifier\n",
    "bsearch_rfd, clf_bsearch_rfd, params_bsearch_rfd = BayesianSearch(\n",
    "    search_space(model),\n",
    "    model,\n",
    "    X_train[symbol][features], \n",
    "    y_train[symbol][f'signal_{n2}'], \n",
    "    X_test[symbol][features],\n",
    "    y_test[symbol][f'signal_{n2}'],\n",
    "    num_eval=100,\n",
    "    scoring_metric='f1_score'\n",
    ")"
   ]
  },
  {
   "cell_type": "code",
   "execution_count": 60,
   "metadata": {},
   "outputs": [
    {
     "name": "stdout",
     "output_type": "stream",
     "text": [
      "Recall Score:  0.5965770171149144\n",
      "              precision    recall  f1-score   support\n",
      "\n",
      "           0       0.38      0.58      0.46       178\n",
      "           1       0.76      0.60      0.67       409\n",
      "\n",
      "    accuracy                           0.59       587\n",
      "   macro avg       0.57      0.59      0.57       587\n",
      "weighted avg       0.65      0.59      0.61       587\n",
      "\n"
     ]
    },
    {
     "data": {
      "text/plain": [
       "<sklearn.metrics._plot.confusion_matrix.ConfusionMatrixDisplay at 0x1a30829990>"
      ]
     },
     "execution_count": 60,
     "metadata": {},
     "output_type": "execute_result"
    },
    {
     "data": {
      "image/png": "[encoded data removed]",
      "text/plain": [
       "<Figure size 432x288 with 2 Axes>"
      ]
     },
     "metadata": {
      "needs_background": "light"
     },
     "output_type": "display_data"
    }
   ],
   "source": [
    "y_pred_bsearch_rfd = clf_bsearch_rfd.predict(X_test[symbol][features])\n",
    "print('Recall Score: ', recall_score(y_pred_bsearch_rfd, y_test[symbol][f'signal_{n2}']))\n",
    "print(classification_report(y_pred_bsearch_rfd, y_test[symbol][f'signal_{n2}']))\n",
    "plot_confusion_matrix(\n",
    "    clf_bsearch_rfd,\n",
    "    X_test[symbol][features], y_test[symbol][f'signal_{n2}'],\n",
    ")"
   ]
  },
  {
   "cell_type": "code",
   "execution_count": 62,
   "metadata": {},
   "outputs": [
    {
     "data": {
      "text/html": [
       "<div>\n",
       "<style scoped>\n",
       "    .dataframe tbody tr th:only-of-type {\n",
       "        vertical-align: middle;\n",
       "    }\n",
       "\n",
       "    .dataframe tbody tr th {\n",
       "        vertical-align: top;\n",
       "    }\n",
       "\n",
       "    .dataframe thead th {\n",
       "        text-align: right;\n",
       "    }\n",
       "</style>\n",
       "<table border=\"1\" class=\"dataframe\">\n",
       "  <thead>\n",
       "    <tr style=\"text-align: right;\">\n",
       "      <th></th>\n",
       "      <th>Close</th>\n",
       "      <th>Signal_Strat</th>\n",
       "      <th>Cum_Returns_Strat</th>\n",
       "      <th>Cum_Returns_BH</th>\n",
       "    </tr>\n",
       "    <tr>\n",
       "      <th>Epoch</th>\n",
       "      <th></th>\n",
       "      <th></th>\n",
       "      <th></th>\n",
       "      <th></th>\n",
       "    </tr>\n",
       "  </thead>\n",
       "  <tbody>\n",
       "    <tr>\n",
       "      <th>2017-07-11 00:00:00+00:00</th>\n",
       "      <td>NaN</td>\n",
       "      <td>0</td>\n",
       "      <td>NaN</td>\n",
       "      <td>NaN</td>\n",
       "    </tr>\n",
       "    <tr>\n",
       "      <th>2017-07-12 00:00:00+00:00</th>\n",
       "      <td>0.006284</td>\n",
       "      <td>0</td>\n",
       "      <td>0.000000</td>\n",
       "      <td>0.006284</td>\n",
       "    </tr>\n",
       "    <tr>\n",
       "      <th>2017-07-13 00:00:00+00:00</th>\n",
       "      <td>-0.016834</td>\n",
       "      <td>0</td>\n",
       "      <td>0.000000</td>\n",
       "      <td>-0.010550</td>\n",
       "    </tr>\n",
       "    <tr>\n",
       "      <th>2017-07-14 00:00:00+00:00</th>\n",
       "      <td>0.002486</td>\n",
       "      <td>0</td>\n",
       "      <td>0.000000</td>\n",
       "      <td>-0.008064</td>\n",
       "    </tr>\n",
       "    <tr>\n",
       "      <th>2017-07-17 00:00:00+00:00</th>\n",
       "      <td>0.002479</td>\n",
       "      <td>0</td>\n",
       "      <td>0.000000</td>\n",
       "      <td>-0.005585</td>\n",
       "    </tr>\n",
       "    <tr>\n",
       "      <th>...</th>\n",
       "      <td>...</td>\n",
       "      <td>...</td>\n",
       "      <td>...</td>\n",
       "      <td>...</td>\n",
       "    </tr>\n",
       "    <tr>\n",
       "      <th>2019-10-31 00:00:00+00:00</th>\n",
       "      <td>0.007592</td>\n",
       "      <td>1</td>\n",
       "      <td>0.115264</td>\n",
       "      <td>0.105152</td>\n",
       "    </tr>\n",
       "    <tr>\n",
       "      <th>2019-11-01 00:00:00+00:00</th>\n",
       "      <td>0.011951</td>\n",
       "      <td>1</td>\n",
       "      <td>0.127215</td>\n",
       "      <td>0.117103</td>\n",
       "    </tr>\n",
       "    <tr>\n",
       "      <th>2019-11-04 00:00:00+00:00</th>\n",
       "      <td>-0.001540</td>\n",
       "      <td>1</td>\n",
       "      <td>0.125675</td>\n",
       "      <td>0.115563</td>\n",
       "    </tr>\n",
       "    <tr>\n",
       "      <th>2019-11-05 00:00:00+00:00</th>\n",
       "      <td>0.007200</td>\n",
       "      <td>1</td>\n",
       "      <td>0.132874</td>\n",
       "      <td>0.122763</td>\n",
       "    </tr>\n",
       "    <tr>\n",
       "      <th>2019-11-06 00:00:00+00:00</th>\n",
       "      <td>0.002042</td>\n",
       "      <td>1</td>\n",
       "      <td>0.134917</td>\n",
       "      <td>0.124805</td>\n",
       "    </tr>\n",
       "  </tbody>\n",
       "</table>\n",
       "<p>587 rows × 4 columns</p>\n",
       "</div>"
      ],
      "text/plain": [
       "                              Close  Signal_Strat  Cum_Returns_Strat  \\\n",
       "Epoch                                                                  \n",
       "2017-07-11 00:00:00+00:00       NaN             0                NaN   \n",
       "2017-07-12 00:00:00+00:00  0.006284             0           0.000000   \n",
       "2017-07-13 00:00:00+00:00 -0.016834             0           0.000000   \n",
       "2017-07-14 00:00:00+00:00  0.002486             0           0.000000   \n",
       "2017-07-17 00:00:00+00:00  0.002479             0           0.000000   \n",
       "...                             ...           ...                ...   \n",
       "2019-10-31 00:00:00+00:00  0.007592             1           0.115264   \n",
       "2019-11-01 00:00:00+00:00  0.011951             1           0.127215   \n",
       "2019-11-04 00:00:00+00:00 -0.001540             1           0.125675   \n",
       "2019-11-05 00:00:00+00:00  0.007200             1           0.132874   \n",
       "2019-11-06 00:00:00+00:00  0.002042             1           0.134917   \n",
       "\n",
       "                           Cum_Returns_BH  \n",
       "Epoch                                      \n",
       "2017-07-11 00:00:00+00:00             NaN  \n",
       "2017-07-12 00:00:00+00:00        0.006284  \n",
       "2017-07-13 00:00:00+00:00       -0.010550  \n",
       "2017-07-14 00:00:00+00:00       -0.008064  \n",
       "2017-07-17 00:00:00+00:00       -0.005585  \n",
       "...                                   ...  \n",
       "2019-10-31 00:00:00+00:00        0.105152  \n",
       "2019-11-01 00:00:00+00:00        0.117103  \n",
       "2019-11-04 00:00:00+00:00        0.115563  \n",
       "2019-11-05 00:00:00+00:00        0.122763  \n",
       "2019-11-06 00:00:00+00:00        0.124805  \n",
       "\n",
       "[587 rows x 4 columns]"
      ]
     },
     "execution_count": 62,
     "metadata": {},
     "output_type": "execute_result"
    }
   ],
   "source": [
    "calc_returns(y_pred_bsearch_rfd, djia[symbol][test_size:])"
   ]
  },
  {
   "cell_type": "code",
   "execution_count": null,
   "metadata": {},
   "outputs": [],
   "source": [
    "avg_results, scores_dict, preds_dict, params_dict, returns_dict = avg_model(  \n",
    "    symbol_list[:2],\n",
    "    forecast_horizon,                                 \n",
    "    input_window_size,\n",
    "    ti_list,\n",
    "    X_train,    \n",
    "    X_test,    \n",
    "    y_train,    \n",
    "    y_test,    \n",
    "    prices_test,\n",
    "    model=clf_rf4,\n",
    "    silent = False\n",
    ")"
   ]
  },
  {
   "cell_type": "markdown",
   "metadata": {},
   "source": [
    "### RF with all features as lookback horizon"
   ]
  },
  {
   "cell_type": "code",
   "execution_count": 66,
   "metadata": {},
   "outputs": [],
   "source": [
    "# Accuracy as scoring metric"
   ]
  },
  {
   "cell_type": "code",
   "execution_count": 66,
   "metadata": {},
   "outputs": [
    {
     "name": "stdout",
     "output_type": "stream",
     "text": [
      "100%|██████████| 100/100 [04:37<00:00,  2.77s/it, best loss: -0.6290909090909091]\n",
      "##### Results #####\n",
      "Score best parameters:  -0.6290909090909091\n",
      "Best parameters:  {'bootstrap': False, 'criterion': 'gini', 'cv': 'btscv', 'max_depth': 187, 'max_features': 1, 'min_samples_leaf': 6, 'model': <class 'sklearn.ensemble._forest.RandomForestClassifier'>, 'n_estimators': 8, 'n_jobs': -1}\n",
      "Test Score (accuracy):  0.575809199318569\n",
      "Parameter combinations evaluated:  100\n",
      "Time elapsed:  277.6425049304962\n"
     ]
    }
   ],
   "source": [
    "n=15\n",
    "symbol='T'\n",
    "\n",
    "model = RandomForestClassifier\n",
    "bsearch_rf1, clf_rf1, params_rf1 = BayesianSearch(\n",
    "    search_space(model),\n",
    "    model,\n",
    "    X_train[symbol][all_features], \n",
    "    y_train[symbol][f'signal_{n}'], \n",
    "    X_test[symbol][all_features],\n",
    "    y_test[symbol][f'signal_{n}'],\n",
    "    num_eval=100,\n",
    "    scoring_metric='accuracy_score'\n",
    ")"
   ]
  },
  {
   "cell_type": "code",
   "execution_count": 68,
   "metadata": {},
   "outputs": [
    {
     "name": "stdout",
     "output_type": "stream",
     "text": [
      "Accuracy Score:  0.575809199318569\n",
      "              precision    recall  f1-score   support\n",
      "\n",
      "           0       0.27      0.57      0.37       127\n",
      "           1       0.83      0.58      0.68       460\n",
      "\n",
      "    accuracy                           0.58       587\n",
      "   macro avg       0.55      0.58      0.52       587\n",
      "weighted avg       0.71      0.58      0.61       587\n",
      "\n"
     ]
    },
    {
     "data": {
      "text/plain": [
       "<sklearn.metrics._plot.confusion_matrix.ConfusionMatrixDisplay at 0x1a30c20250>"
      ]
     },
     "execution_count": 68,
     "metadata": {},
     "output_type": "execute_result"
    },
    {
     "data": {
      "image/png": "[encoded data removed]",
      "text/plain": [
       "<Figure size 432x288 with 2 Axes>"
      ]
     },
     "metadata": {
      "needs_background": "light"
     },
     "output_type": "display_data"
    }
   ],
   "source": [
    "y_pred_rf1 = clf_rf1.predict(X_test[symbol][all_features])\n",
    "print('Accuracy Score: ', accuracy_score(y_pred_rf1, y_test[symbol][f'signal_{n}']))\n",
    "print(classification_report(y_pred_rf1, y_test[symbol][f'signal_{n}']))\n",
    "plot_confusion_matrix(\n",
    "    clf_rf1,\n",
    "    X_test[symbol][all_features],\n",
    "    y_test[symbol][f'signal_{n}'],\n",
    ")"
   ]
  },
  {
   "cell_type": "code",
   "execution_count": 73,
   "metadata": {},
   "outputs": [
    {
     "data": {
      "image/png": "[encoded data removed]",
      "text/plain": [
       "<Figure size 576x720 with 1 Axes>"
      ]
     },
     "metadata": {
      "needs_background": "light"
     },
     "output_type": "display_data"
    }
   ],
   "source": [
    "\n",
    "plot_feature_importances(clf_rf1.feature_importances_, all_features, 'RF1', top_count=20)\n"
   ]
  },
  {
   "cell_type": "code",
   "execution_count": 89,
   "metadata": {},
   "outputs": [
    {
     "data": {
      "text/html": [
       "<div>\n",
       "<style scoped>\n",
       "    .dataframe tbody tr th:only-of-type {\n",
       "        vertical-align: middle;\n",
       "    }\n",
       "\n",
       "    .dataframe tbody tr th {\n",
       "        vertical-align: top;\n",
       "    }\n",
       "\n",
       "    .dataframe thead th {\n",
       "        text-align: right;\n",
       "    }\n",
       "</style>\n",
       "<table border=\"1\" class=\"dataframe\">\n",
       "  <thead>\n",
       "    <tr style=\"text-align: right;\">\n",
       "      <th></th>\n",
       "      <th>Close</th>\n",
       "      <th>Signal_Strat</th>\n",
       "      <th>Cum_Returns_Strat</th>\n",
       "      <th>Cum_Returns_BH</th>\n",
       "    </tr>\n",
       "    <tr>\n",
       "      <th>Epoch</th>\n",
       "      <th></th>\n",
       "      <th></th>\n",
       "      <th></th>\n",
       "      <th></th>\n",
       "    </tr>\n",
       "  </thead>\n",
       "  <tbody>\n",
       "    <tr>\n",
       "      <th>2017-07-11 00:00:00+00:00</th>\n",
       "      <td>NaN</td>\n",
       "      <td>1</td>\n",
       "      <td>NaN</td>\n",
       "      <td>NaN</td>\n",
       "    </tr>\n",
       "    <tr>\n",
       "      <th>2017-07-12 00:00:00+00:00</th>\n",
       "      <td>0.006284</td>\n",
       "      <td>1</td>\n",
       "      <td>0.006284</td>\n",
       "      <td>0.006284</td>\n",
       "    </tr>\n",
       "    <tr>\n",
       "      <th>2017-07-13 00:00:00+00:00</th>\n",
       "      <td>-0.016834</td>\n",
       "      <td>0</td>\n",
       "      <td>0.006284</td>\n",
       "      <td>-0.010550</td>\n",
       "    </tr>\n",
       "    <tr>\n",
       "      <th>2017-07-14 00:00:00+00:00</th>\n",
       "      <td>0.002486</td>\n",
       "      <td>1</td>\n",
       "      <td>0.008770</td>\n",
       "      <td>-0.008064</td>\n",
       "    </tr>\n",
       "    <tr>\n",
       "      <th>2017-07-17 00:00:00+00:00</th>\n",
       "      <td>0.002479</td>\n",
       "      <td>1</td>\n",
       "      <td>0.011249</td>\n",
       "      <td>-0.005585</td>\n",
       "    </tr>\n",
       "    <tr>\n",
       "      <th>...</th>\n",
       "      <td>...</td>\n",
       "      <td>...</td>\n",
       "      <td>...</td>\n",
       "      <td>...</td>\n",
       "    </tr>\n",
       "    <tr>\n",
       "      <th>2019-10-31 00:00:00+00:00</th>\n",
       "      <td>0.007592</td>\n",
       "      <td>0</td>\n",
       "      <td>0.100148</td>\n",
       "      <td>0.105152</td>\n",
       "    </tr>\n",
       "    <tr>\n",
       "      <th>2019-11-01 00:00:00+00:00</th>\n",
       "      <td>0.011951</td>\n",
       "      <td>1</td>\n",
       "      <td>0.112099</td>\n",
       "      <td>0.117103</td>\n",
       "    </tr>\n",
       "    <tr>\n",
       "      <th>2019-11-04 00:00:00+00:00</th>\n",
       "      <td>-0.001540</td>\n",
       "      <td>0</td>\n",
       "      <td>0.112099</td>\n",
       "      <td>0.115563</td>\n",
       "    </tr>\n",
       "    <tr>\n",
       "      <th>2019-11-05 00:00:00+00:00</th>\n",
       "      <td>0.007200</td>\n",
       "      <td>0</td>\n",
       "      <td>0.112099</td>\n",
       "      <td>0.122763</td>\n",
       "    </tr>\n",
       "    <tr>\n",
       "      <th>2019-11-06 00:00:00+00:00</th>\n",
       "      <td>0.002042</td>\n",
       "      <td>0</td>\n",
       "      <td>0.112099</td>\n",
       "      <td>0.124805</td>\n",
       "    </tr>\n",
       "  </tbody>\n",
       "</table>\n",
       "<p>587 rows × 4 columns</p>\n",
       "</div>"
      ],
      "text/plain": [
       "                              Close  Signal_Strat  Cum_Returns_Strat  \\\n",
       "Epoch                                                                  \n",
       "2017-07-11 00:00:00+00:00       NaN             1                NaN   \n",
       "2017-07-12 00:00:00+00:00  0.006284             1           0.006284   \n",
       "2017-07-13 00:00:00+00:00 -0.016834             0           0.006284   \n",
       "2017-07-14 00:00:00+00:00  0.002486             1           0.008770   \n",
       "2017-07-17 00:00:00+00:00  0.002479             1           0.011249   \n",
       "...                             ...           ...                ...   \n",
       "2019-10-31 00:00:00+00:00  0.007592             0           0.100148   \n",
       "2019-11-01 00:00:00+00:00  0.011951             1           0.112099   \n",
       "2019-11-04 00:00:00+00:00 -0.001540             0           0.112099   \n",
       "2019-11-05 00:00:00+00:00  0.007200             0           0.112099   \n",
       "2019-11-06 00:00:00+00:00  0.002042             0           0.112099   \n",
       "\n",
       "                           Cum_Returns_BH  \n",
       "Epoch                                      \n",
       "2017-07-11 00:00:00+00:00             NaN  \n",
       "2017-07-12 00:00:00+00:00        0.006284  \n",
       "2017-07-13 00:00:00+00:00       -0.010550  \n",
       "2017-07-14 00:00:00+00:00       -0.008064  \n",
       "2017-07-17 00:00:00+00:00       -0.005585  \n",
       "...                                   ...  \n",
       "2019-10-31 00:00:00+00:00        0.105152  \n",
       "2019-11-01 00:00:00+00:00        0.117103  \n",
       "2019-11-04 00:00:00+00:00        0.115563  \n",
       "2019-11-05 00:00:00+00:00        0.122763  \n",
       "2019-11-06 00:00:00+00:00        0.124805  \n",
       "\n",
       "[587 rows x 4 columns]"
      ]
     },
     "execution_count": 89,
     "metadata": {},
     "output_type": "execute_result"
    }
   ],
   "source": [
    "calc_returns(y_pred_rf1, djia[symbol][test_size:])"
   ]
  },
  {
   "cell_type": "code",
   "execution_count": null,
   "metadata": {},
   "outputs": [],
   "source": [
    "# Recall as scoring metric"
   ]
  },
  {
   "cell_type": "code",
   "execution_count": 85,
   "metadata": {},
   "outputs": [
    {
     "name": "stdout",
     "output_type": "stream",
     "text": [
      "100%|██████████| 100/100 [05:04<00:00,  3.05s/it, best loss: -0.9357142857142857]\n",
      "##### Results #####\n",
      "Score best parameters:  -0.9357142857142857\n",
      "Best parameters:  {'bootstrap': False, 'criterion': 'gini', 'cv': 'btscv', 'max_depth': 1, 'max_features': 4, 'min_samples_leaf': 19, 'model': <class 'sklearn.ensemble._forest.RandomForestClassifier'>, 'n_estimators': 291, 'n_jobs': -1}\n",
      "Test Score (accuracy):  0.58603066439523\n",
      "Parameter combinations evaluated:  100\n",
      "Time elapsed:  305.3799817562103\n"
     ]
    }
   ],
   "source": [
    "n=15\n",
    "symbol='T'\n",
    "\n",
    "model = RandomForestClassifier\n",
    "RandomForestClassifier()\n",
    "bsearch_rf2, clf_rf2, params_rf2  = BayesianSearch(\n",
    "    search_space(model),\n",
    "    model,\n",
    "    X_train[symbol][all_features], \n",
    "    y_train[symbol][f'signal_{n}'], \n",
    "    X_test[symbol][all_features],\n",
    "    y_test[symbol][f'signal_{n}'],\n",
    "    num_eval=100,\n",
    "    scoring_metric='recall_score'\n",
    ")"
   ]
  },
  {
   "cell_type": "code",
   "execution_count": 86,
   "metadata": {},
   "outputs": [
    {
     "name": "stdout",
     "output_type": "stream",
     "text": [
      "Recall Score:  0.6032608695652174\n",
      "              precision    recall  f1-score   support\n",
      "\n",
      "           0       0.46      0.56      0.50       219\n",
      "           1       0.70      0.60      0.65       368\n",
      "\n",
      "    accuracy                           0.59       587\n",
      "   macro avg       0.58      0.58      0.57       587\n",
      "weighted avg       0.61      0.59      0.59       587\n",
      "\n"
     ]
    },
    {
     "data": {
      "text/plain": [
       "<sklearn.metrics._plot.confusion_matrix.ConfusionMatrixDisplay at 0x1a3085bc10>"
      ]
     },
     "execution_count": 86,
     "metadata": {},
     "output_type": "execute_result"
    },
    {
     "data": {
      "image/png": "[encoded data removed]",
      "text/plain": [
       "<Figure size 432x288 with 2 Axes>"
      ]
     },
     "metadata": {
      "needs_background": "light"
     },
     "output_type": "display_data"
    }
   ],
   "source": [
    "y_pred_rf2 = clf_rf2.predict(X_test[symbol][all_features])\n",
    "print('Recall Score: ', recall_score(y_pred_rf2, y_test[symbol][f'signal_{n}']))\n",
    "print(classification_report(y_pred_rf2, y_test[symbol][f'signal_{n}']))\n",
    "plot_confusion_matrix(clf_rf2, X_test[symbol][all_features], y_test[symbol][f'signal_{n}'])\n"
   ]
  },
  {
   "cell_type": "code",
   "execution_count": 90,
   "metadata": {},
   "outputs": [
    {
     "data": {
      "text/html": [
       "<div>\n",
       "<style scoped>\n",
       "    .dataframe tbody tr th:only-of-type {\n",
       "        vertical-align: middle;\n",
       "    }\n",
       "\n",
       "    .dataframe tbody tr th {\n",
       "        vertical-align: top;\n",
       "    }\n",
       "\n",
       "    .dataframe thead th {\n",
       "        text-align: right;\n",
       "    }\n",
       "</style>\n",
       "<table border=\"1\" class=\"dataframe\">\n",
       "  <thead>\n",
       "    <tr style=\"text-align: right;\">\n",
       "      <th></th>\n",
       "      <th>Close</th>\n",
       "      <th>Signal_Strat</th>\n",
       "      <th>Cum_Returns_Strat</th>\n",
       "      <th>Cum_Returns_BH</th>\n",
       "    </tr>\n",
       "    <tr>\n",
       "      <th>Epoch</th>\n",
       "      <th></th>\n",
       "      <th></th>\n",
       "      <th></th>\n",
       "      <th></th>\n",
       "    </tr>\n",
       "  </thead>\n",
       "  <tbody>\n",
       "    <tr>\n",
       "      <th>2017-07-11 00:00:00+00:00</th>\n",
       "      <td>NaN</td>\n",
       "      <td>0</td>\n",
       "      <td>NaN</td>\n",
       "      <td>NaN</td>\n",
       "    </tr>\n",
       "    <tr>\n",
       "      <th>2017-07-12 00:00:00+00:00</th>\n",
       "      <td>0.006284</td>\n",
       "      <td>0</td>\n",
       "      <td>0.00000</td>\n",
       "      <td>0.006284</td>\n",
       "    </tr>\n",
       "    <tr>\n",
       "      <th>2017-07-13 00:00:00+00:00</th>\n",
       "      <td>-0.016834</td>\n",
       "      <td>0</td>\n",
       "      <td>0.00000</td>\n",
       "      <td>-0.010550</td>\n",
       "    </tr>\n",
       "    <tr>\n",
       "      <th>2017-07-14 00:00:00+00:00</th>\n",
       "      <td>0.002486</td>\n",
       "      <td>0</td>\n",
       "      <td>0.00000</td>\n",
       "      <td>-0.008064</td>\n",
       "    </tr>\n",
       "    <tr>\n",
       "      <th>2017-07-17 00:00:00+00:00</th>\n",
       "      <td>0.002479</td>\n",
       "      <td>0</td>\n",
       "      <td>0.00000</td>\n",
       "      <td>-0.005585</td>\n",
       "    </tr>\n",
       "    <tr>\n",
       "      <th>...</th>\n",
       "      <td>...</td>\n",
       "      <td>...</td>\n",
       "      <td>...</td>\n",
       "      <td>...</td>\n",
       "    </tr>\n",
       "    <tr>\n",
       "      <th>2019-10-31 00:00:00+00:00</th>\n",
       "      <td>0.007592</td>\n",
       "      <td>0</td>\n",
       "      <td>-0.05502</td>\n",
       "      <td>0.105152</td>\n",
       "    </tr>\n",
       "    <tr>\n",
       "      <th>2019-11-01 00:00:00+00:00</th>\n",
       "      <td>0.011951</td>\n",
       "      <td>0</td>\n",
       "      <td>-0.05502</td>\n",
       "      <td>0.117103</td>\n",
       "    </tr>\n",
       "    <tr>\n",
       "      <th>2019-11-04 00:00:00+00:00</th>\n",
       "      <td>-0.001540</td>\n",
       "      <td>0</td>\n",
       "      <td>-0.05502</td>\n",
       "      <td>0.115563</td>\n",
       "    </tr>\n",
       "    <tr>\n",
       "      <th>2019-11-05 00:00:00+00:00</th>\n",
       "      <td>0.007200</td>\n",
       "      <td>0</td>\n",
       "      <td>-0.05502</td>\n",
       "      <td>0.122763</td>\n",
       "    </tr>\n",
       "    <tr>\n",
       "      <th>2019-11-06 00:00:00+00:00</th>\n",
       "      <td>0.002042</td>\n",
       "      <td>0</td>\n",
       "      <td>-0.05502</td>\n",
       "      <td>0.124805</td>\n",
       "    </tr>\n",
       "  </tbody>\n",
       "</table>\n",
       "<p>587 rows × 4 columns</p>\n",
       "</div>"
      ],
      "text/plain": [
       "                              Close  Signal_Strat  Cum_Returns_Strat  \\\n",
       "Epoch                                                                  \n",
       "2017-07-11 00:00:00+00:00       NaN             0                NaN   \n",
       "2017-07-12 00:00:00+00:00  0.006284             0            0.00000   \n",
       "2017-07-13 00:00:00+00:00 -0.016834             0            0.00000   \n",
       "2017-07-14 00:00:00+00:00  0.002486             0            0.00000   \n",
       "2017-07-17 00:00:00+00:00  0.002479             0            0.00000   \n",
       "...                             ...           ...                ...   \n",
       "2019-10-31 00:00:00+00:00  0.007592             0           -0.05502   \n",
       "2019-11-01 00:00:00+00:00  0.011951             0           -0.05502   \n",
       "2019-11-04 00:00:00+00:00 -0.001540             0           -0.05502   \n",
       "2019-11-05 00:00:00+00:00  0.007200             0           -0.05502   \n",
       "2019-11-06 00:00:00+00:00  0.002042             0           -0.05502   \n",
       "\n",
       "                           Cum_Returns_BH  \n",
       "Epoch                                      \n",
       "2017-07-11 00:00:00+00:00             NaN  \n",
       "2017-07-12 00:00:00+00:00        0.006284  \n",
       "2017-07-13 00:00:00+00:00       -0.010550  \n",
       "2017-07-14 00:00:00+00:00       -0.008064  \n",
       "2017-07-17 00:00:00+00:00       -0.005585  \n",
       "...                                   ...  \n",
       "2019-10-31 00:00:00+00:00        0.105152  \n",
       "2019-11-01 00:00:00+00:00        0.117103  \n",
       "2019-11-04 00:00:00+00:00        0.115563  \n",
       "2019-11-05 00:00:00+00:00        0.122763  \n",
       "2019-11-06 00:00:00+00:00        0.124805  \n",
       "\n",
       "[587 rows x 4 columns]"
      ]
     },
     "execution_count": 90,
     "metadata": {},
     "output_type": "execute_result"
    }
   ],
   "source": [
    "calc_returns(y_pred_rf2, djia[symbol][test_size:])"
   ]
  },
  {
   "cell_type": "code",
   "execution_count": 77,
   "metadata": {},
   "outputs": [],
   "source": [
    "# f1_score as scoring metric"
   ]
  },
  {
   "cell_type": "code",
   "execution_count": 78,
   "metadata": {},
   "outputs": [
    {
     "name": "stdout",
     "output_type": "stream",
     "text": [
      "100%|██████████| 100/100 [05:22<00:00,  3.23s/it, best loss: -0.7138722691932529]\n",
      "##### Results #####\n",
      "Score best parameters:  -0.7138722691932529\n",
      "Best parameters:  {'bootstrap': False, 'criterion': 'gini', 'cv': 'btscv', 'max_depth': 1, 'max_features': 'auto', 'min_samples_leaf': 15, 'model': <class 'sklearn.ensemble._forest.RandomForestClassifier'>, 'n_estimators': 405, 'n_jobs': -1}\n",
      "Test Score (accuracy):  0.5826235093696763\n",
      "Parameter combinations evaluated:  100\n",
      "Time elapsed:  323.5298318862915\n"
     ]
    }
   ],
   "source": [
    "n=15\n",
    "symbol='T'\n",
    "\n",
    "model = RandomForestClassifier\n",
    "RandomForestClassifier()\n",
    "bsearch_rf3, clf_rf3, params_rf3  = BayesianSearch(\n",
    "    search_space(model),\n",
    "    model,\n",
    "    X_train[symbol][all_features], \n",
    "    y_train[symbol][f'signal_{n}'], \n",
    "    X_test[symbol][all_features],\n",
    "    y_test[symbol][f'signal_{n}'],\n",
    "    num_eval=100,\n",
    "    scoring_metric='f1_score'\n",
    ")"
   ]
  },
  {
   "cell_type": "code",
   "execution_count": 79,
   "metadata": {},
   "outputs": [
    {
     "name": "stdout",
     "output_type": "stream",
     "text": [
      "F1 Score:  0.6423357664233577\n",
      "              precision    recall  f1-score   support\n",
      "\n",
      "           0       0.46      0.55      0.50       221\n",
      "           1       0.69      0.60      0.64       366\n",
      "\n",
      "    accuracy                           0.58       587\n",
      "   macro avg       0.57      0.58      0.57       587\n",
      "weighted avg       0.60      0.58      0.59       587\n",
      "\n"
     ]
    },
    {
     "data": {
      "text/plain": [
       "<sklearn.metrics._plot.confusion_matrix.ConfusionMatrixDisplay at 0x1a2c7650d0>"
      ]
     },
     "execution_count": 79,
     "metadata": {},
     "output_type": "execute_result"
    },
    {
     "data": {
      "image/png": "[encoded data removed]",
      "text/plain": [
       "<Figure size 432x288 with 2 Axes>"
      ]
     },
     "metadata": {
      "needs_background": "light"
     },
     "output_type": "display_data"
    }
   ],
   "source": [
    "y_pred_rf3 = clf_rf3.predict(X_test[symbol][all_features])\n",
    "print('F1 Score: ', f1_score(y_pred_rf3, y_test[symbol][f'signal_{n}']))\n",
    "print(classification_report(y_pred_rf3, y_test[symbol][f'signal_{n}']))\n",
    "plot_confusion_matrix(\n",
    "    clf_rf3, X_test[symbol][all_features],\n",
    "    y_test[symbol][f'signal_{n}'])\n",
    "\n"
   ]
  },
  {
   "cell_type": "code",
   "execution_count": 91,
   "metadata": {},
   "outputs": [
    {
     "data": {
      "text/html": [
       "<div>\n",
       "<style scoped>\n",
       "    .dataframe tbody tr th:only-of-type {\n",
       "        vertical-align: middle;\n",
       "    }\n",
       "\n",
       "    .dataframe tbody tr th {\n",
       "        vertical-align: top;\n",
       "    }\n",
       "\n",
       "    .dataframe thead th {\n",
       "        text-align: right;\n",
       "    }\n",
       "</style>\n",
       "<table border=\"1\" class=\"dataframe\">\n",
       "  <thead>\n",
       "    <tr style=\"text-align: right;\">\n",
       "      <th></th>\n",
       "      <th>Close</th>\n",
       "      <th>Signal_Strat</th>\n",
       "      <th>Cum_Returns_Strat</th>\n",
       "      <th>Cum_Returns_BH</th>\n",
       "    </tr>\n",
       "    <tr>\n",
       "      <th>Epoch</th>\n",
       "      <th></th>\n",
       "      <th></th>\n",
       "      <th></th>\n",
       "      <th></th>\n",
       "    </tr>\n",
       "  </thead>\n",
       "  <tbody>\n",
       "    <tr>\n",
       "      <th>2017-07-11 00:00:00+00:00</th>\n",
       "      <td>NaN</td>\n",
       "      <td>0</td>\n",
       "      <td>NaN</td>\n",
       "      <td>NaN</td>\n",
       "    </tr>\n",
       "    <tr>\n",
       "      <th>2017-07-12 00:00:00+00:00</th>\n",
       "      <td>0.006284</td>\n",
       "      <td>0</td>\n",
       "      <td>0.000000</td>\n",
       "      <td>0.006284</td>\n",
       "    </tr>\n",
       "    <tr>\n",
       "      <th>2017-07-13 00:00:00+00:00</th>\n",
       "      <td>-0.016834</td>\n",
       "      <td>0</td>\n",
       "      <td>0.000000</td>\n",
       "      <td>-0.010550</td>\n",
       "    </tr>\n",
       "    <tr>\n",
       "      <th>2017-07-14 00:00:00+00:00</th>\n",
       "      <td>0.002486</td>\n",
       "      <td>0</td>\n",
       "      <td>0.000000</td>\n",
       "      <td>-0.008064</td>\n",
       "    </tr>\n",
       "    <tr>\n",
       "      <th>2017-07-17 00:00:00+00:00</th>\n",
       "      <td>0.002479</td>\n",
       "      <td>0</td>\n",
       "      <td>0.000000</td>\n",
       "      <td>-0.005585</td>\n",
       "    </tr>\n",
       "    <tr>\n",
       "      <th>...</th>\n",
       "      <td>...</td>\n",
       "      <td>...</td>\n",
       "      <td>...</td>\n",
       "      <td>...</td>\n",
       "    </tr>\n",
       "    <tr>\n",
       "      <th>2019-10-31 00:00:00+00:00</th>\n",
       "      <td>0.007592</td>\n",
       "      <td>0</td>\n",
       "      <td>-0.129969</td>\n",
       "      <td>0.105152</td>\n",
       "    </tr>\n",
       "    <tr>\n",
       "      <th>2019-11-01 00:00:00+00:00</th>\n",
       "      <td>0.011951</td>\n",
       "      <td>0</td>\n",
       "      <td>-0.129969</td>\n",
       "      <td>0.117103</td>\n",
       "    </tr>\n",
       "    <tr>\n",
       "      <th>2019-11-04 00:00:00+00:00</th>\n",
       "      <td>-0.001540</td>\n",
       "      <td>0</td>\n",
       "      <td>-0.129969</td>\n",
       "      <td>0.115563</td>\n",
       "    </tr>\n",
       "    <tr>\n",
       "      <th>2019-11-05 00:00:00+00:00</th>\n",
       "      <td>0.007200</td>\n",
       "      <td>0</td>\n",
       "      <td>-0.129969</td>\n",
       "      <td>0.122763</td>\n",
       "    </tr>\n",
       "    <tr>\n",
       "      <th>2019-11-06 00:00:00+00:00</th>\n",
       "      <td>0.002042</td>\n",
       "      <td>0</td>\n",
       "      <td>-0.129969</td>\n",
       "      <td>0.124805</td>\n",
       "    </tr>\n",
       "  </tbody>\n",
       "</table>\n",
       "<p>587 rows × 4 columns</p>\n",
       "</div>"
      ],
      "text/plain": [
       "                              Close  Signal_Strat  Cum_Returns_Strat  \\\n",
       "Epoch                                                                  \n",
       "2017-07-11 00:00:00+00:00       NaN             0                NaN   \n",
       "2017-07-12 00:00:00+00:00  0.006284             0           0.000000   \n",
       "2017-07-13 00:00:00+00:00 -0.016834             0           0.000000   \n",
       "2017-07-14 00:00:00+00:00  0.002486             0           0.000000   \n",
       "2017-07-17 00:00:00+00:00  0.002479             0           0.000000   \n",
       "...                             ...           ...                ...   \n",
       "2019-10-31 00:00:00+00:00  0.007592             0          -0.129969   \n",
       "2019-11-01 00:00:00+00:00  0.011951             0          -0.129969   \n",
       "2019-11-04 00:00:00+00:00 -0.001540             0          -0.129969   \n",
       "2019-11-05 00:00:00+00:00  0.007200             0          -0.129969   \n",
       "2019-11-06 00:00:00+00:00  0.002042             0          -0.129969   \n",
       "\n",
       "                           Cum_Returns_BH  \n",
       "Epoch                                      \n",
       "2017-07-11 00:00:00+00:00             NaN  \n",
       "2017-07-12 00:00:00+00:00        0.006284  \n",
       "2017-07-13 00:00:00+00:00       -0.010550  \n",
       "2017-07-14 00:00:00+00:00       -0.008064  \n",
       "2017-07-17 00:00:00+00:00       -0.005585  \n",
       "...                                   ...  \n",
       "2019-10-31 00:00:00+00:00        0.105152  \n",
       "2019-11-01 00:00:00+00:00        0.117103  \n",
       "2019-11-04 00:00:00+00:00        0.115563  \n",
       "2019-11-05 00:00:00+00:00        0.122763  \n",
       "2019-11-06 00:00:00+00:00        0.124805  \n",
       "\n",
       "[587 rows x 4 columns]"
      ]
     },
     "execution_count": 91,
     "metadata": {},
     "output_type": "execute_result"
    }
   ],
   "source": [
    "calc_returns(y_pred_rf3, djia[symbol][test_size:])"
   ]
  },
  {
   "cell_type": "code",
   "execution_count": 81,
   "metadata": {},
   "outputs": [],
   "source": [
    "# precision_score as scoring metric"
   ]
  },
  {
   "cell_type": "code",
   "execution_count": 158,
   "metadata": {},
   "outputs": [
    {
     "name": "stdout",
     "output_type": "stream",
     "text": [
      "100%|██████████| 10/10 [00:34<00:00,  3.45s/it, best loss: -0.6242940685045948]\n",
      "##### Results #####\n",
      "Score best parameters:  -0.6242940685045948\n",
      "Best parameters:  {'bootstrap': False, 'criterion': 'entropy', 'cv': 'btscv', 'max_depth': 280, 'max_features': 'auto', 'min_samples_leaf': 1, 'model': <class 'sklearn.ensemble._forest.RandomForestClassifier'>, 'n_estimators': 338, 'n_jobs': -1}\n",
      "Test Score (accuracy):  0.596252129471891\n",
      "Parameter combinations evaluated:  10\n",
      "Time elapsed:  37.19841003417969\n"
     ]
    }
   ],
   "source": [
    "n=15\n",
    "symbol='T'\n",
    "\n",
    "model = RandomForestClassifier\n",
    "RandomForestClassifier()\n",
    "bsearch_rf4, clf_rf4, params_rf4  = BayesianSearch(\n",
    "    search_space(model),\n",
    "    model,\n",
    "    X_train[symbol][all_features], \n",
    "    y_train[symbol][f'signal_{n}'], \n",
    "    X_test[symbol][all_features],\n",
    "    y_test[symbol][f'signal_{n}'],\n",
    "    num_eval=10,\n",
    "    scoring_metric='precision_score'\n",
    ")"
   ]
  },
  {
   "cell_type": "code",
   "execution_count": 147,
   "metadata": {},
   "outputs": [
    {
     "name": "stdout",
     "output_type": "stream",
     "text": [
      "Precision Score:  0.7091791008907974\n",
      "              precision    recall  f1-score   support\n",
      "\n",
      "           0       0.30      0.60      0.40       135\n",
      "           1       0.83      0.59      0.69       452\n",
      "\n",
      "    accuracy                           0.59       587\n",
      "   macro avg       0.57      0.59      0.54       587\n",
      "weighted avg       0.71      0.59      0.62       587\n",
      "\n"
     ]
    },
    {
     "data": {
      "text/plain": [
       "array([[ 81, 187],\n",
       "       [ 54, 265]])"
      ]
     },
     "execution_count": 147,
     "metadata": {},
     "output_type": "execute_result"
    },
    {
     "data": {
      "image/png": "[encoded data removed]",
      "text/plain": [
       "<Figure size 432x288 with 2 Axes>"
      ]
     },
     "metadata": {
      "needs_background": "light"
     },
     "output_type": "display_data"
    }
   ],
   "source": [
    "y_pred_rf4 = clf_rf4.predict(X_test[symbol][all_features])\n",
    "print('Precision Score: ', precision_score(y_pred_rf4, y_test[symbol][f'signal_{n}'], average='weighted'))\n",
    "print(classification_report(y_pred_rf4, y_test[symbol][f'signal_{n}']))\n",
    "plot_confusion_matrix(\n",
    "    clf_rf4,\n",
    "    X_test[symbol][all_features],\n",
    "    y_test[symbol][f'signal_{n}']\n",
    ")\n",
    "confusion_matrix(y_test[symbol][f'signal_{n}'], y_pred_rf4)\n"
   ]
  },
  {
   "cell_type": "code",
   "execution_count": 148,
   "metadata": {},
   "outputs": [
    {
     "data": {
      "text/html": [
       "<div>\n",
       "<style scoped>\n",
       "    .dataframe tbody tr th:only-of-type {\n",
       "        vertical-align: middle;\n",
       "    }\n",
       "\n",
       "    .dataframe tbody tr th {\n",
       "        vertical-align: top;\n",
       "    }\n",
       "\n",
       "    .dataframe thead th {\n",
       "        text-align: right;\n",
       "    }\n",
       "</style>\n",
       "<table border=\"1\" class=\"dataframe\">\n",
       "  <thead>\n",
       "    <tr style=\"text-align: right;\">\n",
       "      <th></th>\n",
       "      <th>Close</th>\n",
       "      <th>Signal_Strat</th>\n",
       "      <th>Cum_Returns_Strat</th>\n",
       "      <th>Cum_Returns_BH</th>\n",
       "    </tr>\n",
       "    <tr>\n",
       "      <th>Epoch</th>\n",
       "      <th></th>\n",
       "      <th></th>\n",
       "      <th></th>\n",
       "      <th></th>\n",
       "    </tr>\n",
       "  </thead>\n",
       "  <tbody>\n",
       "    <tr>\n",
       "      <th>2017-07-11 00:00:00+00:00</th>\n",
       "      <td>NaN</td>\n",
       "      <td>0</td>\n",
       "      <td>NaN</td>\n",
       "      <td>NaN</td>\n",
       "    </tr>\n",
       "    <tr>\n",
       "      <th>2017-07-12 00:00:00+00:00</th>\n",
       "      <td>0.006284</td>\n",
       "      <td>0</td>\n",
       "      <td>0.000000</td>\n",
       "      <td>0.006284</td>\n",
       "    </tr>\n",
       "    <tr>\n",
       "      <th>2017-07-13 00:00:00+00:00</th>\n",
       "      <td>-0.016834</td>\n",
       "      <td>0</td>\n",
       "      <td>0.000000</td>\n",
       "      <td>-0.010550</td>\n",
       "    </tr>\n",
       "    <tr>\n",
       "      <th>2017-07-14 00:00:00+00:00</th>\n",
       "      <td>0.002486</td>\n",
       "      <td>0</td>\n",
       "      <td>0.000000</td>\n",
       "      <td>-0.008064</td>\n",
       "    </tr>\n",
       "    <tr>\n",
       "      <th>2017-07-17 00:00:00+00:00</th>\n",
       "      <td>0.002479</td>\n",
       "      <td>0</td>\n",
       "      <td>0.000000</td>\n",
       "      <td>-0.005585</td>\n",
       "    </tr>\n",
       "    <tr>\n",
       "      <th>...</th>\n",
       "      <td>...</td>\n",
       "      <td>...</td>\n",
       "      <td>...</td>\n",
       "      <td>...</td>\n",
       "    </tr>\n",
       "    <tr>\n",
       "      <th>2019-10-31 00:00:00+00:00</th>\n",
       "      <td>0.007592</td>\n",
       "      <td>0</td>\n",
       "      <td>0.119276</td>\n",
       "      <td>0.105152</td>\n",
       "    </tr>\n",
       "    <tr>\n",
       "      <th>2019-11-01 00:00:00+00:00</th>\n",
       "      <td>0.011951</td>\n",
       "      <td>0</td>\n",
       "      <td>0.119276</td>\n",
       "      <td>0.117103</td>\n",
       "    </tr>\n",
       "    <tr>\n",
       "      <th>2019-11-04 00:00:00+00:00</th>\n",
       "      <td>-0.001540</td>\n",
       "      <td>0</td>\n",
       "      <td>0.119276</td>\n",
       "      <td>0.115563</td>\n",
       "    </tr>\n",
       "    <tr>\n",
       "      <th>2019-11-05 00:00:00+00:00</th>\n",
       "      <td>0.007200</td>\n",
       "      <td>0</td>\n",
       "      <td>0.119276</td>\n",
       "      <td>0.122763</td>\n",
       "    </tr>\n",
       "    <tr>\n",
       "      <th>2019-11-06 00:00:00+00:00</th>\n",
       "      <td>0.002042</td>\n",
       "      <td>0</td>\n",
       "      <td>0.119276</td>\n",
       "      <td>0.124805</td>\n",
       "    </tr>\n",
       "  </tbody>\n",
       "</table>\n",
       "<p>587 rows × 4 columns</p>\n",
       "</div>"
      ],
      "text/plain": [
       "                              Close  Signal_Strat  Cum_Returns_Strat  \\\n",
       "Epoch                                                                  \n",
       "2017-07-11 00:00:00+00:00       NaN             0                NaN   \n",
       "2017-07-12 00:00:00+00:00  0.006284             0           0.000000   \n",
       "2017-07-13 00:00:00+00:00 -0.016834             0           0.000000   \n",
       "2017-07-14 00:00:00+00:00  0.002486             0           0.000000   \n",
       "2017-07-17 00:00:00+00:00  0.002479             0           0.000000   \n",
       "...                             ...           ...                ...   \n",
       "2019-10-31 00:00:00+00:00  0.007592             0           0.119276   \n",
       "2019-11-01 00:00:00+00:00  0.011951             0           0.119276   \n",
       "2019-11-04 00:00:00+00:00 -0.001540             0           0.119276   \n",
       "2019-11-05 00:00:00+00:00  0.007200             0           0.119276   \n",
       "2019-11-06 00:00:00+00:00  0.002042             0           0.119276   \n",
       "\n",
       "                           Cum_Returns_BH  \n",
       "Epoch                                      \n",
       "2017-07-11 00:00:00+00:00             NaN  \n",
       "2017-07-12 00:00:00+00:00        0.006284  \n",
       "2017-07-13 00:00:00+00:00       -0.010550  \n",
       "2017-07-14 00:00:00+00:00       -0.008064  \n",
       "2017-07-17 00:00:00+00:00       -0.005585  \n",
       "...                                   ...  \n",
       "2019-10-31 00:00:00+00:00        0.105152  \n",
       "2019-11-01 00:00:00+00:00        0.117103  \n",
       "2019-11-04 00:00:00+00:00        0.115563  \n",
       "2019-11-05 00:00:00+00:00        0.122763  \n",
       "2019-11-06 00:00:00+00:00        0.124805  \n",
       "\n",
       "[587 rows x 4 columns]"
      ]
     },
     "execution_count": 148,
     "metadata": {},
     "output_type": "execute_result"
    }
   ],
   "source": [
    "calc_returns(y_pred_rf4, djia[symbol][test_size:])"
   ]
  },
  {
   "cell_type": "code",
   "execution_count": 98,
   "metadata": {},
   "outputs": [
    {
     "data": {
      "text/html": [
       "<div>\n",
       "<style scoped>\n",
       "    .dataframe tbody tr th:only-of-type {\n",
       "        vertical-align: middle;\n",
       "    }\n",
       "\n",
       "    .dataframe tbody tr th {\n",
       "        vertical-align: top;\n",
       "    }\n",
       "\n",
       "    .dataframe thead th {\n",
       "        text-align: right;\n",
       "    }\n",
       "</style>\n",
       "<table border=\"1\" class=\"dataframe\">\n",
       "  <thead>\n",
       "    <tr style=\"text-align: right;\">\n",
       "      <th></th>\n",
       "      <th>Close</th>\n",
       "      <th>Signal_Strat</th>\n",
       "      <th>Cum_Returns_Strat</th>\n",
       "      <th>Cum_Returns_BH</th>\n",
       "    </tr>\n",
       "    <tr>\n",
       "      <th>Epoch</th>\n",
       "      <th></th>\n",
       "      <th></th>\n",
       "      <th></th>\n",
       "      <th></th>\n",
       "    </tr>\n",
       "  </thead>\n",
       "  <tbody>\n",
       "    <tr>\n",
       "      <th>2017-07-11 00:00:00+00:00</th>\n",
       "      <td>NaN</td>\n",
       "      <td>1</td>\n",
       "      <td>NaN</td>\n",
       "      <td>NaN</td>\n",
       "    </tr>\n",
       "    <tr>\n",
       "      <th>2017-07-12 00:00:00+00:00</th>\n",
       "      <td>0.006284</td>\n",
       "      <td>0</td>\n",
       "      <td>0.00000</td>\n",
       "      <td>0.006284</td>\n",
       "    </tr>\n",
       "    <tr>\n",
       "      <th>2017-07-13 00:00:00+00:00</th>\n",
       "      <td>-0.016834</td>\n",
       "      <td>0</td>\n",
       "      <td>0.00000</td>\n",
       "      <td>-0.010550</td>\n",
       "    </tr>\n",
       "    <tr>\n",
       "      <th>2017-07-14 00:00:00+00:00</th>\n",
       "      <td>0.002486</td>\n",
       "      <td>0</td>\n",
       "      <td>0.00000</td>\n",
       "      <td>-0.008064</td>\n",
       "    </tr>\n",
       "    <tr>\n",
       "      <th>2017-07-17 00:00:00+00:00</th>\n",
       "      <td>0.002479</td>\n",
       "      <td>0</td>\n",
       "      <td>0.00000</td>\n",
       "      <td>-0.005585</td>\n",
       "    </tr>\n",
       "    <tr>\n",
       "      <th>...</th>\n",
       "      <td>...</td>\n",
       "      <td>...</td>\n",
       "      <td>...</td>\n",
       "      <td>...</td>\n",
       "    </tr>\n",
       "    <tr>\n",
       "      <th>2019-10-31 00:00:00+00:00</th>\n",
       "      <td>0.007592</td>\n",
       "      <td>0</td>\n",
       "      <td>0.18421</td>\n",
       "      <td>0.105152</td>\n",
       "    </tr>\n",
       "    <tr>\n",
       "      <th>2019-11-01 00:00:00+00:00</th>\n",
       "      <td>0.011951</td>\n",
       "      <td>0</td>\n",
       "      <td>0.18421</td>\n",
       "      <td>0.117103</td>\n",
       "    </tr>\n",
       "    <tr>\n",
       "      <th>2019-11-04 00:00:00+00:00</th>\n",
       "      <td>-0.001540</td>\n",
       "      <td>0</td>\n",
       "      <td>0.18421</td>\n",
       "      <td>0.115563</td>\n",
       "    </tr>\n",
       "    <tr>\n",
       "      <th>2019-11-05 00:00:00+00:00</th>\n",
       "      <td>0.007200</td>\n",
       "      <td>0</td>\n",
       "      <td>0.18421</td>\n",
       "      <td>0.122763</td>\n",
       "    </tr>\n",
       "    <tr>\n",
       "      <th>2019-11-06 00:00:00+00:00</th>\n",
       "      <td>0.002042</td>\n",
       "      <td>0</td>\n",
       "      <td>0.18421</td>\n",
       "      <td>0.124805</td>\n",
       "    </tr>\n",
       "  </tbody>\n",
       "</table>\n",
       "<p>587 rows × 4 columns</p>\n",
       "</div>"
      ],
      "text/plain": [
       "                              Close  Signal_Strat  Cum_Returns_Strat  \\\n",
       "Epoch                                                                  \n",
       "2017-07-11 00:00:00+00:00       NaN             1                NaN   \n",
       "2017-07-12 00:00:00+00:00  0.006284             0            0.00000   \n",
       "2017-07-13 00:00:00+00:00 -0.016834             0            0.00000   \n",
       "2017-07-14 00:00:00+00:00  0.002486             0            0.00000   \n",
       "2017-07-17 00:00:00+00:00  0.002479             0            0.00000   \n",
       "...                             ...           ...                ...   \n",
       "2019-10-31 00:00:00+00:00  0.007592             0            0.18421   \n",
       "2019-11-01 00:00:00+00:00  0.011951             0            0.18421   \n",
       "2019-11-04 00:00:00+00:00 -0.001540             0            0.18421   \n",
       "2019-11-05 00:00:00+00:00  0.007200             0            0.18421   \n",
       "2019-11-06 00:00:00+00:00  0.002042             0            0.18421   \n",
       "\n",
       "                           Cum_Returns_BH  \n",
       "Epoch                                      \n",
       "2017-07-11 00:00:00+00:00             NaN  \n",
       "2017-07-12 00:00:00+00:00        0.006284  \n",
       "2017-07-13 00:00:00+00:00       -0.010550  \n",
       "2017-07-14 00:00:00+00:00       -0.008064  \n",
       "2017-07-17 00:00:00+00:00       -0.005585  \n",
       "...                                   ...  \n",
       "2019-10-31 00:00:00+00:00        0.105152  \n",
       "2019-11-01 00:00:00+00:00        0.117103  \n",
       "2019-11-04 00:00:00+00:00        0.115563  \n",
       "2019-11-05 00:00:00+00:00        0.122763  \n",
       "2019-11-06 00:00:00+00:00        0.124805  \n",
       "\n",
       "[587 rows x 4 columns]"
      ]
     },
     "execution_count": 98,
     "metadata": {},
     "output_type": "execute_result"
    }
   ],
   "source": [
    "calc_returns(y_pred_rf4, djia[symbol][test_size:])"
   ]
  },
  {
   "cell_type": "code",
   "execution_count": null,
   "metadata": {},
   "outputs": [],
   "source": [
    "['stoc_3', 'atr_3', 'williamsr_3', 'cci_3', 'rsi_3', 'adx_3', 'macd_3', 'roc_3', 'ema_3', 'bbu_3', 'stocd_3', 'stoc_5', 'atr_5', 'williamsr_5', 'cci_5', 'rsi_5', 'adx_5', 'macd_5', 'roc_5', 'ema_5', 'bbu_5', 'stocd_5', 'stoc_7', 'atr_7', 'williamsr_7', 'cci_7', 'rsi_7', 'adx_7', 'macd_7', 'roc_7', 'ema_7', 'bbu_7', 'stocd_7', 'stoc_10', 'atr_10', 'williamsr_10', 'cci_10', 'rsi_10', 'adx_10', 'macd_10', 'roc_10', 'ema_10', 'bbu_10', 'stocd_10', 'stoc_15', 'atr_15', 'williamsr_15', 'cci_15', 'rsi_15', 'adx_15', 'macd_15', 'roc_15', 'ema_15', 'bbu_15', 'stocd_15', 'stoc_20', 'atr_20', 'williamsr_20', 'cci_20', 'rsi_20', 'adx_20', 'macd_20', 'roc_20', 'ema_20', 'bbu_20', 'stocd_20', 'stoc_25', 'atr_25', 'williamsr_25', 'cci_25', 'rsi_25', 'adx_25', 'macd_25', 'roc_25', 'ema_25', 'bbu_25', 'stocd_25', 'stoc_30', 'atr_30', 'williamsr_30', 'cci_30', 'rsi_30', 'adx_30', 'macd_30', 'roc_30', 'ema_30', 'bbu_30', 'stocd_30'],"
   ]
  },
  {
   "cell_type": "code",
   "execution_count": 155,
   "metadata": {},
   "outputs": [
    {
     "data": {
      "text/plain": [
       "DatetimeIndex(['2017-07-11 00:00:00+00:00', '2017-07-12 00:00:00+00:00',\n",
       "               '2017-07-13 00:00:00+00:00', '2017-07-14 00:00:00+00:00',\n",
       "               '2017-07-17 00:00:00+00:00', '2017-07-18 00:00:00+00:00',\n",
       "               '2017-07-19 00:00:00+00:00', '2017-07-20 00:00:00+00:00',\n",
       "               '2017-07-21 00:00:00+00:00', '2017-07-24 00:00:00+00:00',\n",
       "               ...\n",
       "               '2019-10-24 00:00:00+00:00', '2019-10-25 00:00:00+00:00',\n",
       "               '2019-10-28 00:00:00+00:00', '2019-10-29 00:00:00+00:00',\n",
       "               '2019-10-30 00:00:00+00:00', '2019-10-31 00:00:00+00:00',\n",
       "               '2019-11-01 00:00:00+00:00', '2019-11-04 00:00:00+00:00',\n",
       "               '2019-11-05 00:00:00+00:00', '2019-11-06 00:00:00+00:00'],\n",
       "              dtype='datetime64[ns, UTC]', name='Epoch', length=587, freq=None)"
      ]
     },
     "execution_count": 155,
     "metadata": {},
     "output_type": "execute_result"
    }
   ],
   "source": [
    "X_test.index"
   ]
  },
  {
   "cell_type": "code",
   "execution_count": 131,
   "metadata": {},
   "outputs": [
    {
     "data": {
      "image/png": "[encoded data removed]",
      "text/plain": [
       "<Figure size 576x720 with 1 Axes>"
      ]
     },
     "metadata": {
      "needs_background": "light"
     },
     "output_type": "display_data"
    }
   ],
   "source": [
    "plot_feature_importances(clf_rf4.feature_importances_, all_features, 'RF1', top_count=20)\n"
   ]
  },
  {
   "cell_type": "code",
   "execution_count": 102,
   "metadata": {},
   "outputs": [
    {
     "data": {
      "text/plain": [
       "['/Users/robin/Documents/nf-ds/capstone_nf/models/RF_best.joblib']"
      ]
     },
     "execution_count": 102,
     "metadata": {},
     "output_type": "execute_result"
    }
   ],
   "source": [
    "# Permanentely storing the best performing model to hard disk\n",
    "from joblib import dump, load\n",
    "clf_rf4\n",
    "dump(clf_rf4, '/Users/robin/Documents/nf-ds/capstone_nf/models/RF_best.joblib')"
   ]
  },
  {
   "cell_type": "code",
   "execution_count": 153,
   "metadata": {},
   "outputs": [
    {
     "name": "stdout",
     "output_type": "stream",
     "text": [
      "RandomForestClassifier(bootstrap=False, ccp_alpha=0.0, class_weight=None,\n",
      "                       criterion='gini', max_depth=228, max_features='auto',\n",
      "                       max_leaf_nodes=None, max_samples=None,\n",
      "                       min_impurity_decrease=0.0, min_impurity_split=None,\n",
      "                       min_samples_leaf=1, min_samples_split=2,\n",
      "                       min_weight_fraction_leaf=0.0, n_estimators=329,\n",
      "                       n_jobs=-1, oob_score=False, random_state=None, verbose=0,\n",
      "                       warm_start=False)\n"
     ]
    }
   ],
   "source": [
    "print(str(clf_rf4))"
   ]
  },
  {
   "cell_type": "markdown",
   "metadata": {},
   "source": [
    "#### Running on all 50 stocks on best model"
   ]
  },
  {
   "cell_type": "code",
   "execution_count": 110,
   "metadata": {},
   "outputs": [
    {
     "data": {
      "text/plain": [
       "'Leg [2/2]; Elapsed Time 70.0s\\n'"
      ]
     },
     "metadata": {},
     "output_type": "display_data"
    },
    {
     "data": {
      "text/html": [
       "<style  type=\"text/css\" >\n",
       "    #T_430639dc_3764_11ea_a418_f0189811b80erow0_col0 {\n",
       "            background-color:  #74c8ae;\n",
       "            color:  #000000;\n",
       "        }    #T_430639dc_3764_11ea_a418_f0189811b80erow0_col1 {\n",
       "            background-color:  #d9f1f0;\n",
       "            color:  #000000;\n",
       "        }    #T_430639dc_3764_11ea_a418_f0189811b80erow0_col2 {\n",
       "            background-color:  #f7fcfd;\n",
       "            color:  #000000;\n",
       "        }    #T_430639dc_3764_11ea_a418_f0189811b80erow0_col3 {\n",
       "            background-color:  #f7fcfd;\n",
       "            color:  #000000;\n",
       "        }    #T_430639dc_3764_11ea_a418_f0189811b80erow0_col4 {\n",
       "            background-color:  #e0f3f5;\n",
       "            color:  #000000;\n",
       "        }    #T_430639dc_3764_11ea_a418_f0189811b80erow0_col5 {\n",
       "            background-color:  #8dd3c0;\n",
       "            color:  #000000;\n",
       "        }    #T_430639dc_3764_11ea_a418_f0189811b80erow0_col6 {\n",
       "            background-color:  #56ba91;\n",
       "            color:  #000000;\n",
       "        }    #T_430639dc_3764_11ea_a418_f0189811b80erow0_col7 {\n",
       "            background-color:  #1e8741;\n",
       "            color:  #000000;\n",
       "        }    #T_430639dc_3764_11ea_a418_f0189811b80erow1_col0 {\n",
       "            background-color:  #3fac74;\n",
       "            color:  #000000;\n",
       "        }    #T_430639dc_3764_11ea_a418_f0189811b80erow1_col1 {\n",
       "            background-color:  #eaf7fa;\n",
       "            color:  #000000;\n",
       "        }    #T_430639dc_3764_11ea_a418_f0189811b80erow1_col2 {\n",
       "            background-color:  #d2eeeb;\n",
       "            color:  #000000;\n",
       "        }    #T_430639dc_3764_11ea_a418_f0189811b80erow1_col3 {\n",
       "            background-color:  #f5fbfd;\n",
       "            color:  #000000;\n",
       "        }    #T_430639dc_3764_11ea_a418_f0189811b80erow1_col4 {\n",
       "            background-color:  #f7fcfd;\n",
       "            color:  #000000;\n",
       "        }    #T_430639dc_3764_11ea_a418_f0189811b80erow1_col5 {\n",
       "            background-color:  #41ae77;\n",
       "            color:  #000000;\n",
       "        }    #T_430639dc_3764_11ea_a418_f0189811b80erow1_col6 {\n",
       "            background-color:  #4db585;\n",
       "            color:  #000000;\n",
       "        }    #T_430639dc_3764_11ea_a418_f0189811b80erow1_col7 {\n",
       "            background-color:  #40ad75;\n",
       "            color:  #000000;\n",
       "        }    #T_430639dc_3764_11ea_a418_f0189811b80erow2_col0 {\n",
       "            background-color:  #94d6c5;\n",
       "            color:  #000000;\n",
       "        }    #T_430639dc_3764_11ea_a418_f0189811b80erow2_col1 {\n",
       "            background-color:  #00441b;\n",
       "            color:  #f1f1f1;\n",
       "        }    #T_430639dc_3764_11ea_a418_f0189811b80erow2_col2 {\n",
       "            background-color:  #00441b;\n",
       "            color:  #f1f1f1;\n",
       "        }    #T_430639dc_3764_11ea_a418_f0189811b80erow2_col3 {\n",
       "            background-color:  #258d48;\n",
       "            color:  #000000;\n",
       "        }    #T_430639dc_3764_11ea_a418_f0189811b80erow2_col4 {\n",
       "            background-color:  #3fab72;\n",
       "            color:  #000000;\n",
       "        }    #T_430639dc_3764_11ea_a418_f0189811b80erow2_col5 {\n",
       "            background-color:  #117b38;\n",
       "            color:  #f1f1f1;\n",
       "        }    #T_430639dc_3764_11ea_a418_f0189811b80erow2_col6 {\n",
       "            background-color:  #087432;\n",
       "            color:  #f1f1f1;\n",
       "        }    #T_430639dc_3764_11ea_a418_f0189811b80erow2_col7 {\n",
       "            background-color:  #238b45;\n",
       "            color:  #000000;\n",
       "        }    #T_430639dc_3764_11ea_a418_f0189811b80erow3_col0 {\n",
       "            background-color:  #3ca86d;\n",
       "            color:  #000000;\n",
       "        }    #T_430639dc_3764_11ea_a418_f0189811b80erow3_col1 {\n",
       "            background-color:  #006227;\n",
       "            color:  #f1f1f1;\n",
       "        }    #T_430639dc_3764_11ea_a418_f0189811b80erow3_col2 {\n",
       "            background-color:  #03702e;\n",
       "            color:  #f1f1f1;\n",
       "        }    #T_430639dc_3764_11ea_a418_f0189811b80erow3_col3 {\n",
       "            background-color:  #29924f;\n",
       "            color:  #000000;\n",
       "        }    #T_430639dc_3764_11ea_a418_f0189811b80erow3_col4 {\n",
       "            background-color:  #72c7ad;\n",
       "            color:  #000000;\n",
       "        }    #T_430639dc_3764_11ea_a418_f0189811b80erow3_col5 {\n",
       "            background-color:  #03702e;\n",
       "            color:  #f1f1f1;\n",
       "        }    #T_430639dc_3764_11ea_a418_f0189811b80erow3_col6 {\n",
       "            background-color:  #00441b;\n",
       "            color:  #f1f1f1;\n",
       "        }    #T_430639dc_3764_11ea_a418_f0189811b80erow3_col7 {\n",
       "            background-color:  #157f3b;\n",
       "            color:  #f1f1f1;\n",
       "        }    #T_430639dc_3764_11ea_a418_f0189811b80erow4_col0 {\n",
       "            background-color:  #38a367;\n",
       "            color:  #000000;\n",
       "        }    #T_430639dc_3764_11ea_a418_f0189811b80erow4_col1 {\n",
       "            background-color:  #48b27f;\n",
       "            color:  #000000;\n",
       "        }    #T_430639dc_3764_11ea_a418_f0189811b80erow4_col2 {\n",
       "            background-color:  #2a9350;\n",
       "            color:  #000000;\n",
       "        }    #T_430639dc_3764_11ea_a418_f0189811b80erow4_col3 {\n",
       "            background-color:  #006328;\n",
       "            color:  #f1f1f1;\n",
       "        }    #T_430639dc_3764_11ea_a418_f0189811b80erow4_col4 {\n",
       "            background-color:  #00441b;\n",
       "            color:  #f1f1f1;\n",
       "        }    #T_430639dc_3764_11ea_a418_f0189811b80erow4_col5 {\n",
       "            background-color:  #00441b;\n",
       "            color:  #f1f1f1;\n",
       "        }    #T_430639dc_3764_11ea_a418_f0189811b80erow4_col6 {\n",
       "            background-color:  #006227;\n",
       "            color:  #f1f1f1;\n",
       "        }    #T_430639dc_3764_11ea_a418_f0189811b80erow4_col7 {\n",
       "            background-color:  #00441b;\n",
       "            color:  #f1f1f1;\n",
       "        }    #T_430639dc_3764_11ea_a418_f0189811b80erow5_col0 {\n",
       "            background-color:  #74c8ae;\n",
       "            color:  #000000;\n",
       "        }    #T_430639dc_3764_11ea_a418_f0189811b80erow5_col1 {\n",
       "            background-color:  #004d1f;\n",
       "            color:  #f1f1f1;\n",
       "        }    #T_430639dc_3764_11ea_a418_f0189811b80erow5_col2 {\n",
       "            background-color:  #005f26;\n",
       "            color:  #f1f1f1;\n",
       "        }    #T_430639dc_3764_11ea_a418_f0189811b80erow5_col3 {\n",
       "            background-color:  #b7e4da;\n",
       "            color:  #000000;\n",
       "        }    #T_430639dc_3764_11ea_a418_f0189811b80erow5_col4 {\n",
       "            background-color:  #f7fcfd;\n",
       "            color:  #000000;\n",
       "        }    #T_430639dc_3764_11ea_a418_f0189811b80erow5_col5 {\n",
       "            background-color:  #f7fcfd;\n",
       "            color:  #000000;\n",
       "        }    #T_430639dc_3764_11ea_a418_f0189811b80erow5_col6 {\n",
       "            background-color:  #e3f4f7;\n",
       "            color:  #000000;\n",
       "        }    #T_430639dc_3764_11ea_a418_f0189811b80erow5_col7 {\n",
       "            background-color:  #ccece6;\n",
       "            color:  #000000;\n",
       "        }    #T_430639dc_3764_11ea_a418_f0189811b80erow6_col0 {\n",
       "            background-color:  #00441b;\n",
       "            color:  #f1f1f1;\n",
       "        }    #T_430639dc_3764_11ea_a418_f0189811b80erow6_col1 {\n",
       "            background-color:  #48b27f;\n",
       "            color:  #000000;\n",
       "        }    #T_430639dc_3764_11ea_a418_f0189811b80erow6_col2 {\n",
       "            background-color:  #8dd3c0;\n",
       "            color:  #000000;\n",
       "        }    #T_430639dc_3764_11ea_a418_f0189811b80erow6_col3 {\n",
       "            background-color:  #c8ebe4;\n",
       "            color:  #000000;\n",
       "        }    #T_430639dc_3764_11ea_a418_f0189811b80erow6_col4 {\n",
       "            background-color:  #c4e9e1;\n",
       "            color:  #000000;\n",
       "        }    #T_430639dc_3764_11ea_a418_f0189811b80erow6_col5 {\n",
       "            background-color:  #61bf9e;\n",
       "            color:  #000000;\n",
       "        }    #T_430639dc_3764_11ea_a418_f0189811b80erow6_col6 {\n",
       "            background-color:  #75c9af;\n",
       "            color:  #000000;\n",
       "        }    #T_430639dc_3764_11ea_a418_f0189811b80erow6_col7 {\n",
       "            background-color:  #f3fafc;\n",
       "            color:  #000000;\n",
       "        }    #T_430639dc_3764_11ea_a418_f0189811b80erow7_col0 {\n",
       "            background-color:  #f7fcfd;\n",
       "            color:  #000000;\n",
       "        }    #T_430639dc_3764_11ea_a418_f0189811b80erow7_col1 {\n",
       "            background-color:  #f7fcfd;\n",
       "            color:  #000000;\n",
       "        }    #T_430639dc_3764_11ea_a418_f0189811b80erow7_col2 {\n",
       "            background-color:  #7dccb5;\n",
       "            color:  #000000;\n",
       "        }    #T_430639dc_3764_11ea_a418_f0189811b80erow7_col3 {\n",
       "            background-color:  #47b17e;\n",
       "            color:  #000000;\n",
       "        }    #T_430639dc_3764_11ea_a418_f0189811b80erow7_col4 {\n",
       "            background-color:  #e5f5f9;\n",
       "            color:  #000000;\n",
       "        }    #T_430639dc_3764_11ea_a418_f0189811b80erow7_col5 {\n",
       "            background-color:  #78cab1;\n",
       "            color:  #000000;\n",
       "        }    #T_430639dc_3764_11ea_a418_f0189811b80erow7_col6 {\n",
       "            background-color:  #f7fcfd;\n",
       "            color:  #000000;\n",
       "        }    #T_430639dc_3764_11ea_a418_f0189811b80erow7_col7 {\n",
       "            background-color:  #f7fcfd;\n",
       "            color:  #000000;\n",
       "        }    #T_430639dc_3764_11ea_a418_f0189811b80erow8_col0 {\n",
       "            background-color:  #00682a;\n",
       "            color:  #f1f1f1;\n",
       "        }    #T_430639dc_3764_11ea_a418_f0189811b80erow8_col1 {\n",
       "            background-color:  #005723;\n",
       "            color:  #f1f1f1;\n",
       "        }    #T_430639dc_3764_11ea_a418_f0189811b80erow8_col2 {\n",
       "            background-color:  #107a37;\n",
       "            color:  #f1f1f1;\n",
       "        }    #T_430639dc_3764_11ea_a418_f0189811b80erow8_col3 {\n",
       "            background-color:  #00441b;\n",
       "            color:  #f1f1f1;\n",
       "        }    #T_430639dc_3764_11ea_a418_f0189811b80erow8_col4 {\n",
       "            background-color:  #3ba76c;\n",
       "            color:  #000000;\n",
       "        }    #T_430639dc_3764_11ea_a418_f0189811b80erow8_col5 {\n",
       "            background-color:  #309b5b;\n",
       "            color:  #000000;\n",
       "        }    #T_430639dc_3764_11ea_a418_f0189811b80erow8_col6 {\n",
       "            background-color:  #e3f4f7;\n",
       "            color:  #000000;\n",
       "        }    #T_430639dc_3764_11ea_a418_f0189811b80erow8_col7 {\n",
       "            background-color:  #75c9af;\n",
       "            color:  #000000;\n",
       "        }</style><table id=\"T_430639dc_3764_11ea_a418_f0189811b80e\" ><thead>    <tr>        <th class=\"blank level0\" ></th>        <th class=\"col_heading level0 col0\" >3</th>        <th class=\"col_heading level0 col1\" >5</th>        <th class=\"col_heading level0 col2\" >7</th>        <th class=\"col_heading level0 col3\" >10</th>        <th class=\"col_heading level0 col4\" >15</th>        <th class=\"col_heading level0 col5\" >20</th>        <th class=\"col_heading level0 col6\" >25</th>        <th class=\"col_heading level0 col7\" >30</th>    </tr></thead><tbody>\n",
       "                <tr>\n",
       "                        <th id=\"T_430639dc_3764_11ea_a418_f0189811b80elevel0_row0\" class=\"row_heading level0 row0\" >1</th>\n",
       "                        <td id=\"T_430639dc_3764_11ea_a418_f0189811b80erow0_col0\" class=\"data row0 col0\" >0.492334</td>\n",
       "                        <td id=\"T_430639dc_3764_11ea_a418_f0189811b80erow0_col1\" class=\"data row0 col1\" >0.488927</td>\n",
       "                        <td id=\"T_430639dc_3764_11ea_a418_f0189811b80erow0_col2\" class=\"data row0 col2\" >0.484668</td>\n",
       "                        <td id=\"T_430639dc_3764_11ea_a418_f0189811b80erow0_col3\" class=\"data row0 col3\" >0.482112</td>\n",
       "                        <td id=\"T_430639dc_3764_11ea_a418_f0189811b80erow0_col4\" class=\"data row0 col4\" >0.494037</td>\n",
       "                        <td id=\"T_430639dc_3764_11ea_a418_f0189811b80erow0_col5\" class=\"data row0 col5\" >0.480409</td>\n",
       "                        <td id=\"T_430639dc_3764_11ea_a418_f0189811b80erow0_col6\" class=\"data row0 col6\" >0.483816</td>\n",
       "                        <td id=\"T_430639dc_3764_11ea_a418_f0189811b80erow0_col7\" class=\"data row0 col7\" >0.48552</td>\n",
       "            </tr>\n",
       "            <tr>\n",
       "                        <th id=\"T_430639dc_3764_11ea_a418_f0189811b80elevel0_row1\" class=\"row_heading level0 row1\" >3</th>\n",
       "                        <td id=\"T_430639dc_3764_11ea_a418_f0189811b80erow1_col0\" class=\"data row1 col0\" >0.500852</td>\n",
       "                        <td id=\"T_430639dc_3764_11ea_a418_f0189811b80erow1_col1\" class=\"data row1 col1\" >0.483816</td>\n",
       "                        <td id=\"T_430639dc_3764_11ea_a418_f0189811b80erow1_col2\" class=\"data row1 col2\" >0.498296</td>\n",
       "                        <td id=\"T_430639dc_3764_11ea_a418_f0189811b80erow1_col3\" class=\"data row1 col3\" >0.482964</td>\n",
       "                        <td id=\"T_430639dc_3764_11ea_a418_f0189811b80erow1_col4\" class=\"data row1 col4\" >0.48552</td>\n",
       "                        <td id=\"T_430639dc_3764_11ea_a418_f0189811b80erow1_col5\" class=\"data row1 col5\" >0.501704</td>\n",
       "                        <td id=\"T_430639dc_3764_11ea_a418_f0189811b80erow1_col6\" class=\"data row1 col6\" >0.48552</td>\n",
       "                        <td id=\"T_430639dc_3764_11ea_a418_f0189811b80erow1_col7\" class=\"data row1 col7\" >0.473595</td>\n",
       "            </tr>\n",
       "            <tr>\n",
       "                        <th id=\"T_430639dc_3764_11ea_a418_f0189811b80elevel0_row2\" class=\"row_heading level0 row2\" >5</th>\n",
       "                        <td id=\"T_430639dc_3764_11ea_a418_f0189811b80erow2_col0\" class=\"data row2 col0\" >0.488075</td>\n",
       "                        <td id=\"T_430639dc_3764_11ea_a418_f0189811b80erow2_col1\" class=\"data row2 col1\" >0.534072</td>\n",
       "                        <td id=\"T_430639dc_3764_11ea_a418_f0189811b80erow2_col2\" class=\"data row2 col2\" >0.545997</td>\n",
       "                        <td id=\"T_430639dc_3764_11ea_a418_f0189811b80erow2_col3\" class=\"data row2 col3\" >0.528109</td>\n",
       "                        <td id=\"T_430639dc_3764_11ea_a418_f0189811b80erow2_col4\" class=\"data row2 col4\" >0.521295</td>\n",
       "                        <td id=\"T_430639dc_3764_11ea_a418_f0189811b80erow2_col5\" class=\"data row2 col5\" >0.520443</td>\n",
       "                        <td id=\"T_430639dc_3764_11ea_a418_f0189811b80erow2_col6\" class=\"data row2 col6\" >0.5</td>\n",
       "                        <td id=\"T_430639dc_3764_11ea_a418_f0189811b80erow2_col7\" class=\"data row2 col7\" >0.483816</td>\n",
       "            </tr>\n",
       "            <tr>\n",
       "                        <th id=\"T_430639dc_3764_11ea_a418_f0189811b80elevel0_row3\" class=\"row_heading level0 row3\" >7</th>\n",
       "                        <td id=\"T_430639dc_3764_11ea_a418_f0189811b80erow3_col0\" class=\"data row3 col0\" >0.501704</td>\n",
       "                        <td id=\"T_430639dc_3764_11ea_a418_f0189811b80erow3_col1\" class=\"data row3 col1\" >0.528961</td>\n",
       "                        <td id=\"T_430639dc_3764_11ea_a418_f0189811b80erow3_col2\" class=\"data row3 col2\" >0.537479</td>\n",
       "                        <td id=\"T_430639dc_3764_11ea_a418_f0189811b80erow3_col3\" class=\"data row3 col3\" >0.527257</td>\n",
       "                        <td id=\"T_430639dc_3764_11ea_a418_f0189811b80erow3_col4\" class=\"data row3 col4\" >0.511925</td>\n",
       "                        <td id=\"T_430639dc_3764_11ea_a418_f0189811b80erow3_col5\" class=\"data row3 col5\" >0.524702</td>\n",
       "                        <td id=\"T_430639dc_3764_11ea_a418_f0189811b80erow3_col6\" class=\"data row3 col6\" >0.508518</td>\n",
       "                        <td id=\"T_430639dc_3764_11ea_a418_f0189811b80erow3_col7\" class=\"data row3 col7\" >0.488075</td>\n",
       "            </tr>\n",
       "            <tr>\n",
       "                        <th id=\"T_430639dc_3764_11ea_a418_f0189811b80elevel0_row4\" class=\"row_heading level0 row4\" >10</th>\n",
       "                        <td id=\"T_430639dc_3764_11ea_a418_f0189811b80erow4_col0\" class=\"data row4 col0\" >0.502555</td>\n",
       "                        <td id=\"T_430639dc_3764_11ea_a418_f0189811b80erow4_col1\" class=\"data row4 col1\" >0.511925</td>\n",
       "                        <td id=\"T_430639dc_3764_11ea_a418_f0189811b80erow4_col2\" class=\"data row4 col2\" >0.528961</td>\n",
       "                        <td id=\"T_430639dc_3764_11ea_a418_f0189811b80erow4_col3\" class=\"data row4 col3\" >0.53833</td>\n",
       "                        <td id=\"T_430639dc_3764_11ea_a418_f0189811b80erow4_col4\" class=\"data row4 col4\" >0.541738</td>\n",
       "                        <td id=\"T_430639dc_3764_11ea_a418_f0189811b80erow4_col5\" class=\"data row4 col5\" >0.53833</td>\n",
       "                        <td id=\"T_430639dc_3764_11ea_a418_f0189811b80erow4_col6\" class=\"data row4 col6\" >0.503407</td>\n",
       "                        <td id=\"T_430639dc_3764_11ea_a418_f0189811b80erow4_col7\" class=\"data row4 col7\" >0.505111</td>\n",
       "            </tr>\n",
       "            <tr>\n",
       "                        <th id=\"T_430639dc_3764_11ea_a418_f0189811b80elevel0_row5\" class=\"row_heading level0 row5\" >15</th>\n",
       "                        <td id=\"T_430639dc_3764_11ea_a418_f0189811b80erow5_col0\" class=\"data row5 col0\" >0.492334</td>\n",
       "                        <td id=\"T_430639dc_3764_11ea_a418_f0189811b80erow5_col1\" class=\"data row5 col1\" >0.532368</td>\n",
       "                        <td id=\"T_430639dc_3764_11ea_a418_f0189811b80erow5_col2\" class=\"data row5 col2\" >0.540886</td>\n",
       "                        <td id=\"T_430639dc_3764_11ea_a418_f0189811b80erow5_col3\" class=\"data row5 col3\" >0.500852</td>\n",
       "                        <td id=\"T_430639dc_3764_11ea_a418_f0189811b80erow5_col4\" class=\"data row5 col4\" >0.48552</td>\n",
       "                        <td id=\"T_430639dc_3764_11ea_a418_f0189811b80erow5_col5\" class=\"data row5 col5\" >0.441227</td>\n",
       "                        <td id=\"T_430639dc_3764_11ea_a418_f0189811b80erow5_col6\" class=\"data row5 col6\" >0.460818</td>\n",
       "                        <td id=\"T_430639dc_3764_11ea_a418_f0189811b80erow5_col7\" class=\"data row5 col7\" >0.442078</td>\n",
       "            </tr>\n",
       "            <tr>\n",
       "                        <th id=\"T_430639dc_3764_11ea_a418_f0189811b80elevel0_row6\" class=\"row_heading level0 row6\" >20</th>\n",
       "                        <td id=\"T_430639dc_3764_11ea_a418_f0189811b80erow6_col0\" class=\"data row6 col0\" >0.520443</td>\n",
       "                        <td id=\"T_430639dc_3764_11ea_a418_f0189811b80erow6_col1\" class=\"data row6 col1\" >0.511925</td>\n",
       "                        <td id=\"T_430639dc_3764_11ea_a418_f0189811b80erow6_col2\" class=\"data row6 col2\" >0.50937</td>\n",
       "                        <td id=\"T_430639dc_3764_11ea_a418_f0189811b80erow6_col3\" class=\"data row6 col3\" >0.498296</td>\n",
       "                        <td id=\"T_430639dc_3764_11ea_a418_f0189811b80erow6_col4\" class=\"data row6 col4\" >0.500852</td>\n",
       "                        <td id=\"T_430639dc_3764_11ea_a418_f0189811b80erow6_col5\" class=\"data row6 col5\" >0.491482</td>\n",
       "                        <td id=\"T_430639dc_3764_11ea_a418_f0189811b80erow6_col6\" class=\"data row6 col6\" >0.478705</td>\n",
       "                        <td id=\"T_430639dc_3764_11ea_a418_f0189811b80erow6_col7\" class=\"data row6 col7\" >0.423339</td>\n",
       "            </tr>\n",
       "            <tr>\n",
       "                        <th id=\"T_430639dc_3764_11ea_a418_f0189811b80elevel0_row7\" class=\"row_heading level0 row7\" >25</th>\n",
       "                        <td id=\"T_430639dc_3764_11ea_a418_f0189811b80erow7_col0\" class=\"data row7 col0\" >0.467632</td>\n",
       "                        <td id=\"T_430639dc_3764_11ea_a418_f0189811b80erow7_col1\" class=\"data row7 col1\" >0.478705</td>\n",
       "                        <td id=\"T_430639dc_3764_11ea_a418_f0189811b80erow7_col2\" class=\"data row7 col2\" >0.511925</td>\n",
       "                        <td id=\"T_430639dc_3764_11ea_a418_f0189811b80erow7_col3\" class=\"data row7 col3\" >0.519591</td>\n",
       "                        <td id=\"T_430639dc_3764_11ea_a418_f0189811b80erow7_col4\" class=\"data row7 col4\" >0.492334</td>\n",
       "                        <td id=\"T_430639dc_3764_11ea_a418_f0189811b80erow7_col5\" class=\"data row7 col5\" >0.48552</td>\n",
       "                        <td id=\"T_430639dc_3764_11ea_a418_f0189811b80erow7_col6\" class=\"data row7 col6\" >0.453152</td>\n",
       "                        <td id=\"T_430639dc_3764_11ea_a418_f0189811b80erow7_col7\" class=\"data row7 col7\" >0.420784</td>\n",
       "            </tr>\n",
       "            <tr>\n",
       "                        <th id=\"T_430639dc_3764_11ea_a418_f0189811b80elevel0_row8\" class=\"row_heading level0 row8\" >30</th>\n",
       "                        <td id=\"T_430639dc_3764_11ea_a418_f0189811b80erow8_col0\" class=\"data row8 col0\" >0.51448</td>\n",
       "                        <td id=\"T_430639dc_3764_11ea_a418_f0189811b80erow8_col1\" class=\"data row8 col1\" >0.530664</td>\n",
       "                        <td id=\"T_430639dc_3764_11ea_a418_f0189811b80erow8_col2\" class=\"data row8 col2\" >0.534923</td>\n",
       "                        <td id=\"T_430639dc_3764_11ea_a418_f0189811b80erow8_col3\" class=\"data row8 col3\" >0.544293</td>\n",
       "                        <td id=\"T_430639dc_3764_11ea_a418_f0189811b80erow8_col4\" class=\"data row8 col4\" >0.522147</td>\n",
       "                        <td id=\"T_430639dc_3764_11ea_a418_f0189811b80erow8_col5\" class=\"data row8 col5\" >0.508518</td>\n",
       "                        <td id=\"T_430639dc_3764_11ea_a418_f0189811b80erow8_col6\" class=\"data row8 col6\" >0.460818</td>\n",
       "                        <td id=\"T_430639dc_3764_11ea_a418_f0189811b80erow8_col7\" class=\"data row8 col7\" >0.459966</td>\n",
       "            </tr>\n",
       "    </tbody></table>"
      ],
      "text/plain": [
       "<pandas.io.formats.style.Styler at 0x1a2d526650>"
      ]
     },
     "metadata": {},
     "output_type": "display_data"
    }
   ],
   "source": [
    "#best_params = {'bootstrap': False, 'criterion': 'gini', 'max_depth': 218, 'max_features': 1, 'min_samples_leaf': 19, 'n_estimators': 423}\n",
    "#model_2a = (n_jobs=-1, **params_rf4)\n",
    "avg_results, scores_dict, preds_dict, params_dict, returns_dict = avg_model(  \n",
    "    symbol_list[:2],\n",
    "    forecast_horizon,                                 \n",
    "    input_window_size,\n",
    "    ti_list,\n",
    "    X_train,    \n",
    "    X_test,    \n",
    "    y_train,    \n",
    "    y_test,    \n",
    "    prices_test,\n",
    "    model=clf_rf4,\n",
    "    silent = False\n",
    ")"
   ]
  },
  {
   "cell_type": "code",
   "execution_count": 119,
   "metadata": {},
   "outputs": [
    {
     "data": {
      "text/plain": [
       "3     0.323974\n",
       "5     0.040124\n",
       "7     0.219872\n",
       "10    0.247853\n",
       "15    0.142701\n",
       "20   -0.121261\n",
       "25   -0.147591\n",
       "30   -0.406337\n",
       "dtype: float64"
      ]
     },
     "execution_count": 119,
     "metadata": {},
     "output_type": "execute_result"
    }
   ],
   "source": [
    "returns_dict['CNC'].max()"
   ]
  },
  {
   "cell_type": "code",
   "execution_count": 118,
   "metadata": {},
   "outputs": [
    {
     "data": {
      "text/plain": [
       "3     0.061496\n",
       "5     0.108737\n",
       "7     0.024551\n",
       "10    0.007889\n",
       "15    0.015822\n",
       "20   -0.008669\n",
       "25    0.243224\n",
       "30    0.012433\n",
       "dtype: float64"
      ]
     },
     "execution_count": 118,
     "metadata": {},
     "output_type": "execute_result"
    }
   ],
   "source": [
    "returns_dict['FMC'].max()"
   ]
  },
  {
   "cell_type": "code",
   "execution_count": null,
   "metadata": {},
   "outputs": [],
   "source": [
    "#best_params = {'bootstrap': False, 'criterion': 'gini', 'max_depth': 218, 'max_features': 1, 'min_samples_leaf': 19, 'n_estimators': 423}\n",
    "#model_2a = (n_jobs=-1, **params_rf4)\n",
    "avg_results, scores_dict, preds_dict, params_dict, returns_dict = avg_model(\n",
    "    symbol_list,\n",
    "    forecast_horizon,                                 \n",
    "    input_window_size,\n",
    "    ti_list,\n",
    "    X_train,    \n",
    "    X_test,    \n",
    "    y_train,    \n",
    "    y_test,    \n",
    "    prices_test,\n",
    "    model=RandomForestClassifier,\n",
    "    silent = False,\n",
    "    hyper_optimize=True,\n",
    "    n_eval=10,\n",
    ")"
   ]
  },
  {
   "cell_type": "code",
   "execution_count": null,
   "metadata": {},
   "outputs": [],
   "source": []
  }
 ],
 "metadata": {
  "kernelspec": {
   "display_name": "capstone_nf",
   "language": "python",
   "name": "capstone_nf"
  },
  "language_info": {
   "codemirror_mode": {
    "name": "ipython",
    "version": 3
   },
   "file_extension": ".py",
   "mimetype": "text/x-python",
   "name": "python",
   "nbconvert_exporter": "python",
   "pygments_lexer": "ipython3",
   "version": "3.7.5"
  },
  "toc-autonumbering": true
 },
 "nbformat": 4,
 "nbformat_minor": 4
}

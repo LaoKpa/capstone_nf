{
 "cells": [
  {
   "cell_type": "markdown",
   "metadata": {},
   "source": [
    "# Predictive Modelling: XGBoost"
   ]
  },
  {
   "cell_type": "markdown",
   "metadata": {},
   "source": [
    "# Imports"
   ]
  },
  {
   "cell_type": "code",
   "execution_count": 585,
   "metadata": {},
   "outputs": [
    {
     "name": "stdout",
     "output_type": "stream",
     "text": [
      "The autoreload extension is already loaded. To reload it, use:\n",
      "  %reload_ext autoreload\n"
     ]
    }
   ],
   "source": [
    "%load_ext autoreload\n",
    "%autoreload 2\n",
    "\n",
    "# Pandas and numpy\n",
    "import pandas as pd\n",
    "import numpy as np\n",
    "\n",
    "#\n",
    "from IPython.display import display, clear_output\n",
    "import sys\n",
    "import time\n",
    "\n",
    "# Libraries for Visualization\n",
    "import matplotlib.pyplot as plt\n",
    "import seaborn as sns\n",
    "from src.visualization.visualize import plot_corr_matrix, plot_multi, plot_norm_dist, plot_feature_importances\n",
    "\n",
    "# Some custom tools\n",
    "from src.data.tools import check_for_missing_vals\n",
    "\n",
    "# Alpaca API\n",
    "import alpaca_trade_api as tradeapi\n",
    "\n",
    "# Pickle\n",
    "import pickle\n",
    "import os\n",
    "from pathlib import Path\n",
    "\n",
    "# To load variables from .env file into system environment\n",
    "from dotenv import find_dotenv, load_dotenv\n",
    "\n",
    "from atomm.Indicators import MomentumIndicators\n",
    "from atomm.DataManager.main import MSDataManager\n",
    "from atomm.Tools import calc_open_position\n",
    "from src.visualization.visualize import plot_confusion_matrix\n",
    "from atomm.Methods import BlockingTimeSeriesSplit, PurgedKFold           \n",
    "\n",
    "\n",
    "import time, os\n",
    "\n",
    "# scikit-learn\n",
    "from sklearn.svm import SVC\n",
    "from sklearn.metrics import accuracy_score, classification_report, confusion_matrix\n",
    "from sklearn.model_selection import train_test_split, cross_val_score, TimeSeriesSplit\n",
    "from xgboost import XGBClassifier\n",
    "from sklearn.neighbors import KNeighborsClassifier\n",
    "from sklearn.ensemble import RandomForestClassifier\n",
    "from sklearn.linear_model import LogisticRegression\n",
    "\n",
    "# For BayesianHyperparameter Optimization\n",
    "from src.models.hyperparameter_optimization import search_space, BayesianSearch\n",
    "\n",
    "# Feature building tool\n",
    "from src.features.build_features import calcIndicators\n",
    "\n",
    "\n",
    "# Visualization libraries\n",
    "import seaborn as sns\n",
    "import matplotlib.pyplot as plt\n",
    "from pandas.plotting import scatter_matrix\n",
    "import matplotlib.gridspec as gridspec\n",
    "#import matplotlib.style as style\n",
    "from scipy import stats"
   ]
  },
  {
   "cell_type": "code",
   "execution_count": 95,
   "metadata": {},
   "outputs": [
    {
     "data": {
      "text/plain": [
       "True"
      ]
     },
     "execution_count": 95,
     "metadata": {},
     "output_type": "execute_result"
    }
   ],
   "source": [
    "# Load environment variables\n",
    "load_dotenv(find_dotenv())"
   ]
  },
  {
   "cell_type": "markdown",
   "metadata": {},
   "source": [
    "## Defining functions"
   ]
  },
  {
   "cell_type": "code",
   "execution_count": 21,
   "metadata": {},
   "outputs": [],
   "source": [
    "def run_combinations(\n",
    "        symbol,\n",
    "        forecast_horizon,\n",
    "        input_window_size,\n",
    "        X_train,\n",
    "        X_test,\n",
    "        y_train,\n",
    "        y_test,\n",
    "        prices,\n",
    "        model,\n",
    "        hyper_optimize=False,\n",
    "        n_eval=10,\n",
    "        silent = False,\n",
    "    \n",
    "    ):\n",
    "    start = time.time()\n",
    "    cnt = 1\n",
    "    df_score = pd.DataFrame(index=forecast_horizon, columns=input_window_size, dtype=float)\n",
    "    df_score.rename_axis('Forecast horizon (days)').rename_axis('Input window (days)', axis=1)\n",
    "    df_returns = df_score.copy()\n",
    "    total = len(forecast_horizon)*len(input_window_size)\n",
    "    # Loop over forecast horizons\n",
    "    try:\n",
    "        for i, fh in enumerate(forecast_horizon):\n",
    "            # Loop over input / lookback windows\n",
    "            for j, iw in enumerate(input_window_size):\n",
    "\n",
    "                params = {}\n",
    "                if hyper_optimize:\n",
    "                    _, _, params = BayesianSearch(\n",
    "                        search_space(model),\n",
    "                        model,\n",
    "                        X_train[symbol][[f'{x}_{iw}' for x in ti_list]], \n",
    "                        y_train[symbol][f'signal_{fh}'], \n",
    "                        X_test[symbol][[f'{x}_{iw}' for x in ti_list]],\n",
    "                        y_test[symbol][f'signal_{fh}'],\n",
    "                        num_eval=n_eval,\n",
    "                        silent=True,\n",
    "                    )\n",
    "                clf = model(**params)\n",
    "                clf.fit(X_train[symbol][[f'{x}_{iw}' for x in ti_list]], y_train[symbol][f'signal_{fh}'])\n",
    "                y_pred = clf.predict(X_test[symbol][[f'{x}_{iw}' for x in ti_list]])\n",
    "                # Calculate accuracy score ()\n",
    "                a_score = accuracy_score(y_test[symbol][f'signal_{fh}'], y_pred)\n",
    "                # Calculate returns generated by stratedy\n",
    "                returns = calc_returns(y_pred, prices[symbol])\n",
    "                cum_returns = returns['Cum_Returns_Strat'][-1]\n",
    "                df_score.iloc[i, j] = a_score\n",
    "                df_returns.iloc[i, j] = cum_returns\n",
    "                if silent == False:\n",
    "                    clear_output(wait=True)\n",
    "                    display(f'Leg [{cnt} / {total}]; Test Score {a_score}; Test Returns {cum_returns}')\n",
    "                cnt += 1\n",
    "    except (KeyboardInterrupt, SystemExit):\n",
    "        sys.exit(0)\n",
    "    print(f'Elapsed time {round(time.time()-start, 0)}s.')\n",
    "    return df_score, df_returns"
   ]
  },
  {
   "cell_type": "code",
   "execution_count": 5,
   "metadata": {},
   "outputs": [],
   "source": [
    "def avg_model(  \n",
    "    symbol_list,\n",
    "    forecast_horizon,                                 \n",
    "    input_window_size,                                  \n",
    "    X_train,    \n",
    "    X_test,    \n",
    "    y_train,    \n",
    "    y_test,    \n",
    "    prices_test,\n",
    "    model,\n",
    "    silent = False\n",
    "):\n",
    "    results_dict, returns_dict = {}, {}\n",
    "    cnt = 1\n",
    "    start = time.time()\n",
    "    for symb in symbol_list:\n",
    "        results, returns = run_combinations(\n",
    "            symb,                             \n",
    "            forecast_horizon,                                 \n",
    "            input_window_size,                                  \n",
    "            X_train,    \n",
    "            X_test,    \n",
    "            y_train,    \n",
    "            y_test,    \n",
    "            prices_test,   \n",
    "            model=model,\n",
    "            silent=True\n",
    "        )\n",
    "        results_dict[symb] = results\n",
    "        returns_dict[symb] = returns\n",
    "        avg_results = pd.DataFrame(\n",
    "            np.array([results_dict[x].values for x in results_dict.keys()]).mean(axis=0),\n",
    "            columns=results.columns, index=results.index).style.background_gradient(cmap='BuGn')\n",
    "        \n",
    "        if silent == False:\n",
    "            clear_output(wait=True)\n",
    "            display(f'Leg [{cnt}/{len(symbol_list)}]; Elapsed Time {round(time.time()-start , 0)}s\\n', avg_results)\n",
    "        cnt += 1\n",
    "\n",
    "    return avg_results, results_dict, returns_dict"
   ]
  },
  {
   "cell_type": "code",
   "execution_count": 51,
   "metadata": {},
   "outputs": [],
   "source": [
    "def create_two_class_signal(df, symbol_list):\n",
    "    df_signals = pd.DataFrame(pd.MultiIndex.from_product([[], []]),)# index=df.index)\n",
    "    sign_dic = {}\n",
    "    for symbol in symbol_list:\n",
    "        data = df[symbol]\n",
    "        dicti = {}\n",
    "        for n in forecast_horizon:\n",
    "            diff = (data['Close'].shift(-n) - data['Close'])/data['Close']\n",
    "            signal = np.where(diff > 0, 1, 0)\n",
    "            dicti[f'signal_{n}'] = signal\n",
    "        sign_df = pd.DataFrame.from_dict(dicti)\n",
    "        sign_dic[symbol] = sign_df\n",
    "    df_signals = pd.concat(sign_dic.values(), keys=sign_dic.keys(), axis=1)\n",
    "    return df_signals"
   ]
  },
  {
   "cell_type": "code",
   "execution_count": 57,
   "metadata": {},
   "outputs": [],
   "source": [
    "def create_three_class_signal(df, symbol_list, threshold=None, multi=1):\n",
    "    df_signals = pd.DataFrame(pd.MultiIndex.from_product([[], []]),)# index=df.index)\n",
    "    df_op = df_signals.copy()\n",
    "    sign_dic, op_dic = {}, {}\n",
    "    for symbol in symbol_list:\n",
    "        data = df[symbol]\n",
    "        dicti, dict_op = {}, {}\n",
    "        for n, thresh in zip(forecast_horizon, threshold):\n",
    "            diff = (data['Close'].shift(-n) - data['Close'])/data['Close']\n",
    "            signal1p = np.where(diff > multi*thresh/100, 1, 0)\n",
    "            signal1n = np.where(diff < -multi*thresh/100, -1, 0)\n",
    "            signal = signal1p + signal1n\n",
    "            open_position = calc_open_position(signal)\n",
    "            dicti[f'signal_{n}'] = signal\n",
    "            dict_op[f'open_position_{n}'] = open_position\n",
    "        sign_dic[symbol] = pd.DataFrame.from_dict(dicti)\n",
    "        op_dic[symbol] = pd.DataFrame.from_dict(dict_op)\n",
    "    df_signals = pd.concat(sign_dic.values(), keys=sign_dic.keys(), axis=1)\n",
    "    df_op = pd.concat(op_dic.values(), keys=op_dic.keys(), axis=1)\n",
    "    return df_signals, df_op"
   ]
  },
  {
   "cell_type": "code",
   "execution_count": 6,
   "metadata": {},
   "outputs": [],
   "source": [
    "def calc_returns(signals, prices):\n",
    "    returns = prices[['Close']].pct_change()\n",
    "    returns['Signal_Strat'] = calc_open_position(signals)\n",
    "    returns['Cum_Returns_Strat'] = (returns['Signal_Strat'] * returns['Close']).cumsum()\n",
    "    returns['Cum_Returns_BH'] = returns['Close'].cumsum()\n",
    "    return returns"
   ]
  },
  {
   "cell_type": "markdown",
   "metadata": {},
   "source": [
    "## Loading the data"
   ]
  },
  {
   "cell_type": "code",
   "execution_count": null,
   "metadata": {},
   "outputs": [],
   "source": [
    "from src.data.tools import check_for_missing_vals"
   ]
  },
  {
   "cell_type": "code",
   "execution_count": 299,
   "metadata": {},
   "outputs": [],
   "source": [
    "forecast_horizon = [1, 3, 5, 7, 10, 15, 20, 25, 30]\n",
    "input_window_size = [3, 5, 7, 10, 15, 20, 25, 30]\n",
    "threshold_list = [0.63, 1.15, 1.49, 1.79, 2.14, 2.65, 3.08, 3.48, 3.94]\n",
    "ti_list = ['macd', 'rsi', 'stoc', 'roc', 'bbu', 'bbl', 'ema', 'atr', 'adx', 'cci', 'williamsr', 'stocd']\n",
    "ti_list = ['sma', 'rsi', 'stoc', 'roc', 'ema', 'atr', 'adx', 'cci', 'williamsr', 'stocd']\n",
    "\n",
    "symbol_list = df_moments.columns.get_level_values(0).unique()\n",
    "symbol_list = ['GPS']\n",
    "startd = datetime.datetime(2002, 1, 29)\n",
    "endd = datetime.datetime(2012, 7, 30)"
   ]
  },
  {
   "cell_type": "code",
   "execution_count": 39,
   "metadata": {},
   "outputs": [
    {
     "name": "stdout",
     "output_type": "stream",
     "text": [
      "Elapsed time: 0s\n"
     ]
    }
   ],
   "source": [
    "start = time.time()\n",
    "df = pd.DataFrame(pd.MultiIndex.from_product([[], []]))\n",
    "dic = {} \n",
    "#symb_list = dm.ReturnIndexConstituents('DJIA')+['DJIA']\n",
    "for symb in symbol_list:\n",
    "    #print(symb)\n",
    "    symb_df = dm.ReturnData(\n",
    "        symb,\n",
    "        start_date=startd,\n",
    "        end_date=endd,\n",
    "        limit=None)\n",
    "    dic[symb] = symb_df\n",
    "    \n",
    "prices = pd.concat(dic.values(), keys=dic.keys(), axis=1)\n",
    "print(f'Elapsed time: {int(time.time()-start)}s')"
   ]
  },
  {
   "cell_type": "code",
   "execution_count": 115,
   "metadata": {},
   "outputs": [
    {
     "name": "stdout",
     "output_type": "stream",
     "text": [
      "No missing values found in dataframe\n"
     ]
    }
   ],
   "source": [
    "check_for_missing_vals(prices)"
   ]
  },
  {
   "cell_type": "code",
   "execution_count": 591,
   "metadata": {},
   "outputs": [],
   "source": [
    "\n",
    "def calcIndicators2(data, symbol, lookback_windows, ti_list):\n",
    "    mi = MomentumIndicators(data[symbol])\n",
    "    df = pd.DataFrame(index=data.index)\n",
    "    ti_dict = {\n",
    "        'sma': MomentumIndicators(data[symbol]).calcSMA,\n",
    "        'macd': MomentumIndicators(data[symbol]).calcMACD,\n",
    "           'rsi': MomentumIndicators(data[symbol]).calcRSI,\n",
    "           'stoc': MomentumIndicators(data[symbol]).calcSTOC,\n",
    "           'roc': MomentumIndicators(data[symbol]).calcROC,\n",
    "           'bbu': MomentumIndicators(data[symbol]).calcBB,\n",
    "           'bbl': MomentumIndicators(data[symbol]).calcBB,\n",
    "           'ema': MomentumIndicators(data[symbol]).calcEMA,\n",
    "           'atr': MomentumIndicators(data[symbol]).calcATR,\n",
    "           'adx': MomentumIndicators(data[symbol]).calcADX,\n",
    "           'cci': MomentumIndicators(data[symbol]).calcCCI,\n",
    "           'williamsr': MomentumIndicators(data[symbol]).calcWR,\n",
    "            }\n",
    "    for n in input_window_size:\n",
    "        for ti in ti_list:\n",
    "            if ti == 'stocd':\n",
    "                df[f'{ti}_{n}'] = mi.calcEMA(3, df[f'stoc_{n}'])\n",
    "            elif ti == 'log_ret':\n",
    "                df[f'{ti}_{n}'] = np.log(data[symbol]['Close']).diff(periods=n)\n",
    "            elif ti in ['autocorr_1', 'autocorr_3', 'autocorr_5']:\n",
    "                df[f'{ti}_{n}'] = df[f'log_ret_{n}'].rolling(\n",
    "                    window=n,\n",
    "                    min_periods=n,\n",
    "                    center=False\n",
    "                ).apply(lambda x: x.autocorr(lag=int(ti[-1])), raw=False)\n",
    "            elif ti == 'vol':\n",
    "                df[f'vol_{n}'] = df[f'log_ret_{n}'].rolling(\n",
    "                    window=n,\n",
    "                    min_periods=n,\n",
    "                    center=False\n",
    "                ).std()\n",
    "            else:\n",
    "                df[f'{ti}_{n}'] = ti_dict.get(ti)(n)\n",
    "\n",
    "            # Shynkevich et al 2017 also has SMA, but not Bollinger Bands, MACD\n",
    "    return df"
   ]
  },
  {
   "cell_type": "code",
   "execution_count": 592,
   "metadata": {},
   "outputs": [
    {
     "data": {
      "text/plain": [
       "'Leg [1 / 1]; Last symbol: GPS; Elapsed time: 49.0s'"
      ]
     },
     "metadata": {},
     "output_type": "display_data"
    }
   ],
   "source": [
    "cnt = 1\n",
    "start = time.time()\n",
    "total = len(symbol_list)\n",
    "mom_dict = {}\n",
    "ti_list = ['sma', 'rsi', 'stoc', 'roc', 'ema', 'atr', 'adx',\n",
    "           'cci', 'williamsr', 'stocd', 'log_ret', 'autocorr_1', 'autocorr_3', 'autocorr_5', 'vol']\n",
    "\n",
    "for symbol in symbol_list:\n",
    "    res = calcIndicators(prices, symbol, input_window_size, ti_list)\n",
    "    mom_dict[symbol] = res\n",
    "    clear_output(wait=True)\n",
    "    display(f'Leg [{cnt} / {total}]; Last symbol: {symbol}; Elapsed time: {round(time.time()-start, 0)}s')\n",
    "    cnt += 1\n",
    "df_moments = pd.concat(mom_dict.values(), keys=mom_dict.keys(), axis=1)"
   ]
  },
  {
   "cell_type": "code",
   "execution_count": 404,
   "metadata": {},
   "outputs": [],
   "source": [
    "df_moments = df_moments.iloc[max(input_window_size):-max(forecast_horizon)]"
   ]
  },
  {
   "cell_type": "code",
   "execution_count": 383,
   "metadata": {},
   "outputs": [
    {
     "data": {
      "text/plain": [
       "<matplotlib.axes._subplots.AxesSubplot at 0x1a2d4775d0>"
      ]
     },
     "execution_count": 383,
     "metadata": {},
     "output_type": "execute_result"
    },
    {
     "data": {
      "image/png": "[encoded data removed]",
      "text/plain": [
       "<Figure size 432x288 with 1 Axes>"
      ]
     },
     "metadata": {
      "needs_background": "light"
     },
     "output_type": "display_data"
    }
   ],
   "source": [
    "df_moments['GPS']['autocorr_1_15'].plot()"
   ]
  },
  {
   "cell_type": "code",
   "execution_count": 222,
   "metadata": {},
   "outputs": [
    {
     "name": "stdout",
     "output_type": "stream",
     "text": [
      "GPS\n",
      "[0, 0, 0, 0, 0, 0, 0, 1, 0, 0, 0, 0, 0, 0, 0, 0, 0, 0, 0, 0, 0, 0, 0, 0, 0, 0, 0, 0, 0, 0, 0, 0, 0, 0, 0, 0, 0, 0, 0, 0, 0, 0, 0, 0, 0, 0, 0, 0, 0, 0, 0, 0, 0, 0, 0, 0, 0, 0, 0, 0, 0, 0, 0, 0, 0, 0, 0, 0, 0, 0, 0, 0, 0, 0, 0, 0, 0, 0, 0, 0]\n"
     ]
    }
   ],
   "source": [
    "check_for_missing_vals(df_moments)"
   ]
  },
  {
   "cell_type": "markdown",
   "metadata": {},
   "source": [
    "# Two class labels"
   ]
  },
  {
   "cell_type": "code",
   "execution_count": 86,
   "metadata": {},
   "outputs": [
    {
     "data": {
      "text/plain": [
       "(2586, 9)"
      ]
     },
     "execution_count": 86,
     "metadata": {},
     "output_type": "execute_result"
    }
   ],
   "source": [
    "y_2c = create_two_class_signal(prices, symbol_list)\n",
    "y_2c = y_2c[max(input_window_size):-max(forecast_horizon)]\n",
    "y_2c.shape"
   ]
  },
  {
   "cell_type": "code",
   "execution_count": 117,
   "metadata": {},
   "outputs": [
    {
     "data": {
      "text/html": [
       "<div>\n",
       "<style scoped>\n",
       "    .dataframe tbody tr th:only-of-type {\n",
       "        vertical-align: middle;\n",
       "    }\n",
       "\n",
       "    .dataframe tbody tr th {\n",
       "        vertical-align: top;\n",
       "    }\n",
       "\n",
       "    .dataframe thead th {\n",
       "        text-align: right;\n",
       "    }\n",
       "</style>\n",
       "<table border=\"1\" class=\"dataframe\">\n",
       "  <thead>\n",
       "    <tr style=\"text-align: right;\">\n",
       "      <th></th>\n",
       "      <th>signal_1</th>\n",
       "      <th>signal_3</th>\n",
       "      <th>signal_5</th>\n",
       "      <th>signal_7</th>\n",
       "      <th>signal_10</th>\n",
       "      <th>signal_15</th>\n",
       "      <th>signal_20</th>\n",
       "      <th>signal_25</th>\n",
       "      <th>signal_30</th>\n",
       "    </tr>\n",
       "  </thead>\n",
       "  <tbody>\n",
       "    <tr>\n",
       "      <th>0</th>\n",
       "      <td>0.496906</td>\n",
       "      <td>0.481052</td>\n",
       "      <td>0.469451</td>\n",
       "      <td>0.465197</td>\n",
       "      <td>0.477572</td>\n",
       "      <td>0.476025</td>\n",
       "      <td>0.472931</td>\n",
       "      <td>0.464037</td>\n",
       "      <td>0.465197</td>\n",
       "    </tr>\n",
       "    <tr>\n",
       "      <th>1</th>\n",
       "      <td>0.503094</td>\n",
       "      <td>0.518948</td>\n",
       "      <td>0.530549</td>\n",
       "      <td>0.534803</td>\n",
       "      <td>0.522428</td>\n",
       "      <td>0.523975</td>\n",
       "      <td>0.527069</td>\n",
       "      <td>0.535963</td>\n",
       "      <td>0.534803</td>\n",
       "    </tr>\n",
       "  </tbody>\n",
       "</table>\n",
       "</div>"
      ],
      "text/plain": [
       "   signal_1  signal_3  signal_5  signal_7  signal_10  signal_15  signal_20  signal_25  signal_30\n",
       "0  0.496906  0.481052  0.469451  0.465197   0.477572   0.476025   0.472931   0.464037   0.465197\n",
       "1  0.503094  0.518948  0.530549  0.534803   0.522428   0.523975   0.527069   0.535963   0.534803"
      ]
     },
     "execution_count": 117,
     "metadata": {},
     "output_type": "execute_result"
    }
   ],
   "source": [
    "l1 = []\n",
    "for y in y_2c.columns.get_level_values(0).unique():\n",
    "    l = []\n",
    "    for x in y_2c[y].columns:\n",
    "        c = y_2c[y][x].value_counts()\n",
    "        s = c[0] + c[1]\n",
    "        l.append([c[0]/s, c[1]/s])\n",
    "    l1.append(l)\n",
    "pd.DataFrame(np.mean(np.array(l1), axis=0).T, index=pd.Index(['0', '1']), columns=y_2c.columns.get_level_values(1).unique())"
   ]
  },
  {
   "cell_type": "markdown",
   "metadata": {},
   "source": [
    "# Three class labels"
   ]
  },
  {
   "cell_type": "code",
   "execution_count": 85,
   "metadata": {},
   "outputs": [
    {
     "data": {
      "text/plain": [
       "(2586, 9)"
      ]
     },
     "execution_count": 85,
     "metadata": {},
     "output_type": "execute_result"
    }
   ],
   "source": [
    "#%%timeit\n",
    "\n",
    "sym_list = symbol_list[:]\n",
    "\n",
    "#dicti = {}\n",
    "y_3c, y_3op = create_three_class_signal(prices, symbol_list, threshold=threshold_list)\n",
    "y_3c_test, y_3op_test = create_three_class_signal(prices, symbol_list, threshold=threshold_list)\n",
    "\n",
    "# Remove first and last 30 entries\n",
    "y_3c = y_3c[max(input_window_size):-max(forecast_horizon)]\n",
    "y_3op = y_3op[max(input_window_size):-max(forecast_horizon)]\n",
    "y_3c.shape"
   ]
  },
  {
   "cell_type": "code",
   "execution_count": 97,
   "metadata": {},
   "outputs": [
    {
     "data": {
      "text/html": [
       "<div>\n",
       "<style scoped>\n",
       "    .dataframe tbody tr th:only-of-type {\n",
       "        vertical-align: middle;\n",
       "    }\n",
       "\n",
       "    .dataframe tbody tr th {\n",
       "        vertical-align: top;\n",
       "    }\n",
       "\n",
       "    .dataframe thead th {\n",
       "        text-align: right;\n",
       "    }\n",
       "</style>\n",
       "<table border=\"1\" class=\"dataframe\">\n",
       "  <thead>\n",
       "    <tr style=\"text-align: right;\">\n",
       "      <th></th>\n",
       "      <th>signal_1</th>\n",
       "      <th>signal_3</th>\n",
       "      <th>signal_5</th>\n",
       "      <th>signal_7</th>\n",
       "      <th>signal_10</th>\n",
       "      <th>signal_15</th>\n",
       "      <th>signal_20</th>\n",
       "      <th>signal_25</th>\n",
       "      <th>signal_30</th>\n",
       "    </tr>\n",
       "  </thead>\n",
       "  <tbody>\n",
       "    <tr>\n",
       "      <th>-1</th>\n",
       "      <td>0.347641</td>\n",
       "      <td>0.324053</td>\n",
       "      <td>0.323279</td>\n",
       "      <td>0.318252</td>\n",
       "      <td>0.323279</td>\n",
       "      <td>0.315159</td>\n",
       "      <td>0.312838</td>\n",
       "      <td>0.311678</td>\n",
       "      <td>0.312452</td>\n",
       "    </tr>\n",
       "    <tr>\n",
       "      <th>0</th>\n",
       "      <td>0.289637</td>\n",
       "      <td>0.305878</td>\n",
       "      <td>0.295437</td>\n",
       "      <td>0.298144</td>\n",
       "      <td>0.295050</td>\n",
       "      <td>0.304718</td>\n",
       "      <td>0.312838</td>\n",
       "      <td>0.311678</td>\n",
       "      <td>0.303558</td>\n",
       "    </tr>\n",
       "    <tr>\n",
       "      <th>1</th>\n",
       "      <td>0.362722</td>\n",
       "      <td>0.370070</td>\n",
       "      <td>0.381284</td>\n",
       "      <td>0.383604</td>\n",
       "      <td>0.381671</td>\n",
       "      <td>0.380124</td>\n",
       "      <td>0.374323</td>\n",
       "      <td>0.376643</td>\n",
       "      <td>0.383991</td>\n",
       "    </tr>\n",
       "  </tbody>\n",
       "</table>\n",
       "</div>"
      ],
      "text/plain": [
       "    signal_1  signal_3  signal_5  signal_7  signal_10  signal_15  signal_20  signal_25  signal_30\n",
       "-1  0.347641  0.324053  0.323279  0.318252   0.323279   0.315159   0.312838   0.311678   0.312452\n",
       "0   0.289637  0.305878  0.295437  0.298144   0.295050   0.304718   0.312838   0.311678   0.303558\n",
       "1   0.362722  0.370070  0.381284  0.383604   0.381671   0.380124   0.374323   0.376643   0.383991"
      ]
     },
     "execution_count": 97,
     "metadata": {},
     "output_type": "execute_result"
    }
   ],
   "source": [
    "l1 = []\n",
    "for y in y_3c.columns.get_level_values(0).unique():\n",
    "    l = []\n",
    "    for x in y_3c[y].columns:\n",
    "        c = y_3c[y][x].value_counts()\n",
    "        s = c[0] + c[1] + c[-1]\n",
    "        l.append([c[-1]/s, c[0]/s, c[1]/s])\n",
    "    l1.append(l)\n",
    "pd.DataFrame(np.mean(np.array(l1), axis=0).T, index=pd.Index(['-1', '0', '1']), columns=y_3c.columns.get_level_values(1).unique())"
   ]
  },
  {
   "cell_type": "markdown",
   "metadata": {},
   "source": [
    "# Scaling the features"
   ]
  },
  {
   "cell_type": "code",
   "execution_count": 171,
   "metadata": {},
   "outputs": [],
   "source": [
    "from sklearn.preprocessing import MinMaxScaler, StandardScaler"
   ]
  },
  {
   "cell_type": "code",
   "execution_count": 223,
   "metadata": {},
   "outputs": [],
   "source": [
    "#scale = MinMaxScaler()\n",
    "scale = StandardScaler()"
   ]
  },
  {
   "cell_type": "code",
   "execution_count": 224,
   "metadata": {},
   "outputs": [],
   "source": [
    "scaled = scale.fit_transform(df_moments)"
   ]
  },
  {
   "cell_type": "code",
   "execution_count": 225,
   "metadata": {},
   "outputs": [
    {
     "data": {
      "text/plain": [
       "(2586, 80)"
      ]
     },
     "execution_count": 225,
     "metadata": {},
     "output_type": "execute_result"
    }
   ],
   "source": [
    "scaled.shape"
   ]
  },
  {
   "cell_type": "code",
   "execution_count": 317,
   "metadata": {},
   "outputs": [],
   "source": [
    "X_scaled = pd.DataFrame(data=scaled, columns=df_moments.columns, index=df_moments.index)\n",
    "#X_scaled = X"
   ]
  },
  {
   "cell_type": "markdown",
   "metadata": {},
   "source": [
    "# Triple-barrier labelling methods"
   ]
  },
  {
   "cell_type": "code",
   "execution_count": 431,
   "metadata": {},
   "outputs": [],
   "source": [
    "from atomm.Filters import cusum_filter\n",
    "from atomm.Tools import get_daily_vol"
   ]
  },
  {
   "cell_type": "code",
   "execution_count": 539,
   "metadata": {},
   "outputs": [],
   "source": [
    "data = pd.read_csv('../data/raw/dollar_bars.txt')\n",
    "data.index = pd.to_datetime(data['date_time'])\n",
    "data = data.drop('date_time', axis=1)"
   ]
  },
  {
   "cell_type": "code",
   "execution_count": 540,
   "metadata": {},
   "outputs": [
    {
     "data": {
      "text/plain": [
       "DatetimeIndex(['2015-01-01 23:00:23.723000', '2015-01-02 07:07:35.156000',\n",
       "               '2015-01-02 09:35:57.204000', '2015-01-02 12:59:42.176000',\n",
       "               '2015-01-02 14:19:33.847000', '2015-01-02 14:33:39.311000',\n",
       "               '2015-01-02 14:42:28.315000', '2015-01-02 14:51:59.300000',\n",
       "               '2015-01-02 15:01:45.497000', '2015-01-02 15:06:57.293000',\n",
       "               ...\n",
       "               '2016-12-30 20:57:19.151000', '2016-12-30 20:58:34.724000',\n",
       "               '2016-12-30 20:59:16.663000', '2016-12-30 20:59:34.157000',\n",
       "               '2016-12-30 20:59:50.345000', '2016-12-30 20:59:58.848000',\n",
       "               '2016-12-30 21:00:00.352000', '2016-12-30 21:00:24.294000',\n",
       "               '2016-12-30 21:03:03.027000', '2016-12-30 21:13:31.990000'],\n",
       "              dtype='datetime64[ns]', name='date_time', length=24079, freq=None)"
      ]
     },
     "execution_count": 540,
     "metadata": {},
     "output_type": "execute_result"
    }
   ],
   "source": [
    "data.index"
   ]
  },
  {
   "cell_type": "code",
   "execution_count": 582,
   "metadata": {},
   "outputs": [
    {
     "name": "stdout",
     "output_type": "stream",
     "text": [
      "error: \"None of [DatetimeIndex(['2002-01-29', '2002-01-30', '2002-01-31', '2002-02-01',\\n               '2002-02-04', '2002-02-05', '2002-02-06', '2002-02-07',\\n               '2002-02-08', '2002-02-11',\\n               ...\\n               '2012-07-13', '2012-07-16', '2012-07-17', '2012-07-18',\\n               '2012-07-19', '2012-07-20', '2012-07-23', '2012-07-24',\\n               '2012-07-25', '2012-07-26'],\\n              dtype='datetime64[ns]', name='Epoch', length=2644, freq=None)] are in the [index]\"\n",
      "please confirm no duplicate indices\n"
     ]
    }
   ],
   "source": [
    "dd2 = get_daily_vol(prices['GPS'].Close)"
   ]
  },
  {
   "cell_type": "code",
   "execution_count": 579,
   "metadata": {},
   "outputs": [
    {
     "data": {
      "text/plain": [
       "date_time\n",
       "2015-01-04 23:20:12.567   2015-01-02 21:06:49.282\n",
       "2015-01-05 03:37:42.912   2015-01-01 23:00:23.723\n",
       "2015-01-05 08:21:37.801   2015-01-02 07:07:35.156\n",
       "2015-01-05 10:27:41.882   2015-01-02 09:35:57.204\n",
       "2015-01-05 12:42:45.989   2015-01-02 09:35:57.204\n",
       "2015-01-05 13:42:46.868   2015-01-02 12:59:42.176\n",
       "2015-01-05 14:11:08.578   2015-01-02 12:59:42.176\n",
       "2015-01-05 14:30:57.874   2015-01-02 14:19:33.847\n",
       "2015-01-05 14:37:05.979   2015-01-02 14:33:39.311\n",
       "2015-01-05 14:40:42.612   2015-01-02 14:33:39.311\n",
       "2015-01-05 14:44:56.036   2015-01-02 14:42:28.315\n",
       "2015-01-05 14:49:36.175   2015-01-02 14:42:28.315\n",
       "2015-01-05 14:54:26.286   2015-01-02 14:51:59.300\n",
       "2015-01-05 14:57:13.616   2015-01-02 14:51:59.300\n",
       "2015-01-05 15:01:57.494   2015-01-02 15:01:45.497\n",
       "2015-01-05 15:07:29.012   2015-01-02 15:06:57.293\n",
       "2015-01-05 15:13:09.655   2015-01-02 15:06:57.293\n",
       "2015-01-05 15:22:28.576   2015-01-02 15:14:31.569\n",
       "2015-01-05 15:29:07.142   2015-01-02 15:22:54.187\n",
       "2015-01-05 15:35:09.056   2015-01-02 15:32:59.861\n",
       "2015-01-05 15:40:45.114   2015-01-02 15:39:14.826\n",
       "2015-01-05 15:45:52.901   2015-01-02 15:43:25.099\n",
       "2015-01-05 15:52:01.408   2015-01-02 15:48:54.420\n",
       "2015-01-05 16:00:23.802   2015-01-02 15:57:26.907\n",
       "2015-01-05 16:10:05.172   2015-01-02 16:07:49.314\n",
       "2015-01-05 16:15:59.512   2015-01-02 16:13:30.202\n",
       "2015-01-05 16:21:16.062   2015-01-02 16:13:30.202\n",
       "2015-01-05 16:26:44.590   2015-01-02 16:22:57.951\n",
       "2015-01-05 16:33:29.331   2015-01-02 16:30:52.544\n",
       "2015-01-05 16:42:03.177   2015-01-02 16:30:52.544\n",
       "2015-01-05 16:49:40.508   2015-01-02 16:43:33.673\n",
       "2015-01-05 17:01:44.988   2015-01-02 17:00:54.364\n",
       "2015-01-05 17:17:04.203   2015-01-02 17:11:07.124\n",
       "2015-01-05 17:26:59.327   2015-01-02 17:11:07.124\n",
       "2015-01-05 17:32:22.888   2015-01-02 17:30:55.709\n",
       "2015-01-05 17:40:09.200   2015-01-02 17:30:55.709\n",
       "2015-01-05 17:56:22.566   2015-01-02 17:48:49.793\n",
       "2015-01-05 18:06:47.164   2015-01-02 17:48:49.793\n",
       "2015-01-05 18:18:02.852   2015-01-02 18:12:28.096\n",
       "2015-01-05 18:30:11.492   2015-01-02 18:12:28.096\n",
       "2015-01-05 18:42:05.211   2015-01-02 18:31:31.004\n",
       "2015-01-05 18:56:38.303   2015-01-02 18:53:22.055\n",
       "2015-01-05 19:08:14.153   2015-01-02 18:53:22.055\n",
       "2015-01-05 19:18:59.283   2015-01-02 19:08:52.976\n",
       "2015-01-05 19:29:56.038   2015-01-02 19:29:46.490\n",
       "2015-01-05 19:41:06.822   2015-01-02 19:29:46.490\n",
       "2015-01-05 19:53:07.211   2015-01-02 19:48:25.876\n",
       "2015-01-05 20:02:52.937   2015-01-02 19:48:25.876\n",
       "2015-01-05 20:12:36.935   2015-01-02 20:05:22.707\n",
       "2015-01-05 20:24:35.205   2015-01-02 20:20:41.993\n",
       "Name: date_time, dtype: datetime64[ns]"
      ]
     },
     "execution_count": 579,
     "metadata": {},
     "output_type": "execute_result"
    }
   ],
   "source": [
    "dd2.head(50)"
   ]
  },
  {
   "cell_type": "code",
   "execution_count": 480,
   "metadata": {},
   "outputs": [
    {
     "data": {
      "text/plain": [
       "DatetimeIndex(['2002-01-30 00:00:00+00:00', '2002-01-31 00:00:00+00:00',\n",
       "               '2002-02-01 00:00:00+00:00', '2002-02-04 00:00:00+00:00',\n",
       "               '2002-02-05 00:00:00+00:00', '2002-02-06 00:00:00+00:00',\n",
       "               '2002-02-07 00:00:00+00:00', '2002-02-08 00:00:00+00:00',\n",
       "               '2002-02-11 00:00:00+00:00', '2002-02-12 00:00:00+00:00',\n",
       "               ...\n",
       "               '2012-07-17 00:00:00+00:00', '2012-07-18 00:00:00+00:00',\n",
       "               '2012-07-19 00:00:00+00:00', '2012-07-20 00:00:00+00:00',\n",
       "               '2012-07-23 00:00:00+00:00', '2012-07-24 00:00:00+00:00',\n",
       "               '2012-07-25 00:00:00+00:00', '2012-07-26 00:00:00+00:00',\n",
       "               '2012-07-27 00:00:00+00:00', '2012-07-30 00:00:00+00:00'],\n",
       "              dtype='datetime64[ns, UTC]', name='Epoch', length=2645, freq=None)"
      ]
     },
     "execution_count": 480,
     "metadata": {},
     "output_type": "execute_result"
    }
   ],
   "source": [
    "(pd.Series(prices.index[dd - 1], index=prices.index[prices.shape[0] - dd.shape[0]:])).index"
   ]
  },
  {
   "cell_type": "code",
   "execution_count": 501,
   "metadata": {},
   "outputs": [
    {
     "data": {
      "text/plain": [
       "(2644,)"
      ]
     },
     "execution_count": 501,
     "metadata": {},
     "output_type": "execute_result"
    }
   ],
   "source": [
    "close = prices['GPS'][['Close']]\n",
    "                      \n",
    "dd.shape\n"
   ]
  },
  {
   "cell_type": "markdown",
   "metadata": {},
   "source": [
    "# Train-Test Split"
   ]
  },
  {
   "cell_type": "code",
   "execution_count": 407,
   "metadata": {},
   "outputs": [],
   "source": [
    "X_scaled = df_moments.copy()"
   ]
  },
  {
   "cell_type": "code",
   "execution_count": 408,
   "metadata": {},
   "outputs": [],
   "source": [
    "# Use 70/30 train/test splits\n",
    "test_p = .15"
   ]
  },
  {
   "cell_type": "code",
   "execution_count": 228,
   "metadata": {},
   "outputs": [],
   "source": [
    "# Scaled, three-class\n",
    "test_size = int((1 - test_p) * X_scaled.shape[0])\n",
    "X_train, X_test, y_train, y_test = X_scaled[:test_size], X_scaled[test_size:], y_3c[:test_size], y_3c[test_size:]\n",
    "prices_train, prices_test = prices[:test_size], prices[test_size:]"
   ]
  },
  {
   "cell_type": "code",
   "execution_count": 409,
   "metadata": {},
   "outputs": [],
   "source": [
    "# Unscaled, two-class\n",
    "test_size = int((1 - test_p) * X_scaled.shape[0])\n",
    "X_train, X_test, y_train, y_test = X_scaled[:test_size], X_scaled[test_size:], y_2c[:test_size], y_2c[test_size:]\n",
    "prices_train, prices_test = djia[:test_size], djia[test_size:]"
   ]
  },
  {
   "cell_type": "code",
   "execution_count": 410,
   "metadata": {},
   "outputs": [
    {
     "data": {
      "text/plain": [
       "Timestamp('2010-12-02 00:00:00+0000', tz='UTC')"
      ]
     },
     "execution_count": 410,
     "metadata": {},
     "output_type": "execute_result"
    }
   ],
   "source": [
    "X_test.index.min()"
   ]
  },
  {
   "cell_type": "code",
   "execution_count": 231,
   "metadata": {},
   "outputs": [],
   "source": [
    "# Scaled, two-class\n",
    "test_size = int((1 - test_p) * X.shape[0])\n",
    "X_train, X_test, y_train, y_test = X_scaled[:test_size], X_scaled[test_size:], y_2c[:test_size], y_2c[test_size:]\n",
    "prices_train, prices_test = djia[:test_size], djia[test_size:]"
   ]
  },
  {
   "cell_type": "code",
   "execution_count": null,
   "metadata": {},
   "outputs": [],
   "source": [
    "#test_size = test_p\n",
    "#X_train, X_test, y_train, y_test = train_test_split(X_scaled, y_3c, test_size=test_size, random_state=101)"
   ]
  },
  {
   "cell_type": "markdown",
   "metadata": {},
   "source": [
    "# Model"
   ]
  },
  {
   "cell_type": "code",
   "execution_count": 411,
   "metadata": {},
   "outputs": [],
   "source": [
    "symbol = 'GPS'\n",
    "n = 15\n",
    "# set up cross validation splits\n",
    "tscv = TimeSeriesSplit(n_splits=5)\n",
    "btscv = BlockingTimeSeriesSplit(n_splits=5)\n",
    "#ppcv = PurgedKFold(n_splits=5)"
   ]
  },
  {
   "cell_type": "markdown",
   "metadata": {},
   "source": [
    "## Single lookback/lookahead combination"
   ]
  },
  {
   "cell_type": "markdown",
   "metadata": {},
   "source": [
    "### RF"
   ]
  },
  {
   "cell_type": "code",
   "execution_count": 412,
   "metadata": {},
   "outputs": [
    {
     "name": "stdout",
     "output_type": "stream",
     "text": [
      "              precision    recall  f1-score   support\n",
      "\n",
      "           0       0.45      0.63      0.52       159\n",
      "           1       0.64      0.46      0.53       229\n",
      "\n",
      "    accuracy                           0.53       388\n",
      "   macro avg       0.54      0.54      0.53       388\n",
      "weighted avg       0.56      0.53      0.53       388\n",
      "\n",
      "[[100  59]\n",
      " [124 105]]\n"
     ]
    }
   ],
   "source": [
    "n_estimator = 1000\n",
    "depth = 2\n",
    "\n",
    "rf = RandomForestClassifier(max_depth=depth, n_estimators=n_estimator,\n",
    "                            criterion='entropy',\n",
    "                            class_weight='balanced_subsample',\n",
    "                            random_state=101)\n",
    "rf.fit(X_train[symbol][[f'{x}_{n}' for x in ti_list]], y_train[symbol][f'signal_{n}'])\n",
    "\n",
    "y_pred_rf = rf.predict(X_test[symbol][[f'{x}_{n}' for x in ti_list]])\n",
    "print(classification_report(y_test[symbol][f'signal_{n}'], y_pred_rf))\n",
    "print(confusion_matrix(y_test[symbol][f'signal_{n}'], y_pred_rf))"
   ]
  },
  {
   "cell_type": "code",
   "execution_count": 414,
   "metadata": {},
   "outputs": [
    {
     "data": {
      "image/png": "[encoded data removed]",
      "text/plain": [
       "<Figure size 576x504 with 1 Axes>"
      ]
     },
     "metadata": {
      "needs_background": "light"
     },
     "output_type": "display_data"
    }
   ],
   "source": [
    "plot_feature_importances(\n",
    "    rf.feature_importances_,                         \n",
    "    columns=X_test[symbol][[f'{x}_{n}' for x in ti_list]].columns,\n",
    "    model='RF',\n",
    "    top_count=30,\n",
    ")"
   ]
  },
  {
   "cell_type": "markdown",
   "metadata": {},
   "source": [
    "### SVC"
   ]
  },
  {
   "cell_type": "code",
   "execution_count": 415,
   "metadata": {},
   "outputs": [
    {
     "name": "stdout",
     "output_type": "stream",
     "text": [
      "              precision    recall  f1-score   support\n",
      "\n",
      "           0       0.42      0.56      0.48       159\n",
      "           1       0.60      0.45      0.52       229\n",
      "\n",
      "    accuracy                           0.50       388\n",
      "   macro avg       0.51      0.51      0.50       388\n",
      "weighted avg       0.52      0.50      0.50       388\n",
      "\n",
      "[[ 89  70]\n",
      " [125 104]]\n"
     ]
    }
   ],
   "source": [
    "clf = SVC(C=1000, gamma=1E-5)\n",
    "clf.fit(X_train[symbol][[f'{x}_{n}' for x in ti_list]], y_train[symbol][f'signal_{n}'])\n",
    "\n",
    "y_pred_svc = clf.predict(X_test[symbol][[f'{x}_{n}' for x in ti_list]])\n",
    "print(classification_report(y_test[symbol][f'signal_{n}'], y_pred_svc))\n",
    "print(confusion_matrix(y_test[symbol][f'signal_{n}'], y_pred_svc))\n",
    "#plot_feature_importances(svc.coef_,\n",
    "#                         X_scaled[symbol][[f'{x}_{n}' for x in ti_list]].columns, \n",
    "#                         model='SVC1', top_count=100)"
   ]
  },
  {
   "cell_type": "code",
   "execution_count": 416,
   "metadata": {},
   "outputs": [
    {
     "data": {
      "text/plain": [
       "XGBClassifier(base_score=0.5, booster='gbtree', colsample_bylevel=1,\n",
       "              colsample_bynode=1, colsample_bytree=1, gamma=0,\n",
       "              learning_rate=0.1, max_delta_step=0, max_depth=3,\n",
       "              min_child_weight=1, missing=None, n_estimators=100, n_jobs=-1,\n",
       "              nthread=None, objective='binary:logistic', random_state=0,\n",
       "              reg_alpha=0, reg_lambda=1, scale_pos_weight=1, seed=None,\n",
       "              silent=None, subsample=1, verbosity=1)"
      ]
     },
     "execution_count": 416,
     "metadata": {},
     "output_type": "execute_result"
    }
   ],
   "source": [
    "clf = XGBClassifier(n_jobs=-1)\n",
    "clf.fit(X_train[symbol][[f'{x}_{n}' for x in ti_list]], y_train[symbol][f'signal_{n}'])"
   ]
  },
  {
   "cell_type": "code",
   "execution_count": 417,
   "metadata": {},
   "outputs": [
    {
     "name": "stdout",
     "output_type": "stream",
     "text": [
      "              precision    recall  f1-score   support\n",
      "\n",
      "           0       0.41      0.48      0.44       159\n",
      "           1       0.59      0.52      0.56       229\n",
      "\n",
      "    accuracy                           0.51       388\n",
      "   macro avg       0.50      0.50      0.50       388\n",
      "weighted avg       0.52      0.51      0.51       388\n",
      "\n",
      "[[ 76  83]\n",
      " [109 120]]\n"
     ]
    }
   ],
   "source": [
    "y_pred_xgb = clf.predict(X_test[symbol][[f'{x}_{n}' for x in ti_list]])\n",
    "print(classification_report(y_test[symbol][f'signal_{n}'], y_pred_xgb))\n",
    "print(confusion_matrix(y_test[symbol][f'signal_{n}'], y_pred_xgb))\n",
    "#plot_feature_importances(svc.coef_,\n",
    "#                         X_scaled[symbol][[f'{x}_{n}' for x in ti_list]].columns, \n",
    "#                         model='SVC1', top_count=100)"
   ]
  },
  {
   "cell_type": "markdown",
   "metadata": {},
   "source": [
    "## All combinations"
   ]
  },
  {
   "cell_type": "code",
   "execution_count": 244,
   "metadata": {},
   "outputs": [
    {
     "name": "stdout",
     "output_type": "stream",
     "text": [
      "100%|██████████| 100/100 [02:13<00:00,  1.33s/it, best loss: -0.5470588235294118]\n"
     ]
    },
    {
     "ename": "NameError",
     "evalue": "name 'calc_returns' is not defined",
     "output_type": "error",
     "traceback": [
      "\u001b[0;31m---------------------------------------------------------------------------\u001b[0m",
      "\u001b[0;31mNameError\u001b[0m                                 Traceback (most recent call last)",
      "\u001b[0;32m<ipython-input-244-02993506b58d>\u001b[0m in \u001b[0;36m<module>\u001b[0;34m\u001b[0m\n\u001b[1;32m     11\u001b[0m     \u001b[0mmodel\u001b[0m\u001b[0;34m=\u001b[0m\u001b[0mclf\u001b[0m\u001b[0;34m,\u001b[0m\u001b[0;34m\u001b[0m\u001b[0;34m\u001b[0m\u001b[0m\n\u001b[1;32m     12\u001b[0m     \u001b[0mhyper_optimize\u001b[0m\u001b[0;34m=\u001b[0m\u001b[0;32mTrue\u001b[0m\u001b[0;34m,\u001b[0m\u001b[0;34m\u001b[0m\u001b[0;34m\u001b[0m\u001b[0m\n\u001b[0;32m---> 13\u001b[0;31m     \u001b[0mn_eval\u001b[0m\u001b[0;34m=\u001b[0m\u001b[0;36m100\u001b[0m\u001b[0;34m\u001b[0m\u001b[0;34m\u001b[0m\u001b[0m\n\u001b[0m\u001b[1;32m     14\u001b[0m )\n\u001b[1;32m     15\u001b[0m \u001b[0;34m\u001b[0m\u001b[0m\n",
      "\u001b[0;32m<ipython-input-21-05bf77ea1fd6>\u001b[0m in \u001b[0;36mrun_combinations\u001b[0;34m(symbol, forecast_horizon, input_window_size, X_train, X_test, y_train, y_test, prices, model, hyper_optimize, n_eval, silent)\u001b[0m\n\u001b[1;32m     44\u001b[0m                 \u001b[0ma_score\u001b[0m \u001b[0;34m=\u001b[0m \u001b[0maccuracy_score\u001b[0m\u001b[0;34m(\u001b[0m\u001b[0my_test\u001b[0m\u001b[0;34m[\u001b[0m\u001b[0msymbol\u001b[0m\u001b[0;34m]\u001b[0m\u001b[0;34m[\u001b[0m\u001b[0;34mf'signal_{fh}'\u001b[0m\u001b[0;34m]\u001b[0m\u001b[0;34m,\u001b[0m \u001b[0my_pred\u001b[0m\u001b[0;34m)\u001b[0m\u001b[0;34m\u001b[0m\u001b[0;34m\u001b[0m\u001b[0m\n\u001b[1;32m     45\u001b[0m                 \u001b[0;31m# Calculate returns generated by stratedy\u001b[0m\u001b[0;34m\u001b[0m\u001b[0;34m\u001b[0m\u001b[0;34m\u001b[0m\u001b[0m\n\u001b[0;32m---> 46\u001b[0;31m                 \u001b[0mreturns\u001b[0m \u001b[0;34m=\u001b[0m \u001b[0mcalc_returns\u001b[0m\u001b[0;34m(\u001b[0m\u001b[0my_pred\u001b[0m\u001b[0;34m,\u001b[0m \u001b[0mprices\u001b[0m\u001b[0;34m[\u001b[0m\u001b[0msymbol\u001b[0m\u001b[0;34m]\u001b[0m\u001b[0;34m)\u001b[0m\u001b[0;34m\u001b[0m\u001b[0;34m\u001b[0m\u001b[0m\n\u001b[0m\u001b[1;32m     47\u001b[0m                 \u001b[0mcum_returns\u001b[0m \u001b[0;34m=\u001b[0m \u001b[0mreturns\u001b[0m\u001b[0;34m[\u001b[0m\u001b[0;34m'Cum_Returns_Strat'\u001b[0m\u001b[0;34m]\u001b[0m\u001b[0;34m[\u001b[0m\u001b[0;34m-\u001b[0m\u001b[0;36m1\u001b[0m\u001b[0;34m]\u001b[0m\u001b[0;34m\u001b[0m\u001b[0;34m\u001b[0m\u001b[0m\n\u001b[1;32m     48\u001b[0m                 \u001b[0mdf_score\u001b[0m\u001b[0;34m.\u001b[0m\u001b[0miloc\u001b[0m\u001b[0;34m[\u001b[0m\u001b[0mi\u001b[0m\u001b[0;34m,\u001b[0m \u001b[0mj\u001b[0m\u001b[0;34m]\u001b[0m \u001b[0;34m=\u001b[0m \u001b[0ma_score\u001b[0m\u001b[0;34m\u001b[0m\u001b[0;34m\u001b[0m\u001b[0m\n",
      "\u001b[0;31mNameError\u001b[0m: name 'calc_returns' is not defined"
     ]
    }
   ],
   "source": [
    "clf = XGBClassifier\n",
    "score_xgb, returns_xgb = run_combinations(\n",
    "    symbol=symbol,\n",
    "    forecast_horizon=forecast_horizon,\n",
    "    input_window_size=input_window_size,\n",
    "    X_train=X_train,\n",
    "    X_test=X_test,\n",
    "    y_train=y_train,\n",
    "    y_test=y_test,\n",
    "    prices=prices_test,\n",
    "    model=clf,\n",
    "    hyper_optimize=True,\n",
    "    n_eval=100\n",
    ")\n",
    "\n",
    "plot_corr_matrix(score_xgb, mask_upper=False, show_annot=True, figsize=(8, 8))"
   ]
  },
  {
   "cell_type": "markdown",
   "metadata": {},
   "source": [
    "## Hyperparamter Optimization: Bayesian Optimization, SVC"
   ]
  },
  {
   "cell_type": "code",
   "execution_count": 423,
   "metadata": {},
   "outputs": [
    {
     "name": "stdout",
     "output_type": "stream",
     "text": [
      "100%|██████████| 500/500 [01:37<00:00,  5.11it/s, best loss: -0.6204545454545455]\n",
      "##### Results #####\n",
      "Score best parameters:  -0.6204545454545455\n",
      "Best parameters:  {'C': 621.7042199088071, 'cv': 'btscv', 'gamma': 8.194914173527679e-14, 'model': <class 'sklearn.svm._classes.SVC'>, 'normalize': 0, 'scale': 0}\n",
      "Test Score:  0.5902061855670103\n",
      "Parameter combinations evaluated:  500\n",
      "Time elapsed:  98.10294198989868\n"
     ]
    }
   ],
   "source": [
    "n1=15\n",
    "n2=15\n",
    "\n",
    "model = SVC\n",
    "score, clf_best, parameters_best = BayesianSearch(\n",
    "    search_space(model),\n",
    "    model,\n",
    "    X_train[symbol][[f'{x}_{n1}' for x in ti_list]], \n",
    "    y_train[symbol][f'signal_{n2}'], \n",
    "    X_test[symbol][[f'{x}_{n1}' for x in ti_list]],\n",
    "    y_test[symbol][f'signal_{n2}'],\n",
    "    num_eval=500\n",
    ")"
   ]
  },
  {
   "cell_type": "code",
   "execution_count": 424,
   "metadata": {},
   "outputs": [
    {
     "data": {
      "text/plain": [
       "SVC(C=621.7042199088071, break_ties=False, cache_size=200, class_weight=None,\n",
       "    coef0=0.0, decision_function_shape='ovr', degree=3,\n",
       "    gamma=8.194914173527679e-14, kernel='rbf', max_iter=-1, probability=False,\n",
       "    random_state=None, shrinking=True, tol=0.001, verbose=False)"
      ]
     },
     "execution_count": 424,
     "metadata": {},
     "output_type": "execute_result"
    }
   ],
   "source": [
    "clf_best"
   ]
  },
  {
   "cell_type": "markdown",
   "metadata": {},
   "source": [
    "## Hyperparamter Optimization: Bayesian Optimization, XGB"
   ]
  },
  {
   "cell_type": "code",
   "execution_count": 422,
   "metadata": {},
   "outputs": [
    {
     "name": "stdout",
     "output_type": "stream",
     "text": [
      "100%|██████████| 10/10 [01:11<00:00,  7.19s/it, best loss: -0.5795454545454546]\n",
      "##### Results #####\n",
      "Score best parameters:  -0.5795454545454546\n",
      "Best parameters:  {'booster': 'gbtree', 'colsample_bytree': 0.6571346286826318, 'cv': 'btscv', 'gamma': 5, 'learning_rate': 43.51596522276907, 'max_depth': 179, 'model': <class 'xgboost.sklearn.XGBClassifier'>, 'n_estimators': 116, 'n_jobs': -1, 'subsample': 1}\n",
      "Test Score:  0.5902061855670103\n",
      "Parameter combinations evaluated:  10\n",
      "Time elapsed:  72.14264488220215\n"
     ]
    }
   ],
   "source": [
    "n1=15\n",
    "n2=15\n",
    "\n",
    "model = XGBClassifier\n",
    "bsearch_xgb = BayesianSearch(\n",
    "    search_space(XGBClassifier),\n",
    "    model,\n",
    "    X_train[symbol][[f'{x}_{n1}' for x in ti_list]], \n",
    "    y_train[symbol][f'signal_{n2}'], \n",
    "    X_test[symbol][[f'{x}_{n1}' for x in ti_list]],\n",
    "    y_test[symbol][f'signal_{n2}'],\n",
    "    num_eval=10\n",
    ")"
   ]
  },
  {
   "cell_type": "markdown",
   "metadata": {},
   "source": [
    "## Hyperparamter Optimization: Bayesian Optimization, RF"
   ]
  },
  {
   "cell_type": "code",
   "execution_count": 426,
   "metadata": {},
   "outputs": [],
   "source": [
    "n1=15\n",
    "n2=15\n",
    "num_eval=15\n",
    "\n",
    "model = RandomForestClassifier\n",
    "score, clf_best, parameters_best = BayesianSearch(\n",
    "    search_space(model),\n",
    "    model,\n",
    "    X_train[symbol][[f'{x}_{n1}' for x in ti_list]], \n",
    "    y_train[symbol][f'signal_{n2}'], \n",
    "    X_test[symbol][[f'{x}_{n1}' for x in ti_list]],\n",
    "    y_test[symbol][f'signal_{n2}'],\n",
    "    num_eval=num_eval\n",
    ")"
   ]
  },
  {
   "cell_type": "code",
   "execution_count": 428,
   "metadata": {},
   "outputs": [
    {
     "data": {
      "image/png": "[encoded data removed]",
      "text/plain": [
       "<Figure size 576x504 with 1 Axes>"
      ]
     },
     "metadata": {
      "needs_background": "light"
     },
     "output_type": "display_data"
    }
   ],
   "source": [
    "plot_feature_importances(\n",
    "    clf_best.feature_importances_,                         \n",
    "    columns=X_test[symbol][[f'{x}_{n}' for x in ti_list]].columns,\n",
    "    model='RF w/ BayesianOptimization',\n",
    "    top_count=30,\n",
    ")"
   ]
  },
  {
   "cell_type": "code",
   "execution_count": null,
   "metadata": {},
   "outputs": [],
   "source": [
    "## "
   ]
  },
  {
   "cell_type": "code",
   "execution_count": 327,
   "metadata": {},
   "outputs": [
    {
     "name": "stdout",
     "output_type": "stream",
     "text": [
      "100%|██████████| 100/100 [01:01<00:00,  1.62it/s, best loss: -0.5802318801952324]\n",
      "##### Results #####\n",
      "Score best parameters:  -0.5802318801952324\n",
      "Best parameters:  {'cv': 'cv', 'model': <class 'sklearn.neighbors._classification.KNeighborsClassifier'>, 'n_jobs': -1, 'n_neighbors': 61, 'normalize': 0, 'p': 8, 'scale': 0}\n",
      "Test Score:  0.4882903981264637\n",
      "Parameter combinations evaluated:  100\n",
      "Time elapsed:  62.092283964157104\n"
     ]
    }
   ],
   "source": [
    "n1=15\n",
    "n2=15\n",
    "num_eval=100\n",
    "\n",
    "model = KNeighborsClassifier\n",
    "bsearch_svm = BayesianSearch(\n",
    "    search_space(model),\n",
    "    model,\n",
    "    X_train[symbol][[f'{x}_{n1}' for x in ti_list]], \n",
    "    y_train[symbol][f'signal_{n2}'], \n",
    "    X_test[symbol][[f'{x}_{n1}' for x in ti_list]],\n",
    "    y_test[symbol][f'signal_{n2}'],\n",
    "    num_eval=num_eval\n",
    ")"
   ]
  },
  {
   "cell_type": "markdown",
   "metadata": {},
   "source": [
    "## Running on all 50 stocks"
   ]
  },
  {
   "cell_type": "code",
   "execution_count": 158,
   "metadata": {},
   "outputs": [
    {
     "data": {
      "text/plain": [
       "'Leg [50/50]; Elapsed Time 2475.0s\\n'"
      ]
     },
     "metadata": {},
     "output_type": "display_data"
    },
    {
     "data": {
      "text/html": [
       "<style  type=\"text/css\" >\n",
       "    #T_138c5c56_2d5d_11ea_aae1_f0189811b80erow0_col0 {\n",
       "            background-color:  #f7fcfd;\n",
       "            color:  #000000;\n",
       "        }    #T_138c5c56_2d5d_11ea_aae1_f0189811b80erow0_col1 {\n",
       "            background-color:  #f7fcfd;\n",
       "            color:  #000000;\n",
       "        }    #T_138c5c56_2d5d_11ea_aae1_f0189811b80erow0_col2 {\n",
       "            background-color:  #f7fcfd;\n",
       "            color:  #000000;\n",
       "        }    #T_138c5c56_2d5d_11ea_aae1_f0189811b80erow0_col3 {\n",
       "            background-color:  #f7fcfd;\n",
       "            color:  #000000;\n",
       "        }    #T_138c5c56_2d5d_11ea_aae1_f0189811b80erow0_col4 {\n",
       "            background-color:  #f7fcfd;\n",
       "            color:  #000000;\n",
       "        }    #T_138c5c56_2d5d_11ea_aae1_f0189811b80erow0_col5 {\n",
       "            background-color:  #f7fcfd;\n",
       "            color:  #000000;\n",
       "        }    #T_138c5c56_2d5d_11ea_aae1_f0189811b80erow0_col6 {\n",
       "            background-color:  #f7fcfd;\n",
       "            color:  #000000;\n",
       "        }    #T_138c5c56_2d5d_11ea_aae1_f0189811b80erow0_col7 {\n",
       "            background-color:  #f7fcfd;\n",
       "            color:  #000000;\n",
       "        }    #T_138c5c56_2d5d_11ea_aae1_f0189811b80erow1_col0 {\n",
       "            background-color:  #e6f5f9;\n",
       "            color:  #000000;\n",
       "        }    #T_138c5c56_2d5d_11ea_aae1_f0189811b80erow1_col1 {\n",
       "            background-color:  #e8f6fa;\n",
       "            color:  #000000;\n",
       "        }    #T_138c5c56_2d5d_11ea_aae1_f0189811b80erow1_col2 {\n",
       "            background-color:  #d5efed;\n",
       "            color:  #000000;\n",
       "        }    #T_138c5c56_2d5d_11ea_aae1_f0189811b80erow1_col3 {\n",
       "            background-color:  #f6fcfd;\n",
       "            color:  #000000;\n",
       "        }    #T_138c5c56_2d5d_11ea_aae1_f0189811b80erow1_col4 {\n",
       "            background-color:  #ebf7fa;\n",
       "            color:  #000000;\n",
       "        }    #T_138c5c56_2d5d_11ea_aae1_f0189811b80erow1_col5 {\n",
       "            background-color:  #f5fbfd;\n",
       "            color:  #000000;\n",
       "        }    #T_138c5c56_2d5d_11ea_aae1_f0189811b80erow1_col6 {\n",
       "            background-color:  #ecf8fb;\n",
       "            color:  #000000;\n",
       "        }    #T_138c5c56_2d5d_11ea_aae1_f0189811b80erow1_col7 {\n",
       "            background-color:  #f3fafc;\n",
       "            color:  #000000;\n",
       "        }    #T_138c5c56_2d5d_11ea_aae1_f0189811b80erow2_col0 {\n",
       "            background-color:  #cfede8;\n",
       "            color:  #000000;\n",
       "        }    #T_138c5c56_2d5d_11ea_aae1_f0189811b80erow2_col1 {\n",
       "            background-color:  #d5efed;\n",
       "            color:  #000000;\n",
       "        }    #T_138c5c56_2d5d_11ea_aae1_f0189811b80erow2_col2 {\n",
       "            background-color:  #d4efec;\n",
       "            color:  #000000;\n",
       "        }    #T_138c5c56_2d5d_11ea_aae1_f0189811b80erow2_col3 {\n",
       "            background-color:  #cdece7;\n",
       "            color:  #000000;\n",
       "        }    #T_138c5c56_2d5d_11ea_aae1_f0189811b80erow2_col4 {\n",
       "            background-color:  #a8ded2;\n",
       "            color:  #000000;\n",
       "        }    #T_138c5c56_2d5d_11ea_aae1_f0189811b80erow2_col5 {\n",
       "            background-color:  #98d8c9;\n",
       "            color:  #000000;\n",
       "        }    #T_138c5c56_2d5d_11ea_aae1_f0189811b80erow2_col6 {\n",
       "            background-color:  #6fc6aa;\n",
       "            color:  #000000;\n",
       "        }    #T_138c5c56_2d5d_11ea_aae1_f0189811b80erow2_col7 {\n",
       "            background-color:  #95d6c6;\n",
       "            color:  #000000;\n",
       "        }    #T_138c5c56_2d5d_11ea_aae1_f0189811b80erow3_col0 {\n",
       "            background-color:  #b8e4db;\n",
       "            color:  #000000;\n",
       "        }    #T_138c5c56_2d5d_11ea_aae1_f0189811b80erow3_col1 {\n",
       "            background-color:  #a2dcce;\n",
       "            color:  #000000;\n",
       "        }    #T_138c5c56_2d5d_11ea_aae1_f0189811b80erow3_col2 {\n",
       "            background-color:  #98d8c9;\n",
       "            color:  #000000;\n",
       "        }    #T_138c5c56_2d5d_11ea_aae1_f0189811b80erow3_col3 {\n",
       "            background-color:  #b5e3d9;\n",
       "            color:  #000000;\n",
       "        }    #T_138c5c56_2d5d_11ea_aae1_f0189811b80erow3_col4 {\n",
       "            background-color:  #7dccb5;\n",
       "            color:  #000000;\n",
       "        }    #T_138c5c56_2d5d_11ea_aae1_f0189811b80erow3_col5 {\n",
       "            background-color:  #5ebe9b;\n",
       "            color:  #000000;\n",
       "        }    #T_138c5c56_2d5d_11ea_aae1_f0189811b80erow3_col6 {\n",
       "            background-color:  #6ac4a7;\n",
       "            color:  #000000;\n",
       "        }    #T_138c5c56_2d5d_11ea_aae1_f0189811b80erow3_col7 {\n",
       "            background-color:  #57ba92;\n",
       "            color:  #000000;\n",
       "        }    #T_138c5c56_2d5d_11ea_aae1_f0189811b80erow4_col0 {\n",
       "            background-color:  #a8ded2;\n",
       "            color:  #000000;\n",
       "        }    #T_138c5c56_2d5d_11ea_aae1_f0189811b80erow4_col1 {\n",
       "            background-color:  #aadfd3;\n",
       "            color:  #000000;\n",
       "        }    #T_138c5c56_2d5d_11ea_aae1_f0189811b80erow4_col2 {\n",
       "            background-color:  #a8ded2;\n",
       "            color:  #000000;\n",
       "        }    #T_138c5c56_2d5d_11ea_aae1_f0189811b80erow4_col3 {\n",
       "            background-color:  #d0ede9;\n",
       "            color:  #000000;\n",
       "        }    #T_138c5c56_2d5d_11ea_aae1_f0189811b80erow4_col4 {\n",
       "            background-color:  #8dd3c0;\n",
       "            color:  #000000;\n",
       "        }    #T_138c5c56_2d5d_11ea_aae1_f0189811b80erow4_col5 {\n",
       "            background-color:  #63c0a0;\n",
       "            color:  #000000;\n",
       "        }    #T_138c5c56_2d5d_11ea_aae1_f0189811b80erow4_col6 {\n",
       "            background-color:  #68c3a6;\n",
       "            color:  #000000;\n",
       "        }    #T_138c5c56_2d5d_11ea_aae1_f0189811b80erow4_col7 {\n",
       "            background-color:  #80cdb7;\n",
       "            color:  #000000;\n",
       "        }    #T_138c5c56_2d5d_11ea_aae1_f0189811b80erow5_col0 {\n",
       "            background-color:  #4ab381;\n",
       "            color:  #000000;\n",
       "        }    #T_138c5c56_2d5d_11ea_aae1_f0189811b80erow5_col1 {\n",
       "            background-color:  #6dc5a9;\n",
       "            color:  #000000;\n",
       "        }    #T_138c5c56_2d5d_11ea_aae1_f0189811b80erow5_col2 {\n",
       "            background-color:  #5abb95;\n",
       "            color:  #000000;\n",
       "        }    #T_138c5c56_2d5d_11ea_aae1_f0189811b80erow5_col3 {\n",
       "            background-color:  #63c0a0;\n",
       "            color:  #000000;\n",
       "        }    #T_138c5c56_2d5d_11ea_aae1_f0189811b80erow5_col4 {\n",
       "            background-color:  #4db585;\n",
       "            color:  #000000;\n",
       "        }    #T_138c5c56_2d5d_11ea_aae1_f0189811b80erow5_col5 {\n",
       "            background-color:  #00451c;\n",
       "            color:  #f1f1f1;\n",
       "        }    #T_138c5c56_2d5d_11ea_aae1_f0189811b80erow5_col6 {\n",
       "            background-color:  #268f4a;\n",
       "            color:  #000000;\n",
       "        }    #T_138c5c56_2d5d_11ea_aae1_f0189811b80erow5_col7 {\n",
       "            background-color:  #46b17c;\n",
       "            color:  #000000;\n",
       "        }    #T_138c5c56_2d5d_11ea_aae1_f0189811b80erow6_col0 {\n",
       "            background-color:  #349f61;\n",
       "            color:  #000000;\n",
       "        }    #T_138c5c56_2d5d_11ea_aae1_f0189811b80erow6_col1 {\n",
       "            background-color:  #339e60;\n",
       "            color:  #000000;\n",
       "        }    #T_138c5c56_2d5d_11ea_aae1_f0189811b80erow6_col2 {\n",
       "            background-color:  #228a44;\n",
       "            color:  #000000;\n",
       "        }    #T_138c5c56_2d5d_11ea_aae1_f0189811b80erow6_col3 {\n",
       "            background-color:  #329d5e;\n",
       "            color:  #000000;\n",
       "        }    #T_138c5c56_2d5d_11ea_aae1_f0189811b80erow6_col4 {\n",
       "            background-color:  #228a44;\n",
       "            color:  #000000;\n",
       "        }    #T_138c5c56_2d5d_11ea_aae1_f0189811b80erow6_col5 {\n",
       "            background-color:  #28914d;\n",
       "            color:  #000000;\n",
       "        }    #T_138c5c56_2d5d_11ea_aae1_f0189811b80erow6_col6 {\n",
       "            background-color:  #4bb382;\n",
       "            color:  #000000;\n",
       "        }    #T_138c5c56_2d5d_11ea_aae1_f0189811b80erow6_col7 {\n",
       "            background-color:  #52b78b;\n",
       "            color:  #000000;\n",
       "        }    #T_138c5c56_2d5d_11ea_aae1_f0189811b80erow7_col0 {\n",
       "            background-color:  #27904c;\n",
       "            color:  #000000;\n",
       "        }    #T_138c5c56_2d5d_11ea_aae1_f0189811b80erow7_col1 {\n",
       "            background-color:  #35a063;\n",
       "            color:  #000000;\n",
       "        }    #T_138c5c56_2d5d_11ea_aae1_f0189811b80erow7_col2 {\n",
       "            background-color:  #137d39;\n",
       "            color:  #f1f1f1;\n",
       "        }    #T_138c5c56_2d5d_11ea_aae1_f0189811b80erow7_col3 {\n",
       "            background-color:  #006027;\n",
       "            color:  #f1f1f1;\n",
       "        }    #T_138c5c56_2d5d_11ea_aae1_f0189811b80erow7_col4 {\n",
       "            background-color:  #0e7936;\n",
       "            color:  #f1f1f1;\n",
       "        }    #T_138c5c56_2d5d_11ea_aae1_f0189811b80erow7_col5 {\n",
       "            background-color:  #2c9553;\n",
       "            color:  #000000;\n",
       "        }    #T_138c5c56_2d5d_11ea_aae1_f0189811b80erow7_col6 {\n",
       "            background-color:  #37a266;\n",
       "            color:  #000000;\n",
       "        }    #T_138c5c56_2d5d_11ea_aae1_f0189811b80erow7_col7 {\n",
       "            background-color:  #2c9553;\n",
       "            color:  #000000;\n",
       "        }    #T_138c5c56_2d5d_11ea_aae1_f0189811b80erow8_col0 {\n",
       "            background-color:  #00441b;\n",
       "            color:  #f1f1f1;\n",
       "        }    #T_138c5c56_2d5d_11ea_aae1_f0189811b80erow8_col1 {\n",
       "            background-color:  #00441b;\n",
       "            color:  #f1f1f1;\n",
       "        }    #T_138c5c56_2d5d_11ea_aae1_f0189811b80erow8_col2 {\n",
       "            background-color:  #00441b;\n",
       "            color:  #f1f1f1;\n",
       "        }    #T_138c5c56_2d5d_11ea_aae1_f0189811b80erow8_col3 {\n",
       "            background-color:  #00441b;\n",
       "            color:  #f1f1f1;\n",
       "        }    #T_138c5c56_2d5d_11ea_aae1_f0189811b80erow8_col4 {\n",
       "            background-color:  #00441b;\n",
       "            color:  #f1f1f1;\n",
       "        }    #T_138c5c56_2d5d_11ea_aae1_f0189811b80erow8_col5 {\n",
       "            background-color:  #00441b;\n",
       "            color:  #f1f1f1;\n",
       "        }    #T_138c5c56_2d5d_11ea_aae1_f0189811b80erow8_col6 {\n",
       "            background-color:  #00441b;\n",
       "            color:  #f1f1f1;\n",
       "        }    #T_138c5c56_2d5d_11ea_aae1_f0189811b80erow8_col7 {\n",
       "            background-color:  #00441b;\n",
       "            color:  #f1f1f1;\n",
       "        }</style><table id=\"T_138c5c56_2d5d_11ea_aae1_f0189811b80e\" ><thead>    <tr>        <th class=\"blank level0\" ></th>        <th class=\"col_heading level0 col0\" >3</th>        <th class=\"col_heading level0 col1\" >5</th>        <th class=\"col_heading level0 col2\" >7</th>        <th class=\"col_heading level0 col3\" >10</th>        <th class=\"col_heading level0 col4\" >15</th>        <th class=\"col_heading level0 col5\" >20</th>        <th class=\"col_heading level0 col6\" >25</th>        <th class=\"col_heading level0 col7\" >30</th>    </tr></thead><tbody>\n",
       "                <tr>\n",
       "                        <th id=\"T_138c5c56_2d5d_11ea_aae1_f0189811b80elevel0_row0\" class=\"row_heading level0 row0\" >1</th>\n",
       "                        <td id=\"T_138c5c56_2d5d_11ea_aae1_f0189811b80erow0_col0\" class=\"data row0 col0\" >0.507666</td>\n",
       "                        <td id=\"T_138c5c56_2d5d_11ea_aae1_f0189811b80erow0_col1\" class=\"data row0 col1\" >0.504838</td>\n",
       "                        <td id=\"T_138c5c56_2d5d_11ea_aae1_f0189811b80erow0_col2\" class=\"data row0 col2\" >0.504157</td>\n",
       "                        <td id=\"T_138c5c56_2d5d_11ea_aae1_f0189811b80erow0_col3\" class=\"data row0 col3\" >0.505792</td>\n",
       "                        <td id=\"T_138c5c56_2d5d_11ea_aae1_f0189811b80erow0_col4\" class=\"data row0 col4\" >0.504872</td>\n",
       "                        <td id=\"T_138c5c56_2d5d_11ea_aae1_f0189811b80erow0_col5\" class=\"data row0 col5\" >0.507462</td>\n",
       "                        <td id=\"T_138c5c56_2d5d_11ea_aae1_f0189811b80erow0_col6\" class=\"data row0 col6\" >0.506099</td>\n",
       "                        <td id=\"T_138c5c56_2d5d_11ea_aae1_f0189811b80erow0_col7\" class=\"data row0 col7\" >0.504055</td>\n",
       "            </tr>\n",
       "            <tr>\n",
       "                        <th id=\"T_138c5c56_2d5d_11ea_aae1_f0189811b80elevel0_row1\" class=\"row_heading level0 row1\" >3</th>\n",
       "                        <td id=\"T_138c5c56_2d5d_11ea_aae1_f0189811b80erow1_col0\" class=\"data row1 col0\" >0.511073</td>\n",
       "                        <td id=\"T_138c5c56_2d5d_11ea_aae1_f0189811b80erow1_col1\" class=\"data row1 col1\" >0.508245</td>\n",
       "                        <td id=\"T_138c5c56_2d5d_11ea_aae1_f0189811b80erow1_col2\" class=\"data row1 col2\" >0.510903</td>\n",
       "                        <td id=\"T_138c5c56_2d5d_11ea_aae1_f0189811b80erow1_col3\" class=\"data row1 col3\" >0.506133</td>\n",
       "                        <td id=\"T_138c5c56_2d5d_11ea_aae1_f0189811b80erow1_col4\" class=\"data row1 col4\" >0.507632</td>\n",
       "                        <td id=\"T_138c5c56_2d5d_11ea_aae1_f0189811b80erow1_col5\" class=\"data row1 col5\" >0.507802</td>\n",
       "                        <td id=\"T_138c5c56_2d5d_11ea_aae1_f0189811b80erow1_col6\" class=\"data row1 col6\" >0.508177</td>\n",
       "                        <td id=\"T_138c5c56_2d5d_11ea_aae1_f0189811b80erow1_col7\" class=\"data row1 col7\" >0.504974</td>\n",
       "            </tr>\n",
       "            <tr>\n",
       "                        <th id=\"T_138c5c56_2d5d_11ea_aae1_f0189811b80elevel0_row2\" class=\"row_heading level0 row2\" >5</th>\n",
       "                        <td id=\"T_138c5c56_2d5d_11ea_aae1_f0189811b80erow2_col0\" class=\"data row2 col0\" >0.514378</td>\n",
       "                        <td id=\"T_138c5c56_2d5d_11ea_aae1_f0189811b80erow2_col1\" class=\"data row2 col1\" >0.511652</td>\n",
       "                        <td id=\"T_138c5c56_2d5d_11ea_aae1_f0189811b80erow2_col2\" class=\"data row2 col2\" >0.511141</td>\n",
       "                        <td id=\"T_138c5c56_2d5d_11ea_aae1_f0189811b80erow2_col3\" class=\"data row2 col3\" >0.513629</td>\n",
       "                        <td id=\"T_138c5c56_2d5d_11ea_aae1_f0189811b80erow2_col4\" class=\"data row2 col4\" >0.516082</td>\n",
       "                        <td id=\"T_138c5c56_2d5d_11ea_aae1_f0189811b80erow2_col5\" class=\"data row2 col5\" >0.516695</td>\n",
       "                        <td id=\"T_138c5c56_2d5d_11ea_aae1_f0189811b80erow2_col6\" class=\"data row2 col6\" >0.51891</td>\n",
       "                        <td id=\"T_138c5c56_2d5d_11ea_aae1_f0189811b80erow2_col7\" class=\"data row2 col7\" >0.516082</td>\n",
       "            </tr>\n",
       "            <tr>\n",
       "                        <th id=\"T_138c5c56_2d5d_11ea_aae1_f0189811b80elevel0_row3\" class=\"row_heading level0 row3\" >7</th>\n",
       "                        <td id=\"T_138c5c56_2d5d_11ea_aae1_f0189811b80erow3_col0\" class=\"data row3 col0\" >0.516082</td>\n",
       "                        <td id=\"T_138c5c56_2d5d_11ea_aae1_f0189811b80erow3_col1\" class=\"data row3 col1\" >0.516491</td>\n",
       "                        <td id=\"T_138c5c56_2d5d_11ea_aae1_f0189811b80erow3_col2\" class=\"data row3 col2\" >0.516593</td>\n",
       "                        <td id=\"T_138c5c56_2d5d_11ea_aae1_f0189811b80erow3_col3\" class=\"data row3 col3\" >0.515639</td>\n",
       "                        <td id=\"T_138c5c56_2d5d_11ea_aae1_f0189811b80erow3_col4\" class=\"data row3 col4\" >0.519625</td>\n",
       "                        <td id=\"T_138c5c56_2d5d_11ea_aae1_f0189811b80erow3_col5\" class=\"data row3 col5\" >0.520307</td>\n",
       "                        <td id=\"T_138c5c56_2d5d_11ea_aae1_f0189811b80erow3_col6\" class=\"data row3 col6\" >0.519216</td>\n",
       "                        <td id=\"T_138c5c56_2d5d_11ea_aae1_f0189811b80erow3_col7\" class=\"data row3 col7\" >0.521193</td>\n",
       "            </tr>\n",
       "            <tr>\n",
       "                        <th id=\"T_138c5c56_2d5d_11ea_aae1_f0189811b80elevel0_row4\" class=\"row_heading level0 row4\" >10</th>\n",
       "                        <td id=\"T_138c5c56_2d5d_11ea_aae1_f0189811b80erow4_col0\" class=\"data row4 col0\" >0.517172</td>\n",
       "                        <td id=\"T_138c5c56_2d5d_11ea_aae1_f0189811b80erow4_col1\" class=\"data row4 col1\" >0.515945</td>\n",
       "                        <td id=\"T_138c5c56_2d5d_11ea_aae1_f0189811b80erow4_col2\" class=\"data row4 col2\" >0.515264</td>\n",
       "                        <td id=\"T_138c5c56_2d5d_11ea_aae1_f0189811b80erow4_col3\" class=\"data row4 col3\" >0.513254</td>\n",
       "                        <td id=\"T_138c5c56_2d5d_11ea_aae1_f0189811b80erow4_col4\" class=\"data row4 col4\" >0.518228</td>\n",
       "                        <td id=\"T_138c5c56_2d5d_11ea_aae1_f0189811b80erow4_col5\" class=\"data row4 col5\" >0.519932</td>\n",
       "                        <td id=\"T_138c5c56_2d5d_11ea_aae1_f0189811b80erow4_col6\" class=\"data row4 col6\" >0.519387</td>\n",
       "                        <td id=\"T_138c5c56_2d5d_11ea_aae1_f0189811b80erow4_col7\" class=\"data row4 col7\" >0.517581</td>\n",
       "            </tr>\n",
       "            <tr>\n",
       "                        <th id=\"T_138c5c56_2d5d_11ea_aae1_f0189811b80elevel0_row5\" class=\"row_heading level0 row5\" >15</th>\n",
       "                        <td id=\"T_138c5c56_2d5d_11ea_aae1_f0189811b80erow5_col0\" class=\"data row5 col0\" >0.524497</td>\n",
       "                        <td id=\"T_138c5c56_2d5d_11ea_aae1_f0189811b80erow5_col1\" class=\"data row5 col1\" >0.520852</td>\n",
       "                        <td id=\"T_138c5c56_2d5d_11ea_aae1_f0189811b80erow5_col2\" class=\"data row5 col2\" >0.522044</td>\n",
       "                        <td id=\"T_138c5c56_2d5d_11ea_aae1_f0189811b80erow5_col3\" class=\"data row5 col3\" >0.522215</td>\n",
       "                        <td id=\"T_138c5c56_2d5d_11ea_aae1_f0189811b80erow5_col4\" class=\"data row5 col4\" >0.524259</td>\n",
       "                        <td id=\"T_138c5c56_2d5d_11ea_aae1_f0189811b80erow5_col5\" class=\"data row5 col5\" >0.531687</td>\n",
       "                        <td id=\"T_138c5c56_2d5d_11ea_aae1_f0189811b80erow5_col6\" class=\"data row5 col6\" >0.525894</td>\n",
       "                        <td id=\"T_138c5c56_2d5d_11ea_aae1_f0189811b80erow5_col7\" class=\"data row5 col7\" >0.522964</td>\n",
       "            </tr>\n",
       "            <tr>\n",
       "                        <th id=\"T_138c5c56_2d5d_11ea_aae1_f0189811b80elevel0_row6\" class=\"row_heading level0 row6\" >20</th>\n",
       "                        <td id=\"T_138c5c56_2d5d_11ea_aae1_f0189811b80erow6_col0\" class=\"data row6 col0\" >0.52678</td>\n",
       "                        <td id=\"T_138c5c56_2d5d_11ea_aae1_f0189811b80erow6_col1\" class=\"data row6 col1\" >0.527325</td>\n",
       "                        <td id=\"T_138c5c56_2d5d_11ea_aae1_f0189811b80erow6_col2\" class=\"data row6 col2\" >0.529063</td>\n",
       "                        <td id=\"T_138c5c56_2d5d_11ea_aae1_f0189811b80erow6_col3\" class=\"data row6 col3\" >0.527802</td>\n",
       "                        <td id=\"T_138c5c56_2d5d_11ea_aae1_f0189811b80erow6_col4\" class=\"data row6 col4\" >0.529744</td>\n",
       "                        <td id=\"T_138c5c56_2d5d_11ea_aae1_f0189811b80erow6_col5\" class=\"data row6 col5\" >0.525213</td>\n",
       "                        <td id=\"T_138c5c56_2d5d_11ea_aae1_f0189811b80erow6_col6\" class=\"data row6 col6\" >0.521942</td>\n",
       "                        <td id=\"T_138c5c56_2d5d_11ea_aae1_f0189811b80erow6_col7\" class=\"data row6 col7\" >0.521772</td>\n",
       "            </tr>\n",
       "            <tr>\n",
       "                        <th id=\"T_138c5c56_2d5d_11ea_aae1_f0189811b80elevel0_row7\" class=\"row_heading level0 row7\" >25</th>\n",
       "                        <td id=\"T_138c5c56_2d5d_11ea_aae1_f0189811b80erow7_col0\" class=\"data row7 col0\" >0.528382</td>\n",
       "                        <td id=\"T_138c5c56_2d5d_11ea_aae1_f0189811b80erow7_col1\" class=\"data row7 col1\" >0.527121</td>\n",
       "                        <td id=\"T_138c5c56_2d5d_11ea_aae1_f0189811b80erow7_col2\" class=\"data row7 col2\" >0.530801</td>\n",
       "                        <td id=\"T_138c5c56_2d5d_11ea_aae1_f0189811b80erow7_col3\" class=\"data row7 col3\" >0.535128</td>\n",
       "                        <td id=\"T_138c5c56_2d5d_11ea_aae1_f0189811b80erow7_col4\" class=\"data row7 col4\" >0.532164</td>\n",
       "                        <td id=\"T_138c5c56_2d5d_11ea_aae1_f0189811b80erow7_col5\" class=\"data row7 col5\" >0.524872</td>\n",
       "                        <td id=\"T_138c5c56_2d5d_11ea_aae1_f0189811b80erow7_col6\" class=\"data row7 col6\" >0.523952</td>\n",
       "                        <td id=\"T_138c5c56_2d5d_11ea_aae1_f0189811b80erow7_col7\" class=\"data row7 col7\" >0.526269</td>\n",
       "            </tr>\n",
       "            <tr>\n",
       "                        <th id=\"T_138c5c56_2d5d_11ea_aae1_f0189811b80elevel0_row8\" class=\"row_heading level0 row8\" >30</th>\n",
       "                        <td id=\"T_138c5c56_2d5d_11ea_aae1_f0189811b80erow8_col0\" class=\"data row8 col0\" >0.535945</td>\n",
       "                        <td id=\"T_138c5c56_2d5d_11ea_aae1_f0189811b80erow8_col1\" class=\"data row8 col1\" >0.537922</td>\n",
       "                        <td id=\"T_138c5c56_2d5d_11ea_aae1_f0189811b80erow8_col2\" class=\"data row8 col2\" >0.537206</td>\n",
       "                        <td id=\"T_138c5c56_2d5d_11ea_aae1_f0189811b80erow8_col3\" class=\"data row8 col3\" >0.537956</td>\n",
       "                        <td id=\"T_138c5c56_2d5d_11ea_aae1_f0189811b80erow8_col4\" class=\"data row8 col4\" >0.538024</td>\n",
       "                        <td id=\"T_138c5c56_2d5d_11ea_aae1_f0189811b80erow8_col5\" class=\"data row8 col5\" >0.531857</td>\n",
       "                        <td id=\"T_138c5c56_2d5d_11ea_aae1_f0189811b80erow8_col6\" class=\"data row8 col6\" >0.532913</td>\n",
       "                        <td id=\"T_138c5c56_2d5d_11ea_aae1_f0189811b80erow8_col7\" class=\"data row8 col7\" >0.535196</td>\n",
       "            </tr>\n",
       "    </tbody></table>"
      ],
      "text/plain": [
       "<pandas.io.formats.style.Styler at 0x1a2dfda910>"
      ]
     },
     "metadata": {},
     "output_type": "display_data"
    }
   ],
   "source": [
    "best_params = {'bootstrap': False, 'criterion': 'gini', 'max_depth': 218, 'max_features': 1, 'min_samples_leaf': 19, 'n_estimators': 423}\n",
    "model_2a = RandomForestClassifier(n_jobs=-1, **best_params)\n",
    "avg, _, _ = avg_model(  \n",
    "    symbol_list,\n",
    "    forecast_horizon,                                 \n",
    "    input_window_size,                                  \n",
    "    X_train,    \n",
    "    X_test,    \n",
    "    y_train,    \n",
    "    y_test,    \n",
    "    prices_test,\n",
    "    model=model_2a,\n",
    "    silent = False\n",
    ")"
   ]
  },
  {
   "cell_type": "code",
   "execution_count": 159,
   "metadata": {},
   "outputs": [
    {
     "data": {
      "text/html": [
       "<style  type=\"text/css\" >\n",
       "    #T_d846a156_2a5f_11ea_a645_f0189811b80erow0_col0 {\n",
       "            background-color:  #00441b;\n",
       "            color:  #f1f1f1;\n",
       "        }    #T_d846a156_2a5f_11ea_a645_f0189811b80erow0_col1 {\n",
       "            background-color:  #00441b;\n",
       "            color:  #f1f1f1;\n",
       "        }    #T_d846a156_2a5f_11ea_a645_f0189811b80erow0_col2 {\n",
       "            background-color:  #00441b;\n",
       "            color:  #f1f1f1;\n",
       "        }    #T_d846a156_2a5f_11ea_a645_f0189811b80erow0_col3 {\n",
       "            background-color:  #00441b;\n",
       "            color:  #f1f1f1;\n",
       "        }    #T_d846a156_2a5f_11ea_a645_f0189811b80erow0_col4 {\n",
       "            background-color:  #00441b;\n",
       "            color:  #f1f1f1;\n",
       "        }    #T_d846a156_2a5f_11ea_a645_f0189811b80erow0_col5 {\n",
       "            background-color:  #00441b;\n",
       "            color:  #f1f1f1;\n",
       "        }    #T_d846a156_2a5f_11ea_a645_f0189811b80erow0_col6 {\n",
       "            background-color:  #00441b;\n",
       "            color:  #f1f1f1;\n",
       "        }    #T_d846a156_2a5f_11ea_a645_f0189811b80erow0_col7 {\n",
       "            background-color:  #026f2e;\n",
       "            color:  #f1f1f1;\n",
       "        }    #T_d846a156_2a5f_11ea_a645_f0189811b80erow1_col0 {\n",
       "            background-color:  #52b78b;\n",
       "            color:  #000000;\n",
       "        }    #T_d846a156_2a5f_11ea_a645_f0189811b80erow1_col1 {\n",
       "            background-color:  #3ba76c;\n",
       "            color:  #000000;\n",
       "        }    #T_d846a156_2a5f_11ea_a645_f0189811b80erow1_col2 {\n",
       "            background-color:  #097532;\n",
       "            color:  #f1f1f1;\n",
       "        }    #T_d846a156_2a5f_11ea_a645_f0189811b80erow1_col3 {\n",
       "            background-color:  #1e8741;\n",
       "            color:  #000000;\n",
       "        }    #T_d846a156_2a5f_11ea_a645_f0189811b80erow1_col4 {\n",
       "            background-color:  #19833e;\n",
       "            color:  #f1f1f1;\n",
       "        }    #T_d846a156_2a5f_11ea_a645_f0189811b80erow1_col5 {\n",
       "            background-color:  #0a7633;\n",
       "            color:  #f1f1f1;\n",
       "        }    #T_d846a156_2a5f_11ea_a645_f0189811b80erow1_col6 {\n",
       "            background-color:  #016e2d;\n",
       "            color:  #f1f1f1;\n",
       "        }    #T_d846a156_2a5f_11ea_a645_f0189811b80erow1_col7 {\n",
       "            background-color:  #00441b;\n",
       "            color:  #f1f1f1;\n",
       "        }    #T_d846a156_2a5f_11ea_a645_f0189811b80erow2_col0 {\n",
       "            background-color:  #a7ddd1;\n",
       "            color:  #000000;\n",
       "        }    #T_d846a156_2a5f_11ea_a645_f0189811b80erow2_col1 {\n",
       "            background-color:  #4eb586;\n",
       "            color:  #000000;\n",
       "        }    #T_d846a156_2a5f_11ea_a645_f0189811b80erow2_col2 {\n",
       "            background-color:  #2f9858;\n",
       "            color:  #000000;\n",
       "        }    #T_d846a156_2a5f_11ea_a645_f0189811b80erow2_col3 {\n",
       "            background-color:  #40ad75;\n",
       "            color:  #000000;\n",
       "        }    #T_d846a156_2a5f_11ea_a645_f0189811b80erow2_col4 {\n",
       "            background-color:  #005522;\n",
       "            color:  #f1f1f1;\n",
       "        }    #T_d846a156_2a5f_11ea_a645_f0189811b80erow2_col5 {\n",
       "            background-color:  #39a569;\n",
       "            color:  #000000;\n",
       "        }    #T_d846a156_2a5f_11ea_a645_f0189811b80erow2_col6 {\n",
       "            background-color:  #62c09f;\n",
       "            color:  #000000;\n",
       "        }    #T_d846a156_2a5f_11ea_a645_f0189811b80erow2_col7 {\n",
       "            background-color:  #39a569;\n",
       "            color:  #000000;\n",
       "        }    #T_d846a156_2a5f_11ea_a645_f0189811b80erow3_col0 {\n",
       "            background-color:  #4bb382;\n",
       "            color:  #000000;\n",
       "        }    #T_d846a156_2a5f_11ea_a645_f0189811b80erow3_col1 {\n",
       "            background-color:  #3ca86d;\n",
       "            color:  #000000;\n",
       "        }    #T_d846a156_2a5f_11ea_a645_f0189811b80erow3_col2 {\n",
       "            background-color:  #3fab72;\n",
       "            color:  #000000;\n",
       "        }    #T_d846a156_2a5f_11ea_a645_f0189811b80erow3_col3 {\n",
       "            background-color:  #6cc4a8;\n",
       "            color:  #000000;\n",
       "        }    #T_d846a156_2a5f_11ea_a645_f0189811b80erow3_col4 {\n",
       "            background-color:  #208843;\n",
       "            color:  #000000;\n",
       "        }    #T_d846a156_2a5f_11ea_a645_f0189811b80erow3_col5 {\n",
       "            background-color:  #228a44;\n",
       "            color:  #000000;\n",
       "        }    #T_d846a156_2a5f_11ea_a645_f0189811b80erow3_col6 {\n",
       "            background-color:  #62c09f;\n",
       "            color:  #000000;\n",
       "        }    #T_d846a156_2a5f_11ea_a645_f0189811b80erow3_col7 {\n",
       "            background-color:  #005120;\n",
       "            color:  #f1f1f1;\n",
       "        }    #T_d846a156_2a5f_11ea_a645_f0189811b80erow4_col0 {\n",
       "            background-color:  #36a164;\n",
       "            color:  #000000;\n",
       "        }    #T_d846a156_2a5f_11ea_a645_f0189811b80erow4_col1 {\n",
       "            background-color:  #349f61;\n",
       "            color:  #000000;\n",
       "        }    #T_d846a156_2a5f_11ea_a645_f0189811b80erow4_col2 {\n",
       "            background-color:  #2e9756;\n",
       "            color:  #000000;\n",
       "        }    #T_d846a156_2a5f_11ea_a645_f0189811b80erow4_col3 {\n",
       "            background-color:  #53b88c;\n",
       "            color:  #000000;\n",
       "        }    #T_d846a156_2a5f_11ea_a645_f0189811b80erow4_col4 {\n",
       "            background-color:  #006c2c;\n",
       "            color:  #f1f1f1;\n",
       "        }    #T_d846a156_2a5f_11ea_a645_f0189811b80erow4_col5 {\n",
       "            background-color:  #1c8540;\n",
       "            color:  #000000;\n",
       "        }    #T_d846a156_2a5f_11ea_a645_f0189811b80erow4_col6 {\n",
       "            background-color:  #36a164;\n",
       "            color:  #000000;\n",
       "        }    #T_d846a156_2a5f_11ea_a645_f0189811b80erow4_col7 {\n",
       "            background-color:  #68c3a6;\n",
       "            color:  #000000;\n",
       "        }    #T_d846a156_2a5f_11ea_a645_f0189811b80erow5_col0 {\n",
       "            background-color:  #9ad8ca;\n",
       "            color:  #000000;\n",
       "        }    #T_d846a156_2a5f_11ea_a645_f0189811b80erow5_col1 {\n",
       "            background-color:  #258d48;\n",
       "            color:  #000000;\n",
       "        }    #T_d846a156_2a5f_11ea_a645_f0189811b80erow5_col2 {\n",
       "            background-color:  #b0e1d6;\n",
       "            color:  #000000;\n",
       "        }    #T_d846a156_2a5f_11ea_a645_f0189811b80erow5_col3 {\n",
       "            background-color:  #6dc5a9;\n",
       "            color:  #000000;\n",
       "        }    #T_d846a156_2a5f_11ea_a645_f0189811b80erow5_col4 {\n",
       "            background-color:  #37a266;\n",
       "            color:  #000000;\n",
       "        }    #T_d846a156_2a5f_11ea_a645_f0189811b80erow5_col5 {\n",
       "            background-color:  #55b98f;\n",
       "            color:  #000000;\n",
       "        }    #T_d846a156_2a5f_11ea_a645_f0189811b80erow5_col6 {\n",
       "            background-color:  #f7fcfd;\n",
       "            color:  #000000;\n",
       "        }    #T_d846a156_2a5f_11ea_a645_f0189811b80erow5_col7 {\n",
       "            background-color:  #eef8fb;\n",
       "            color:  #000000;\n",
       "        }    #T_d846a156_2a5f_11ea_a645_f0189811b80erow6_col0 {\n",
       "            background-color:  #f4fbfc;\n",
       "            color:  #000000;\n",
       "        }    #T_d846a156_2a5f_11ea_a645_f0189811b80erow6_col1 {\n",
       "            background-color:  #d3eeeb;\n",
       "            color:  #000000;\n",
       "        }    #T_d846a156_2a5f_11ea_a645_f0189811b80erow6_col2 {\n",
       "            background-color:  #daf1f1;\n",
       "            color:  #000000;\n",
       "        }    #T_d846a156_2a5f_11ea_a645_f0189811b80erow6_col3 {\n",
       "            background-color:  #e9f7fa;\n",
       "            color:  #000000;\n",
       "        }    #T_d846a156_2a5f_11ea_a645_f0189811b80erow6_col4 {\n",
       "            background-color:  #f4fbfc;\n",
       "            color:  #000000;\n",
       "        }    #T_d846a156_2a5f_11ea_a645_f0189811b80erow6_col5 {\n",
       "            background-color:  #f7fcfd;\n",
       "            color:  #000000;\n",
       "        }    #T_d846a156_2a5f_11ea_a645_f0189811b80erow6_col6 {\n",
       "            background-color:  #edf8fb;\n",
       "            color:  #000000;\n",
       "        }    #T_d846a156_2a5f_11ea_a645_f0189811b80erow6_col7 {\n",
       "            background-color:  #f7fcfd;\n",
       "            color:  #000000;\n",
       "        }    #T_d846a156_2a5f_11ea_a645_f0189811b80erow7_col0 {\n",
       "            background-color:  #ebf7fa;\n",
       "            color:  #000000;\n",
       "        }    #T_d846a156_2a5f_11ea_a645_f0189811b80erow7_col1 {\n",
       "            background-color:  #f7fcfd;\n",
       "            color:  #000000;\n",
       "        }    #T_d846a156_2a5f_11ea_a645_f0189811b80erow7_col2 {\n",
       "            background-color:  #e0f3f5;\n",
       "            color:  #000000;\n",
       "        }    #T_d846a156_2a5f_11ea_a645_f0189811b80erow7_col3 {\n",
       "            background-color:  #d4efec;\n",
       "            color:  #000000;\n",
       "        }    #T_d846a156_2a5f_11ea_a645_f0189811b80erow7_col4 {\n",
       "            background-color:  #d0ede9;\n",
       "            color:  #000000;\n",
       "        }    #T_d846a156_2a5f_11ea_a645_f0189811b80erow7_col5 {\n",
       "            background-color:  #ccece6;\n",
       "            color:  #000000;\n",
       "        }    #T_d846a156_2a5f_11ea_a645_f0189811b80erow7_col6 {\n",
       "            background-color:  #e9f7fa;\n",
       "            color:  #000000;\n",
       "        }    #T_d846a156_2a5f_11ea_a645_f0189811b80erow7_col7 {\n",
       "            background-color:  #f5fbfc;\n",
       "            color:  #000000;\n",
       "        }    #T_d846a156_2a5f_11ea_a645_f0189811b80erow8_col0 {\n",
       "            background-color:  #f7fcfd;\n",
       "            color:  #000000;\n",
       "        }    #T_d846a156_2a5f_11ea_a645_f0189811b80erow8_col1 {\n",
       "            background-color:  #f4fbfc;\n",
       "            color:  #000000;\n",
       "        }    #T_d846a156_2a5f_11ea_a645_f0189811b80erow8_col2 {\n",
       "            background-color:  #f7fcfd;\n",
       "            color:  #000000;\n",
       "        }    #T_d846a156_2a5f_11ea_a645_f0189811b80erow8_col3 {\n",
       "            background-color:  #f7fcfd;\n",
       "            color:  #000000;\n",
       "        }    #T_d846a156_2a5f_11ea_a645_f0189811b80erow8_col4 {\n",
       "            background-color:  #f7fcfd;\n",
       "            color:  #000000;\n",
       "        }    #T_d846a156_2a5f_11ea_a645_f0189811b80erow8_col5 {\n",
       "            background-color:  #55b98f;\n",
       "            color:  #000000;\n",
       "        }    #T_d846a156_2a5f_11ea_a645_f0189811b80erow8_col6 {\n",
       "            background-color:  #d1eeea;\n",
       "            color:  #000000;\n",
       "        }    #T_d846a156_2a5f_11ea_a645_f0189811b80erow8_col7 {\n",
       "            background-color:  #e7f6f9;\n",
       "            color:  #000000;\n",
       "        }</style><table id=\"T_d846a156_2a5f_11ea_a645_f0189811b80e\" ><thead>    <tr>        <th class=\"blank level0\" ></th>        <th class=\"col_heading level0 col0\" >3</th>        <th class=\"col_heading level0 col1\" >5</th>        <th class=\"col_heading level0 col2\" >7</th>        <th class=\"col_heading level0 col3\" >10</th>        <th class=\"col_heading level0 col4\" >15</th>        <th class=\"col_heading level0 col5\" >20</th>        <th class=\"col_heading level0 col6\" >25</th>        <th class=\"col_heading level0 col7\" >30</th>    </tr></thead><tbody>\n",
       "                <tr>\n",
       "                        <th id=\"T_d846a156_2a5f_11ea_a645_f0189811b80elevel0_row0\" class=\"row_heading level0 row0\" >1</th>\n",
       "                        <td id=\"T_d846a156_2a5f_11ea_a645_f0189811b80erow0_col0\" class=\"data row0 col0\" >0.413629</td>\n",
       "                        <td id=\"T_d846a156_2a5f_11ea_a645_f0189811b80erow0_col1\" class=\"data row0 col1\" >0.41339</td>\n",
       "                        <td id=\"T_d846a156_2a5f_11ea_a645_f0189811b80erow0_col2\" class=\"data row0 col2\" >0.411721</td>\n",
       "                        <td id=\"T_d846a156_2a5f_11ea_a645_f0189811b80erow0_col3\" class=\"data row0 col3\" >0.412368</td>\n",
       "                        <td id=\"T_d846a156_2a5f_11ea_a645_f0189811b80erow0_col4\" class=\"data row0 col4\" >0.409506</td>\n",
       "                        <td id=\"T_d846a156_2a5f_11ea_a645_f0189811b80erow0_col5\" class=\"data row0 col5\" >0.413663</td>\n",
       "                        <td id=\"T_d846a156_2a5f_11ea_a645_f0189811b80erow0_col6\" class=\"data row0 col6\" >0.414037</td>\n",
       "                        <td id=\"T_d846a156_2a5f_11ea_a645_f0189811b80erow0_col7\" class=\"data row0 col7\" >0.412129</td>\n",
       "            </tr>\n",
       "            <tr>\n",
       "                        <th id=\"T_d846a156_2a5f_11ea_a645_f0189811b80elevel0_row1\" class=\"row_heading level0 row1\" >3</th>\n",
       "                        <td id=\"T_d846a156_2a5f_11ea_a645_f0189811b80erow1_col0\" class=\"data row1 col0\" >0.406065</td>\n",
       "                        <td id=\"T_d846a156_2a5f_11ea_a645_f0189811b80erow1_col1\" class=\"data row1 col1\" >0.406814</td>\n",
       "                        <td id=\"T_d846a156_2a5f_11ea_a645_f0189811b80erow1_col2\" class=\"data row1 col2\" >0.409165</td>\n",
       "                        <td id=\"T_d846a156_2a5f_11ea_a645_f0189811b80erow1_col3\" class=\"data row1 col3\" >0.407836</td>\n",
       "                        <td id=\"T_d846a156_2a5f_11ea_a645_f0189811b80erow1_col4\" class=\"data row1 col4\" >0.406951</td>\n",
       "                        <td id=\"T_d846a156_2a5f_11ea_a645_f0189811b80erow1_col5\" class=\"data row1 col5\" >0.410971</td>\n",
       "                        <td id=\"T_d846a156_2a5f_11ea_a645_f0189811b80erow1_col6\" class=\"data row1 col6\" >0.411959</td>\n",
       "                        <td id=\"T_d846a156_2a5f_11ea_a645_f0189811b80erow1_col7\" class=\"data row1 col7\" >0.414514</td>\n",
       "            </tr>\n",
       "            <tr>\n",
       "                        <th id=\"T_d846a156_2a5f_11ea_a645_f0189811b80elevel0_row2\" class=\"row_heading level0 row2\" >5</th>\n",
       "                        <td id=\"T_d846a156_2a5f_11ea_a645_f0189811b80erow2_col0\" class=\"data row2 col0\" >0.402078</td>\n",
       "                        <td id=\"T_d846a156_2a5f_11ea_a645_f0189811b80erow2_col1\" class=\"data row2 col1\" >0.405486</td>\n",
       "                        <td id=\"T_d846a156_2a5f_11ea_a645_f0189811b80erow2_col2\" class=\"data row2 col2\" >0.406917</td>\n",
       "                        <td id=\"T_d846a156_2a5f_11ea_a645_f0189811b80erow2_col3\" class=\"data row2 col3\" >0.405077</td>\n",
       "                        <td id=\"T_d846a156_2a5f_11ea_a645_f0189811b80erow2_col4\" class=\"data row2 col4\" >0.408893</td>\n",
       "                        <td id=\"T_d846a156_2a5f_11ea_a645_f0189811b80erow2_col5\" class=\"data row2 col5\" >0.407939</td>\n",
       "                        <td id=\"T_d846a156_2a5f_11ea_a645_f0189811b80erow2_col6\" class=\"data row2 col6\" >0.406337</td>\n",
       "                        <td id=\"T_d846a156_2a5f_11ea_a645_f0189811b80erow2_col7\" class=\"data row2 col7\" >0.408382</td>\n",
       "            </tr>\n",
       "            <tr>\n",
       "                        <th id=\"T_d846a156_2a5f_11ea_a645_f0189811b80elevel0_row3\" class=\"row_heading level0 row3\" >7</th>\n",
       "                        <td id=\"T_d846a156_2a5f_11ea_a645_f0189811b80erow3_col0\" class=\"data row3 col0\" >0.40644</td>\n",
       "                        <td id=\"T_d846a156_2a5f_11ea_a645_f0189811b80erow3_col1\" class=\"data row3 col1\" >0.406746</td>\n",
       "                        <td id=\"T_d846a156_2a5f_11ea_a645_f0189811b80erow3_col2\" class=\"data row3 col2\" >0.40586</td>\n",
       "                        <td id=\"T_d846a156_2a5f_11ea_a645_f0189811b80erow3_col3\" class=\"data row3 col3\" >0.402351</td>\n",
       "                        <td id=\"T_d846a156_2a5f_11ea_a645_f0189811b80erow3_col4\" class=\"data row3 col4\" >0.406678</td>\n",
       "                        <td id=\"T_d846a156_2a5f_11ea_a645_f0189811b80erow3_col5\" class=\"data row3 col5\" >0.40954</td>\n",
       "                        <td id=\"T_d846a156_2a5f_11ea_a645_f0189811b80erow3_col6\" class=\"data row3 col6\" >0.406303</td>\n",
       "                        <td id=\"T_d846a156_2a5f_11ea_a645_f0189811b80erow3_col7\" class=\"data row3 col7\" >0.413799</td>\n",
       "            </tr>\n",
       "            <tr>\n",
       "                        <th id=\"T_d846a156_2a5f_11ea_a645_f0189811b80elevel0_row4\" class=\"row_heading level0 row4\" >10</th>\n",
       "                        <td id=\"T_d846a156_2a5f_11ea_a645_f0189811b80erow4_col0\" class=\"data row4 col0\" >0.407836</td>\n",
       "                        <td id=\"T_d846a156_2a5f_11ea_a645_f0189811b80erow4_col1\" class=\"data row4 col1\" >0.407359</td>\n",
       "                        <td id=\"T_d846a156_2a5f_11ea_a645_f0189811b80erow4_col2\" class=\"data row4 col2\" >0.407019</td>\n",
       "                        <td id=\"T_d846a156_2a5f_11ea_a645_f0189811b80erow4_col3\" class=\"data row4 col3\" >0.40385</td>\n",
       "                        <td id=\"T_d846a156_2a5f_11ea_a645_f0189811b80erow4_col4\" class=\"data row4 col4\" >0.408041</td>\n",
       "                        <td id=\"T_d846a156_2a5f_11ea_a645_f0189811b80erow4_col5\" class=\"data row4 col5\" >0.409915</td>\n",
       "                        <td id=\"T_d846a156_2a5f_11ea_a645_f0189811b80erow4_col6\" class=\"data row4 col6\" >0.408825</td>\n",
       "                        <td id=\"T_d846a156_2a5f_11ea_a645_f0189811b80erow4_col7\" class=\"data row4 col7\" >0.405451</td>\n",
       "            </tr>\n",
       "            <tr>\n",
       "                        <th id=\"T_d846a156_2a5f_11ea_a645_f0189811b80elevel0_row5\" class=\"row_heading level0 row5\" >15</th>\n",
       "                        <td id=\"T_d846a156_2a5f_11ea_a645_f0189811b80erow5_col0\" class=\"data row5 col0\" >0.402589</td>\n",
       "                        <td id=\"T_d846a156_2a5f_11ea_a645_f0189811b80erow5_col1\" class=\"data row5 col1\" >0.408484</td>\n",
       "                        <td id=\"T_d846a156_2a5f_11ea_a645_f0189811b80erow5_col2\" class=\"data row5 col2\" >0.400818</td>\n",
       "                        <td id=\"T_d846a156_2a5f_11ea_a645_f0189811b80erow5_col3\" class=\"data row5 col3\" >0.402249</td>\n",
       "                        <td id=\"T_d846a156_2a5f_11ea_a645_f0189811b80erow5_col4\" class=\"data row5 col4\" >0.405554</td>\n",
       "                        <td id=\"T_d846a156_2a5f_11ea_a645_f0189811b80erow5_col5\" class=\"data row5 col5\" >0.406269</td>\n",
       "                        <td id=\"T_d846a156_2a5f_11ea_a645_f0189811b80erow5_col6\" class=\"data row5 col6\" >0.39816</td>\n",
       "                        <td id=\"T_d846a156_2a5f_11ea_a645_f0189811b80erow5_col7\" class=\"data row5 col7\" >0.397683</td>\n",
       "            </tr>\n",
       "            <tr>\n",
       "                        <th id=\"T_d846a156_2a5f_11ea_a645_f0189811b80elevel0_row6\" class=\"row_heading level0 row6\" >20</th>\n",
       "                        <td id=\"T_d846a156_2a5f_11ea_a645_f0189811b80erow6_col0\" class=\"data row6 col0\" >0.396491</td>\n",
       "                        <td id=\"T_d846a156_2a5f_11ea_a645_f0189811b80erow6_col1\" class=\"data row6 col1\" >0.398705</td>\n",
       "                        <td id=\"T_d846a156_2a5f_11ea_a645_f0189811b80erow6_col2\" class=\"data row6 col2\" >0.398637</td>\n",
       "                        <td id=\"T_d846a156_2a5f_11ea_a645_f0189811b80erow6_col3\" class=\"data row6 col3\" >0.394719</td>\n",
       "                        <td id=\"T_d846a156_2a5f_11ea_a645_f0189811b80erow6_col4\" class=\"data row6 col4\" >0.397922</td>\n",
       "                        <td id=\"T_d846a156_2a5f_11ea_a645_f0189811b80erow6_col5\" class=\"data row6 col5\" >0.397002</td>\n",
       "                        <td id=\"T_d846a156_2a5f_11ea_a645_f0189811b80erow6_col6\" class=\"data row6 col6\" >0.39925</td>\n",
       "                        <td id=\"T_d846a156_2a5f_11ea_a645_f0189811b80erow6_col7\" class=\"data row6 col7\" >0.396559</td>\n",
       "            </tr>\n",
       "            <tr>\n",
       "                        <th id=\"T_d846a156_2a5f_11ea_a645_f0189811b80elevel0_row7\" class=\"row_heading level0 row7\" >25</th>\n",
       "                        <td id=\"T_d846a156_2a5f_11ea_a645_f0189811b80erow7_col0\" class=\"data row7 col0\" >0.397615</td>\n",
       "                        <td id=\"T_d846a156_2a5f_11ea_a645_f0189811b80erow7_col1\" class=\"data row7 col1\" >0.394617</td>\n",
       "                        <td id=\"T_d846a156_2a5f_11ea_a645_f0189811b80erow7_col2\" class=\"data row7 col2\" >0.398126</td>\n",
       "                        <td id=\"T_d846a156_2a5f_11ea_a645_f0189811b80erow7_col3\" class=\"data row7 col3\" >0.396934</td>\n",
       "                        <td id=\"T_d846a156_2a5f_11ea_a645_f0189811b80erow7_col4\" class=\"data row7 col4\" >0.400443</td>\n",
       "                        <td id=\"T_d846a156_2a5f_11ea_a645_f0189811b80erow7_col5\" class=\"data row7 col5\" >0.401193</td>\n",
       "                        <td id=\"T_d846a156_2a5f_11ea_a645_f0189811b80erow7_col6\" class=\"data row7 col6\" >0.399761</td>\n",
       "                        <td id=\"T_d846a156_2a5f_11ea_a645_f0189811b80erow7_col7\" class=\"data row7 col7\" >0.396899</td>\n",
       "            </tr>\n",
       "            <tr>\n",
       "                        <th id=\"T_d846a156_2a5f_11ea_a645_f0189811b80elevel0_row8\" class=\"row_heading level0 row8\" >30</th>\n",
       "                        <td id=\"T_d846a156_2a5f_11ea_a645_f0189811b80erow8_col0\" class=\"data row8 col0\" >0.396048</td>\n",
       "                        <td id=\"T_d846a156_2a5f_11ea_a645_f0189811b80erow8_col1\" class=\"data row8 col1\" >0.394991</td>\n",
       "                        <td id=\"T_d846a156_2a5f_11ea_a645_f0189811b80erow8_col2\" class=\"data row8 col2\" >0.395707</td>\n",
       "                        <td id=\"T_d846a156_2a5f_11ea_a645_f0189811b80erow8_col3\" class=\"data row8 col3\" >0.392811</td>\n",
       "                        <td id=\"T_d846a156_2a5f_11ea_a645_f0189811b80erow8_col4\" class=\"data row8 col4\" >0.397683</td>\n",
       "                        <td id=\"T_d846a156_2a5f_11ea_a645_f0189811b80erow8_col5\" class=\"data row8 col5\" >0.406269</td>\n",
       "                        <td id=\"T_d846a156_2a5f_11ea_a645_f0189811b80erow8_col6\" class=\"data row8 col6\" >0.401704</td>\n",
       "                        <td id=\"T_d846a156_2a5f_11ea_a645_f0189811b80erow8_col7\" class=\"data row8 col7\" >0.398535</td>\n",
       "            </tr>\n",
       "    </tbody></table>"
      ],
      "text/plain": [
       "<pandas.io.formats.style.Styler at 0x1a2b81d690>"
      ]
     },
     "execution_count": 159,
     "metadata": {},
     "output_type": "execute_result"
    }
   ],
   "source": [
    "avg"
   ]
  }
 ],
 "metadata": {
  "kernelspec": {
   "display_name": "Python [conda env:capstone_nf]",
   "language": "python",
   "name": "conda-env-capstone_nf-py"
  },
  "language_info": {
   "codemirror_mode": {
    "name": "ipython",
    "version": 3
   },
   "file_extension": ".py",
   "mimetype": "text/x-python",
   "name": "python",
   "nbconvert_exporter": "python",
   "pygments_lexer": "ipython3",
   "version": "3.7.5"
  },
  "toc-autonumbering": true
 },
 "nbformat": 4,
 "nbformat_minor": 4
}
